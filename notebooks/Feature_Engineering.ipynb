{
  "cells": [
    {
      "cell_type": "markdown",
      "metadata": {
        "colab_type": "text",
        "id": "view-in-github"
      },
      "source": [
        "<a href=\"https://colab.research.google.com/github/EstebanPerez25/Proyecto-Final-IDM/blob/main/Feature_Engineering.ipynb\" target=\"_parent\"><img src=\"https://colab.research.google.com/assets/colab-badge.svg\" alt=\"Open In Colab\"/></a>"
      ]
    },
    {
      "cell_type": "markdown",
      "metadata": {
        "id": "GLhI-be4P9eR"
      },
      "source": [
        "# Feature Engineering"
      ]
    },
    {
      "cell_type": "markdown",
      "metadata": {
        "id": "Yod9x2tjQENi"
      },
      "source": [
        "### Libraries"
      ]
    },
    {
      "cell_type": "code",
      "execution_count": null,
      "metadata": {
        "colab": {
          "base_uri": "https://localhost:8080/"
        },
        "id": "hs7-Vxqcdf9G",
        "outputId": "e830b2bf-85c2-4427-ee23-4495163ffb13"
      },
      "outputs": [],
      "source": [
        "#%pip install category_encoders"
      ]
    },
    {
      "cell_type": "code",
      "execution_count": null,
      "metadata": {
        "id": "LraI68EhP6gT"
      },
      "outputs": [],
      "source": [
        "import pandas as pd\n",
        "from category_encoders import TargetEncoder\n",
        "from sklearn.preprocessing import MinMaxScaler, RobustScaler, StandardScaler\n"
      ]
    },
    {
      "cell_type": "markdown",
      "metadata": {
        "id": "Gr4AhqmvQN2B"
      },
      "source": [
        "## Load data"
      ]
    },
    {
      "cell_type": "code",
      "execution_count": 2,
      "metadata": {},
      "outputs": [
        {
          "data": {
            "text/html": [
              "<pre style=\"white-space:pre;overflow-x:auto;line-height:normal;font-family:Menlo,'DejaVu Sans Mono',consolas,'Courier New',monospace\"><span style=\"color: #7fbfbf; text-decoration-color: #7fbfbf\">[05/26/25 15:32:31] </span><span style=\"color: #000080; text-decoration-color: #000080\">INFO    </span> Using <span style=\"color: #008000; text-decoration-color: #008000\">'c:\\Users\\Esteban\\Documents\\. Clases_Tec\\8. Octavo </span>              <span style=\"color: #7f7f7f; text-decoration-color: #7f7f7f\">__init__.py:272</span>\n",
              "<span style=\"color: #7fbfbf; text-decoration-color: #7fbfbf\">                    </span>         <span style=\"color: #008000; text-decoration-color: #008000\">semestre\\_Proyecto\\kProject\\tcaproject\\.venv\\Lib\\site-packages\\kedro\\f</span> <span style=\"color: #7f7f7f; text-decoration-color: #7f7f7f\">               </span>\n",
              "<span style=\"color: #7fbfbf; text-decoration-color: #7fbfbf\">                    </span>         <span style=\"color: #008000; text-decoration-color: #008000\">ramework\\project\\rich_logging.yml'</span> as logging configuration.           <span style=\"color: #7f7f7f; text-decoration-color: #7f7f7f\">               </span>\n",
              "</pre>\n"
            ],
            "text/plain": [
              "\u001b[2;36m[05/26/25 15:32:31]\u001b[0m\u001b[2;36m \u001b[0m\u001b[34mINFO    \u001b[0m Using \u001b[32m'c:\\Users\\Esteban\\Documents\\. Clases_Tec\\8. Octavo \u001b[0m              \u001b[2m__init__.py\u001b[0m\u001b[2m:\u001b[0m\u001b[2m272\u001b[0m\n",
              "\u001b[2;36m                    \u001b[0m         \u001b[32msemestre\\_Proyecto\\kProject\\tcaproject\\.venv\\Lib\\site-packages\\kedro\\f\u001b[0m \u001b[2m               \u001b[0m\n",
              "\u001b[2;36m                    \u001b[0m         \u001b[32mramework\\project\\rich_logging.yml'\u001b[0m as logging configuration.           \u001b[2m               \u001b[0m\n"
            ]
          },
          "metadata": {},
          "output_type": "display_data"
        },
        {
          "data": {
            "text/html": [
              "<pre style=\"white-space:pre;overflow-x:auto;line-height:normal;font-family:Menlo,'DejaVu Sans Mono',consolas,'Courier New',monospace\"><span style=\"color: #7fbfbf; text-decoration-color: #7fbfbf\">                    </span><span style=\"color: #000080; text-decoration-color: #000080\">INFO    </span> Registered line magic <span style=\"color: #008000; text-decoration-color: #008000\">'%reload_kedro'</span>                                   <span style=\"color: #7f7f7f; text-decoration-color: #7f7f7f\">__init__.py:63</span>\n",
              "</pre>\n"
            ],
            "text/plain": [
              "\u001b[2;36m                   \u001b[0m\u001b[2;36m \u001b[0m\u001b[34mINFO    \u001b[0m Registered line magic \u001b[32m'%reload_kedro'\u001b[0m                                   \u001b[2m__init__.py\u001b[0m\u001b[2m:\u001b[0m\u001b[2m63\u001b[0m\n"
            ]
          },
          "metadata": {},
          "output_type": "display_data"
        },
        {
          "data": {
            "text/html": [
              "<pre style=\"white-space:pre;overflow-x:auto;line-height:normal;font-family:Menlo,'DejaVu Sans Mono',consolas,'Courier New',monospace\"><span style=\"color: #7fbfbf; text-decoration-color: #7fbfbf\">                    </span><span style=\"color: #000080; text-decoration-color: #000080\">INFO    </span> Registered line magic <span style=\"color: #008000; text-decoration-color: #008000\">'%load_node'</span>                                      <span style=\"color: #7f7f7f; text-decoration-color: #7f7f7f\">__init__.py:65</span>\n",
              "</pre>\n"
            ],
            "text/plain": [
              "\u001b[2;36m                   \u001b[0m\u001b[2;36m \u001b[0m\u001b[34mINFO    \u001b[0m Registered line magic \u001b[32m'%load_node'\u001b[0m                                      \u001b[2m__init__.py\u001b[0m\u001b[2m:\u001b[0m\u001b[2m65\u001b[0m\n"
            ]
          },
          "metadata": {},
          "output_type": "display_data"
        },
        {
          "data": {
            "text/html": [
              "<pre style=\"white-space:pre;overflow-x:auto;line-height:normal;font-family:Menlo,'DejaVu Sans Mono',consolas,'Courier New',monospace\"><span style=\"color: #7fbfbf; text-decoration-color: #7fbfbf\">                    </span><span style=\"color: #000080; text-decoration-color: #000080\">INFO    </span> Resolved project path as: c:\\Users\\Esteban\\Documents\\. Clases_Tec\\<span style=\"color: #008080; text-decoration-color: #008080; font-weight: bold\">8</span>.   <span style=\"color: #7f7f7f; text-decoration-color: #7f7f7f\">__init__.py:180</span>\n",
              "<span style=\"color: #7fbfbf; text-decoration-color: #7fbfbf\">                    </span>         Octavo semestre\\_Proyecto\\kProject\\tcaproject.                         <span style=\"color: #7f7f7f; text-decoration-color: #7f7f7f\">               </span>\n",
              "<span style=\"color: #7fbfbf; text-decoration-color: #7fbfbf\">                    </span>         To set a different path, run <span style=\"color: #008000; text-decoration-color: #008000\">'%reload_kedro &lt;project_root&gt;'</span>            <span style=\"color: #7f7f7f; text-decoration-color: #7f7f7f\">               </span>\n",
              "</pre>\n"
            ],
            "text/plain": [
              "\u001b[2;36m                   \u001b[0m\u001b[2;36m \u001b[0m\u001b[34mINFO    \u001b[0m Resolved project path as: c:\\Users\\Esteban\\Documents\\. Clases_Tec\\\u001b[1;36m8\u001b[0m.   \u001b[2m__init__.py\u001b[0m\u001b[2m:\u001b[0m\u001b[2m180\u001b[0m\n",
              "\u001b[2;36m                    \u001b[0m         Octavo semestre\\_Proyecto\\kProject\\tcaproject.                         \u001b[2m               \u001b[0m\n",
              "\u001b[2;36m                    \u001b[0m         To set a different path, run \u001b[32m'%reload_kedro \u001b[0m\u001b[32m<\u001b[0m\u001b[32mproject_root\u001b[0m\u001b[32m>\u001b[0m\u001b[32m'\u001b[0m            \u001b[2m               \u001b[0m\n"
            ]
          },
          "metadata": {},
          "output_type": "display_data"
        },
        {
          "data": {
            "text/html": [
              "<pre style=\"white-space:pre;overflow-x:auto;line-height:normal;font-family:Menlo,'DejaVu Sans Mono',consolas,'Courier New',monospace\"><span style=\"color: #7fbfbf; text-decoration-color: #7fbfbf\">[05/26/25 15:32:35] </span><span style=\"color: #000080; text-decoration-color: #000080\">INFO    </span> Kedro is sending anonymous usage data with the sole purpose of improving <span style=\"color: #7f7f7f; text-decoration-color: #7f7f7f\">plugin.py:233</span>\n",
              "<span style=\"color: #7fbfbf; text-decoration-color: #7fbfbf\">                    </span>         the product. No personal data or IP addresses are stored on our side. If <span style=\"color: #7f7f7f; text-decoration-color: #7f7f7f\">             </span>\n",
              "<span style=\"color: #7fbfbf; text-decoration-color: #7fbfbf\">                    </span>         you want to opt out, set the `KEDRO_DISABLE_TELEMETRY` or `DO_NOT_TRACK` <span style=\"color: #7f7f7f; text-decoration-color: #7f7f7f\">             </span>\n",
              "<span style=\"color: #7fbfbf; text-decoration-color: #7fbfbf\">                    </span>         environment variables, or create a `.telemetry` file in the current      <span style=\"color: #7f7f7f; text-decoration-color: #7f7f7f\">             </span>\n",
              "<span style=\"color: #7fbfbf; text-decoration-color: #7fbfbf\">                    </span>         working directory with the contents `consent: false`. Read more at       <span style=\"color: #7f7f7f; text-decoration-color: #7f7f7f\">             </span>\n",
              "<span style=\"color: #7fbfbf; text-decoration-color: #7fbfbf\">                    </span>         <span style=\"color: #0000ff; text-decoration-color: #0000ff; text-decoration: underline\">https://docs.kedro.org/en/stable/configuration/telemetry.html</span>            <span style=\"color: #7f7f7f; text-decoration-color: #7f7f7f\">             </span>\n",
              "</pre>\n"
            ],
            "text/plain": [
              "\u001b[2;36m[05/26/25 15:32:35]\u001b[0m\u001b[2;36m \u001b[0m\u001b[34mINFO    \u001b[0m Kedro is sending anonymous usage data with the sole purpose of improving \u001b[2mplugin.py\u001b[0m\u001b[2m:\u001b[0m\u001b[2m233\u001b[0m\n",
              "\u001b[2;36m                    \u001b[0m         the product. No personal data or IP addresses are stored on our side. If \u001b[2m             \u001b[0m\n",
              "\u001b[2;36m                    \u001b[0m         you want to opt out, set the `KEDRO_DISABLE_TELEMETRY` or `DO_NOT_TRACK` \u001b[2m             \u001b[0m\n",
              "\u001b[2;36m                    \u001b[0m         environment variables, or create a `.telemetry` file in the current      \u001b[2m             \u001b[0m\n",
              "\u001b[2;36m                    \u001b[0m         working directory with the contents `consent: false`. Read more at       \u001b[2m             \u001b[0m\n",
              "\u001b[2;36m                    \u001b[0m         \u001b[4;94mhttps://docs.kedro.org/en/stable/configuration/telemetry.html\u001b[0m            \u001b[2m             \u001b[0m\n"
            ]
          },
          "metadata": {},
          "output_type": "display_data"
        },
        {
          "data": {
            "text/html": [
              "<pre style=\"white-space:pre;overflow-x:auto;line-height:normal;font-family:Menlo,'DejaVu Sans Mono',consolas,'Courier New',monospace\"><span style=\"color: #7fbfbf; text-decoration-color: #7fbfbf\">[05/26/25 15:32:36] </span><span style=\"color: #000080; text-decoration-color: #000080\">INFO    </span> Kedro project tcaProject                                               <span style=\"color: #7f7f7f; text-decoration-color: #7f7f7f\">__init__.py:146</span>\n",
              "</pre>\n"
            ],
            "text/plain": [
              "\u001b[2;36m[05/26/25 15:32:36]\u001b[0m\u001b[2;36m \u001b[0m\u001b[34mINFO    \u001b[0m Kedro project tcaProject                                               \u001b[2m__init__.py\u001b[0m\u001b[2m:\u001b[0m\u001b[2m146\u001b[0m\n"
            ]
          },
          "metadata": {},
          "output_type": "display_data"
        },
        {
          "data": {
            "text/html": [
              "<pre style=\"white-space:pre;overflow-x:auto;line-height:normal;font-family:Menlo,'DejaVu Sans Mono',consolas,'Courier New',monospace\"><span style=\"color: #7fbfbf; text-decoration-color: #7fbfbf\">                    </span><span style=\"color: #000080; text-decoration-color: #000080\">INFO    </span> Defined global variable <span style=\"color: #008000; text-decoration-color: #008000\">'context'</span>, <span style=\"color: #008000; text-decoration-color: #008000\">'session'</span>, <span style=\"color: #008000; text-decoration-color: #008000\">'catalog'</span> and            <span style=\"color: #7f7f7f; text-decoration-color: #7f7f7f\">__init__.py:147</span>\n",
              "<span style=\"color: #7fbfbf; text-decoration-color: #7fbfbf\">                    </span>         <span style=\"color: #008000; text-decoration-color: #008000\">'pipelines'</span>                                                            <span style=\"color: #7f7f7f; text-decoration-color: #7f7f7f\">               </span>\n",
              "</pre>\n"
            ],
            "text/plain": [
              "\u001b[2;36m                   \u001b[0m\u001b[2;36m \u001b[0m\u001b[34mINFO    \u001b[0m Defined global variable \u001b[32m'context'\u001b[0m, \u001b[32m'session'\u001b[0m, \u001b[32m'catalog'\u001b[0m and            \u001b[2m__init__.py\u001b[0m\u001b[2m:\u001b[0m\u001b[2m147\u001b[0m\n",
              "\u001b[2;36m                    \u001b[0m         \u001b[32m'pipelines'\u001b[0m                                                            \u001b[2m               \u001b[0m\n"
            ]
          },
          "metadata": {},
          "output_type": "display_data"
        },
        {
          "data": {
            "text/html": [
              "<pre style=\"white-space:pre;overflow-x:auto;line-height:normal;font-family:Menlo,'DejaVu Sans Mono',consolas,'Courier New',monospace\"><span style=\"color: #7fbfbf; text-decoration-color: #7fbfbf\">                    </span><span style=\"color: #000080; text-decoration-color: #000080\">INFO    </span> Registered line magic <span style=\"color: #008000; text-decoration-color: #008000\">'run_viz'</span>                                        <span style=\"color: #7f7f7f; text-decoration-color: #7f7f7f\">__init__.py:153</span>\n",
              "</pre>\n"
            ],
            "text/plain": [
              "\u001b[2;36m                   \u001b[0m\u001b[2;36m \u001b[0m\u001b[34mINFO    \u001b[0m Registered line magic \u001b[32m'run_viz'\u001b[0m                                        \u001b[2m__init__.py\u001b[0m\u001b[2m:\u001b[0m\u001b[2m153\u001b[0m\n"
            ]
          },
          "metadata": {},
          "output_type": "display_data"
        }
      ],
      "source": [
        "%load_ext kedro.ipython"
      ]
    },
    {
      "cell_type": "code",
      "execution_count": 7,
      "metadata": {},
      "outputs": [
        {
          "data": {
            "text/html": [
              "<pre style=\"white-space:pre;overflow-x:auto;line-height:normal;font-family:Menlo,'DejaVu Sans Mono',consolas,'Courier New',monospace\"><span style=\"color: #7fbfbf; text-decoration-color: #7fbfbf\">[26/05/2025 04:19:21 p. m.] </span><span style=\"color: #000080; text-decoration-color: #000080\">INFO    </span> Resolved project path as: C:\\Users\\Esteban\\Documents\\.         <span style=\"color: #7f7f7f; text-decoration-color: #7f7f7f\">__init__.py:180</span>\n",
              "<span style=\"color: #7fbfbf; text-decoration-color: #7fbfbf\">                            </span>         Clases_Tec\\<span style=\"color: #008080; text-decoration-color: #008080; font-weight: bold\">8</span>. Octavo semestre\\_Proyecto\\kProject\\tcaproject.   <span style=\"color: #7f7f7f; text-decoration-color: #7f7f7f\">               </span>\n",
              "<span style=\"color: #7fbfbf; text-decoration-color: #7fbfbf\">                            </span>         To set a different path, run <span style=\"color: #008000; text-decoration-color: #008000\">'%reload_kedro &lt;project_root&gt;'</span>    <span style=\"color: #7f7f7f; text-decoration-color: #7f7f7f\">               </span>\n",
              "</pre>\n"
            ],
            "text/plain": [
              "\u001b[2;36m[26/05/2025 04:19:21 p. m.]\u001b[0m\u001b[2;36m \u001b[0m\u001b[34mINFO    \u001b[0m Resolved project path as: C:\\Users\\Esteban\\Documents\\.         \u001b[2m__init__.py\u001b[0m\u001b[2m:\u001b[0m\u001b[2m180\u001b[0m\n",
              "\u001b[2;36m                            \u001b[0m         Clases_Tec\\\u001b[1;36m8\u001b[0m. Octavo semestre\\_Proyecto\\kProject\\tcaproject.   \u001b[2m               \u001b[0m\n",
              "\u001b[2;36m                            \u001b[0m         To set a different path, run \u001b[32m'%reload_kedro \u001b[0m\u001b[32m<\u001b[0m\u001b[32mproject_root\u001b[0m\u001b[32m>\u001b[0m\u001b[32m'\u001b[0m    \u001b[2m               \u001b[0m\n"
            ]
          },
          "metadata": {},
          "output_type": "display_data"
        },
        {
          "data": {
            "text/html": [
              "<pre style=\"white-space:pre;overflow-x:auto;line-height:normal;font-family:Menlo,'DejaVu Sans Mono',consolas,'Courier New',monospace\"><span style=\"color: #7fbfbf; text-decoration-color: #7fbfbf\">                            </span><span style=\"color: #000080; text-decoration-color: #000080\">INFO    </span> Kedro is sending anonymous usage data with the sole purpose of   <span style=\"color: #7f7f7f; text-decoration-color: #7f7f7f\">plugin.py:233</span>\n",
              "<span style=\"color: #7fbfbf; text-decoration-color: #7fbfbf\">                            </span>         improving the product. No personal data or IP addresses are      <span style=\"color: #7f7f7f; text-decoration-color: #7f7f7f\">             </span>\n",
              "<span style=\"color: #7fbfbf; text-decoration-color: #7fbfbf\">                            </span>         stored on our side. If you want to opt out, set the              <span style=\"color: #7f7f7f; text-decoration-color: #7f7f7f\">             </span>\n",
              "<span style=\"color: #7fbfbf; text-decoration-color: #7fbfbf\">                            </span>         `KEDRO_DISABLE_TELEMETRY` or `DO_NOT_TRACK` environment          <span style=\"color: #7f7f7f; text-decoration-color: #7f7f7f\">             </span>\n",
              "<span style=\"color: #7fbfbf; text-decoration-color: #7fbfbf\">                            </span>         variables, or create a `.telemetry` file in the current working  <span style=\"color: #7f7f7f; text-decoration-color: #7f7f7f\">             </span>\n",
              "<span style=\"color: #7fbfbf; text-decoration-color: #7fbfbf\">                            </span>         directory with the contents `consent: false`. Read more at       <span style=\"color: #7f7f7f; text-decoration-color: #7f7f7f\">             </span>\n",
              "<span style=\"color: #7fbfbf; text-decoration-color: #7fbfbf\">                            </span>         <span style=\"color: #0000ff; text-decoration-color: #0000ff; text-decoration: underline\">https://docs.kedro.org/en/stable/configuration/telemetry.html</span>    <span style=\"color: #7f7f7f; text-decoration-color: #7f7f7f\">             </span>\n",
              "</pre>\n"
            ],
            "text/plain": [
              "\u001b[2;36m                           \u001b[0m\u001b[2;36m \u001b[0m\u001b[34mINFO    \u001b[0m Kedro is sending anonymous usage data with the sole purpose of   \u001b[2mplugin.py\u001b[0m\u001b[2m:\u001b[0m\u001b[2m233\u001b[0m\n",
              "\u001b[2;36m                            \u001b[0m         improving the product. No personal data or IP addresses are      \u001b[2m             \u001b[0m\n",
              "\u001b[2;36m                            \u001b[0m         stored on our side. If you want to opt out, set the              \u001b[2m             \u001b[0m\n",
              "\u001b[2;36m                            \u001b[0m         `KEDRO_DISABLE_TELEMETRY` or `DO_NOT_TRACK` environment          \u001b[2m             \u001b[0m\n",
              "\u001b[2;36m                            \u001b[0m         variables, or create a `.telemetry` file in the current working  \u001b[2m             \u001b[0m\n",
              "\u001b[2;36m                            \u001b[0m         directory with the contents `consent: false`. Read more at       \u001b[2m             \u001b[0m\n",
              "\u001b[2;36m                            \u001b[0m         \u001b[4;94mhttps://docs.kedro.org/en/stable/configuration/telemetry.html\u001b[0m    \u001b[2m             \u001b[0m\n"
            ]
          },
          "metadata": {},
          "output_type": "display_data"
        },
        {
          "data": {
            "text/html": [
              "<pre style=\"white-space:pre;overflow-x:auto;line-height:normal;font-family:Menlo,'DejaVu Sans Mono',consolas,'Courier New',monospace\"><span style=\"color: #7fbfbf; text-decoration-color: #7fbfbf\">[26/05/2025 04:19:22 p. m.] </span><span style=\"color: #000080; text-decoration-color: #000080\">INFO    </span> Kedro project tcaProject                                       <span style=\"color: #7f7f7f; text-decoration-color: #7f7f7f\">__init__.py:146</span>\n",
              "</pre>\n"
            ],
            "text/plain": [
              "\u001b[2;36m[26/05/2025 04:19:22 p. m.]\u001b[0m\u001b[2;36m \u001b[0m\u001b[34mINFO    \u001b[0m Kedro project tcaProject                                       \u001b[2m__init__.py\u001b[0m\u001b[2m:\u001b[0m\u001b[2m146\u001b[0m\n"
            ]
          },
          "metadata": {},
          "output_type": "display_data"
        },
        {
          "data": {
            "text/html": [
              "<pre style=\"white-space:pre;overflow-x:auto;line-height:normal;font-family:Menlo,'DejaVu Sans Mono',consolas,'Courier New',monospace\"><span style=\"color: #7fbfbf; text-decoration-color: #7fbfbf\">                            </span><span style=\"color: #000080; text-decoration-color: #000080\">INFO    </span> Defined global variable <span style=\"color: #008000; text-decoration-color: #008000\">'context'</span>, <span style=\"color: #008000; text-decoration-color: #008000\">'session'</span>, <span style=\"color: #008000; text-decoration-color: #008000\">'catalog'</span> and    <span style=\"color: #7f7f7f; text-decoration-color: #7f7f7f\">__init__.py:147</span>\n",
              "<span style=\"color: #7fbfbf; text-decoration-color: #7fbfbf\">                            </span>         <span style=\"color: #008000; text-decoration-color: #008000\">'pipelines'</span>                                                    <span style=\"color: #7f7f7f; text-decoration-color: #7f7f7f\">               </span>\n",
              "</pre>\n"
            ],
            "text/plain": [
              "\u001b[2;36m                           \u001b[0m\u001b[2;36m \u001b[0m\u001b[34mINFO    \u001b[0m Defined global variable \u001b[32m'context'\u001b[0m, \u001b[32m'session'\u001b[0m, \u001b[32m'catalog'\u001b[0m and    \u001b[2m__init__.py\u001b[0m\u001b[2m:\u001b[0m\u001b[2m147\u001b[0m\n",
              "\u001b[2;36m                            \u001b[0m         \u001b[32m'pipelines'\u001b[0m                                                    \u001b[2m               \u001b[0m\n"
            ]
          },
          "metadata": {},
          "output_type": "display_data"
        },
        {
          "data": {
            "text/html": [
              "<pre style=\"white-space:pre;overflow-x:auto;line-height:normal;font-family:Menlo,'DejaVu Sans Mono',consolas,'Courier New',monospace\"><span style=\"color: #7fbfbf; text-decoration-color: #7fbfbf\">                            </span><span style=\"color: #000080; text-decoration-color: #000080\">INFO    </span> Registered line magic <span style=\"color: #008000; text-decoration-color: #008000\">'run_viz'</span>                                <span style=\"color: #7f7f7f; text-decoration-color: #7f7f7f\">__init__.py:153</span>\n",
              "</pre>\n"
            ],
            "text/plain": [
              "\u001b[2;36m                           \u001b[0m\u001b[2;36m \u001b[0m\u001b[34mINFO    \u001b[0m Registered line magic \u001b[32m'run_viz'\u001b[0m                                \u001b[2m__init__.py\u001b[0m\u001b[2m:\u001b[0m\u001b[2m153\u001b[0m\n"
            ]
          },
          "metadata": {},
          "output_type": "display_data"
        }
      ],
      "source": [
        "# Reload\n",
        "%reload_kedro"
      ]
    },
    {
      "cell_type": "code",
      "execution_count": 4,
      "metadata": {
        "colab": {
          "base_uri": "https://localhost:8080/",
          "height": 342
        },
        "id": "q18sBxfhQNCR",
        "outputId": "48722692-34c9-4f2e-888e-9385237ea338"
      },
      "outputs": [
        {
          "data": {
            "text/html": [
              "<pre style=\"white-space:pre;overflow-x:auto;line-height:normal;font-family:Menlo,'DejaVu Sans Mono',consolas,'Courier New',monospace\"><span style=\"color: #7fbfbf; text-decoration-color: #7fbfbf\">[05/26/25 15:34:19] </span><span style=\"color: #000080; text-decoration-color: #000080\">INFO    </span> Loading data from <span style=\"color: #ff8700; text-decoration-color: #ff8700\">reservaciones_cleaned</span> <span style=\"font-weight: bold\">(</span>ParquetDataset<span style=\"font-weight: bold\">)</span><span style=\"color: #808000; text-decoration-color: #808000\">...</span>        <span style=\"color: #7f7f7f; text-decoration-color: #7f7f7f\">data_catalog.py:403</span>\n",
              "</pre>\n"
            ],
            "text/plain": [
              "\u001b[2;36m[05/26/25 15:34:19]\u001b[0m\u001b[2;36m \u001b[0m\u001b[34mINFO    \u001b[0m Loading data from \u001b[38;5;208mreservaciones_cleaned\u001b[0m \u001b[1m(\u001b[0mParquetDataset\u001b[1m)\u001b[0m\u001b[33m...\u001b[0m        \u001b[2mdata_catalog.py\u001b[0m\u001b[2m:\u001b[0m\u001b[2m403\u001b[0m\n"
            ]
          },
          "metadata": {},
          "output_type": "display_data"
        },
        {
          "data": {
            "text/html": [
              "<pre style=\"white-space:pre;overflow-x:auto;line-height:normal;font-family:Menlo,'DejaVu Sans Mono',consolas,'Courier New',monospace\"></pre>\n"
            ],
            "text/plain": []
          },
          "metadata": {},
          "output_type": "display_data"
        },
        {
          "data": {
            "application/vnd.microsoft.datawrangler.viewer.v0+json": {
              "columns": [
                {
                  "name": "index",
                  "rawType": "int64",
                  "type": "integer"
                },
                {
                  "name": "id_reservaciones",
                  "rawType": "int64",
                  "type": "integer"
                },
                {
                  "name": "fecha_hoy",
                  "rawType": "datetime64[ns]",
                  "type": "datetime"
                },
                {
                  "name": "fecha_reservacion",
                  "rawType": "datetime64[ns]",
                  "type": "datetime"
                },
                {
                  "name": "fecha_llegada",
                  "rawType": "datetime64[ns]",
                  "type": "datetime"
                },
                {
                  "name": "fecha_salida",
                  "rawType": "datetime64[ns]",
                  "type": "datetime"
                },
                {
                  "name": "numero_personas",
                  "rawType": "int64",
                  "type": "integer"
                },
                {
                  "name": "numero_personas_anio_anterior",
                  "rawType": "int64",
                  "type": "integer"
                },
                {
                  "name": "numero_adultos",
                  "rawType": "int64",
                  "type": "integer"
                },
                {
                  "name": "numero_adultos_anio_anterior",
                  "rawType": "int64",
                  "type": "integer"
                },
                {
                  "name": "numero_menores",
                  "rawType": "int64",
                  "type": "integer"
                },
                {
                  "name": "numero_menores_anio_anterior",
                  "rawType": "int64",
                  "type": "integer"
                },
                {
                  "name": "numero_noches",
                  "rawType": "int64",
                  "type": "integer"
                },
                {
                  "name": "numero_noches_anio_anterior",
                  "rawType": "int64",
                  "type": "integer"
                },
                {
                  "name": "total_habitaciones",
                  "rawType": "int64",
                  "type": "integer"
                },
                {
                  "name": "total_habitaciones_anio_anterior",
                  "rawType": "int64",
                  "type": "integer"
                },
                {
                  "name": "id_programa",
                  "rawType": "int64",
                  "type": "integer"
                },
                {
                  "name": "nombre_programa",
                  "rawType": "object",
                  "type": "string"
                },
                {
                  "name": "id_paquete",
                  "rawType": "int64",
                  "type": "integer"
                },
                {
                  "name": "nombre_paquete",
                  "rawType": "object",
                  "type": "string"
                },
                {
                  "name": "id_segmento",
                  "rawType": "int64",
                  "type": "integer"
                },
                {
                  "name": "nombre_segmento",
                  "rawType": "object",
                  "type": "string"
                },
                {
                  "name": "id_agencia",
                  "rawType": "int64",
                  "type": "integer"
                },
                {
                  "name": "nombre_agencia",
                  "rawType": "object",
                  "type": "string"
                },
                {
                  "name": "ciudad_agencia",
                  "rawType": "object",
                  "type": "string"
                },
                {
                  "name": "entidad_federativa_agencia",
                  "rawType": "object",
                  "type": "string"
                },
                {
                  "name": "pais_agencia",
                  "rawType": "object",
                  "type": "string"
                },
                {
                  "name": "id_empresa",
                  "rawType": "int64",
                  "type": "integer"
                },
                {
                  "name": "nombre_empresa",
                  "rawType": "object",
                  "type": "string"
                },
                {
                  "name": "total_habitaciones_empresa",
                  "rawType": "int64",
                  "type": "integer"
                },
                {
                  "name": "id_tipo_habitacion",
                  "rawType": "int64",
                  "type": "integer"
                },
                {
                  "name": "nombre_tipo_habitacion",
                  "rawType": "object",
                  "type": "string"
                },
                {
                  "name": "cupo_tipo_habitacion",
                  "rawType": "float64",
                  "type": "float"
                },
                {
                  "name": "clasificacion_tipo_habitacion",
                  "rawType": "object",
                  "type": "string"
                },
                {
                  "name": "id_canal",
                  "rawType": "int64",
                  "type": "integer"
                },
                {
                  "name": "nombre_canal",
                  "rawType": "object",
                  "type": "string"
                },
                {
                  "name": "id_pais_origen",
                  "rawType": "int64",
                  "type": "integer"
                },
                {
                  "name": "nombre_pais_origen",
                  "rawType": "object",
                  "type": "string"
                },
                {
                  "name": "reservacion_pendiente",
                  "rawType": "bool",
                  "type": "boolean"
                },
                {
                  "name": "id_estatus_reservacion",
                  "rawType": "int64",
                  "type": "integer"
                },
                {
                  "name": "nombre_estatus_reservacion",
                  "rawType": "object",
                  "type": "string"
                },
                {
                  "name": "clave_estado",
                  "rawType": "object",
                  "type": "string"
                },
                {
                  "name": "nombre_estado",
                  "rawType": "object",
                  "type": "string"
                },
                {
                  "name": "total_tarifa",
                  "rawType": "float64",
                  "type": "float"
                },
                {
                  "name": "id_moneda",
                  "rawType": "int64",
                  "type": "integer"
                },
                {
                  "name": "fecha_ultimo_cambio",
                  "rawType": "datetime64[ns]",
                  "type": "datetime"
                },
                {
                  "name": "reservacion",
                  "rawType": "bool",
                  "type": "boolean"
                },
                {
                  "name": "reservacion_anio_anterior",
                  "rawType": "bool",
                  "type": "boolean"
                },
                {
                  "name": "id_cliente_disp",
                  "rawType": "int64",
                  "type": "integer"
                },
                {
                  "name": "cliente_disp_anio_anterior",
                  "rawType": "int64",
                  "type": "integer"
                }
              ],
              "ref": "bfbe5913-0c69-41b9-8420-15b91cded56d",
              "rows": [
                [
                  "0",
                  "0",
                  "2019-08-16 00:00:00",
                  "2019-08-16 00:00:00",
                  "2019-07-11 00:00:00",
                  "2019-10-11 00:00:00",
                  "2",
                  "0",
                  "2",
                  "0",
                  "0",
                  "0",
                  "3",
                  "0",
                  "1",
                  "0",
                  "1",
                  "Ninguno                                           ",
                  "1",
                  "Walk in                                           ",
                  "14",
                  "Individual  ep/vac. club      ",
                  "112",
                  "Hoteles s.a.",
                  "Mexico city                                                 ",
                  "México                        ",
                  "México",
                  "1",
                  "Hotel 1",
                  "735",
                  "25",
                  "Estd 2q        sn12mst        ",
                  "2.0",
                  "Mst",
                  "10",
                  "Multivacaciones 2",
                  "157",
                  "Mexico                        ",
                  "True",
                  "9",
                  "Salida",
                  "Emx   ",
                  "México                        ",
                  "2659.98",
                  "1",
                  "2019-10-11 00:00:00",
                  "True",
                  "False",
                  "2",
                  "0"
                ],
                [
                  "1",
                  "1",
                  "2019-10-22 00:00:00",
                  "2019-10-22 00:00:00",
                  "2019-01-12 00:00:00",
                  "2019-05-12 00:00:00",
                  "4",
                  "0",
                  "4",
                  "0",
                  "0",
                  "0",
                  "4",
                  "0",
                  "1",
                  "0",
                  "1",
                  "Ninguno                                           ",
                  "2",
                  "Ninguno                                           ",
                  "14",
                  "Individual  ep/vac. club      ",
                  "112",
                  "Hoteles s.a.",
                  "Mexico city                                                 ",
                  "México                        ",
                  "México",
                  "1",
                  "Hotel 1",
                  "735",
                  "25",
                  "Estd 2q        sn12mst        ",
                  "2.0",
                  "Mst",
                  "10",
                  "Multivacaciones 2",
                  "157",
                  "Mexico                        ",
                  "True",
                  "9",
                  "Salida",
                  "Egt   ",
                  "Guanajuato                    ",
                  "1764.0",
                  "1",
                  "2019-05-12 00:00:00",
                  "True",
                  "False",
                  "4",
                  "0"
                ],
                [
                  "2",
                  "2",
                  "2019-10-28 00:00:00",
                  "2019-10-28 00:00:00",
                  "2019-01-12 00:00:00",
                  "2019-05-12 00:00:00",
                  "2",
                  "0",
                  "2",
                  "0",
                  "0",
                  "0",
                  "4",
                  "0",
                  "1",
                  "0",
                  "1",
                  "Ninguno                                           ",
                  "1",
                  "Walk in                                           ",
                  "14",
                  "Individual  ep/vac. club      ",
                  "112",
                  "Hoteles s.a.",
                  "Mexico city                                                 ",
                  "México                        ",
                  "México",
                  "1",
                  "Hotel 1",
                  "735",
                  "23",
                  "Jr suite 1k    sn12mjs        ",
                  "2.0",
                  "Mjs",
                  "10",
                  "Multivacaciones 2",
                  "157",
                  "Mexico                        ",
                  "True",
                  "9",
                  "Salida",
                  "Emc   ",
                  "Michoacán                     ",
                  "2660.04",
                  "1",
                  "2019-05-12 00:00:00",
                  "True",
                  "False",
                  "2",
                  "0"
                ],
                [
                  "3",
                  "3",
                  "2019-10-28 00:00:00",
                  "2019-10-28 00:00:00",
                  "2019-08-12 00:00:00",
                  "2019-11-12 00:00:00",
                  "4",
                  "0",
                  "3",
                  "0",
                  "0",
                  "0",
                  "3",
                  "0",
                  "1",
                  "0",
                  "1",
                  "Ninguno                                           ",
                  "2",
                  "Ninguno                                           ",
                  "14",
                  "Individual  ep/vac. club      ",
                  "112",
                  "Hoteles s.a.",
                  "Mexico city                                                 ",
                  "México                        ",
                  "México",
                  "1",
                  "Hotel 1",
                  "735",
                  "24",
                  "Jr suite 2q    sn12mjs        ",
                  "2.0",
                  "Mjs",
                  "10",
                  "Multivacaciones 2",
                  "157",
                  "Mexico                        ",
                  "True",
                  "9",
                  "Salida",
                  "Egt   ",
                  "Guanajuato                    ",
                  "1995.03",
                  "1",
                  "2019-11-12 00:00:00",
                  "True",
                  "False",
                  "3",
                  "0"
                ],
                [
                  "4",
                  "4",
                  "2019-10-28 00:00:00",
                  "2019-10-28 00:00:00",
                  "2019-08-12 00:00:00",
                  "2019-12-12 00:00:00",
                  "2",
                  "0",
                  "2",
                  "0",
                  "0",
                  "0",
                  "4",
                  "0",
                  "1",
                  "0",
                  "1",
                  "Ninguno                                           ",
                  "1",
                  "Walk in                                           ",
                  "5",
                  "Ecommerce ota domestic        ",
                  "14",
                  "Bestday travel group                                                                                ",
                  "Cancún                                                      ",
                  "Quintana roo                  ",
                  "México",
                  "1",
                  "Hotel 1",
                  "735",
                  "4",
                  "Luxury 2q      sn12gsu        ",
                  "2.0",
                  "Gsu",
                  "13",
                  "Vertical booking                                  ",
                  "157",
                  "Mexico                        ",
                  "True",
                  "9",
                  "Salida",
                  "Emx   ",
                  "México                        ",
                  "13369.92",
                  "1",
                  "2019-12-12 00:00:00",
                  "True",
                  "False",
                  "2",
                  "0"
                ]
              ],
              "shape": {
                "columns": 49,
                "rows": 5
              }
            },
            "text/html": [
              "<div>\n",
              "<style scoped>\n",
              "    .dataframe tbody tr th:only-of-type {\n",
              "        vertical-align: middle;\n",
              "    }\n",
              "\n",
              "    .dataframe tbody tr th {\n",
              "        vertical-align: top;\n",
              "    }\n",
              "\n",
              "    .dataframe thead th {\n",
              "        text-align: right;\n",
              "    }\n",
              "</style>\n",
              "<table border=\"1\" class=\"dataframe\">\n",
              "  <thead>\n",
              "    <tr style=\"text-align: right;\">\n",
              "      <th></th>\n",
              "      <th>id_reservaciones</th>\n",
              "      <th>fecha_hoy</th>\n",
              "      <th>fecha_reservacion</th>\n",
              "      <th>fecha_llegada</th>\n",
              "      <th>fecha_salida</th>\n",
              "      <th>numero_personas</th>\n",
              "      <th>numero_personas_anio_anterior</th>\n",
              "      <th>numero_adultos</th>\n",
              "      <th>numero_adultos_anio_anterior</th>\n",
              "      <th>numero_menores</th>\n",
              "      <th>...</th>\n",
              "      <th>nombre_estatus_reservacion</th>\n",
              "      <th>clave_estado</th>\n",
              "      <th>nombre_estado</th>\n",
              "      <th>total_tarifa</th>\n",
              "      <th>id_moneda</th>\n",
              "      <th>fecha_ultimo_cambio</th>\n",
              "      <th>reservacion</th>\n",
              "      <th>reservacion_anio_anterior</th>\n",
              "      <th>id_cliente_disp</th>\n",
              "      <th>cliente_disp_anio_anterior</th>\n",
              "    </tr>\n",
              "  </thead>\n",
              "  <tbody>\n",
              "    <tr>\n",
              "      <th>0</th>\n",
              "      <td>0</td>\n",
              "      <td>2019-08-16</td>\n",
              "      <td>2019-08-16</td>\n",
              "      <td>2019-07-11</td>\n",
              "      <td>2019-10-11</td>\n",
              "      <td>2</td>\n",
              "      <td>0</td>\n",
              "      <td>2</td>\n",
              "      <td>0</td>\n",
              "      <td>0</td>\n",
              "      <td>...</td>\n",
              "      <td>Salida</td>\n",
              "      <td>Emx</td>\n",
              "      <td>México</td>\n",
              "      <td>2659.98</td>\n",
              "      <td>1</td>\n",
              "      <td>2019-10-11</td>\n",
              "      <td>True</td>\n",
              "      <td>False</td>\n",
              "      <td>2</td>\n",
              "      <td>0</td>\n",
              "    </tr>\n",
              "    <tr>\n",
              "      <th>1</th>\n",
              "      <td>1</td>\n",
              "      <td>2019-10-22</td>\n",
              "      <td>2019-10-22</td>\n",
              "      <td>2019-01-12</td>\n",
              "      <td>2019-05-12</td>\n",
              "      <td>4</td>\n",
              "      <td>0</td>\n",
              "      <td>4</td>\n",
              "      <td>0</td>\n",
              "      <td>0</td>\n",
              "      <td>...</td>\n",
              "      <td>Salida</td>\n",
              "      <td>Egt</td>\n",
              "      <td>Guanajuato</td>\n",
              "      <td>1764.00</td>\n",
              "      <td>1</td>\n",
              "      <td>2019-05-12</td>\n",
              "      <td>True</td>\n",
              "      <td>False</td>\n",
              "      <td>4</td>\n",
              "      <td>0</td>\n",
              "    </tr>\n",
              "    <tr>\n",
              "      <th>2</th>\n",
              "      <td>2</td>\n",
              "      <td>2019-10-28</td>\n",
              "      <td>2019-10-28</td>\n",
              "      <td>2019-01-12</td>\n",
              "      <td>2019-05-12</td>\n",
              "      <td>2</td>\n",
              "      <td>0</td>\n",
              "      <td>2</td>\n",
              "      <td>0</td>\n",
              "      <td>0</td>\n",
              "      <td>...</td>\n",
              "      <td>Salida</td>\n",
              "      <td>Emc</td>\n",
              "      <td>Michoacán</td>\n",
              "      <td>2660.04</td>\n",
              "      <td>1</td>\n",
              "      <td>2019-05-12</td>\n",
              "      <td>True</td>\n",
              "      <td>False</td>\n",
              "      <td>2</td>\n",
              "      <td>0</td>\n",
              "    </tr>\n",
              "    <tr>\n",
              "      <th>3</th>\n",
              "      <td>3</td>\n",
              "      <td>2019-10-28</td>\n",
              "      <td>2019-10-28</td>\n",
              "      <td>2019-08-12</td>\n",
              "      <td>2019-11-12</td>\n",
              "      <td>4</td>\n",
              "      <td>0</td>\n",
              "      <td>3</td>\n",
              "      <td>0</td>\n",
              "      <td>0</td>\n",
              "      <td>...</td>\n",
              "      <td>Salida</td>\n",
              "      <td>Egt</td>\n",
              "      <td>Guanajuato</td>\n",
              "      <td>1995.03</td>\n",
              "      <td>1</td>\n",
              "      <td>2019-11-12</td>\n",
              "      <td>True</td>\n",
              "      <td>False</td>\n",
              "      <td>3</td>\n",
              "      <td>0</td>\n",
              "    </tr>\n",
              "    <tr>\n",
              "      <th>4</th>\n",
              "      <td>4</td>\n",
              "      <td>2019-10-28</td>\n",
              "      <td>2019-10-28</td>\n",
              "      <td>2019-08-12</td>\n",
              "      <td>2019-12-12</td>\n",
              "      <td>2</td>\n",
              "      <td>0</td>\n",
              "      <td>2</td>\n",
              "      <td>0</td>\n",
              "      <td>0</td>\n",
              "      <td>...</td>\n",
              "      <td>Salida</td>\n",
              "      <td>Emx</td>\n",
              "      <td>México</td>\n",
              "      <td>13369.92</td>\n",
              "      <td>1</td>\n",
              "      <td>2019-12-12</td>\n",
              "      <td>True</td>\n",
              "      <td>False</td>\n",
              "      <td>2</td>\n",
              "      <td>0</td>\n",
              "    </tr>\n",
              "  </tbody>\n",
              "</table>\n",
              "<p>5 rows × 49 columns</p>\n",
              "</div>"
            ],
            "text/plain": [
              "\n",
              "   id_reservaciones  fecha_hoy fecha_reservacion fecha_llegada fecha_salida  \\\n",
              "\u001b[1;36m0\u001b[0m                 \u001b[1;36m0\u001b[0m \u001b[1;36m2019\u001b[0m-\u001b[1;36m08\u001b[0m-\u001b[1;36m16\u001b[0m        \u001b[1;36m2019\u001b[0m-\u001b[1;36m08\u001b[0m-\u001b[1;36m16\u001b[0m    \u001b[1;36m2019\u001b[0m-\u001b[1;36m07\u001b[0m-\u001b[1;36m11\u001b[0m   \u001b[1;36m2019\u001b[0m-\u001b[1;36m10\u001b[0m-\u001b[1;36m11\u001b[0m   \n",
              "\u001b[1;36m1\u001b[0m                 \u001b[1;36m1\u001b[0m \u001b[1;36m2019\u001b[0m-\u001b[1;36m10\u001b[0m-\u001b[1;36m22\u001b[0m        \u001b[1;36m2019\u001b[0m-\u001b[1;36m10\u001b[0m-\u001b[1;36m22\u001b[0m    \u001b[1;36m2019\u001b[0m-\u001b[1;36m01\u001b[0m-\u001b[1;36m12\u001b[0m   \u001b[1;36m2019\u001b[0m-\u001b[1;36m05\u001b[0m-\u001b[1;36m12\u001b[0m   \n",
              "\u001b[1;36m2\u001b[0m                 \u001b[1;36m2\u001b[0m \u001b[1;36m2019\u001b[0m-\u001b[1;36m10\u001b[0m-\u001b[1;36m28\u001b[0m        \u001b[1;36m2019\u001b[0m-\u001b[1;36m10\u001b[0m-\u001b[1;36m28\u001b[0m    \u001b[1;36m2019\u001b[0m-\u001b[1;36m01\u001b[0m-\u001b[1;36m12\u001b[0m   \u001b[1;36m2019\u001b[0m-\u001b[1;36m05\u001b[0m-\u001b[1;36m12\u001b[0m   \n",
              "\u001b[1;36m3\u001b[0m                 \u001b[1;36m3\u001b[0m \u001b[1;36m2019\u001b[0m-\u001b[1;36m10\u001b[0m-\u001b[1;36m28\u001b[0m        \u001b[1;36m2019\u001b[0m-\u001b[1;36m10\u001b[0m-\u001b[1;36m28\u001b[0m    \u001b[1;36m2019\u001b[0m-\u001b[1;36m08\u001b[0m-\u001b[1;36m12\u001b[0m   \u001b[1;36m2019\u001b[0m-\u001b[1;36m11\u001b[0m-\u001b[1;36m12\u001b[0m   \n",
              "\u001b[1;36m4\u001b[0m                 \u001b[1;36m4\u001b[0m \u001b[1;36m2019\u001b[0m-\u001b[1;36m10\u001b[0m-\u001b[1;36m28\u001b[0m        \u001b[1;36m2019\u001b[0m-\u001b[1;36m10\u001b[0m-\u001b[1;36m28\u001b[0m    \u001b[1;36m2019\u001b[0m-\u001b[1;36m08\u001b[0m-\u001b[1;36m12\u001b[0m   \u001b[1;36m2019\u001b[0m-\u001b[1;36m12\u001b[0m-\u001b[1;36m12\u001b[0m   \n",
              "\n",
              "   numero_personas  numero_personas_anio_anterior  numero_adultos  \\\n",
              "\u001b[1;36m0\u001b[0m                \u001b[1;36m2\u001b[0m                              \u001b[1;36m0\u001b[0m               \u001b[1;36m2\u001b[0m   \n",
              "\u001b[1;36m1\u001b[0m                \u001b[1;36m4\u001b[0m                              \u001b[1;36m0\u001b[0m               \u001b[1;36m4\u001b[0m   \n",
              "\u001b[1;36m2\u001b[0m                \u001b[1;36m2\u001b[0m                              \u001b[1;36m0\u001b[0m               \u001b[1;36m2\u001b[0m   \n",
              "\u001b[1;36m3\u001b[0m                \u001b[1;36m4\u001b[0m                              \u001b[1;36m0\u001b[0m               \u001b[1;36m3\u001b[0m   \n",
              "\u001b[1;36m4\u001b[0m                \u001b[1;36m2\u001b[0m                              \u001b[1;36m0\u001b[0m               \u001b[1;36m2\u001b[0m   \n",
              "\n",
              "   numero_adultos_anio_anterior  numero_menores  \u001b[33m...\u001b[0m  \\\n",
              "\u001b[1;36m0\u001b[0m                             \u001b[1;36m0\u001b[0m               \u001b[1;36m0\u001b[0m  \u001b[33m...\u001b[0m   \n",
              "\u001b[1;36m1\u001b[0m                             \u001b[1;36m0\u001b[0m               \u001b[1;36m0\u001b[0m  \u001b[33m...\u001b[0m   \n",
              "\u001b[1;36m2\u001b[0m                             \u001b[1;36m0\u001b[0m               \u001b[1;36m0\u001b[0m  \u001b[33m...\u001b[0m   \n",
              "\u001b[1;36m3\u001b[0m                             \u001b[1;36m0\u001b[0m               \u001b[1;36m0\u001b[0m  \u001b[33m...\u001b[0m   \n",
              "\u001b[1;36m4\u001b[0m                             \u001b[1;36m0\u001b[0m               \u001b[1;36m0\u001b[0m  \u001b[33m...\u001b[0m   \n",
              "\n",
              "   nombre_estatus_reservacion  clave_estado                   nombre_estado  \\\n",
              "\u001b[1;36m0\u001b[0m                      Salida        Emx     México                           \n",
              "\u001b[1;36m1\u001b[0m                      Salida        Egt     Guanajuato                       \n",
              "\u001b[1;36m2\u001b[0m                      Salida        Emc     Michoacán                        \n",
              "\u001b[1;36m3\u001b[0m                      Salida        Egt     Guanajuato                       \n",
              "\u001b[1;36m4\u001b[0m                      Salida        Emx     México                           \n",
              "\n",
              "   total_tarifa  id_moneda  fecha_ultimo_cambio reservacion  \\\n",
              "\u001b[1;36m0\u001b[0m       \u001b[1;36m2659.98\u001b[0m          \u001b[1;36m1\u001b[0m           \u001b[1;36m2019\u001b[0m-\u001b[1;36m10\u001b[0m-\u001b[1;36m11\u001b[0m        \u001b[3;92mTrue\u001b[0m   \n",
              "\u001b[1;36m1\u001b[0m       \u001b[1;36m1764.00\u001b[0m          \u001b[1;36m1\u001b[0m           \u001b[1;36m2019\u001b[0m-\u001b[1;36m05\u001b[0m-\u001b[1;36m12\u001b[0m        \u001b[3;92mTrue\u001b[0m   \n",
              "\u001b[1;36m2\u001b[0m       \u001b[1;36m2660.04\u001b[0m          \u001b[1;36m1\u001b[0m           \u001b[1;36m2019\u001b[0m-\u001b[1;36m05\u001b[0m-\u001b[1;36m12\u001b[0m        \u001b[3;92mTrue\u001b[0m   \n",
              "\u001b[1;36m3\u001b[0m       \u001b[1;36m1995.03\u001b[0m          \u001b[1;36m1\u001b[0m           \u001b[1;36m2019\u001b[0m-\u001b[1;36m11\u001b[0m-\u001b[1;36m12\u001b[0m        \u001b[3;92mTrue\u001b[0m   \n",
              "\u001b[1;36m4\u001b[0m      \u001b[1;36m13369.92\u001b[0m          \u001b[1;36m1\u001b[0m           \u001b[1;36m2019\u001b[0m-\u001b[1;36m12\u001b[0m-\u001b[1;36m12\u001b[0m        \u001b[3;92mTrue\u001b[0m   \n",
              "\n",
              "   reservacion_anio_anterior id_cliente_disp  cliente_disp_anio_anterior  \n",
              "\u001b[1;36m0\u001b[0m                      \u001b[3;91mFalse\u001b[0m               \u001b[1;36m2\u001b[0m                           \u001b[1;36m0\u001b[0m  \n",
              "\u001b[1;36m1\u001b[0m                      \u001b[3;91mFalse\u001b[0m               \u001b[1;36m4\u001b[0m                           \u001b[1;36m0\u001b[0m  \n",
              "\u001b[1;36m2\u001b[0m                      \u001b[3;91mFalse\u001b[0m               \u001b[1;36m2\u001b[0m                           \u001b[1;36m0\u001b[0m  \n",
              "\u001b[1;36m3\u001b[0m                      \u001b[3;91mFalse\u001b[0m               \u001b[1;36m3\u001b[0m                           \u001b[1;36m0\u001b[0m  \n",
              "\u001b[1;36m4\u001b[0m                      \u001b[3;91mFalse\u001b[0m               \u001b[1;36m2\u001b[0m                           \u001b[1;36m0\u001b[0m  \n",
              "\n",
              "\u001b[1m[\u001b[0m\u001b[1;36m5\u001b[0m rows x \u001b[1;36m49\u001b[0m columns\u001b[1m]\u001b[0m"
            ]
          },
          "execution_count": 4,
          "metadata": {},
          "output_type": "execute_result"
        }
      ],
      "source": [
        "df_fe = catalog.load(\"reservaciones_cleaned\")  # type: ignore # noqa: F821\n",
        "\n",
        "numeric_columns = df_fe.select_dtypes(include=['int64', 'float64']).columns\n",
        "categorical_columns = df_fe.select_dtypes(include=['object']).columns\n",
        "bool_columns = df_fe.select_dtypes(include=['bool']).columns\n",
        "date_columns = df_fe.select_dtypes(include=['datetime64[ns]']).columns\n",
        "\n",
        "df_fe.head()"
      ]
    },
    {
      "cell_type": "code",
      "execution_count": 5,
      "metadata": {
        "colab": {
          "base_uri": "https://localhost:8080/"
        },
        "id": "SqVijxLOQixR",
        "outputId": "e3fa9dbe-126f-4021-a82c-c699c6f9f7c8"
      },
      "outputs": [
        {
          "name": "stdout",
          "output_type": "stream",
          "text": [
            "<class 'pandas.core.frame.DataFrame'>\n",
            "Index: 202491 entries, 0 to 203001\n",
            "Data columns (total 49 columns):\n",
            " #   Column                            Non-Null Count   Dtype         \n",
            "---  ------                            --------------   -----         \n",
            " 0   id_reservaciones                  202491 non-null  int64         \n",
            " 1   fecha_hoy                         202491 non-null  datetime64[ns]\n",
            " 2   fecha_reservacion                 202491 non-null  datetime64[ns]\n",
            " 3   fecha_llegada                     202491 non-null  datetime64[ns]\n",
            " 4   fecha_salida                      202491 non-null  datetime64[ns]\n",
            " 5   numero_personas                   202491 non-null  int64         \n",
            " 6   numero_personas_anio_anterior     202491 non-null  int64         \n",
            " 7   numero_adultos                    202491 non-null  int64         \n",
            " 8   numero_adultos_anio_anterior      202491 non-null  int64         \n",
            " 9   numero_menores                    202491 non-null  int64         \n",
            " 10  numero_menores_anio_anterior      202491 non-null  int64         \n",
            " 11  numero_noches                     202491 non-null  int64         \n",
            " 12  numero_noches_anio_anterior       202491 non-null  int64         \n",
            " 13  total_habitaciones                202491 non-null  int64         \n",
            " 14  total_habitaciones_anio_anterior  202491 non-null  int64         \n",
            " 15  id_programa                       202491 non-null  int64         \n",
            " 16  nombre_programa                   202491 non-null  object        \n",
            " 17  id_paquete                        202491 non-null  int64         \n",
            " 18  nombre_paquete                    202491 non-null  object        \n",
            " 19  id_segmento                       202491 non-null  int64         \n",
            " 20  nombre_segmento                   202491 non-null  object        \n",
            " 21  id_agencia                        202491 non-null  int64         \n",
            " 22  nombre_agencia                    202491 non-null  object        \n",
            " 23  ciudad_agencia                    202491 non-null  object        \n",
            " 24  entidad_federativa_agencia        202491 non-null  object        \n",
            " 25  pais_agencia                      202491 non-null  object        \n",
            " 26  id_empresa                        202491 non-null  int64         \n",
            " 27  nombre_empresa                    202491 non-null  object        \n",
            " 28  total_habitaciones_empresa        202491 non-null  int64         \n",
            " 29  id_tipo_habitacion                202491 non-null  int64         \n",
            " 30  nombre_tipo_habitacion            202491 non-null  object        \n",
            " 31  cupo_tipo_habitacion              202491 non-null  float64       \n",
            " 32  clasificacion_tipo_habitacion     202491 non-null  object        \n",
            " 33  id_canal                          202491 non-null  int64         \n",
            " 34  nombre_canal                      202491 non-null  object        \n",
            " 35  id_pais_origen                    202491 non-null  int64         \n",
            " 36  nombre_pais_origen                202491 non-null  object        \n",
            " 37  reservacion_pendiente             202491 non-null  bool          \n",
            " 38  id_estatus_reservacion            202491 non-null  int64         \n",
            " 39  nombre_estatus_reservacion        202491 non-null  object        \n",
            " 40  clave_estado                      202491 non-null  object        \n",
            " 41  nombre_estado                     202491 non-null  object        \n",
            " 42  total_tarifa                      202491 non-null  float64       \n",
            " 43  id_moneda                         202491 non-null  int64         \n",
            " 44  fecha_ultimo_cambio               202491 non-null  datetime64[ns]\n",
            " 45  reservacion                       202491 non-null  bool          \n",
            " 46  reservacion_anio_anterior         202491 non-null  bool          \n",
            " 47  id_cliente_disp                   202491 non-null  int64         \n",
            " 48  cliente_disp_anio_anterior        202491 non-null  int64         \n",
            "dtypes: bool(3), datetime64[ns](5), float64(2), int64(24), object(15)\n",
            "memory usage: 73.2+ MB\n"
          ]
        }
      ],
      "source": [
        "df_fe.info()"
      ]
    },
    {
      "cell_type": "markdown",
      "metadata": {
        "id": "kYBKLlCfQKKq"
      },
      "source": [
        "## Feature engineering"
      ]
    },
    {
      "cell_type": "markdown",
      "metadata": {
        "id": "e6twbfhQbqnd"
      },
      "source": [
        "### Target Variable: cancelacion\n",
        "\n",
        "* True: The reservation status is cancelled\n",
        "* False: Otherwise"
      ]
    },
    {
      "cell_type": "code",
      "execution_count": 6,
      "metadata": {
        "colab": {
          "base_uri": "https://localhost:8080/",
          "height": 366
        },
        "id": "D-X_lTLkb99L",
        "outputId": "5458b0c8-84b9-41e3-ce9c-b335ce20704d"
      },
      "outputs": [
        {
          "data": {
            "text/html": [
              "<pre style=\"white-space:pre;overflow-x:auto;line-height:normal;font-family:Menlo,'DejaVu Sans Mono',consolas,'Courier New',monospace\"></pre>\n"
            ],
            "text/plain": []
          },
          "metadata": {},
          "output_type": "display_data"
        },
        {
          "data": {
            "application/vnd.microsoft.datawrangler.viewer.v0+json": {
              "columns": [
                {
                  "name": "nombre_estatus_reservacion",
                  "rawType": "object",
                  "type": "string"
                },
                {
                  "name": "count",
                  "rawType": "int64",
                  "type": "integer"
                }
              ],
              "ref": "2f9f1c31-00c5-44d3-a0af-997baa6d5617",
              "rows": [
                [
                  "Salida",
                  "131069"
                ],
                [
                  "Reservacion cancelada",
                  "33297"
                ],
                [
                  "Rooming list",
                  "18380"
                ],
                [
                  "Reservacion o (r)registro",
                  "17153"
                ],
                [
                  "No show",
                  "1852"
                ],
                [
                  "Reservacion en transicion",
                  "586"
                ],
                [
                  "En casa (registro)",
                  "130"
                ],
                [
                  "Preregistro",
                  "24"
                ]
              ],
              "shape": {
                "columns": 1,
                "rows": 8
              }
            },
            "text/plain": [
              "\n",
              "nombre_estatus_reservacion\n",
              "Salida                       \u001b[1;36m131069\u001b[0m\n",
              "Reservacion cancelada         \u001b[1;36m33297\u001b[0m\n",
              "Rooming list                  \u001b[1;36m18380\u001b[0m\n",
              "Reservacion o \u001b[1m(\u001b[0mr\u001b[1m)\u001b[0mregistro     \u001b[1;36m17153\u001b[0m\n",
              "No show                        \u001b[1;36m1852\u001b[0m\n",
              "Reservacion en transicion       \u001b[1;36m586\u001b[0m\n",
              "En casa \u001b[1m(\u001b[0mregistro\u001b[1m)\u001b[0m              \u001b[1;36m130\u001b[0m\n",
              "Preregistro                      \u001b[1;36m24\u001b[0m\n",
              "Name: count, dtype: int64"
            ]
          },
          "execution_count": 6,
          "metadata": {},
          "output_type": "execute_result"
        }
      ],
      "source": [
        "df_fe.nombre_estatus_reservacion.value_counts()"
      ]
    },
    {
      "cell_type": "code",
      "execution_count": null,
      "metadata": {
        "id": "_3Ed49P9b6SQ"
      },
      "outputs": [],
      "source": [
        "df_fe['cancelacion'] = df_fe['nombre_estatus_reservacion'].apply(lambda x: True if x == 'Reservacion Cancelada' else False)"
      ]
    },
    {
      "cell_type": "markdown",
      "metadata": {
        "id": "96oqpGU6QvjG"
      },
      "source": [
        "### Days in advance\n",
        "\n",
        "Days between `fecha_reservacion` y `fecha_llegada`"
      ]
    },
    {
      "cell_type": "code",
      "execution_count": null,
      "metadata": {
        "id": "S5k3E8CKQLrl"
      },
      "outputs": [],
      "source": [
        "df_fe['dias_anticipacion'] = (df_fe['fecha_llegada'] - df_fe['fecha_reservacion']).dt.days"
      ]
    },
    {
      "cell_type": "code",
      "execution_count": null,
      "metadata": {
        "colab": {
          "base_uri": "https://localhost:8080/",
          "height": 335
        },
        "id": "umISGLhfTD6D",
        "outputId": "5dcbceff-1f73-4a4d-f95a-695b5de2ca5e"
      },
      "outputs": [
        {
          "data": {
            "text/html": [
              "<div>\n",
              "<style scoped>\n",
              "    .dataframe tbody tr th:only-of-type {\n",
              "        vertical-align: middle;\n",
              "    }\n",
              "\n",
              "    .dataframe tbody tr th {\n",
              "        vertical-align: top;\n",
              "    }\n",
              "\n",
              "    .dataframe thead th {\n",
              "        text-align: right;\n",
              "    }\n",
              "</style>\n",
              "<table border=\"1\" class=\"dataframe\">\n",
              "  <thead>\n",
              "    <tr style=\"text-align: right;\">\n",
              "      <th></th>\n",
              "      <th>dias_anticipacion</th>\n",
              "    </tr>\n",
              "  </thead>\n",
              "  <tbody>\n",
              "    <tr>\n",
              "      <th>count</th>\n",
              "      <td>203000.000000</td>\n",
              "    </tr>\n",
              "    <tr>\n",
              "      <th>mean</th>\n",
              "      <td>65.523232</td>\n",
              "    </tr>\n",
              "    <tr>\n",
              "      <th>std</th>\n",
              "      <td>137.621586</td>\n",
              "    </tr>\n",
              "    <tr>\n",
              "      <th>min</th>\n",
              "      <td>-334.000000</td>\n",
              "    </tr>\n",
              "    <tr>\n",
              "      <th>25%</th>\n",
              "      <td>0.000000</td>\n",
              "    </tr>\n",
              "    <tr>\n",
              "      <th>50%</th>\n",
              "      <td>49.000000</td>\n",
              "    </tr>\n",
              "    <tr>\n",
              "      <th>75%</th>\n",
              "      <td>142.000000</td>\n",
              "    </tr>\n",
              "    <tr>\n",
              "      <th>max</th>\n",
              "      <td>740.000000</td>\n",
              "    </tr>\n",
              "  </tbody>\n",
              "</table>\n",
              "</div><br><label><b>dtype:</b> float64</label>"
            ],
            "text/plain": [
              "count    203000.000000\n",
              "mean         65.523232\n",
              "std         137.621586\n",
              "min        -334.000000\n",
              "25%           0.000000\n",
              "50%          49.000000\n",
              "75%         142.000000\n",
              "max         740.000000\n",
              "Name: dias_anticipacion, dtype: float64"
            ]
          },
          "execution_count": 9,
          "metadata": {},
          "output_type": "execute_result"
        }
      ],
      "source": [
        "df_fe.dias_anticipacion.describe()"
      ]
    },
    {
      "cell_type": "code",
      "execution_count": null,
      "metadata": {
        "colab": {
          "base_uri": "https://localhost:8080/",
          "height": 430
        },
        "id": "xv-Jw_ElTJUy",
        "outputId": "ab1ed776-4c5e-4bc7-ab11-0120d0ea052b"
      },
      "outputs": [
        {
          "data": {
            "image/png": "[encoded data removed]",
            "text/plain": [
              "<Figure size 640x480 with 1 Axes>"
            ]
          },
          "metadata": {},
          "output_type": "display_data"
        }
      ],
      "source": [
        "df_fe.dias_anticipacion.hist(bins=50);"
      ]
    },
    {
      "cell_type": "markdown",
      "metadata": {
        "id": "Ggs6H6Qocbt9"
      },
      "source": [
        "**Encodings**"
      ]
    },
    {
      "cell_type": "markdown",
      "metadata": {
        "id": "nVt0h2nbVV3a"
      },
      "source": [
        "**Description of categorical variables**"
      ]
    },
    {
      "cell_type": "code",
      "execution_count": null,
      "metadata": {
        "colab": {
          "base_uri": "https://localhost:8080/",
          "height": 212
        },
        "id": "DhZq0eNeVYgZ",
        "outputId": "577ae7f2-d1e1-4911-9495-925bcaea6719"
      },
      "outputs": [
        {
          "data": {
            "application/vnd.google.colaboratory.intrinsic+json": {
              "summary": "{\n  \"name\": \"df_fe[categorical_columns]\",\n  \"rows\": 4,\n  \"fields\": [\n    {\n      \"column\": \"nombre_programa\",\n      \"properties\": {\n        \"dtype\": \"string\",\n        \"num_unique_values\": 4,\n        \"samples\": [\n          2,\n          \"202510\",\n          \"203002\"\n        ],\n        \"semantic_type\": \"\",\n        \"description\": \"\"\n      }\n    },\n    {\n      \"column\": \"nombre_paquete\",\n      \"properties\": {\n        \"dtype\": \"string\",\n        \"num_unique_values\": 4,\n        \"samples\": [\n          6,\n          \"117658\",\n          \"203002\"\n        ],\n        \"semantic_type\": \"\",\n        \"description\": \"\"\n      }\n    },\n    {\n      \"column\": \"nombre_segmento\",\n      \"properties\": {\n        \"dtype\": \"string\",\n        \"num_unique_values\": 4,\n        \"samples\": [\n          20,\n          \"73098\",\n          \"203002\"\n        ],\n        \"semantic_type\": \"\",\n        \"description\": \"\"\n      }\n    },\n    {\n      \"column\": \"nombre_agencia\",\n      \"properties\": {\n        \"dtype\": \"string\",\n        \"num_unique_values\": 4,\n        \"samples\": [\n          112,\n          \"42342\",\n          \"203002\"\n        ],\n        \"semantic_type\": \"\",\n        \"description\": \"\"\n      }\n    },\n    {\n      \"column\": \"ciudad_agencia\",\n      \"properties\": {\n        \"dtype\": \"string\",\n        \"num_unique_values\": 4,\n        \"samples\": [\n          56,\n          \"60055\",\n          \"203002\"\n        ],\n        \"semantic_type\": \"\",\n        \"description\": \"\"\n      }\n    },\n    {\n      \"column\": \"entidad_federativa_agencia\",\n      \"properties\": {\n        \"dtype\": \"string\",\n        \"num_unique_values\": 4,\n        \"samples\": [\n          23,\n          \"62725\",\n          \"203002\"\n        ],\n        \"semantic_type\": \"\",\n        \"description\": \"\"\n      }\n    },\n    {\n      \"column\": \"pais_agencia\",\n      \"properties\": {\n        \"dtype\": \"string\",\n        \"num_unique_values\": 4,\n        \"samples\": [\n          5,\n          \"192788\",\n          \"203002\"\n        ],\n        \"semantic_type\": \"\",\n        \"description\": \"\"\n      }\n    },\n    {\n      \"column\": \"nombre_empresa\",\n      \"properties\": {\n        \"dtype\": \"string\",\n        \"num_unique_values\": 3,\n        \"samples\": [\n          \"203002\",\n          1,\n          \"Hotel 1\"\n        ],\n        \"semantic_type\": \"\",\n        \"description\": \"\"\n      }\n    },\n    {\n      \"column\": \"nombre_tipo_habitacion\",\n      \"properties\": {\n        \"dtype\": \"string\",\n        \"num_unique_values\": 4,\n        \"samples\": [\n          28,\n          \"52796\",\n          \"203002\"\n        ],\n        \"semantic_type\": \"\",\n        \"description\": \"\"\n      }\n    },\n    {\n      \"column\": \"clasificacion_tipo_habitacion\",\n      \"properties\": {\n        \"dtype\": \"string\",\n        \"num_unique_values\": 4,\n        \"samples\": [\n          11,\n          \"80304\",\n          \"202992\"\n        ],\n        \"semantic_type\": \"\",\n        \"description\": \"\"\n      }\n    },\n    {\n      \"column\": \"nombre_canal\",\n      \"properties\": {\n        \"dtype\": \"string\",\n        \"num_unique_values\": 4,\n        \"samples\": [\n          14,\n          \"82255\",\n          \"203002\"\n        ],\n        \"semantic_type\": \"\",\n        \"description\": \"\"\n      }\n    },\n    {\n      \"column\": \"nombre_pais_origen\",\n      \"properties\": {\n        \"dtype\": \"string\",\n        \"num_unique_values\": 4,\n        \"samples\": [\n          4,\n          \"201504\",\n          \"203002\"\n        ],\n        \"semantic_type\": \"\",\n        \"description\": \"\"\n      }\n    },\n    {\n      \"column\": \"nombre_estatus_reservacion\",\n      \"properties\": {\n        \"dtype\": \"string\",\n        \"num_unique_values\": 4,\n        \"samples\": [\n          8,\n          \"131069\",\n          \"203002\"\n        ],\n        \"semantic_type\": \"\",\n        \"description\": \"\"\n      }\n    },\n    {\n      \"column\": \"clave_estado\",\n      \"properties\": {\n        \"dtype\": \"string\",\n        \"num_unique_values\": 4,\n        \"samples\": [\n          148,\n          \"62426\",\n          \"203002\"\n        ],\n        \"semantic_type\": \"\",\n        \"description\": \"\"\n      }\n    },\n    {\n      \"column\": \"nombre_estado\",\n      \"properties\": {\n        \"dtype\": \"string\",\n        \"num_unique_values\": 4,\n        \"samples\": [\n          144,\n          \"62426\",\n          \"203000\"\n        ],\n        \"semantic_type\": \"\",\n        \"description\": \"\"\n      }\n    }\n  ]\n}",
              "type": "dataframe"
            },
            "text/html": [
              "\n",
              "  <div id=\"df-a3b3a5ac-7232-4f4f-8bc7-35a1ea90cb32\" class=\"colab-df-container\">\n",
              "    <div>\n",
              "<style scoped>\n",
              "    .dataframe tbody tr th:only-of-type {\n",
              "        vertical-align: middle;\n",
              "    }\n",
              "\n",
              "    .dataframe tbody tr th {\n",
              "        vertical-align: top;\n",
              "    }\n",
              "\n",
              "    .dataframe thead th {\n",
              "        text-align: right;\n",
              "    }\n",
              "</style>\n",
              "<table border=\"1\" class=\"dataframe\">\n",
              "  <thead>\n",
              "    <tr style=\"text-align: right;\">\n",
              "      <th></th>\n",
              "      <th>nombre_programa</th>\n",
              "      <th>nombre_paquete</th>\n",
              "      <th>nombre_segmento</th>\n",
              "      <th>nombre_agencia</th>\n",
              "      <th>ciudad_agencia</th>\n",
              "      <th>entidad_federativa_agencia</th>\n",
              "      <th>pais_agencia</th>\n",
              "      <th>nombre_empresa</th>\n",
              "      <th>nombre_tipo_habitacion</th>\n",
              "      <th>clasificacion_tipo_habitacion</th>\n",
              "      <th>nombre_canal</th>\n",
              "      <th>nombre_pais_origen</th>\n",
              "      <th>nombre_estatus_reservacion</th>\n",
              "      <th>clave_estado</th>\n",
              "      <th>nombre_estado</th>\n",
              "    </tr>\n",
              "  </thead>\n",
              "  <tbody>\n",
              "    <tr>\n",
              "      <th>count</th>\n",
              "      <td>203002</td>\n",
              "      <td>203002</td>\n",
              "      <td>203002</td>\n",
              "      <td>203002</td>\n",
              "      <td>203002</td>\n",
              "      <td>203002</td>\n",
              "      <td>203002</td>\n",
              "      <td>203002</td>\n",
              "      <td>203002</td>\n",
              "      <td>202992</td>\n",
              "      <td>203002</td>\n",
              "      <td>203002</td>\n",
              "      <td>203002</td>\n",
              "      <td>203002</td>\n",
              "      <td>203000</td>\n",
              "    </tr>\n",
              "    <tr>\n",
              "      <th>unique</th>\n",
              "      <td>2</td>\n",
              "      <td>6</td>\n",
              "      <td>20</td>\n",
              "      <td>112</td>\n",
              "      <td>56</td>\n",
              "      <td>23</td>\n",
              "      <td>5</td>\n",
              "      <td>1</td>\n",
              "      <td>28</td>\n",
              "      <td>11</td>\n",
              "      <td>14</td>\n",
              "      <td>4</td>\n",
              "      <td>8</td>\n",
              "      <td>148</td>\n",
              "      <td>144</td>\n",
              "    </tr>\n",
              "    <tr>\n",
              "      <th>top</th>\n",
              "      <td>Ninguno</td>\n",
              "      <td>Walk In</td>\n",
              "      <td>Tour Operators Domestic</td>\n",
              "      <td>Hoteles S.a.</td>\n",
              "      <td>Morelia</td>\n",
              "      <td>Michoacán</td>\n",
              "      <td>México</td>\n",
              "      <td>Hotel 1</td>\n",
              "      <td>Luxury 2q Sn12gsu</td>\n",
              "      <td>Gsu</td>\n",
              "      <td>Lada 800 Nacional68</td>\n",
              "      <td>Mexico</td>\n",
              "      <td>Salida</td>\n",
              "      <td>Egr</td>\n",
              "      <td>Guerrero</td>\n",
              "    </tr>\n",
              "    <tr>\n",
              "      <th>freq</th>\n",
              "      <td>202510</td>\n",
              "      <td>117658</td>\n",
              "      <td>73098</td>\n",
              "      <td>42342</td>\n",
              "      <td>60055</td>\n",
              "      <td>62725</td>\n",
              "      <td>192788</td>\n",
              "      <td>203002</td>\n",
              "      <td>52796</td>\n",
              "      <td>80304</td>\n",
              "      <td>82255</td>\n",
              "      <td>201504</td>\n",
              "      <td>131069</td>\n",
              "      <td>62426</td>\n",
              "      <td>62426</td>\n",
              "    </tr>\n",
              "  </tbody>\n",
              "</table>\n",
              "</div>\n",
              "    <div class=\"colab-df-buttons\">\n",
              "\n",
              "  <div class=\"colab-df-container\">\n",
              "    <button class=\"colab-df-convert\" onclick=\"convertToInteractive('df-a3b3a5ac-7232-4f4f-8bc7-35a1ea90cb32')\"\n",
              "            title=\"Convert this dataframe to an interactive table.\"\n",
              "            style=\"display:none;\">\n",
              "\n",
              "  <svg xmlns=\"http://www.w3.org/2000/svg\" height=\"24px\" viewBox=\"0 -960 960 960\">\n",
              "    <path d=\"M120-120v-720h720v720H120Zm60-500h600v-160H180v160Zm220 220h160v-160H400v160Zm0 220h160v-160H400v160ZM180-400h160v-160H180v160Zm440 0h160v-160H620v160ZM180-180h160v-160H180v160Zm440 0h160v-160H620v160Z\"/>\n",
              "  </svg>\n",
              "    </button>\n",
              "\n",
              "  <style>\n",
              "    .colab-df-container {\n",
              "      display:flex;\n",
              "      gap: 12px;\n",
              "    }\n",
              "\n",
              "    .colab-df-convert {\n",
              "      background-color: #E8F0FE;\n",
              "      border: none;\n",
              "      border-radius: 50%;\n",
              "      cursor: pointer;\n",
              "      display: none;\n",
              "      fill: #1967D2;\n",
              "      height: 32px;\n",
              "      padding: 0 0 0 0;\n",
              "      width: 32px;\n",
              "    }\n",
              "\n",
              "    .colab-df-convert:hover {\n",
              "      background-color: #E2EBFA;\n",
              "      box-shadow: 0px 1px 2px rgba(60, 64, 67, 0.3), 0px 1px 3px 1px rgba(60, 64, 67, 0.15);\n",
              "      fill: #174EA6;\n",
              "    }\n",
              "\n",
              "    .colab-df-buttons div {\n",
              "      margin-bottom: 4px;\n",
              "    }\n",
              "\n",
              "    [theme=dark] .colab-df-convert {\n",
              "      background-color: #3B4455;\n",
              "      fill: #D2E3FC;\n",
              "    }\n",
              "\n",
              "    [theme=dark] .colab-df-convert:hover {\n",
              "      background-color: #434B5C;\n",
              "      box-shadow: 0px 1px 3px 1px rgba(0, 0, 0, 0.15);\n",
              "      filter: drop-shadow(0px 1px 2px rgba(0, 0, 0, 0.3));\n",
              "      fill: #FFFFFF;\n",
              "    }\n",
              "  </style>\n",
              "\n",
              "    <script>\n",
              "      const buttonEl =\n",
              "        document.querySelector('#df-a3b3a5ac-7232-4f4f-8bc7-35a1ea90cb32 button.colab-df-convert');\n",
              "      buttonEl.style.display =\n",
              "        google.colab.kernel.accessAllowed ? 'block' : 'none';\n",
              "\n",
              "      async function convertToInteractive(key) {\n",
              "        const element = document.querySelector('#df-a3b3a5ac-7232-4f4f-8bc7-35a1ea90cb32');\n",
              "        const dataTable =\n",
              "          await google.colab.kernel.invokeFunction('convertToInteractive',\n",
              "                                                    [key], {});\n",
              "        if (!dataTable) return;\n",
              "\n",
              "        const docLinkHtml = 'Like what you see? Visit the ' +\n",
              "          '<a target=\"_blank\" href=https://colab.research.google.com/notebooks/data_table.ipynb>data table notebook</a>'\n",
              "          + ' to learn more about interactive tables.';\n",
              "        element.innerHTML = '';\n",
              "        dataTable['output_type'] = 'display_data';\n",
              "        await google.colab.output.renderOutput(dataTable, element);\n",
              "        const docLink = document.createElement('div');\n",
              "        docLink.innerHTML = docLinkHtml;\n",
              "        element.appendChild(docLink);\n",
              "      }\n",
              "    </script>\n",
              "  </div>\n",
              "\n",
              "\n",
              "    <div id=\"df-304e1ab9-1186-4d88-bf4c-2783b02a0fd7\">\n",
              "      <button class=\"colab-df-quickchart\" onclick=\"quickchart('df-304e1ab9-1186-4d88-bf4c-2783b02a0fd7')\"\n",
              "                title=\"Suggest charts\"\n",
              "                style=\"display:none;\">\n",
              "\n",
              "<svg xmlns=\"http://www.w3.org/2000/svg\" height=\"24px\"viewBox=\"0 0 24 24\"\n",
              "     width=\"24px\">\n",
              "    <g>\n",
              "        <path d=\"M19 3H5c-1.1 0-2 .9-2 2v14c0 1.1.9 2 2 2h14c1.1 0 2-.9 2-2V5c0-1.1-.9-2-2-2zM9 17H7v-7h2v7zm4 0h-2V7h2v10zm4 0h-2v-4h2v4z\"/>\n",
              "    </g>\n",
              "</svg>\n",
              "      </button>\n",
              "\n",
              "<style>\n",
              "  .colab-df-quickchart {\n",
              "      --bg-color: #E8F0FE;\n",
              "      --fill-color: #1967D2;\n",
              "      --hover-bg-color: #E2EBFA;\n",
              "      --hover-fill-color: #174EA6;\n",
              "      --disabled-fill-color: #AAA;\n",
              "      --disabled-bg-color: #DDD;\n",
              "  }\n",
              "\n",
              "  [theme=dark] .colab-df-quickchart {\n",
              "      --bg-color: #3B4455;\n",
              "      --fill-color: #D2E3FC;\n",
              "      --hover-bg-color: #434B5C;\n",
              "      --hover-fill-color: #FFFFFF;\n",
              "      --disabled-bg-color: #3B4455;\n",
              "      --disabled-fill-color: #666;\n",
              "  }\n",
              "\n",
              "  .colab-df-quickchart {\n",
              "    background-color: var(--bg-color);\n",
              "    border: none;\n",
              "    border-radius: 50%;\n",
              "    cursor: pointer;\n",
              "    display: none;\n",
              "    fill: var(--fill-color);\n",
              "    height: 32px;\n",
              "    padding: 0;\n",
              "    width: 32px;\n",
              "  }\n",
              "\n",
              "  .colab-df-quickchart:hover {\n",
              "    background-color: var(--hover-bg-color);\n",
              "    box-shadow: 0 1px 2px rgba(60, 64, 67, 0.3), 0 1px 3px 1px rgba(60, 64, 67, 0.15);\n",
              "    fill: var(--button-hover-fill-color);\n",
              "  }\n",
              "\n",
              "  .colab-df-quickchart-complete:disabled,\n",
              "  .colab-df-quickchart-complete:disabled:hover {\n",
              "    background-color: var(--disabled-bg-color);\n",
              "    fill: var(--disabled-fill-color);\n",
              "    box-shadow: none;\n",
              "  }\n",
              "\n",
              "  .colab-df-spinner {\n",
              "    border: 2px solid var(--fill-color);\n",
              "    border-color: transparent;\n",
              "    border-bottom-color: var(--fill-color);\n",
              "    animation:\n",
              "      spin 1s steps(1) infinite;\n",
              "  }\n",
              "\n",
              "  @keyframes spin {\n",
              "    0% {\n",
              "      border-color: transparent;\n",
              "      border-bottom-color: var(--fill-color);\n",
              "      border-left-color: var(--fill-color);\n",
              "    }\n",
              "    20% {\n",
              "      border-color: transparent;\n",
              "      border-left-color: var(--fill-color);\n",
              "      border-top-color: var(--fill-color);\n",
              "    }\n",
              "    30% {\n",
              "      border-color: transparent;\n",
              "      border-left-color: var(--fill-color);\n",
              "      border-top-color: var(--fill-color);\n",
              "      border-right-color: var(--fill-color);\n",
              "    }\n",
              "    40% {\n",
              "      border-color: transparent;\n",
              "      border-right-color: var(--fill-color);\n",
              "      border-top-color: var(--fill-color);\n",
              "    }\n",
              "    60% {\n",
              "      border-color: transparent;\n",
              "      border-right-color: var(--fill-color);\n",
              "    }\n",
              "    80% {\n",
              "      border-color: transparent;\n",
              "      border-right-color: var(--fill-color);\n",
              "      border-bottom-color: var(--fill-color);\n",
              "    }\n",
              "    90% {\n",
              "      border-color: transparent;\n",
              "      border-bottom-color: var(--fill-color);\n",
              "    }\n",
              "  }\n",
              "</style>\n",
              "\n",
              "      <script>\n",
              "        async function quickchart(key) {\n",
              "          const quickchartButtonEl =\n",
              "            document.querySelector('#' + key + ' button');\n",
              "          quickchartButtonEl.disabled = true;  // To prevent multiple clicks.\n",
              "          quickchartButtonEl.classList.add('colab-df-spinner');\n",
              "          try {\n",
              "            const charts = await google.colab.kernel.invokeFunction(\n",
              "                'suggestCharts', [key], {});\n",
              "          } catch (error) {\n",
              "            console.error('Error during call to suggestCharts:', error);\n",
              "          }\n",
              "          quickchartButtonEl.classList.remove('colab-df-spinner');\n",
              "          quickchartButtonEl.classList.add('colab-df-quickchart-complete');\n",
              "        }\n",
              "        (() => {\n",
              "          let quickchartButtonEl =\n",
              "            document.querySelector('#df-304e1ab9-1186-4d88-bf4c-2783b02a0fd7 button');\n",
              "          quickchartButtonEl.style.display =\n",
              "            google.colab.kernel.accessAllowed ? 'block' : 'none';\n",
              "        })();\n",
              "      </script>\n",
              "    </div>\n",
              "\n",
              "    </div>\n",
              "  </div>\n"
            ],
            "text/plain": [
              "       nombre_programa nombre_paquete          nombre_segmento nombre_agencia  \\\n",
              "count           203002         203002                   203002         203002   \n",
              "unique               2              6                       20            112   \n",
              "top            Ninguno        Walk In  Tour Operators Domestic   Hoteles S.a.   \n",
              "freq            202510         117658                    73098          42342   \n",
              "\n",
              "       ciudad_agencia entidad_federativa_agencia pais_agencia nombre_empresa  \\\n",
              "count          203002                     203002       203002         203002   \n",
              "unique             56                         23            5              1   \n",
              "top           Morelia                  Michoacán       México        Hotel 1   \n",
              "freq            60055                      62725       192788         203002   \n",
              "\n",
              "       nombre_tipo_habitacion clasificacion_tipo_habitacion  \\\n",
              "count                  203002                        202992   \n",
              "unique                     28                            11   \n",
              "top         Luxury 2q Sn12gsu                           Gsu   \n",
              "freq                    52796                         80304   \n",
              "\n",
              "               nombre_canal nombre_pais_origen nombre_estatus_reservacion  \\\n",
              "count                203002             203002                     203002   \n",
              "unique                   14                  4                          8   \n",
              "top     Lada 800 Nacional68             Mexico                     Salida   \n",
              "freq                  82255             201504                     131069   \n",
              "\n",
              "       clave_estado nombre_estado  \n",
              "count        203002        203000  \n",
              "unique          148           144  \n",
              "top             Egr      Guerrero  \n",
              "freq          62426         62426  "
            ]
          },
          "execution_count": 11,
          "metadata": {},
          "output_type": "execute_result"
        }
      ],
      "source": [
        "df_fe[categorical_columns].describe()"
      ]
    },
    {
      "cell_type": "markdown",
      "metadata": {
        "id": "yThmv3NTXozO"
      },
      "source": [
        "**1. One Hot Encoding** (Low cardinality)\n",
        "\n",
        "* `nombre_programa`\n",
        "* `nombre_paquete\t`\n",
        "* `nombre_segmento`\n",
        "* `nombre_canal`\n",
        "* `nombre_pais_origen`\n",
        "* `nombre_estatus_reservacion`\n",
        "* `pais_agencia`\n",
        "* `clasificacion_tipo_habitacion`\n",
        "\n",
        "**2. Target Encoding** (High Cardinality)\n",
        "* `nombre_agencia`\n",
        "* `ciudad_agencia`\n",
        "* `entidad_federativa_agencia`\n",
        "* `nombre_estado`\n",
        "\n",
        "\n",
        "**3. Drop name_column and keep id_column or other column (label_encoding)**\n",
        "* `clave_estado`\n",
        "* `nombre_empresa` (only 1 value, just drop)\n",
        "\n",
        "\n"
      ]
    },
    {
      "cell_type": "markdown",
      "metadata": {
        "id": "Xy6x3h0cZmRo"
      },
      "source": [
        "### 1. One Hot Encoding"
      ]
    },
    {
      "cell_type": "code",
      "execution_count": null,
      "metadata": {
        "id": "JFqWgvyzXoFv"
      },
      "outputs": [],
      "source": [
        "df_ohe = df_fe.copy()\n",
        "ohe_columns = [\"nombre_programa\",\n",
        "                \"nombre_paquete\",\n",
        "                \"nombre_segmento\",\n",
        "                \"nombre_canal\",\n",
        "                \"nombre_pais_origen\",\n",
        "                \"nombre_estatus_reservacion\",\n",
        "                \"pais_agencia\",\n",
        "                \"clasificacion_tipo_habitacion\"]\n",
        "\n",
        "df_ohe = pd.get_dummies(df_fe, columns=ohe_columns, drop_first=True)"
      ]
    },
    {
      "cell_type": "markdown",
      "metadata": {
        "id": "fE1yfvqBa2wo"
      },
      "source": [
        "### 2. Target Encoding\n",
        "\n",
        "For each category of the categorical variable, you calculate the mean of the binary target (i.e., the proportion of positive cases, for example, cancellations = True).\n",
        "\n",
        "This mean is used to code all rows with that category.\n",
        "\n",
        "For example, if agency \"Agency A\" has a 30% cancellation rate, all rows with that agency are coded as 0.3.\n",
        "\n",
        "***Ignoring data leakage risk for using the entire dataset.***"
      ]
    },
    {
      "cell_type": "code",
      "execution_count": null,
      "metadata": {
        "colab": {
          "base_uri": "https://localhost:8080/",
          "height": 342
        },
        "id": "bYgVF09Baulz",
        "outputId": "bebf09d9-5924-4128-c63a-fde49e19a4c0"
      },
      "outputs": [
        {
          "data": {
            "application/vnd.google.colaboratory.intrinsic+json": {
              "type": "dataframe",
              "variable_name": "df_te"
            },
            "text/html": [
              "\n",
              "  <div id=\"df-8b22aecc-d70d-475a-b79e-08b03008ee84\" class=\"colab-df-container\">\n",
              "    <div>\n",
              "<style scoped>\n",
              "    .dataframe tbody tr th:only-of-type {\n",
              "        vertical-align: middle;\n",
              "    }\n",
              "\n",
              "    .dataframe tbody tr th {\n",
              "        vertical-align: top;\n",
              "    }\n",
              "\n",
              "    .dataframe thead th {\n",
              "        text-align: right;\n",
              "    }\n",
              "</style>\n",
              "<table border=\"1\" class=\"dataframe\">\n",
              "  <thead>\n",
              "    <tr style=\"text-align: right;\">\n",
              "      <th></th>\n",
              "      <th>id_reservaciones</th>\n",
              "      <th>fecha_hoy</th>\n",
              "      <th>fecha_reservacion</th>\n",
              "      <th>fecha_llegada</th>\n",
              "      <th>fecha_salida</th>\n",
              "      <th>numero_personas</th>\n",
              "      <th>numero_personas_anio_anterior</th>\n",
              "      <th>numero_adultos</th>\n",
              "      <th>numero_adultos_anio_anterior</th>\n",
              "      <th>numero_menores</th>\n",
              "      <th>...</th>\n",
              "      <th>clasificacion_tipo_habitacion_Ast</th>\n",
              "      <th>clasificacion_tipo_habitacion_Gms</th>\n",
              "      <th>clasificacion_tipo_habitacion_Gsp</th>\n",
              "      <th>clasificacion_tipo_habitacion_Gsu</th>\n",
              "      <th>clasificacion_tipo_habitacion_Mjs</th>\n",
              "      <th>clasificacion_tipo_habitacion_Mst</th>\n",
              "      <th>nombre_agencia_te</th>\n",
              "      <th>ciudad_agencia_te</th>\n",
              "      <th>entidad_federativa_agencia_te</th>\n",
              "      <th>nombre_estado_te</th>\n",
              "    </tr>\n",
              "  </thead>\n",
              "  <tbody>\n",
              "    <tr>\n",
              "      <th>0</th>\n",
              "      <td>0</td>\n",
              "      <td>2019-08-16</td>\n",
              "      <td>2019-08-16</td>\n",
              "      <td>2019-07-11</td>\n",
              "      <td>2019-10-11</td>\n",
              "      <td>2</td>\n",
              "      <td>0</td>\n",
              "      <td>2</td>\n",
              "      <td>0</td>\n",
              "      <td>0</td>\n",
              "      <td>...</td>\n",
              "      <td>False</td>\n",
              "      <td>False</td>\n",
              "      <td>False</td>\n",
              "      <td>False</td>\n",
              "      <td>False</td>\n",
              "      <td>True</td>\n",
              "      <td>0.214161</td>\n",
              "      <td>0.265707</td>\n",
              "      <td>0.230249</td>\n",
              "      <td>0.122216</td>\n",
              "    </tr>\n",
              "    <tr>\n",
              "      <th>1</th>\n",
              "      <td>1</td>\n",
              "      <td>2019-10-22</td>\n",
              "      <td>2019-10-22</td>\n",
              "      <td>2019-01-12</td>\n",
              "      <td>2019-05-12</td>\n",
              "      <td>4</td>\n",
              "      <td>0</td>\n",
              "      <td>4</td>\n",
              "      <td>0</td>\n",
              "      <td>0</td>\n",
              "      <td>...</td>\n",
              "      <td>False</td>\n",
              "      <td>False</td>\n",
              "      <td>False</td>\n",
              "      <td>False</td>\n",
              "      <td>False</td>\n",
              "      <td>True</td>\n",
              "      <td>0.214161</td>\n",
              "      <td>0.265707</td>\n",
              "      <td>0.230249</td>\n",
              "      <td>0.063040</td>\n",
              "    </tr>\n",
              "    <tr>\n",
              "      <th>2</th>\n",
              "      <td>2</td>\n",
              "      <td>2019-10-28</td>\n",
              "      <td>2019-10-28</td>\n",
              "      <td>2019-01-12</td>\n",
              "      <td>2019-05-12</td>\n",
              "      <td>2</td>\n",
              "      <td>0</td>\n",
              "      <td>2</td>\n",
              "      <td>0</td>\n",
              "      <td>0</td>\n",
              "      <td>...</td>\n",
              "      <td>False</td>\n",
              "      <td>False</td>\n",
              "      <td>False</td>\n",
              "      <td>False</td>\n",
              "      <td>True</td>\n",
              "      <td>False</td>\n",
              "      <td>0.214161</td>\n",
              "      <td>0.265707</td>\n",
              "      <td>0.230249</td>\n",
              "      <td>0.048726</td>\n",
              "    </tr>\n",
              "    <tr>\n",
              "      <th>3</th>\n",
              "      <td>3</td>\n",
              "      <td>2019-10-28</td>\n",
              "      <td>2019-10-28</td>\n",
              "      <td>2019-08-12</td>\n",
              "      <td>2019-11-12</td>\n",
              "      <td>4</td>\n",
              "      <td>0</td>\n",
              "      <td>3</td>\n",
              "      <td>0</td>\n",
              "      <td>0</td>\n",
              "      <td>...</td>\n",
              "      <td>False</td>\n",
              "      <td>False</td>\n",
              "      <td>False</td>\n",
              "      <td>False</td>\n",
              "      <td>True</td>\n",
              "      <td>False</td>\n",
              "      <td>0.214161</td>\n",
              "      <td>0.265707</td>\n",
              "      <td>0.230249</td>\n",
              "      <td>0.063040</td>\n",
              "    </tr>\n",
              "    <tr>\n",
              "      <th>4</th>\n",
              "      <td>4</td>\n",
              "      <td>2019-10-28</td>\n",
              "      <td>2019-10-28</td>\n",
              "      <td>2019-08-12</td>\n",
              "      <td>2019-12-12</td>\n",
              "      <td>2</td>\n",
              "      <td>0</td>\n",
              "      <td>2</td>\n",
              "      <td>0</td>\n",
              "      <td>0</td>\n",
              "      <td>...</td>\n",
              "      <td>False</td>\n",
              "      <td>False</td>\n",
              "      <td>False</td>\n",
              "      <td>True</td>\n",
              "      <td>False</td>\n",
              "      <td>False</td>\n",
              "      <td>0.263111</td>\n",
              "      <td>0.226333</td>\n",
              "      <td>0.219870</td>\n",
              "      <td>0.122216</td>\n",
              "    </tr>\n",
              "  </tbody>\n",
              "</table>\n",
              "<p>5 rows × 105 columns</p>\n",
              "</div>\n",
              "    <div class=\"colab-df-buttons\">\n",
              "\n",
              "  <div class=\"colab-df-container\">\n",
              "    <button class=\"colab-df-convert\" onclick=\"convertToInteractive('df-8b22aecc-d70d-475a-b79e-08b03008ee84')\"\n",
              "            title=\"Convert this dataframe to an interactive table.\"\n",
              "            style=\"display:none;\">\n",
              "\n",
              "  <svg xmlns=\"http://www.w3.org/2000/svg\" height=\"24px\" viewBox=\"0 -960 960 960\">\n",
              "    <path d=\"M120-120v-720h720v720H120Zm60-500h600v-160H180v160Zm220 220h160v-160H400v160Zm0 220h160v-160H400v160ZM180-400h160v-160H180v160Zm440 0h160v-160H620v160ZM180-180h160v-160H180v160Zm440 0h160v-160H620v160Z\"/>\n",
              "  </svg>\n",
              "    </button>\n",
              "\n",
              "  <style>\n",
              "    .colab-df-container {\n",
              "      display:flex;\n",
              "      gap: 12px;\n",
              "    }\n",
              "\n",
              "    .colab-df-convert {\n",
              "      background-color: #E8F0FE;\n",
              "      border: none;\n",
              "      border-radius: 50%;\n",
              "      cursor: pointer;\n",
              "      display: none;\n",
              "      fill: #1967D2;\n",
              "      height: 32px;\n",
              "      padding: 0 0 0 0;\n",
              "      width: 32px;\n",
              "    }\n",
              "\n",
              "    .colab-df-convert:hover {\n",
              "      background-color: #E2EBFA;\n",
              "      box-shadow: 0px 1px 2px rgba(60, 64, 67, 0.3), 0px 1px 3px 1px rgba(60, 64, 67, 0.15);\n",
              "      fill: #174EA6;\n",
              "    }\n",
              "\n",
              "    .colab-df-buttons div {\n",
              "      margin-bottom: 4px;\n",
              "    }\n",
              "\n",
              "    [theme=dark] .colab-df-convert {\n",
              "      background-color: #3B4455;\n",
              "      fill: #D2E3FC;\n",
              "    }\n",
              "\n",
              "    [theme=dark] .colab-df-convert:hover {\n",
              "      background-color: #434B5C;\n",
              "      box-shadow: 0px 1px 3px 1px rgba(0, 0, 0, 0.15);\n",
              "      filter: drop-shadow(0px 1px 2px rgba(0, 0, 0, 0.3));\n",
              "      fill: #FFFFFF;\n",
              "    }\n",
              "  </style>\n",
              "\n",
              "    <script>\n",
              "      const buttonEl =\n",
              "        document.querySelector('#df-8b22aecc-d70d-475a-b79e-08b03008ee84 button.colab-df-convert');\n",
              "      buttonEl.style.display =\n",
              "        google.colab.kernel.accessAllowed ? 'block' : 'none';\n",
              "\n",
              "      async function convertToInteractive(key) {\n",
              "        const element = document.querySelector('#df-8b22aecc-d70d-475a-b79e-08b03008ee84');\n",
              "        const dataTable =\n",
              "          await google.colab.kernel.invokeFunction('convertToInteractive',\n",
              "                                                    [key], {});\n",
              "        if (!dataTable) return;\n",
              "\n",
              "        const docLinkHtml = 'Like what you see? Visit the ' +\n",
              "          '<a target=\"_blank\" href=https://colab.research.google.com/notebooks/data_table.ipynb>data table notebook</a>'\n",
              "          + ' to learn more about interactive tables.';\n",
              "        element.innerHTML = '';\n",
              "        dataTable['output_type'] = 'display_data';\n",
              "        await google.colab.output.renderOutput(dataTable, element);\n",
              "        const docLink = document.createElement('div');\n",
              "        docLink.innerHTML = docLinkHtml;\n",
              "        element.appendChild(docLink);\n",
              "      }\n",
              "    </script>\n",
              "  </div>\n",
              "\n",
              "\n",
              "    <div id=\"df-e656d506-5c76-4d3a-9c05-8755e6cb00bf\">\n",
              "      <button class=\"colab-df-quickchart\" onclick=\"quickchart('df-e656d506-5c76-4d3a-9c05-8755e6cb00bf')\"\n",
              "                title=\"Suggest charts\"\n",
              "                style=\"display:none;\">\n",
              "\n",
              "<svg xmlns=\"http://www.w3.org/2000/svg\" height=\"24px\"viewBox=\"0 0 24 24\"\n",
              "     width=\"24px\">\n",
              "    <g>\n",
              "        <path d=\"M19 3H5c-1.1 0-2 .9-2 2v14c0 1.1.9 2 2 2h14c1.1 0 2-.9 2-2V5c0-1.1-.9-2-2-2zM9 17H7v-7h2v7zm4 0h-2V7h2v10zm4 0h-2v-4h2v4z\"/>\n",
              "    </g>\n",
              "</svg>\n",
              "      </button>\n",
              "\n",
              "<style>\n",
              "  .colab-df-quickchart {\n",
              "      --bg-color: #E8F0FE;\n",
              "      --fill-color: #1967D2;\n",
              "      --hover-bg-color: #E2EBFA;\n",
              "      --hover-fill-color: #174EA6;\n",
              "      --disabled-fill-color: #AAA;\n",
              "      --disabled-bg-color: #DDD;\n",
              "  }\n",
              "\n",
              "  [theme=dark] .colab-df-quickchart {\n",
              "      --bg-color: #3B4455;\n",
              "      --fill-color: #D2E3FC;\n",
              "      --hover-bg-color: #434B5C;\n",
              "      --hover-fill-color: #FFFFFF;\n",
              "      --disabled-bg-color: #3B4455;\n",
              "      --disabled-fill-color: #666;\n",
              "  }\n",
              "\n",
              "  .colab-df-quickchart {\n",
              "    background-color: var(--bg-color);\n",
              "    border: none;\n",
              "    border-radius: 50%;\n",
              "    cursor: pointer;\n",
              "    display: none;\n",
              "    fill: var(--fill-color);\n",
              "    height: 32px;\n",
              "    padding: 0;\n",
              "    width: 32px;\n",
              "  }\n",
              "\n",
              "  .colab-df-quickchart:hover {\n",
              "    background-color: var(--hover-bg-color);\n",
              "    box-shadow: 0 1px 2px rgba(60, 64, 67, 0.3), 0 1px 3px 1px rgba(60, 64, 67, 0.15);\n",
              "    fill: var(--button-hover-fill-color);\n",
              "  }\n",
              "\n",
              "  .colab-df-quickchart-complete:disabled,\n",
              "  .colab-df-quickchart-complete:disabled:hover {\n",
              "    background-color: var(--disabled-bg-color);\n",
              "    fill: var(--disabled-fill-color);\n",
              "    box-shadow: none;\n",
              "  }\n",
              "\n",
              "  .colab-df-spinner {\n",
              "    border: 2px solid var(--fill-color);\n",
              "    border-color: transparent;\n",
              "    border-bottom-color: var(--fill-color);\n",
              "    animation:\n",
              "      spin 1s steps(1) infinite;\n",
              "  }\n",
              "\n",
              "  @keyframes spin {\n",
              "    0% {\n",
              "      border-color: transparent;\n",
              "      border-bottom-color: var(--fill-color);\n",
              "      border-left-color: var(--fill-color);\n",
              "    }\n",
              "    20% {\n",
              "      border-color: transparent;\n",
              "      border-left-color: var(--fill-color);\n",
              "      border-top-color: var(--fill-color);\n",
              "    }\n",
              "    30% {\n",
              "      border-color: transparent;\n",
              "      border-left-color: var(--fill-color);\n",
              "      border-top-color: var(--fill-color);\n",
              "      border-right-color: var(--fill-color);\n",
              "    }\n",
              "    40% {\n",
              "      border-color: transparent;\n",
              "      border-right-color: var(--fill-color);\n",
              "      border-top-color: var(--fill-color);\n",
              "    }\n",
              "    60% {\n",
              "      border-color: transparent;\n",
              "      border-right-color: var(--fill-color);\n",
              "    }\n",
              "    80% {\n",
              "      border-color: transparent;\n",
              "      border-right-color: var(--fill-color);\n",
              "      border-bottom-color: var(--fill-color);\n",
              "    }\n",
              "    90% {\n",
              "      border-color: transparent;\n",
              "      border-bottom-color: var(--fill-color);\n",
              "    }\n",
              "  }\n",
              "</style>\n",
              "\n",
              "      <script>\n",
              "        async function quickchart(key) {\n",
              "          const quickchartButtonEl =\n",
              "            document.querySelector('#' + key + ' button');\n",
              "          quickchartButtonEl.disabled = true;  // To prevent multiple clicks.\n",
              "          quickchartButtonEl.classList.add('colab-df-spinner');\n",
              "          try {\n",
              "            const charts = await google.colab.kernel.invokeFunction(\n",
              "                'suggestCharts', [key], {});\n",
              "          } catch (error) {\n",
              "            console.error('Error during call to suggestCharts:', error);\n",
              "          }\n",
              "          quickchartButtonEl.classList.remove('colab-df-spinner');\n",
              "          quickchartButtonEl.classList.add('colab-df-quickchart-complete');\n",
              "        }\n",
              "        (() => {\n",
              "          let quickchartButtonEl =\n",
              "            document.querySelector('#df-e656d506-5c76-4d3a-9c05-8755e6cb00bf button');\n",
              "          quickchartButtonEl.style.display =\n",
              "            google.colab.kernel.accessAllowed ? 'block' : 'none';\n",
              "        })();\n",
              "      </script>\n",
              "    </div>\n",
              "\n",
              "    </div>\n",
              "  </div>\n"
            ],
            "text/plain": [
              "   id_reservaciones  fecha_hoy fecha_reservacion fecha_llegada fecha_salida  \\\n",
              "0                 0 2019-08-16        2019-08-16    2019-07-11   2019-10-11   \n",
              "1                 1 2019-10-22        2019-10-22    2019-01-12   2019-05-12   \n",
              "2                 2 2019-10-28        2019-10-28    2019-01-12   2019-05-12   \n",
              "3                 3 2019-10-28        2019-10-28    2019-08-12   2019-11-12   \n",
              "4                 4 2019-10-28        2019-10-28    2019-08-12   2019-12-12   \n",
              "\n",
              "   numero_personas  numero_personas_anio_anterior  numero_adultos  \\\n",
              "0                2                              0               2   \n",
              "1                4                              0               4   \n",
              "2                2                              0               2   \n",
              "3                4                              0               3   \n",
              "4                2                              0               2   \n",
              "\n",
              "   numero_adultos_anio_anterior  numero_menores  ...  \\\n",
              "0                             0               0  ...   \n",
              "1                             0               0  ...   \n",
              "2                             0               0  ...   \n",
              "3                             0               0  ...   \n",
              "4                             0               0  ...   \n",
              "\n",
              "   clasificacion_tipo_habitacion_Ast  clasificacion_tipo_habitacion_Gms  \\\n",
              "0                              False                              False   \n",
              "1                              False                              False   \n",
              "2                              False                              False   \n",
              "3                              False                              False   \n",
              "4                              False                              False   \n",
              "\n",
              "   clasificacion_tipo_habitacion_Gsp  clasificacion_tipo_habitacion_Gsu  \\\n",
              "0                              False                              False   \n",
              "1                              False                              False   \n",
              "2                              False                              False   \n",
              "3                              False                              False   \n",
              "4                              False                               True   \n",
              "\n",
              "   clasificacion_tipo_habitacion_Mjs  clasificacion_tipo_habitacion_Mst  \\\n",
              "0                              False                               True   \n",
              "1                              False                               True   \n",
              "2                               True                              False   \n",
              "3                               True                              False   \n",
              "4                              False                              False   \n",
              "\n",
              "   nombre_agencia_te  ciudad_agencia_te  entidad_federativa_agencia_te  \\\n",
              "0           0.214161           0.265707                       0.230249   \n",
              "1           0.214161           0.265707                       0.230249   \n",
              "2           0.214161           0.265707                       0.230249   \n",
              "3           0.214161           0.265707                       0.230249   \n",
              "4           0.263111           0.226333                       0.219870   \n",
              "\n",
              "   nombre_estado_te  \n",
              "0          0.122216  \n",
              "1          0.063040  \n",
              "2          0.048726  \n",
              "3          0.063040  \n",
              "4          0.122216  \n",
              "\n",
              "[5 rows x 105 columns]"
            ]
          },
          "execution_count": 13,
          "metadata": {},
          "output_type": "execute_result"
        }
      ],
      "source": [
        "df_te = df_ohe.copy()\n",
        "\n",
        "te_columns = [\"nombre_agencia\",\n",
        "              \"ciudad_agencia\",\n",
        "              \"entidad_federativa_agencia\",\n",
        "              \"nombre_estado\"]\n",
        "\n",
        "for col in te_columns:\n",
        "  encoder = TargetEncoder(cols=[col], smoothing=3)\n",
        "  encoder.fit(df_te[col], df_te['cancelacion'])\n",
        "  df_te[col + '_te'] = encoder.transform(df_te[col])\n",
        "  df_te.drop(col, axis=1, inplace=True)\n",
        "\n",
        "df_te.head()"
      ]
    },
    {
      "cell_type": "markdown",
      "metadata": {
        "id": "DjJEZ7Pqf5UR"
      },
      "source": [
        "### 3. Drop columns\n"
      ]
    },
    {
      "cell_type": "code",
      "execution_count": null,
      "metadata": {
        "id": "E1WmEHNvf_Kf"
      },
      "outputs": [],
      "source": [
        "df_dc = df_te.copy()\n",
        "\n",
        "drop_columns = ['clave_estado', 'nombre_empresa', 'nombre_tipo_habitacion']\n",
        "\n",
        "df_dc = df_dc.drop(drop_columns, axis=1)"
      ]
    },
    {
      "cell_type": "markdown",
      "metadata": {
        "id": "ykhYMQYRhONR"
      },
      "source": [
        "**Scaling**"
      ]
    },
    {
      "cell_type": "markdown",
      "metadata": {
        "id": "sZy2JqyJhR3u"
      },
      "source": [
        "### Scaling numeric variables\n",
        "\n",
        "* Robust Scaling: For handling outliers\n",
        "* MinMax Scaler: For having a range between 0 and 1.\n",
        "* Standard Scaler: When the variable has a normal distribution."
      ]
    },
    {
      "cell_type": "code",
      "execution_count": null,
      "metadata": {
        "colab": {
          "base_uri": "https://localhost:8080/"
        },
        "id": "4IuqnHSQydnF",
        "outputId": "c60a69ef-dbc7-46e9-a387-4b45cf1610b1"
      },
      "outputs": [
        {
          "name": "stdout",
          "output_type": "stream",
          "text": [
            "<class 'pandas.core.frame.DataFrame'>\n",
            "RangeIndex: 203002 entries, 0 to 203001\n",
            "Columns: 102 entries, id_reservaciones to nombre_estado_te\n",
            "dtypes: bool(66), datetime64[ns](5), float64(7), int64(24)\n",
            "memory usage: 68.5 MB\n"
          ]
        }
      ],
      "source": [
        "df_dc.info()"
      ]
    },
    {
      "cell_type": "code",
      "execution_count": null,
      "metadata": {
        "colab": {
          "base_uri": "https://localhost:8080/",
          "height": 453
        },
        "id": "5sq3U8cbhPvi",
        "outputId": "16c20690-def4-41b7-f19c-4ee6ff44b602"
      },
      "outputs": [
        {
          "data": {
            "application/vnd.google.colaboratory.intrinsic+json": {
              "type": "dataframe"
            },
            "text/html": [
              "\n",
              "  <div id=\"df-c75703f3-a239-4d71-baf1-815cfc70e4e5\" class=\"colab-df-container\">\n",
              "    <div>\n",
              "<style scoped>\n",
              "    .dataframe tbody tr th:only-of-type {\n",
              "        vertical-align: middle;\n",
              "    }\n",
              "\n",
              "    .dataframe tbody tr th {\n",
              "        vertical-align: top;\n",
              "    }\n",
              "\n",
              "    .dataframe thead th {\n",
              "        text-align: right;\n",
              "    }\n",
              "</style>\n",
              "<table border=\"1\" class=\"dataframe\">\n",
              "  <thead>\n",
              "    <tr style=\"text-align: right;\">\n",
              "      <th></th>\n",
              "      <th>id_reservaciones</th>\n",
              "      <th>fecha_hoy</th>\n",
              "      <th>fecha_reservacion</th>\n",
              "      <th>fecha_llegada</th>\n",
              "      <th>fecha_salida</th>\n",
              "      <th>numero_personas</th>\n",
              "      <th>numero_personas_anio_anterior</th>\n",
              "      <th>numero_adultos</th>\n",
              "      <th>numero_adultos_anio_anterior</th>\n",
              "      <th>numero_menores</th>\n",
              "      <th>...</th>\n",
              "      <th>total_tarifa</th>\n",
              "      <th>id_moneda</th>\n",
              "      <th>fecha_ultimo_cambio</th>\n",
              "      <th>id_cliente_disp</th>\n",
              "      <th>cliente_disp_anio_anterior</th>\n",
              "      <th>dias_anticipacion</th>\n",
              "      <th>nombre_agencia_te</th>\n",
              "      <th>ciudad_agencia_te</th>\n",
              "      <th>entidad_federativa_agencia_te</th>\n",
              "      <th>nombre_estado_te</th>\n",
              "    </tr>\n",
              "  </thead>\n",
              "  <tbody>\n",
              "    <tr>\n",
              "      <th>count</th>\n",
              "      <td>2.030020e+05</td>\n",
              "      <td>203002</td>\n",
              "      <td>203002</td>\n",
              "      <td>203000</td>\n",
              "      <td>202968</td>\n",
              "      <td>203002.000000</td>\n",
              "      <td>203002.000000</td>\n",
              "      <td>203002.000000</td>\n",
              "      <td>203002.000000</td>\n",
              "      <td>203002.000000</td>\n",
              "      <td>...</td>\n",
              "      <td>203002.000000</td>\n",
              "      <td>203002.0</td>\n",
              "      <td>202505</td>\n",
              "      <td>203002.000000</td>\n",
              "      <td>203002.000000</td>\n",
              "      <td>203000.000000</td>\n",
              "      <td>203002.000000</td>\n",
              "      <td>203002.000000</td>\n",
              "      <td>203002.000000</td>\n",
              "      <td>203002.000000</td>\n",
              "    </tr>\n",
              "    <tr>\n",
              "      <th>mean</th>\n",
              "      <td>1.120056e-16</td>\n",
              "      <td>2020-02-26 00:45:45.620239872</td>\n",
              "      <td>2019-08-28 09:57:46.712643072</td>\n",
              "      <td>2019-11-01 22:33:56.855172352</td>\n",
              "      <td>2019-11-08 17:20:49.804895232</td>\n",
              "      <td>0.092933</td>\n",
              "      <td>0.585275</td>\n",
              "      <td>0.047354</td>\n",
              "      <td>0.539847</td>\n",
              "      <td>0.034108</td>\n",
              "      <td>...</td>\n",
              "      <td>0.540928</td>\n",
              "      <td>0.0</td>\n",
              "      <td>2019-10-08 05:21:16.324041728</td>\n",
              "      <td>0.047354</td>\n",
              "      <td>0.539847</td>\n",
              "      <td>0.116361</td>\n",
              "      <td>-0.136204</td>\n",
              "      <td>-0.191515</td>\n",
              "      <td>-0.102496</td>\n",
              "      <td>0.301137</td>\n",
              "    </tr>\n",
              "    <tr>\n",
              "      <th>min</th>\n",
              "      <td>-1.000000e+00</td>\n",
              "      <td>2019-01-02 00:00:00</td>\n",
              "      <td>2019-01-02 00:00:00</td>\n",
              "      <td>2019-01-03 00:00:00</td>\n",
              "      <td>2019-01-03 00:00:00</td>\n",
              "      <td>-0.500000</td>\n",
              "      <td>0.000000</td>\n",
              "      <td>-0.500000</td>\n",
              "      <td>0.000000</td>\n",
              "      <td>0.000000</td>\n",
              "      <td>...</td>\n",
              "      <td>-4.071391</td>\n",
              "      <td>0.0</td>\n",
              "      <td>2019-01-02 00:00:00</td>\n",
              "      <td>-0.500000</td>\n",
              "      <td>0.000000</td>\n",
              "      <td>-2.697183</td>\n",
              "      <td>-1.309202</td>\n",
              "      <td>-1.432964</td>\n",
              "      <td>-1.342847</td>\n",
              "      <td>-0.229686</td>\n",
              "    </tr>\n",
              "    <tr>\n",
              "      <th>25%</th>\n",
              "      <td>-5.000000e-01</td>\n",
              "      <td>2019-08-03 00:00:00</td>\n",
              "      <td>2019-04-16 00:00:00</td>\n",
              "      <td>2019-06-07 00:00:00</td>\n",
              "      <td>2019-06-13 00:00:00</td>\n",
              "      <td>-0.500000</td>\n",
              "      <td>0.000000</td>\n",
              "      <td>-0.500000</td>\n",
              "      <td>0.000000</td>\n",
              "      <td>0.000000</td>\n",
              "      <td>...</td>\n",
              "      <td>0.000000</td>\n",
              "      <td>0.0</td>\n",
              "      <td>2019-06-04 00:00:00</td>\n",
              "      <td>-0.500000</td>\n",
              "      <td>0.000000</td>\n",
              "      <td>-0.345070</td>\n",
              "      <td>-0.777748</td>\n",
              "      <td>-0.719871</td>\n",
              "      <td>-0.601829</td>\n",
              "      <td>-0.072261</td>\n",
              "    </tr>\n",
              "    <tr>\n",
              "      <th>50%</th>\n",
              "      <td>0.000000e+00</td>\n",
              "      <td>2020-02-25 00:00:00</td>\n",
              "      <td>2019-08-03 00:00:00</td>\n",
              "      <td>2019-10-05 00:00:00</td>\n",
              "      <td>2019-10-13 00:00:00</td>\n",
              "      <td>0.000000</td>\n",
              "      <td>0.000000</td>\n",
              "      <td>0.000000</td>\n",
              "      <td>0.000000</td>\n",
              "      <td>0.000000</td>\n",
              "      <td>...</td>\n",
              "      <td>0.000000</td>\n",
              "      <td>0.0</td>\n",
              "      <td>2019-09-30 00:00:00</td>\n",
              "      <td>0.000000</td>\n",
              "      <td>0.000000</td>\n",
              "      <td>0.000000</td>\n",
              "      <td>0.000000</td>\n",
              "      <td>0.000000</td>\n",
              "      <td>0.000000</td>\n",
              "      <td>0.000000</td>\n",
              "    </tr>\n",
              "    <tr>\n",
              "      <th>75%</th>\n",
              "      <td>5.000000e-01</td>\n",
              "      <td>2020-08-16 00:00:00</td>\n",
              "      <td>2019-12-27 00:00:00</td>\n",
              "      <td>2020-03-09 00:00:00</td>\n",
              "      <td>2020-03-16 00:00:00</td>\n",
              "      <td>0.500000</td>\n",
              "      <td>1.000000</td>\n",
              "      <td>0.500000</td>\n",
              "      <td>1.000000</td>\n",
              "      <td>0.000000</td>\n",
              "      <td>...</td>\n",
              "      <td>1.000000</td>\n",
              "      <td>0.0</td>\n",
              "      <td>2020-01-30 00:00:00</td>\n",
              "      <td>0.500000</td>\n",
              "      <td>1.000000</td>\n",
              "      <td>0.654930</td>\n",
              "      <td>0.222252</td>\n",
              "      <td>0.280129</td>\n",
              "      <td>0.398171</td>\n",
              "      <td>0.927739</td>\n",
              "    </tr>\n",
              "    <tr>\n",
              "      <th>max</th>\n",
              "      <td>1.000000e+00</td>\n",
              "      <td>2021-12-03 00:00:00</td>\n",
              "      <td>2020-12-04 00:00:00</td>\n",
              "      <td>2021-12-06 00:00:00</td>\n",
              "      <td>2021-12-06 00:00:00</td>\n",
              "      <td>15.500000</td>\n",
              "      <td>16.000000</td>\n",
              "      <td>7.000000</td>\n",
              "      <td>7.500000</td>\n",
              "      <td>15.000000</td>\n",
              "      <td>...</td>\n",
              "      <td>136.071654</td>\n",
              "      <td>0.0</td>\n",
              "      <td>2020-12-07 00:00:00</td>\n",
              "      <td>7.000000</td>\n",
              "      <td>7.500000</td>\n",
              "      <td>4.866197</td>\n",
              "      <td>3.115129</td>\n",
              "      <td>2.776475</td>\n",
              "      <td>2.862459</td>\n",
              "      <td>1.963234</td>\n",
              "    </tr>\n",
              "    <tr>\n",
              "      <th>std</th>\n",
              "      <td>5.773545e-01</td>\n",
              "      <td>NaN</td>\n",
              "      <td>NaN</td>\n",
              "      <td>NaN</td>\n",
              "      <td>NaN</td>\n",
              "      <td>0.684814</td>\n",
              "      <td>0.684036</td>\n",
              "      <td>0.603538</td>\n",
              "      <td>0.602347</td>\n",
              "      <td>0.265187</td>\n",
              "      <td>...</td>\n",
              "      <td>0.856389</td>\n",
              "      <td>0.0</td>\n",
              "      <td>NaN</td>\n",
              "      <td>0.603538</td>\n",
              "      <td>0.602347</td>\n",
              "      <td>0.969166</td>\n",
              "      <td>0.635548</td>\n",
              "      <td>0.586306</td>\n",
              "      <td>0.467295</td>\n",
              "      <td>0.467171</td>\n",
              "    </tr>\n",
              "  </tbody>\n",
              "</table>\n",
              "<p>8 rows × 36 columns</p>\n",
              "</div>\n",
              "    <div class=\"colab-df-buttons\">\n",
              "\n",
              "  <div class=\"colab-df-container\">\n",
              "    <button class=\"colab-df-convert\" onclick=\"convertToInteractive('df-c75703f3-a239-4d71-baf1-815cfc70e4e5')\"\n",
              "            title=\"Convert this dataframe to an interactive table.\"\n",
              "            style=\"display:none;\">\n",
              "\n",
              "  <svg xmlns=\"http://www.w3.org/2000/svg\" height=\"24px\" viewBox=\"0 -960 960 960\">\n",
              "    <path d=\"M120-120v-720h720v720H120Zm60-500h600v-160H180v160Zm220 220h160v-160H400v160Zm0 220h160v-160H400v160ZM180-400h160v-160H180v160Zm440 0h160v-160H620v160ZM180-180h160v-160H180v160Zm440 0h160v-160H620v160Z\"/>\n",
              "  </svg>\n",
              "    </button>\n",
              "\n",
              "  <style>\n",
              "    .colab-df-container {\n",
              "      display:flex;\n",
              "      gap: 12px;\n",
              "    }\n",
              "\n",
              "    .colab-df-convert {\n",
              "      background-color: #E8F0FE;\n",
              "      border: none;\n",
              "      border-radius: 50%;\n",
              "      cursor: pointer;\n",
              "      display: none;\n",
              "      fill: #1967D2;\n",
              "      height: 32px;\n",
              "      padding: 0 0 0 0;\n",
              "      width: 32px;\n",
              "    }\n",
              "\n",
              "    .colab-df-convert:hover {\n",
              "      background-color: #E2EBFA;\n",
              "      box-shadow: 0px 1px 2px rgba(60, 64, 67, 0.3), 0px 1px 3px 1px rgba(60, 64, 67, 0.15);\n",
              "      fill: #174EA6;\n",
              "    }\n",
              "\n",
              "    .colab-df-buttons div {\n",
              "      margin-bottom: 4px;\n",
              "    }\n",
              "\n",
              "    [theme=dark] .colab-df-convert {\n",
              "      background-color: #3B4455;\n",
              "      fill: #D2E3FC;\n",
              "    }\n",
              "\n",
              "    [theme=dark] .colab-df-convert:hover {\n",
              "      background-color: #434B5C;\n",
              "      box-shadow: 0px 1px 3px 1px rgba(0, 0, 0, 0.15);\n",
              "      filter: drop-shadow(0px 1px 2px rgba(0, 0, 0, 0.3));\n",
              "      fill: #FFFFFF;\n",
              "    }\n",
              "  </style>\n",
              "\n",
              "    <script>\n",
              "      const buttonEl =\n",
              "        document.querySelector('#df-c75703f3-a239-4d71-baf1-815cfc70e4e5 button.colab-df-convert');\n",
              "      buttonEl.style.display =\n",
              "        google.colab.kernel.accessAllowed ? 'block' : 'none';\n",
              "\n",
              "      async function convertToInteractive(key) {\n",
              "        const element = document.querySelector('#df-c75703f3-a239-4d71-baf1-815cfc70e4e5');\n",
              "        const dataTable =\n",
              "          await google.colab.kernel.invokeFunction('convertToInteractive',\n",
              "                                                    [key], {});\n",
              "        if (!dataTable) return;\n",
              "\n",
              "        const docLinkHtml = 'Like what you see? Visit the ' +\n",
              "          '<a target=\"_blank\" href=https://colab.research.google.com/notebooks/data_table.ipynb>data table notebook</a>'\n",
              "          + ' to learn more about interactive tables.';\n",
              "        element.innerHTML = '';\n",
              "        dataTable['output_type'] = 'display_data';\n",
              "        await google.colab.output.renderOutput(dataTable, element);\n",
              "        const docLink = document.createElement('div');\n",
              "        docLink.innerHTML = docLinkHtml;\n",
              "        element.appendChild(docLink);\n",
              "      }\n",
              "    </script>\n",
              "  </div>\n",
              "\n",
              "\n",
              "    <div id=\"df-6e47fce8-8170-47fb-93e1-0ec8647c21fc\">\n",
              "      <button class=\"colab-df-quickchart\" onclick=\"quickchart('df-6e47fce8-8170-47fb-93e1-0ec8647c21fc')\"\n",
              "                title=\"Suggest charts\"\n",
              "                style=\"display:none;\">\n",
              "\n",
              "<svg xmlns=\"http://www.w3.org/2000/svg\" height=\"24px\"viewBox=\"0 0 24 24\"\n",
              "     width=\"24px\">\n",
              "    <g>\n",
              "        <path d=\"M19 3H5c-1.1 0-2 .9-2 2v14c0 1.1.9 2 2 2h14c1.1 0 2-.9 2-2V5c0-1.1-.9-2-2-2zM9 17H7v-7h2v7zm4 0h-2V7h2v10zm4 0h-2v-4h2v4z\"/>\n",
              "    </g>\n",
              "</svg>\n",
              "      </button>\n",
              "\n",
              "<style>\n",
              "  .colab-df-quickchart {\n",
              "      --bg-color: #E8F0FE;\n",
              "      --fill-color: #1967D2;\n",
              "      --hover-bg-color: #E2EBFA;\n",
              "      --hover-fill-color: #174EA6;\n",
              "      --disabled-fill-color: #AAA;\n",
              "      --disabled-bg-color: #DDD;\n",
              "  }\n",
              "\n",
              "  [theme=dark] .colab-df-quickchart {\n",
              "      --bg-color: #3B4455;\n",
              "      --fill-color: #D2E3FC;\n",
              "      --hover-bg-color: #434B5C;\n",
              "      --hover-fill-color: #FFFFFF;\n",
              "      --disabled-bg-color: #3B4455;\n",
              "      --disabled-fill-color: #666;\n",
              "  }\n",
              "\n",
              "  .colab-df-quickchart {\n",
              "    background-color: var(--bg-color);\n",
              "    border: none;\n",
              "    border-radius: 50%;\n",
              "    cursor: pointer;\n",
              "    display: none;\n",
              "    fill: var(--fill-color);\n",
              "    height: 32px;\n",
              "    padding: 0;\n",
              "    width: 32px;\n",
              "  }\n",
              "\n",
              "  .colab-df-quickchart:hover {\n",
              "    background-color: var(--hover-bg-color);\n",
              "    box-shadow: 0 1px 2px rgba(60, 64, 67, 0.3), 0 1px 3px 1px rgba(60, 64, 67, 0.15);\n",
              "    fill: var(--button-hover-fill-color);\n",
              "  }\n",
              "\n",
              "  .colab-df-quickchart-complete:disabled,\n",
              "  .colab-df-quickchart-complete:disabled:hover {\n",
              "    background-color: var(--disabled-bg-color);\n",
              "    fill: var(--disabled-fill-color);\n",
              "    box-shadow: none;\n",
              "  }\n",
              "\n",
              "  .colab-df-spinner {\n",
              "    border: 2px solid var(--fill-color);\n",
              "    border-color: transparent;\n",
              "    border-bottom-color: var(--fill-color);\n",
              "    animation:\n",
              "      spin 1s steps(1) infinite;\n",
              "  }\n",
              "\n",
              "  @keyframes spin {\n",
              "    0% {\n",
              "      border-color: transparent;\n",
              "      border-bottom-color: var(--fill-color);\n",
              "      border-left-color: var(--fill-color);\n",
              "    }\n",
              "    20% {\n",
              "      border-color: transparent;\n",
              "      border-left-color: var(--fill-color);\n",
              "      border-top-color: var(--fill-color);\n",
              "    }\n",
              "    30% {\n",
              "      border-color: transparent;\n",
              "      border-left-color: var(--fill-color);\n",
              "      border-top-color: var(--fill-color);\n",
              "      border-right-color: var(--fill-color);\n",
              "    }\n",
              "    40% {\n",
              "      border-color: transparent;\n",
              "      border-right-color: var(--fill-color);\n",
              "      border-top-color: var(--fill-color);\n",
              "    }\n",
              "    60% {\n",
              "      border-color: transparent;\n",
              "      border-right-color: var(--fill-color);\n",
              "    }\n",
              "    80% {\n",
              "      border-color: transparent;\n",
              "      border-right-color: var(--fill-color);\n",
              "      border-bottom-color: var(--fill-color);\n",
              "    }\n",
              "    90% {\n",
              "      border-color: transparent;\n",
              "      border-bottom-color: var(--fill-color);\n",
              "    }\n",
              "  }\n",
              "</style>\n",
              "\n",
              "      <script>\n",
              "        async function quickchart(key) {\n",
              "          const quickchartButtonEl =\n",
              "            document.querySelector('#' + key + ' button');\n",
              "          quickchartButtonEl.disabled = true;  // To prevent multiple clicks.\n",
              "          quickchartButtonEl.classList.add('colab-df-spinner');\n",
              "          try {\n",
              "            const charts = await google.colab.kernel.invokeFunction(\n",
              "                'suggestCharts', [key], {});\n",
              "          } catch (error) {\n",
              "            console.error('Error during call to suggestCharts:', error);\n",
              "          }\n",
              "          quickchartButtonEl.classList.remove('colab-df-spinner');\n",
              "          quickchartButtonEl.classList.add('colab-df-quickchart-complete');\n",
              "        }\n",
              "        (() => {\n",
              "          let quickchartButtonEl =\n",
              "            document.querySelector('#df-6e47fce8-8170-47fb-93e1-0ec8647c21fc button');\n",
              "          quickchartButtonEl.style.display =\n",
              "            google.colab.kernel.accessAllowed ? 'block' : 'none';\n",
              "        })();\n",
              "      </script>\n",
              "    </div>\n",
              "\n",
              "    </div>\n",
              "  </div>\n"
            ],
            "text/plain": [
              "       id_reservaciones                      fecha_hoy  \\\n",
              "count      2.030020e+05                         203002   \n",
              "mean       1.120056e-16  2020-02-26 00:45:45.620239872   \n",
              "min       -1.000000e+00            2019-01-02 00:00:00   \n",
              "25%       -5.000000e-01            2019-08-03 00:00:00   \n",
              "50%        0.000000e+00            2020-02-25 00:00:00   \n",
              "75%        5.000000e-01            2020-08-16 00:00:00   \n",
              "max        1.000000e+00            2021-12-03 00:00:00   \n",
              "std        5.773545e-01                            NaN   \n",
              "\n",
              "                   fecha_reservacion                  fecha_llegada  \\\n",
              "count                         203002                         203000   \n",
              "mean   2019-08-28 09:57:46.712643072  2019-11-01 22:33:56.855172352   \n",
              "min              2019-01-02 00:00:00            2019-01-03 00:00:00   \n",
              "25%              2019-04-16 00:00:00            2019-06-07 00:00:00   \n",
              "50%              2019-08-03 00:00:00            2019-10-05 00:00:00   \n",
              "75%              2019-12-27 00:00:00            2020-03-09 00:00:00   \n",
              "max              2020-12-04 00:00:00            2021-12-06 00:00:00   \n",
              "std                              NaN                            NaN   \n",
              "\n",
              "                        fecha_salida  numero_personas  \\\n",
              "count                         202968    203002.000000   \n",
              "mean   2019-11-08 17:20:49.804895232         0.092933   \n",
              "min              2019-01-03 00:00:00        -0.500000   \n",
              "25%              2019-06-13 00:00:00        -0.500000   \n",
              "50%              2019-10-13 00:00:00         0.000000   \n",
              "75%              2020-03-16 00:00:00         0.500000   \n",
              "max              2021-12-06 00:00:00        15.500000   \n",
              "std                              NaN         0.684814   \n",
              "\n",
              "       numero_personas_anio_anterior  numero_adultos  \\\n",
              "count                  203002.000000   203002.000000   \n",
              "mean                        0.585275        0.047354   \n",
              "min                         0.000000       -0.500000   \n",
              "25%                         0.000000       -0.500000   \n",
              "50%                         0.000000        0.000000   \n",
              "75%                         1.000000        0.500000   \n",
              "max                        16.000000        7.000000   \n",
              "std                         0.684036        0.603538   \n",
              "\n",
              "       numero_adultos_anio_anterior  numero_menores  ...   total_tarifa  \\\n",
              "count                 203002.000000   203002.000000  ...  203002.000000   \n",
              "mean                       0.539847        0.034108  ...       0.540928   \n",
              "min                        0.000000        0.000000  ...      -4.071391   \n",
              "25%                        0.000000        0.000000  ...       0.000000   \n",
              "50%                        0.000000        0.000000  ...       0.000000   \n",
              "75%                        1.000000        0.000000  ...       1.000000   \n",
              "max                        7.500000       15.000000  ...     136.071654   \n",
              "std                        0.602347        0.265187  ...       0.856389   \n",
              "\n",
              "       id_moneda            fecha_ultimo_cambio  id_cliente_disp  \\\n",
              "count   203002.0                         202505    203002.000000   \n",
              "mean         0.0  2019-10-08 05:21:16.324041728         0.047354   \n",
              "min          0.0            2019-01-02 00:00:00        -0.500000   \n",
              "25%          0.0            2019-06-04 00:00:00        -0.500000   \n",
              "50%          0.0            2019-09-30 00:00:00         0.000000   \n",
              "75%          0.0            2020-01-30 00:00:00         0.500000   \n",
              "max          0.0            2020-12-07 00:00:00         7.000000   \n",
              "std          0.0                            NaN         0.603538   \n",
              "\n",
              "       cliente_disp_anio_anterior  dias_anticipacion  nombre_agencia_te  \\\n",
              "count               203002.000000      203000.000000      203002.000000   \n",
              "mean                     0.539847           0.116361          -0.136204   \n",
              "min                      0.000000          -2.697183          -1.309202   \n",
              "25%                      0.000000          -0.345070          -0.777748   \n",
              "50%                      0.000000           0.000000           0.000000   \n",
              "75%                      1.000000           0.654930           0.222252   \n",
              "max                      7.500000           4.866197           3.115129   \n",
              "std                      0.602347           0.969166           0.635548   \n",
              "\n",
              "       ciudad_agencia_te  entidad_federativa_agencia_te  nombre_estado_te  \n",
              "count      203002.000000                  203002.000000     203002.000000  \n",
              "mean           -0.191515                      -0.102496          0.301137  \n",
              "min            -1.432964                      -1.342847         -0.229686  \n",
              "25%            -0.719871                      -0.601829         -0.072261  \n",
              "50%             0.000000                       0.000000          0.000000  \n",
              "75%             0.280129                       0.398171          0.927739  \n",
              "max             2.776475                       2.862459          1.963234  \n",
              "std             0.586306                       0.467295          0.467171  \n",
              "\n",
              "[8 rows x 36 columns]"
            ]
          },
          "execution_count": 23,
          "metadata": {},
          "output_type": "execute_result"
        }
      ],
      "source": [
        "df_sc = df_dc.copy()\n",
        "numeric_columns = df_sc.select_dtypes(include=['int64', 'float64']).columns\n",
        "\n",
        "df_sc[numeric_columns] = RobustScaler().fit_transform(df_sc[numeric_columns])\n",
        "\n",
        "df_sc.describe()"
      ]
    },
    {
      "cell_type": "markdown",
      "metadata": {
        "id": "J7KKUQQ195hX"
      },
      "source": [
        "### Drop Null records"
      ]
    },
    {
      "cell_type": "code",
      "execution_count": 27,
      "metadata": {
        "colab": {
          "base_uri": "https://localhost:8080/"
        },
        "id": "-FPfGJPs97wx",
        "outputId": "e85f395a-51fd-4336-db94-ff90db789d55"
      },
      "outputs": [
        {
          "data": {
            "text/plain": [
              "np.int64(545)"
            ]
          },
          "execution_count": 27,
          "metadata": {},
          "output_type": "execute_result"
        }
      ],
      "source": [
        "df_sc.isnull().sum().sum()"
      ]
    },
    {
      "cell_type": "markdown",
      "metadata": {
        "id": "kfBq8fML-PP9"
      },
      "source": [
        "Drop because these records have no usefull information, and it is a low amount."
      ]
    },
    {
      "cell_type": "code",
      "execution_count": 28,
      "metadata": {
        "colab": {
          "base_uri": "https://localhost:8080/"
        },
        "id": "6IplMvf_-FaC",
        "outputId": "0406eb30-191c-4c9d-bb85-568b068912c2"
      },
      "outputs": [
        {
          "data": {
            "text/plain": [
              "np.int64(0)"
            ]
          },
          "execution_count": 28,
          "metadata": {},
          "output_type": "execute_result"
        }
      ],
      "source": [
        "df_d = df_sc.dropna()\n",
        "df_d.isnull().sum().sum()"
      ]
    },
    {
      "cell_type": "markdown",
      "metadata": {
        "id": "3TXuTZ3F3WGw"
      },
      "source": [
        "### Save features table"
      ]
    },
    {
      "cell_type": "code",
      "execution_count": 29,
      "metadata": {
        "id": "B7I-ALER3VXJ"
      },
      "outputs": [],
      "source": [
        "# prompt: guardar df_sc en parquet file\n",
        "df_d.to_parquet('reservaciones_features.parquet')"
      ]
    },
    {
      "cell_type": "code",
      "execution_count": 31,
      "metadata": {
        "colab": {
          "base_uri": "https://localhost:8080/"
        },
        "id": "XZcx3EqB55Em",
        "outputId": "6f1c4dc0-d5e7-4158-b5a6-364a6c7097d2"
      },
      "outputs": [
        {
          "name": "stdout",
          "output_type": "stream",
          "text": [
            "<class 'pandas.core.frame.DataFrame'>\n",
            "Index: 202493 entries, 0 to 203001\n",
            "Columns: 102 entries, id_reservaciones to nombre_estado_te\n",
            "dtypes: bool(66), datetime64[ns](5), float64(31)\n",
            "memory usage: 69.9 MB\n"
          ]
        }
      ],
      "source": [
        "df_d.info()"
      ]
    }
  ],
  "metadata": {
    "colab": {
      "authorship_tag": "ABX9TyP+Xcmzm7Ii4KWOy85dKO5q",
      "include_colab_link": true,
      "provenance": []
    },
    "kernelspec": {
      "display_name": ".venv",
      "language": "python",
      "name": "python3"
    },
    "language_info": {
      "codemirror_mode": {
        "name": "ipython",
        "version": 3
      },
      "file_extension": ".py",
      "mimetype": "text/x-python",
      "name": "python",
      "nbconvert_exporter": "python",
      "pygments_lexer": "ipython3",
      "version": "3.11.5"
    }
  },
  "nbformat": 4,
  "nbformat_minor": 0
}
