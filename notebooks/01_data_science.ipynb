{
 "cells": [
  {
   "cell_type": "markdown",
   "id": "113487c7",
   "metadata": {},
   "source": [
    "# Data Science\n",
    "\n",
    "We will train 4 different models in 2 experiments, and for each on eadjuste hiperparameters. Also, we will load every run into mlflow.\n",
    "\n",
    "**Models**\n",
    "* Logistic Regression\n",
    "* Random Forest Classifier\n",
    "* XGBoost Classifier\n",
    "* KNN Classifier\n",
    "\n",
    "Eliminar 7 commits previos\n",
    "\n",
    ">> git reset --soft HEAD~7"
   ]
  },
  {
   "cell_type": "markdown",
   "id": "84403b38",
   "metadata": {},
   "source": [
    "### Libraries"
   ]
  },
  {
   "cell_type": "code",
   "execution_count": 1,
   "id": "5050d35d",
   "metadata": {},
   "outputs": [],
   "source": [
    "from datetime import datetime\n",
    "from pprint import pprint\n",
    "\n",
    "import matplotlib.pyplot as plt\n",
    "import mlflow\n",
    "import numpy as np\n",
    "import pandas as pd\n",
    "import seaborn as sns\n",
    "from imblearn.ensemble import BalancedRandomForestClassifier\n",
    "from mlflow.models import infer_signature\n",
    "from sklearn.ensemble import RandomForestClassifier\n",
    "from sklearn.linear_model import LogisticRegression\n",
    "from sklearn.metrics import (\n",
    "    ConfusionMatrixDisplay,\n",
    "    PrecisionRecallDisplay,\n",
    "    accuracy_score,\n",
    "    average_precision_score,\n",
    "    classification_report,\n",
    "    f1_score,\n",
    "    precision_score,\n",
    "    recall_score,\n",
    ")\n",
    "from sklearn.model_selection import (\n",
    "    ParameterSampler,\n",
    "    RandomizedSearchCV,\n",
    "    train_test_split,\n",
    ")\n",
    "from sklearn.neighbors import KNeighborsClassifier\n",
    "from xgboost import XGBClassifier\n"
   ]
  },
  {
   "cell_type": "markdown",
   "id": "9233825e",
   "metadata": {},
   "source": [
    "### Load data"
   ]
  },
  {
   "cell_type": "code",
   "execution_count": 2,
   "id": "74e411db",
   "metadata": {},
   "outputs": [
    {
     "data": {
      "text/html": [
       "<pre style=\"white-space:pre;overflow-x:auto;line-height:normal;font-family:Menlo,'DejaVu Sans Mono',consolas,'Courier New',monospace\"><span style=\"color: #7fbfbf; text-decoration-color: #7fbfbf\">[06/13/25 21:38:03] </span><span style=\"color: #000080; text-decoration-color: #000080\">INFO    </span> Using <span style=\"color: #008000; text-decoration-color: #008000\">'c:\\Users\\Esteban\\Documents\\. Clases_Tec\\8. Octavo </span>              <span style=\"color: #7f7f7f; text-decoration-color: #7f7f7f\">__init__.py:272</span>\n",
       "<span style=\"color: #7fbfbf; text-decoration-color: #7fbfbf\">                    </span>         <span style=\"color: #008000; text-decoration-color: #008000\">semestre\\_Proyecto\\kProject\\tcaproject\\.venv\\Lib\\site-packages\\kedro\\f</span> <span style=\"color: #7f7f7f; text-decoration-color: #7f7f7f\">               </span>\n",
       "<span style=\"color: #7fbfbf; text-decoration-color: #7fbfbf\">                    </span>         <span style=\"color: #008000; text-decoration-color: #008000\">ramework\\project\\rich_logging.yml'</span> as logging configuration.           <span style=\"color: #7f7f7f; text-decoration-color: #7f7f7f\">               </span>\n",
       "</pre>\n"
      ],
      "text/plain": [
       "\u001b[2;36m[06/13/25 21:38:03]\u001b[0m\u001b[2;36m \u001b[0m\u001b[34mINFO    \u001b[0m Using \u001b[32m'c:\\Users\\Esteban\\Documents\\. Clases_Tec\\8. Octavo \u001b[0m              \u001b[2m__init__.py\u001b[0m\u001b[2m:\u001b[0m\u001b[2m272\u001b[0m\n",
       "\u001b[2;36m                    \u001b[0m         \u001b[32msemestre\\_Proyecto\\kProject\\tcaproject\\.venv\\Lib\\site-packages\\kedro\\f\u001b[0m \u001b[2m               \u001b[0m\n",
       "\u001b[2;36m                    \u001b[0m         \u001b[32mramework\\project\\rich_logging.yml'\u001b[0m as logging configuration.           \u001b[2m               \u001b[0m\n"
      ]
     },
     "metadata": {},
     "output_type": "display_data"
    },
    {
     "data": {
      "text/html": [
       "<pre style=\"white-space:pre;overflow-x:auto;line-height:normal;font-family:Menlo,'DejaVu Sans Mono',consolas,'Courier New',monospace\"><span style=\"color: #7fbfbf; text-decoration-color: #7fbfbf\">                    </span><span style=\"color: #000080; text-decoration-color: #000080\">INFO    </span> Registered line magic <span style=\"color: #008000; text-decoration-color: #008000\">'%reload_kedro'</span>                                   <span style=\"color: #7f7f7f; text-decoration-color: #7f7f7f\">__init__.py:63</span>\n",
       "</pre>\n"
      ],
      "text/plain": [
       "\u001b[2;36m                   \u001b[0m\u001b[2;36m \u001b[0m\u001b[34mINFO    \u001b[0m Registered line magic \u001b[32m'%reload_kedro'\u001b[0m                                   \u001b[2m__init__.py\u001b[0m\u001b[2m:\u001b[0m\u001b[2m63\u001b[0m\n"
      ]
     },
     "metadata": {},
     "output_type": "display_data"
    },
    {
     "data": {
      "text/html": [
       "<pre style=\"white-space:pre;overflow-x:auto;line-height:normal;font-family:Menlo,'DejaVu Sans Mono',consolas,'Courier New',monospace\"><span style=\"color: #7fbfbf; text-decoration-color: #7fbfbf\">                    </span><span style=\"color: #000080; text-decoration-color: #000080\">INFO    </span> Registered line magic <span style=\"color: #008000; text-decoration-color: #008000\">'%load_node'</span>                                      <span style=\"color: #7f7f7f; text-decoration-color: #7f7f7f\">__init__.py:65</span>\n",
       "</pre>\n"
      ],
      "text/plain": [
       "\u001b[2;36m                   \u001b[0m\u001b[2;36m \u001b[0m\u001b[34mINFO    \u001b[0m Registered line magic \u001b[32m'%load_node'\u001b[0m                                      \u001b[2m__init__.py\u001b[0m\u001b[2m:\u001b[0m\u001b[2m65\u001b[0m\n"
      ]
     },
     "metadata": {},
     "output_type": "display_data"
    },
    {
     "data": {
      "text/html": [
       "<pre style=\"white-space:pre;overflow-x:auto;line-height:normal;font-family:Menlo,'DejaVu Sans Mono',consolas,'Courier New',monospace\"><span style=\"color: #7fbfbf; text-decoration-color: #7fbfbf\">                    </span><span style=\"color: #000080; text-decoration-color: #000080\">INFO    </span> Resolved project path as: c:\\Users\\Esteban\\Documents\\. Clases_Tec\\<span style=\"color: #008080; text-decoration-color: #008080; font-weight: bold\">8</span>.   <span style=\"color: #7f7f7f; text-decoration-color: #7f7f7f\">__init__.py:180</span>\n",
       "<span style=\"color: #7fbfbf; text-decoration-color: #7fbfbf\">                    </span>         Octavo semestre\\_Proyecto\\kProject\\tcaproject.                         <span style=\"color: #7f7f7f; text-decoration-color: #7f7f7f\">               </span>\n",
       "<span style=\"color: #7fbfbf; text-decoration-color: #7fbfbf\">                    </span>         To set a different path, run <span style=\"color: #008000; text-decoration-color: #008000\">'%reload_kedro &lt;project_root&gt;'</span>            <span style=\"color: #7f7f7f; text-decoration-color: #7f7f7f\">               </span>\n",
       "</pre>\n"
      ],
      "text/plain": [
       "\u001b[2;36m                   \u001b[0m\u001b[2;36m \u001b[0m\u001b[34mINFO    \u001b[0m Resolved project path as: c:\\Users\\Esteban\\Documents\\. Clases_Tec\\\u001b[1;36m8\u001b[0m.   \u001b[2m__init__.py\u001b[0m\u001b[2m:\u001b[0m\u001b[2m180\u001b[0m\n",
       "\u001b[2;36m                    \u001b[0m         Octavo semestre\\_Proyecto\\kProject\\tcaproject.                         \u001b[2m               \u001b[0m\n",
       "\u001b[2;36m                    \u001b[0m         To set a different path, run \u001b[32m'%reload_kedro \u001b[0m\u001b[32m<\u001b[0m\u001b[32mproject_root\u001b[0m\u001b[32m>\u001b[0m\u001b[32m'\u001b[0m            \u001b[2m               \u001b[0m\n"
      ]
     },
     "metadata": {},
     "output_type": "display_data"
    },
    {
     "name": "stderr",
     "output_type": "stream",
     "text": [
      "c:\\Users\\Esteban\\Documents\\. Clases_Tec\\8. Octavo semestre\\_Proyecto\\kProject\\tcaproject\\.venv\\Lib\\site-packages\\mlflow\\pyfunc\\utils\\data_validation.py:186: UserWarning: \u001b[33mAdd type hints to the `predict` method to enable data validation and automatic signature inference during model logging. Check https://mlflow.org/docs/latest/model/python_model.html#type-hint-usage-in-pythonmodel for more details.\u001b[0m\n",
      "  color_warning(\n"
     ]
    },
    {
     "data": {
      "text/html": [
       "<pre style=\"white-space:pre;overflow-x:auto;line-height:normal;font-family:Menlo,'DejaVu Sans Mono',consolas,'Courier New',monospace\"><span style=\"color: #7fbfbf; text-decoration-color: #7fbfbf\">[06/13/25 21:38:06] </span><span style=\"color: #000080; text-decoration-color: #000080\">INFO    </span> Registering new custom resolver: <span style=\"color: #008000; text-decoration-color: #008000\">'km.random_name'</span>                    <span style=\"color: #7f7f7f; text-decoration-color: #7f7f7f\">mlflow_hook.py:65</span>\n",
       "</pre>\n"
      ],
      "text/plain": [
       "\u001b[2;36m[06/13/25 21:38:06]\u001b[0m\u001b[2;36m \u001b[0m\u001b[34mINFO    \u001b[0m Registering new custom resolver: \u001b[32m'km.random_name'\u001b[0m                    \u001b[2mmlflow_hook.py\u001b[0m\u001b[2m:\u001b[0m\u001b[2m65\u001b[0m\n"
      ]
     },
     "metadata": {},
     "output_type": "display_data"
    },
    {
     "data": {
      "text/html": [
       "<pre style=\"white-space:pre;overflow-x:auto;line-height:normal;font-family:Menlo,'DejaVu Sans Mono',consolas,'Courier New',monospace\"><span style=\"color: #7fbfbf; text-decoration-color: #7fbfbf\">                    </span><span style=\"color: #000080; text-decoration-color: #000080\">INFO    </span> The <span style=\"color: #008000; text-decoration-color: #008000\">'tracking_uri'</span> key in mlflow.yml is relative            <span style=\"color: #7f7f7f; text-decoration-color: #7f7f7f\">kedro_mlflow_config.py:293</span>\n",
       "<span style=\"color: #7fbfbf; text-decoration-color: #7fbfbf\">                    </span>         <span style=\"font-weight: bold\">(</span><span style=\"color: #008000; text-decoration-color: #008000\">'server.mlflow_(tracking|registry)_uri = mlruns'</span><span style=\"font-weight: bold\">)</span>. It is   <span style=\"color: #7f7f7f; text-decoration-color: #7f7f7f\">                          </span>\n",
       "<span style=\"color: #7fbfbf; text-decoration-color: #7fbfbf\">                    </span>         converted to a valid uri:                                   <span style=\"color: #7f7f7f; text-decoration-color: #7f7f7f\">                          </span>\n",
       "<span style=\"color: #7fbfbf; text-decoration-color: #7fbfbf\">                    </span>         <span style=\"color: #008000; text-decoration-color: #008000\">'file:///C:/Users/Esteban/Documents/.%20Clases_Tec/8.%20Oct</span> <span style=\"color: #7f7f7f; text-decoration-color: #7f7f7f\">                          </span>\n",
       "<span style=\"color: #7fbfbf; text-decoration-color: #7fbfbf\">                    </span>         <span style=\"color: #008000; text-decoration-color: #008000\">avo%20semestre/_Proyecto/kProject/tcaproject/mlruns'</span>        <span style=\"color: #7f7f7f; text-decoration-color: #7f7f7f\">                          </span>\n",
       "</pre>\n"
      ],
      "text/plain": [
       "\u001b[2;36m                   \u001b[0m\u001b[2;36m \u001b[0m\u001b[34mINFO    \u001b[0m The \u001b[32m'tracking_uri'\u001b[0m key in mlflow.yml is relative            \u001b[2mkedro_mlflow_config.py\u001b[0m\u001b[2m:\u001b[0m\u001b[2m293\u001b[0m\n",
       "\u001b[2;36m                    \u001b[0m         \u001b[1m(\u001b[0m\u001b[32m'server.mlflow_\u001b[0m\u001b[32m(\u001b[0m\u001b[32mtracking|registry\u001b[0m\u001b[32m)\u001b[0m\u001b[32m_uri = mlruns'\u001b[0m\u001b[1m)\u001b[0m. It is   \u001b[2m                          \u001b[0m\n",
       "\u001b[2;36m                    \u001b[0m         converted to a valid uri:                                   \u001b[2m                          \u001b[0m\n",
       "\u001b[2;36m                    \u001b[0m         \u001b[32m'file:///C:/Users/Esteban/Documents/.%20Clases_Tec/8.%20Oct\u001b[0m \u001b[2m                          \u001b[0m\n",
       "\u001b[2;36m                    \u001b[0m         \u001b[32mavo%20semestre/_Proyecto/kProject/tcaproject/mlruns'\u001b[0m        \u001b[2m                          \u001b[0m\n"
      ]
     },
     "metadata": {},
     "output_type": "display_data"
    },
    {
     "data": {
      "text/html": [
       "<pre style=\"white-space:pre;overflow-x:auto;line-height:normal;font-family:Menlo,'DejaVu Sans Mono',consolas,'Courier New',monospace\"><span style=\"color: #7fbfbf; text-decoration-color: #7fbfbf\">[06/13/25 21:38:07] </span><span style=\"color: #000080; text-decoration-color: #000080\">INFO    </span> Kedro is sending anonymous usage data with the sole purpose of improving <span style=\"color: #7f7f7f; text-decoration-color: #7f7f7f\">plugin.py:233</span>\n",
       "<span style=\"color: #7fbfbf; text-decoration-color: #7fbfbf\">                    </span>         the product. No personal data or IP addresses are stored on our side. If <span style=\"color: #7f7f7f; text-decoration-color: #7f7f7f\">             </span>\n",
       "<span style=\"color: #7fbfbf; text-decoration-color: #7fbfbf\">                    </span>         you want to opt out, set the `KEDRO_DISABLE_TELEMETRY` or `DO_NOT_TRACK` <span style=\"color: #7f7f7f; text-decoration-color: #7f7f7f\">             </span>\n",
       "<span style=\"color: #7fbfbf; text-decoration-color: #7fbfbf\">                    </span>         environment variables, or create a `.telemetry` file in the current      <span style=\"color: #7f7f7f; text-decoration-color: #7f7f7f\">             </span>\n",
       "<span style=\"color: #7fbfbf; text-decoration-color: #7fbfbf\">                    </span>         working directory with the contents `consent: false`. Read more at       <span style=\"color: #7f7f7f; text-decoration-color: #7f7f7f\">             </span>\n",
       "<span style=\"color: #7fbfbf; text-decoration-color: #7fbfbf\">                    </span>         <span style=\"color: #0000ff; text-decoration-color: #0000ff; text-decoration: underline\">https://docs.kedro.org/en/stable/configuration/telemetry.html</span>            <span style=\"color: #7f7f7f; text-decoration-color: #7f7f7f\">             </span>\n",
       "</pre>\n"
      ],
      "text/plain": [
       "\u001b[2;36m[06/13/25 21:38:07]\u001b[0m\u001b[2;36m \u001b[0m\u001b[34mINFO    \u001b[0m Kedro is sending anonymous usage data with the sole purpose of improving \u001b[2mplugin.py\u001b[0m\u001b[2m:\u001b[0m\u001b[2m233\u001b[0m\n",
       "\u001b[2;36m                    \u001b[0m         the product. No personal data or IP addresses are stored on our side. If \u001b[2m             \u001b[0m\n",
       "\u001b[2;36m                    \u001b[0m         you want to opt out, set the `KEDRO_DISABLE_TELEMETRY` or `DO_NOT_TRACK` \u001b[2m             \u001b[0m\n",
       "\u001b[2;36m                    \u001b[0m         environment variables, or create a `.telemetry` file in the current      \u001b[2m             \u001b[0m\n",
       "\u001b[2;36m                    \u001b[0m         working directory with the contents `consent: false`. Read more at       \u001b[2m             \u001b[0m\n",
       "\u001b[2;36m                    \u001b[0m         \u001b[4;94mhttps://docs.kedro.org/en/stable/configuration/telemetry.html\u001b[0m            \u001b[2m             \u001b[0m\n"
      ]
     },
     "metadata": {},
     "output_type": "display_data"
    },
    {
     "data": {
      "text/html": [
       "<pre style=\"white-space:pre;overflow-x:auto;line-height:normal;font-family:Menlo,'DejaVu Sans Mono',consolas,'Courier New',monospace\"><span style=\"color: #7fbfbf; text-decoration-color: #7fbfbf\">[06/13/25 21:38:08] </span><span style=\"color: #000080; text-decoration-color: #000080\">INFO    </span> Kedro project tcaProject                                               <span style=\"color: #7f7f7f; text-decoration-color: #7f7f7f\">__init__.py:146</span>\n",
       "</pre>\n"
      ],
      "text/plain": [
       "\u001b[2;36m[06/13/25 21:38:08]\u001b[0m\u001b[2;36m \u001b[0m\u001b[34mINFO    \u001b[0m Kedro project tcaProject                                               \u001b[2m__init__.py\u001b[0m\u001b[2m:\u001b[0m\u001b[2m146\u001b[0m\n"
      ]
     },
     "metadata": {},
     "output_type": "display_data"
    },
    {
     "data": {
      "text/html": [
       "<pre style=\"white-space:pre;overflow-x:auto;line-height:normal;font-family:Menlo,'DejaVu Sans Mono',consolas,'Courier New',monospace\"><span style=\"color: #7fbfbf; text-decoration-color: #7fbfbf\">                    </span><span style=\"color: #000080; text-decoration-color: #000080\">INFO    </span> Defined global variable <span style=\"color: #008000; text-decoration-color: #008000\">'context'</span>, <span style=\"color: #008000; text-decoration-color: #008000\">'session'</span>, <span style=\"color: #008000; text-decoration-color: #008000\">'catalog'</span> and            <span style=\"color: #7f7f7f; text-decoration-color: #7f7f7f\">__init__.py:147</span>\n",
       "<span style=\"color: #7fbfbf; text-decoration-color: #7fbfbf\">                    </span>         <span style=\"color: #008000; text-decoration-color: #008000\">'pipelines'</span>                                                            <span style=\"color: #7f7f7f; text-decoration-color: #7f7f7f\">               </span>\n",
       "</pre>\n"
      ],
      "text/plain": [
       "\u001b[2;36m                   \u001b[0m\u001b[2;36m \u001b[0m\u001b[34mINFO    \u001b[0m Defined global variable \u001b[32m'context'\u001b[0m, \u001b[32m'session'\u001b[0m, \u001b[32m'catalog'\u001b[0m and            \u001b[2m__init__.py\u001b[0m\u001b[2m:\u001b[0m\u001b[2m147\u001b[0m\n",
       "\u001b[2;36m                    \u001b[0m         \u001b[32m'pipelines'\u001b[0m                                                            \u001b[2m               \u001b[0m\n"
      ]
     },
     "metadata": {},
     "output_type": "display_data"
    },
    {
     "data": {
      "text/html": [
       "<pre style=\"white-space:pre;overflow-x:auto;line-height:normal;font-family:Menlo,'DejaVu Sans Mono',consolas,'Courier New',monospace\"><span style=\"color: #7fbfbf; text-decoration-color: #7fbfbf\">                    </span><span style=\"color: #000080; text-decoration-color: #000080\">INFO    </span> Registered line magic <span style=\"color: #008000; text-decoration-color: #008000\">'run_viz'</span>                                        <span style=\"color: #7f7f7f; text-decoration-color: #7f7f7f\">__init__.py:153</span>\n",
       "</pre>\n"
      ],
      "text/plain": [
       "\u001b[2;36m                   \u001b[0m\u001b[2;36m \u001b[0m\u001b[34mINFO    \u001b[0m Registered line magic \u001b[32m'run_viz'\u001b[0m                                        \u001b[2m__init__.py\u001b[0m\u001b[2m:\u001b[0m\u001b[2m153\u001b[0m\n"
      ]
     },
     "metadata": {},
     "output_type": "display_data"
    }
   ],
   "source": [
    "# Comment once you run this line\n",
    "%load_ext kedro.ipython\n",
    "#%reload_kedro"
   ]
  },
  {
   "cell_type": "code",
   "execution_count": 3,
   "id": "a4e0ccad",
   "metadata": {},
   "outputs": [
    {
     "data": {
      "text/html": [
       "<pre style=\"white-space:pre;overflow-x:auto;line-height:normal;font-family:Menlo,'DejaVu Sans Mono',consolas,'Courier New',monospace\"><span style=\"color: #7fbfbf; text-decoration-color: #7fbfbf\">[06/13/25 21:38:10] </span><span style=\"color: #000080; text-decoration-color: #000080\">INFO    </span> Loading data from <span style=\"color: #ff8700; text-decoration-color: #ff8700\">reservaciones_exp1</span> <span style=\"font-weight: bold\">(</span>ParquetDataset<span style=\"font-weight: bold\">)</span><span style=\"color: #808000; text-decoration-color: #808000\">...</span>           <span style=\"color: #7f7f7f; text-decoration-color: #7f7f7f\">data_catalog.py:403</span>\n",
       "</pre>\n"
      ],
      "text/plain": [
       "\u001b[2;36m[06/13/25 21:38:10]\u001b[0m\u001b[2;36m \u001b[0m\u001b[34mINFO    \u001b[0m Loading data from \u001b[38;5;208mreservaciones_exp1\u001b[0m \u001b[1m(\u001b[0mParquetDataset\u001b[1m)\u001b[0m\u001b[33m...\u001b[0m           \u001b[2mdata_catalog.py\u001b[0m\u001b[2m:\u001b[0m\u001b[2m403\u001b[0m\n"
      ]
     },
     "metadata": {},
     "output_type": "display_data"
    },
    {
     "data": {
      "text/html": [
       "<pre style=\"white-space:pre;overflow-x:auto;line-height:normal;font-family:Menlo,'DejaVu Sans Mono',consolas,'Courier New',monospace\"><span style=\"color: #7fbfbf; text-decoration-color: #7fbfbf\">[06/13/25 21:38:11] </span><span style=\"color: #000080; text-decoration-color: #000080\">INFO    </span> Loading data from <span style=\"color: #ff8700; text-decoration-color: #ff8700\">reservaciones_exp2</span> <span style=\"font-weight: bold\">(</span>ParquetDataset<span style=\"font-weight: bold\">)</span><span style=\"color: #808000; text-decoration-color: #808000\">...</span>           <span style=\"color: #7f7f7f; text-decoration-color: #7f7f7f\">data_catalog.py:403</span>\n",
       "</pre>\n"
      ],
      "text/plain": [
       "\u001b[2;36m[06/13/25 21:38:11]\u001b[0m\u001b[2;36m \u001b[0m\u001b[34mINFO    \u001b[0m Loading data from \u001b[38;5;208mreservaciones_exp2\u001b[0m \u001b[1m(\u001b[0mParquetDataset\u001b[1m)\u001b[0m\u001b[33m...\u001b[0m           \u001b[2mdata_catalog.py\u001b[0m\u001b[2m:\u001b[0m\u001b[2m403\u001b[0m\n"
      ]
     },
     "metadata": {},
     "output_type": "display_data"
    }
   ],
   "source": [
    "df_exp1 = catalog.load(\"reservaciones_exp1\") # type: ignore # noqa: F821\n",
    "df_exp2 = catalog.load(\"reservaciones_exp2\") # type: ignore # noqa: F821"
   ]
  },
  {
   "cell_type": "markdown",
   "id": "d6412ab8",
   "metadata": {},
   "source": [
    "---\n",
    "---\n"
   ]
  },
  {
   "cell_type": "markdown",
   "id": "2dc9f5b2",
   "metadata": {},
   "source": [
    "### EDA"
   ]
  },
  {
   "cell_type": "code",
   "execution_count": 4,
   "id": "8ac32ade",
   "metadata": {},
   "outputs": [
    {
     "name": "stdout",
     "output_type": "stream",
     "text": [
      "<class 'pandas.core.frame.DataFrame'>\n",
      "Index: 202491 entries, 0 to 203001\n",
      "Data columns (total 15 columns):\n",
      " #   Column                         Non-Null Count   Dtype  \n",
      "---  ------                         --------------   -----  \n",
      " 0   numero_personas                202491 non-null  float64\n",
      " 1   numero_adultos                 202491 non-null  float64\n",
      " 2   numero_menores                 202491 non-null  float64\n",
      " 3   numero_noches                  202491 non-null  float64\n",
      " 4   total_habitaciones             202491 non-null  float64\n",
      " 5   reservacion_pendiente          202491 non-null  float64\n",
      " 6   total_tarifa                   202491 non-null  float64\n",
      " 7   reservacion                    202491 non-null  float64\n",
      " 8   cancelacion                    202491 non-null  float64\n",
      " 9   dias_llegada-reservacion       202491 non-null  float64\n",
      " 10  dias_salida-llegada            202491 non-null  float64\n",
      " 11  nombre_agencia_te              202491 non-null  float64\n",
      " 12  ciudad_agencia_te              202491 non-null  float64\n",
      " 13  entidad_federativa_agencia_te  202491 non-null  float64\n",
      " 14  nombre_estado_te               202491 non-null  float64\n",
      "dtypes: float64(15)\n",
      "memory usage: 24.7 MB\n"
     ]
    }
   ],
   "source": [
    "df_exp1.info()"
   ]
  },
  {
   "cell_type": "code",
   "execution_count": 5,
   "id": "b3115a0a",
   "metadata": {},
   "outputs": [
    {
     "name": "stdout",
     "output_type": "stream",
     "text": [
      "<class 'pandas.core.frame.DataFrame'>\n",
      "Index: 199813 entries, 0 to 203001\n",
      "Data columns (total 6 columns):\n",
      " #   Column                  Non-Null Count   Dtype  \n",
      "---  ------                  --------------   -----  \n",
      " 0   nombre_paquete          199813 non-null  float64\n",
      " 1   ciudad_agencia          199813 non-null  float64\n",
      " 2   nombre_tipo_habitacion  199813 non-null  float64\n",
      " 3   nombre_canal            199813 non-null  float64\n",
      " 4   nombre_estado           199813 non-null  float64\n",
      " 5   cancelacion             199813 non-null  int64  \n",
      "dtypes: float64(5), int64(1)\n",
      "memory usage: 10.7 MB\n"
     ]
    }
   ],
   "source": [
    "df_exp2.info()"
   ]
  },
  {
   "cell_type": "code",
   "execution_count": 6,
   "id": "66b204b2",
   "metadata": {},
   "outputs": [
    {
     "name": "stdout",
     "output_type": "stream",
     "text": [
      "0\n",
      "0\n"
     ]
    }
   ],
   "source": [
    "print(df_exp1.isna().sum().sum())\n",
    "print(df_exp2.isna().sum().sum())"
   ]
  },
  {
   "cell_type": "markdown",
   "id": "da4afe61",
   "metadata": {},
   "source": [
    "**Correlation plots**"
   ]
  },
  {
   "cell_type": "code",
   "execution_count": 7,
   "id": "d106c98c",
   "metadata": {},
   "outputs": [
    {
     "data": {
      "text/html": [
       "<pre style=\"white-space:pre;overflow-x:auto;line-height:normal;font-family:Menlo,'DejaVu Sans Mono',consolas,'Courier New',monospace\"></pre>\n"
      ],
      "text/plain": []
     },
     "metadata": {},
     "output_type": "display_data"
    },
    {
     "data": {
      "image/png": "[encoded data removed]",
      "text/plain": [
       "\u001b[1m<\u001b[0m\u001b[1;95mFigure\u001b[0m\u001b[39m size 100\u001b[0m\u001b[1;36m0x800\u001b[0m\u001b[39m with \u001b[0m\u001b[1;36m2\u001b[0m\u001b[39m Axes\u001b[0m\u001b[1m>\u001b[0m"
      ]
     },
     "metadata": {},
     "output_type": "display_data"
    }
   ],
   "source": [
    "plt.figure(figsize=(10, 8))\n",
    "sns.heatmap(df_exp1.corr(), annot=True, fmt=\".2f\", cmap=\"coolwarm\", square=True)\n",
    "plt.title(\"Correlation Matrix for Experiment 1\")\n",
    "plt.show()"
   ]
  },
  {
   "cell_type": "code",
   "execution_count": 8,
   "id": "8e351f6a",
   "metadata": {},
   "outputs": [
    {
     "data": {
      "text/html": [
       "<pre style=\"white-space:pre;overflow-x:auto;line-height:normal;font-family:Menlo,'DejaVu Sans Mono',consolas,'Courier New',monospace\"></pre>\n"
      ],
      "text/plain": []
     },
     "metadata": {},
     "output_type": "display_data"
    },
    {
     "data": {
      "image/png": "[encoded data removed]",
      "text/plain": [
       "\u001b[1m<\u001b[0m\u001b[1;95mFigure\u001b[0m\u001b[39m size 100\u001b[0m\u001b[1;36m0x800\u001b[0m\u001b[39m with \u001b[0m\u001b[1;36m2\u001b[0m\u001b[39m Axes\u001b[0m\u001b[1m>\u001b[0m"
      ]
     },
     "metadata": {},
     "output_type": "display_data"
    }
   ],
   "source": [
    "plt.figure(figsize=(10, 8))\n",
    "sns.heatmap(df_exp2.corr(), annot=True, fmt=\".2f\", cmap=\"coolwarm\", square=True)\n",
    "plt.title(\"Correlation Matrix for Experiment 2\")\n",
    "plt.show()"
   ]
  },
  {
   "cell_type": "markdown",
   "id": "2a8b037c",
   "metadata": {},
   "source": [
    "**Violin plots**"
   ]
  },
  {
   "cell_type": "code",
   "execution_count": 9,
   "id": "0832e9f5",
   "metadata": {},
   "outputs": [
    {
     "data": {
      "text/html": [
       "<pre style=\"white-space:pre;overflow-x:auto;line-height:normal;font-family:Menlo,'DejaVu Sans Mono',consolas,'Courier New',monospace\"></pre>\n"
      ],
      "text/plain": []
     },
     "metadata": {},
     "output_type": "display_data"
    },
    {
     "data": {
      "image/png": "[encoded data removed]",
      "text/plain": [
       "\u001b[1m<\u001b[0m\u001b[1;95mFigure\u001b[0m\u001b[39m size 64\u001b[0m\u001b[1;36m0x480\u001b[0m\u001b[39m with \u001b[0m\u001b[1;36m1\u001b[0m\u001b[39m Axes\u001b[0m\u001b[1m>\u001b[0m"
      ]
     },
     "metadata": {},
     "output_type": "display_data"
    }
   ],
   "source": [
    "# Violint plot for each variable by cancelation\n",
    "plt.figure()\n",
    "sns.violinplot(x=\"cancelacion\", y=\"nombre_estado_te\", data=df_exp1)\n",
    "plt.show()"
   ]
  },
  {
   "cell_type": "code",
   "execution_count": 10,
   "id": "14e09fc0",
   "metadata": {},
   "outputs": [
    {
     "data": {
      "text/html": [
       "<pre style=\"white-space:pre;overflow-x:auto;line-height:normal;font-family:Menlo,'DejaVu Sans Mono',consolas,'Courier New',monospace\"></pre>\n"
      ],
      "text/plain": []
     },
     "metadata": {},
     "output_type": "display_data"
    },
    {
     "data": {
      "image/png": "[encoded data removed]",
      "text/plain": [
       "\u001b[1m<\u001b[0m\u001b[1;95mFigure\u001b[0m\u001b[39m size 64\u001b[0m\u001b[1;36m0x480\u001b[0m\u001b[39m with \u001b[0m\u001b[1;36m1\u001b[0m\u001b[39m Axes\u001b[0m\u001b[1m>\u001b[0m"
      ]
     },
     "metadata": {},
     "output_type": "display_data"
    }
   ],
   "source": [
    "# Violint plot for each variable by cancelation\n",
    "plt.figure()\n",
    "sns.violinplot(x=\"cancelacion\", y=\"nombre_estado\", data=df_exp2)\n",
    "plt.show()"
   ]
  },
  {
   "cell_type": "markdown",
   "id": "bff2506c",
   "metadata": {},
   "source": [
    "---\n",
    "---"
   ]
  },
  {
   "cell_type": "markdown",
   "id": "30119a1a",
   "metadata": {},
   "source": [
    "### Train models and log into MLflow"
   ]
  },
  {
   "cell_type": "markdown",
   "id": "c375fe3e",
   "metadata": {},
   "source": [
    "**Train model: Experiment1**"
   ]
  },
  {
   "cell_type": "code",
   "execution_count": 11,
   "id": "4ff9344a",
   "metadata": {},
   "outputs": [
    {
     "name": "stdout",
     "output_type": "stream",
     "text": [
      "                 precision    recall  f1-score   support\n",
      "\n",
      "No Cancellation       0.95      0.79      0.86     33896\n",
      "   Cancellation       0.42      0.77      0.54      6603\n",
      "\n",
      "       accuracy                           0.79     40499\n",
      "      macro avg       0.68      0.78      0.70     40499\n",
      "   weighted avg       0.86      0.79      0.81     40499\n",
      "\n"
     ]
    }
   ],
   "source": [
    "# Define the target variable and independent variables\n",
    "X = df_exp1.drop('cancelacion', axis=1)\n",
    "y = df_exp1['cancelacion']\n",
    "\n",
    "# Train test split\n",
    "X_train, X_test, y_train, y_test = train_test_split(X, y, test_size=0.2, random_state=42)\n",
    "\n",
    "# Define logistic regression model\n",
    "params = {\n",
    "    'class_weight': 'balanced',\n",
    "    'random_state': 42\n",
    "    }\n",
    "\n",
    "lr = LogisticRegression(**params)\n",
    "\n",
    "lr.fit(X_train, y_train)\n",
    "\n",
    "# Evaluation\n",
    "y_pred = lr.predict(X_test)\n",
    "\n",
    "print(classification_report(y_test, y_pred, target_names=['No Cancellation', 'Cancellation']))  # noqa: T201\n",
    "\n",
    "precision = precision_score(y_test, y_pred)\n",
    "recall = recall_score(y_test, y_pred)\n",
    "f1 = f1_score(y_test, y_pred)\n",
    "y_scores = lr.predict_proba(X_test)[:, 1]\n",
    "average_precision = average_precision_score(y_test, y_scores)\n",
    "accuracy = accuracy_score(y_test, y_pred)"
   ]
  },
  {
   "cell_type": "code",
   "execution_count": 12,
   "id": "19964653",
   "metadata": {},
   "outputs": [
    {
     "data": {
      "text/html": [
       "<pre style=\"white-space:pre;overflow-x:auto;line-height:normal;font-family:Menlo,'DejaVu Sans Mono',consolas,'Courier New',monospace\"></pre>\n"
      ],
      "text/plain": []
     },
     "metadata": {},
     "output_type": "display_data"
    },
    {
     "data": {
      "image/png": "[encoded data removed]",
      "text/plain": [
       "\u001b[1m<\u001b[0m\u001b[1;95mFigure\u001b[0m\u001b[39m size 80\u001b[0m\u001b[1;36m0x400\u001b[0m\u001b[39m with \u001b[0m\u001b[1;36m3\u001b[0m\u001b[39m Axes\u001b[0m\u001b[1m>\u001b[0m"
      ]
     },
     "metadata": {},
     "output_type": "display_data"
    }
   ],
   "source": [
    "fig, (ax1, ax2) = plt.subplots(1, 2, figsize=(8, 4))\n",
    "\n",
    "ConfusionMatrixDisplay.from_estimator(lr, X_test, y_test, normalize='all', cmap='Blues', ax=ax1)\n",
    "ax1.set_title(\"Confusion Matrix - Exp 1\")\n",
    "\n",
    "PrecisionRecallDisplay.from_estimator(lr, X_test, y_test, ax=ax2)\n",
    "ax2.set_title(\"Precision-Recall Curve - Exp 1\")\n",
    "\n",
    "plt.suptitle(\"Model Evaluation - Exp 1\")\n",
    "\n",
    "plt.tight_layout()  # Ajusta para que no se solapen los títulos\n",
    "\n",
    "plt.savefig(\"model_evaluation_exp1.png\")\n",
    "plt.show()\n"
   ]
  },
  {
   "cell_type": "markdown",
   "id": "ca4f6de8",
   "metadata": {},
   "source": [
    "**Log model: Experiment 1**"
   ]
  },
  {
   "cell_type": "code",
   "execution_count": 13,
   "id": "0007ecaa",
   "metadata": {},
   "outputs": [
    {
     "name": "stderr",
     "output_type": "stream",
     "text": [
      "2025/06/08 15:03:55 INFO mlflow.tracking.fluent: Experiment with name 'Experiment 1' does not exist. Creating a new experiment.\n",
      "c:\\Users\\Esteban\\Documents\\. Clases_Tec\\8. Octavo semestre\\_Proyecto\\kProject\\tcaproject\\.venv\\Lib\\site-packages\\tqdm\\auto.py:21: TqdmWarning: IProgress not found. Please update jupyter and ipywidgets. See https://ipywidgets.readthedocs.io/en/stable/user_install.html\n",
      "  from .autonotebook import tqdm as notebook_tqdm\n",
      "Downloading artifacts: 100%|██████████| 7/7 [00:00<00:00, 979.91it/s] \n",
      "Registered model 'reservaciones_exp1_model' already exists. Creating a new version of this model...\n",
      "2025/06/08 15:04:33 INFO mlflow.store.model_registry.abstract_store: Waiting up to 300 seconds for model version to finish creation. Model name: reservaciones_exp1_model, version 7\n",
      "Created version '7' of model 'reservaciones_exp1_model'.\n"
     ]
    },
    {
     "name": "stdout",
     "output_type": "stream",
     "text": [
      "🏃 View run secretive-trout-28 at: http://127.0.0.1:5000/#/experiments/225744905131217093/runs/f4566a3c9ff44394a36010d7f925d40f\n",
      "🧪 View experiment at: http://127.0.0.1:5000/#/experiments/225744905131217093\n"
     ]
    }
   ],
   "source": [
    "# Set our tracking server uri for logging\n",
    "mlflow.set_tracking_uri(uri=\"http://127.0.0.1:5000\")\n",
    "\n",
    "# Create a new MLflow Experiment\n",
    "mlflow.set_experiment(\"Experiment 1\")\n",
    "\n",
    "# Start an MLflow run\n",
    "with mlflow.start_run():\n",
    "    # Log the dataset\n",
    "    #mlflow.log_artifact(datasets.load_iris())\n",
    "\n",
    "    # Log the hyperparameters\n",
    "    mlflow.log_params(params)\n",
    "\n",
    "    # Log metrics\n",
    "    metrics = {\n",
    "        \"precision\": precision,\n",
    "        \"recall\": recall,\n",
    "        \"f1_score\": f1,\n",
    "        \"average_precision\": average_precision,\n",
    "        \"accuracy\": accuracy\n",
    "    }\n",
    "\n",
    "    mlflow.log_metrics(metrics)\n",
    "\n",
    "    # Log plots\n",
    "    mlflow.log_artifact(\"model_evaluation_exp1.png\")\n",
    "\n",
    "    # Set a tag that we can use to remind ourselves what this run was for\n",
    "    mlflow.set_tag(\"Info\", \"Basic Logistic Regression Model on reservaciones_exp1\")\n",
    "    mlflow.set_tag(\"Model Type\", \"Logistic Regression\")\n",
    "    mlflow.set_tag(\"Dataset\", \"reservaciones_exp1.parquet\")\n",
    "\n",
    "    # Infer the model signature\n",
    "    signature = infer_signature(X_train, lr.predict(X_train))\n",
    "\n",
    "    # Log the model\n",
    "    model_info = mlflow.sklearn.log_model(\n",
    "        sk_model=lr,\n",
    "        artifact_path=\"reservaciones_exp1_model\",\n",
    "        signature=signature,\n",
    "        input_example=X_train,\n",
    "        registered_model_name=\"reservaciones_exp1_model\"\n",
    "    )"
   ]
  },
  {
   "cell_type": "markdown",
   "id": "fb1b8069",
   "metadata": {},
   "source": [
    "**Train Model: Experment 2**"
   ]
  },
  {
   "cell_type": "code",
   "execution_count": 14,
   "id": "25135788",
   "metadata": {},
   "outputs": [
    {
     "name": "stdout",
     "output_type": "stream",
     "text": [
      "                 precision    recall  f1-score   support\n",
      "\n",
      "No Cancellation       0.96      0.84      0.89     33219\n",
      "   Cancellation       0.51      0.81      0.62      6744\n",
      "\n",
      "       accuracy                           0.84     39963\n",
      "      macro avg       0.73      0.82      0.76     39963\n",
      "   weighted avg       0.88      0.84      0.85     39963\n",
      "\n"
     ]
    }
   ],
   "source": [
    "# Define the target variable and independent variables\n",
    "X = df_exp2.drop('cancelacion', axis=1)\n",
    "y = df_exp2['cancelacion']\n",
    "\n",
    "# Train test split\n",
    "X_train, X_test, y_train, y_test = train_test_split(X, y, test_size=0.2, random_state=42)\n",
    "\n",
    "# Define logistic regression model\n",
    "params = {\n",
    "    'class_weight': 'balanced',\n",
    "    'random_state': 42\n",
    "    }\n",
    "\n",
    "lr = LogisticRegression(**params)\n",
    "\n",
    "lr.fit(X_train, y_train)\n",
    "\n",
    "# Evaluation\n",
    "y_pred = lr.predict(X_test)\n",
    "\n",
    "print(classification_report(y_test, y_pred, target_names=['No Cancellation', 'Cancellation']))  # noqa: T201\n",
    "\n",
    "precision = precision_score(y_test, y_pred)\n",
    "recall = recall_score(y_test, y_pred)\n",
    "f1 = f1_score(y_test, y_pred)\n",
    "y_scores = lr.predict_proba(X_test)[:, 1]\n",
    "average_precision = average_precision_score(y_test, y_scores)\n",
    "accuracy = accuracy_score(y_test, y_pred)"
   ]
  },
  {
   "cell_type": "code",
   "execution_count": 15,
   "id": "1824e5d5",
   "metadata": {},
   "outputs": [
    {
     "data": {
      "text/html": [
       "<pre style=\"white-space:pre;overflow-x:auto;line-height:normal;font-family:Menlo,'DejaVu Sans Mono',consolas,'Courier New',monospace\"></pre>\n"
      ],
      "text/plain": []
     },
     "metadata": {},
     "output_type": "display_data"
    },
    {
     "data": {
      "image/png": "[encoded data removed]",
      "text/plain": [
       "\u001b[1m<\u001b[0m\u001b[1;95mFigure\u001b[0m\u001b[39m size 80\u001b[0m\u001b[1;36m0x400\u001b[0m\u001b[39m with \u001b[0m\u001b[1;36m3\u001b[0m\u001b[39m Axes\u001b[0m\u001b[1m>\u001b[0m"
      ]
     },
     "metadata": {},
     "output_type": "display_data"
    }
   ],
   "source": [
    "fig, (ax1, ax2) = plt.subplots(1, 2, figsize=(8, 4))\n",
    "\n",
    "ConfusionMatrixDisplay.from_estimator(lr, X_test, y_test, normalize='all', cmap='Blues', ax=ax1)\n",
    "ax1.set_title(\"Confusion Matrix - Exp 2\")\n",
    "\n",
    "PrecisionRecallDisplay.from_estimator(lr, X_test, y_test, ax=ax2)\n",
    "ax2.set_title(\"Precision-Recall Curve - Exp 2\")\n",
    "\n",
    "plt.suptitle(\"Model Evaluation - Exp 2\")\n",
    "\n",
    "plt.tight_layout()  # Ajusta para que no se solapen los títulos\n",
    "\n",
    "plt.savefig(\"model_evaluation_exp2.png\")\n",
    "plt.show()"
   ]
  },
  {
   "cell_type": "markdown",
   "id": "c833f624",
   "metadata": {},
   "source": [
    "**Log model: Experiment 2**"
   ]
  },
  {
   "cell_type": "code",
   "execution_count": 16,
   "id": "c00ecc5b",
   "metadata": {},
   "outputs": [
    {
     "name": "stderr",
     "output_type": "stream",
     "text": [
      "2025/06/08 15:04:34 INFO mlflow.tracking.fluent: Experiment with name 'Experiment 2' does not exist. Creating a new experiment.\n",
      "Downloading artifacts: 100%|██████████| 7/7 [00:00<00:00, 251.22it/s]\n",
      "Registered model 'reservaciones_exp2_model' already exists. Creating a new version of this model...\n",
      "2025/06/08 15:04:50 INFO mlflow.store.model_registry.abstract_store: Waiting up to 300 seconds for model version to finish creation. Model name: reservaciones_exp2_model, version 6\n",
      "Created version '6' of model 'reservaciones_exp2_model'.\n"
     ]
    },
    {
     "name": "stdout",
     "output_type": "stream",
     "text": [
      "🏃 View run nervous-shrike-491 at: http://127.0.0.1:5000/#/experiments/723662218742010694/runs/36bcb72a7513454cb48b62d107322035\n",
      "🧪 View experiment at: http://127.0.0.1:5000/#/experiments/723662218742010694\n"
     ]
    }
   ],
   "source": [
    "# Set our tracking server uri for logging\n",
    "mlflow.set_tracking_uri(uri=\"http://127.0.0.1:5000\")\n",
    "\n",
    "# Create a new MLflow Experiment\n",
    "mlflow.set_experiment(\"Experiment 2\")\n",
    "\n",
    "# Start an MLflow run\n",
    "with mlflow.start_run():\n",
    "    # Log the dataset\n",
    "    #mlflow.log_artifact(datasets.load_iris())\n",
    "\n",
    "    # Log the hyperparameters\n",
    "    mlflow.log_params(params)\n",
    "\n",
    "    # Log metrics\n",
    "    metrics = {\n",
    "        \"precision\": precision,\n",
    "        \"recall\": recall,\n",
    "        \"f1_score\": f1,\n",
    "        \"average_precision\": average_precision,\n",
    "        \"accuracy\": accuracy\n",
    "    }\n",
    "\n",
    "    mlflow.log_metrics(metrics)\n",
    "\n",
    "    # Log plots\n",
    "    mlflow.log_artifact(\"model_evaluation_exp2.png\")\n",
    "\n",
    "    # Set a tag that we can use to remind ourselves what this run was for\n",
    "    mlflow.set_tag(\"Info\", \"Basic Logistic Regression Model on reservaciones_exp2\")\n",
    "    mlflow.set_tag(\"Model Type\", \"Logistic Regression\")\n",
    "    mlflow.set_tag(\"Dataset\", \"reservaciones_exp2.parquet\")\n",
    "\n",
    "    # Infer the model signature\n",
    "    signature = infer_signature(X_train, lr.predict(X_train))\n",
    "\n",
    "    # Log the model\n",
    "    model_info = mlflow.sklearn.log_model(\n",
    "        sk_model=lr,\n",
    "        artifact_path=\"reservaciones_exp2_model\",\n",
    "        signature=signature,\n",
    "        input_example=X_train,\n",
    "        registered_model_name=\"reservaciones_exp2_model\"\n",
    "    )"
   ]
  },
  {
   "cell_type": "markdown",
   "id": "7461c5ba",
   "metadata": {},
   "source": [
    "### Models training and hyperparameters tuning"
   ]
  },
  {
   "cell_type": "code",
   "execution_count": 17,
   "id": "7b34422d",
   "metadata": {},
   "outputs": [],
   "source": [
    "np.random.seed(42)"
   ]
  },
  {
   "cell_type": "markdown",
   "id": "beba51d7",
   "metadata": {},
   "source": [
    "#### Experiment 1"
   ]
  },
  {
   "cell_type": "markdown",
   "id": "fe5e6d1c",
   "metadata": {},
   "source": [
    "**Logistic Regression**"
   ]
  },
  {
   "cell_type": "code",
   "execution_count": 18,
   "id": "9293ff72",
   "metadata": {},
   "outputs": [
    {
     "name": "stderr",
     "output_type": "stream",
     "text": [
      "c:\\Users\\Esteban\\Documents\\. Clases_Tec\\8. Octavo semestre\\_Proyecto\\kProject\\tcaproject\\.venv\\Lib\\site-packages\\sklearn\\linear_model\\_logistic.py:1207: UserWarning: Setting penalty=None will ignore the C and l1_ratio parameters\n",
      "  warnings.warn(\n",
      "c:\\Users\\Esteban\\Documents\\. Clases_Tec\\8. Octavo semestre\\_Proyecto\\kProject\\tcaproject\\.venv\\Lib\\site-packages\\sklearn\\linear_model\\_sag.py:348: ConvergenceWarning: The max_iter was reached which means the coef_ did not converge\n",
      "  warnings.warn(\n",
      "Downloading artifacts: 100%|██████████| 7/7 [00:00<00:00, 820.76it/s] \n"
     ]
    },
    {
     "name": "stdout",
     "output_type": "stream",
     "text": [
      "🏃 View run RandomSearch_20250608_150450_run_1 at: http://127.0.0.1:5000/#/experiments/225744905131217093/runs/9a0553a07bd743f79db7506448002414\n",
      "🧪 View experiment at: http://127.0.0.1:5000/#/experiments/225744905131217093\n"
     ]
    },
    {
     "name": "stderr",
     "output_type": "stream",
     "text": [
      "c:\\Users\\Esteban\\Documents\\. Clases_Tec\\8. Octavo semestre\\_Proyecto\\kProject\\tcaproject\\.venv\\Lib\\site-packages\\sklearn\\linear_model\\_sag.py:348: ConvergenceWarning: The max_iter was reached which means the coef_ did not converge\n",
      "  warnings.warn(\n",
      "Downloading artifacts: 100%|██████████| 7/7 [00:00<00:00, 399.41it/s]\n"
     ]
    },
    {
     "name": "stdout",
     "output_type": "stream",
     "text": [
      "🏃 View run RandomSearch_20250608_150450_run_2 at: http://127.0.0.1:5000/#/experiments/225744905131217093/runs/8242b2daaf4a4f02b6ee38b2c840ad69\n",
      "🧪 View experiment at: http://127.0.0.1:5000/#/experiments/225744905131217093\n"
     ]
    },
    {
     "name": "stderr",
     "output_type": "stream",
     "text": [
      "c:\\Users\\Esteban\\Documents\\. Clases_Tec\\8. Octavo semestre\\_Proyecto\\kProject\\tcaproject\\.venv\\Lib\\site-packages\\sklearn\\linear_model\\_sag.py:348: ConvergenceWarning: The max_iter was reached which means the coef_ did not converge\n",
      "  warnings.warn(\n",
      "Downloading artifacts: 100%|██████████| 7/7 [00:00<00:00, 441.03it/s]\n"
     ]
    },
    {
     "name": "stdout",
     "output_type": "stream",
     "text": [
      "🏃 View run RandomSearch_20250608_150450_run_3 at: http://127.0.0.1:5000/#/experiments/225744905131217093/runs/4fc44fd25be64d52b3f8ef1d9a9dc009\n",
      "🧪 View experiment at: http://127.0.0.1:5000/#/experiments/225744905131217093\n"
     ]
    },
    {
     "name": "stderr",
     "output_type": "stream",
     "text": [
      "c:\\Users\\Esteban\\Documents\\. Clases_Tec\\8. Octavo semestre\\_Proyecto\\kProject\\tcaproject\\.venv\\Lib\\site-packages\\sklearn\\linear_model\\_logistic.py:1207: UserWarning: Setting penalty=None will ignore the C and l1_ratio parameters\n",
      "  warnings.warn(\n",
      "Downloading artifacts: 100%|██████████| 7/7 [00:00<00:00, 466.66it/s]\n"
     ]
    },
    {
     "name": "stdout",
     "output_type": "stream",
     "text": [
      "🏃 View run RandomSearch_20250608_150450_run_4 at: http://127.0.0.1:5000/#/experiments/225744905131217093/runs/a9ff77f1e6b745b294fff45a4e3693b5\n",
      "🧪 View experiment at: http://127.0.0.1:5000/#/experiments/225744905131217093\n"
     ]
    },
    {
     "name": "stderr",
     "output_type": "stream",
     "text": [
      "c:\\Users\\Esteban\\Documents\\. Clases_Tec\\8. Octavo semestre\\_Proyecto\\kProject\\tcaproject\\.venv\\Lib\\site-packages\\sklearn\\linear_model\\_logistic.py:1207: UserWarning: Setting penalty=None will ignore the C and l1_ratio parameters\n",
      "  warnings.warn(\n",
      "c:\\Users\\Esteban\\Documents\\. Clases_Tec\\8. Octavo semestre\\_Proyecto\\kProject\\tcaproject\\.venv\\Lib\\site-packages\\sklearn\\linear_model\\_sag.py:348: ConvergenceWarning: The max_iter was reached which means the coef_ did not converge\n",
      "  warnings.warn(\n",
      "Downloading artifacts: 100%|██████████| 7/7 [00:00<00:00, 500.08it/s] \n"
     ]
    },
    {
     "name": "stdout",
     "output_type": "stream",
     "text": [
      "🏃 View run RandomSearch_20250608_150450_run_5 at: http://127.0.0.1:5000/#/experiments/225744905131217093/runs/808b409cbc484b0ca83cb63bb2259c46\n",
      "🧪 View experiment at: http://127.0.0.1:5000/#/experiments/225744905131217093\n"
     ]
    },
    {
     "name": "stderr",
     "output_type": "stream",
     "text": [
      "c:\\Users\\Esteban\\Documents\\. Clases_Tec\\8. Octavo semestre\\_Proyecto\\kProject\\tcaproject\\.venv\\Lib\\site-packages\\sklearn\\linear_model\\_logistic.py:1207: UserWarning: Setting penalty=None will ignore the C and l1_ratio parameters\n",
      "  warnings.warn(\n",
      "Downloading artifacts: 100%|██████████| 7/7 [00:00<00:00, 660.56it/s] \n"
     ]
    },
    {
     "name": "stdout",
     "output_type": "stream",
     "text": [
      "🏃 View run RandomSearch_20250608_150450_run_6 at: http://127.0.0.1:5000/#/experiments/225744905131217093/runs/cf00241316504c0b95a035bfb382b960\n",
      "🧪 View experiment at: http://127.0.0.1:5000/#/experiments/225744905131217093\n"
     ]
    },
    {
     "name": "stderr",
     "output_type": "stream",
     "text": [
      "c:\\Users\\Esteban\\Documents\\. Clases_Tec\\8. Octavo semestre\\_Proyecto\\kProject\\tcaproject\\.venv\\Lib\\site-packages\\sklearn\\linear_model\\_logistic.py:1207: UserWarning: Setting penalty=None will ignore the C and l1_ratio parameters\n",
      "  warnings.warn(\n",
      "Downloading artifacts: 100%|██████████| 7/7 [00:00<00:00, 484.71it/s]\n"
     ]
    },
    {
     "name": "stdout",
     "output_type": "stream",
     "text": [
      "🏃 View run RandomSearch_20250608_150450_run_7 at: http://127.0.0.1:5000/#/experiments/225744905131217093/runs/61de19365b0d4969ad24506809c69476\n",
      "🧪 View experiment at: http://127.0.0.1:5000/#/experiments/225744905131217093\n"
     ]
    },
    {
     "name": "stderr",
     "output_type": "stream",
     "text": [
      "Downloading artifacts: 100%|██████████| 7/7 [00:00<00:00, 563.21it/s]\n"
     ]
    },
    {
     "name": "stdout",
     "output_type": "stream",
     "text": [
      "🏃 View run RandomSearch_20250608_150450_run_8 at: http://127.0.0.1:5000/#/experiments/225744905131217093/runs/ce4432e57da74323ab9a3223a0bd6fc6\n",
      "🧪 View experiment at: http://127.0.0.1:5000/#/experiments/225744905131217093\n"
     ]
    },
    {
     "name": "stderr",
     "output_type": "stream",
     "text": [
      "c:\\Users\\Esteban\\Documents\\. Clases_Tec\\8. Octavo semestre\\_Proyecto\\kProject\\tcaproject\\.venv\\Lib\\site-packages\\sklearn\\linear_model\\_logistic.py:1207: UserWarning: Setting penalty=None will ignore the C and l1_ratio parameters\n",
      "  warnings.warn(\n",
      "c:\\Users\\Esteban\\Documents\\. Clases_Tec\\8. Octavo semestre\\_Proyecto\\kProject\\tcaproject\\.venv\\Lib\\site-packages\\sklearn\\linear_model\\_sag.py:348: ConvergenceWarning: The max_iter was reached which means the coef_ did not converge\n",
      "  warnings.warn(\n",
      "Downloading artifacts: 100%|██████████| 7/7 [00:00<00:00, 851.88it/s] \n"
     ]
    },
    {
     "name": "stdout",
     "output_type": "stream",
     "text": [
      "🏃 View run RandomSearch_20250608_150450_run_9 at: http://127.0.0.1:5000/#/experiments/225744905131217093/runs/2c8c3aeb4f514c2e90055a9e436b3d3e\n",
      "🧪 View experiment at: http://127.0.0.1:5000/#/experiments/225744905131217093\n"
     ]
    },
    {
     "name": "stderr",
     "output_type": "stream",
     "text": [
      "Downloading artifacts: 100%|██████████| 7/7 [00:00<00:00, 583.34it/s] \n"
     ]
    },
    {
     "name": "stdout",
     "output_type": "stream",
     "text": [
      "🏃 View run RandomSearch_20250608_150450_run_10 at: http://127.0.0.1:5000/#/experiments/225744905131217093/runs/d494ae9bbdbc413eb42f75b3f06a5bc9\n",
      "🧪 View experiment at: http://127.0.0.1:5000/#/experiments/225744905131217093\n"
     ]
    }
   ],
   "source": [
    "# Logistics regression params from parameters_data_science.yml\n",
    "mlflow.set_experiment(\"Experiment 1\")\n",
    "run_name_prefix = f\"RandomSearch_{datetime.now().strftime('%Y%m%d_%H%M%S')}\"\n",
    "\n",
    "# Define the target variable and independent variables\n",
    "X = df_exp1.drop('cancelacion', axis=1)\n",
    "y = df_exp1['cancelacion']\n",
    "# Train test split\n",
    "X_train, X_test, y_train, y_test = train_test_split(X, y, test_size=0.2, random_state=42)\n",
    "\n",
    "\n",
    "\n",
    "# Espacio de búsqueda válido agrupado por compatibilidad solver-penalty\n",
    "param_dist = [\n",
    "    {\n",
    "        'solver': ['newton-cg', 'lbfgs', 'sag'],\n",
    "        'penalty': ['l2', None],\n",
    "        'C': [0.01, 0.1, 1, 5, 10],\n",
    "        'class_weight': ['balanced', None],\n",
    "        'max_iter': [100, 200, 300, 400, 500]\n",
    "    },\n",
    "    {\n",
    "        'solver': ['liblinear', 'saga'],\n",
    "        'penalty': ['l1'],\n",
    "        'C': [0.01, 0.1, 1, 5, 10],\n",
    "        'class_weight': ['balanced', None],\n",
    "        'max_iter': [100, 200, 300, 400, 500]\n",
    "    },\n",
    "    {\n",
    "        'solver': ['saga'],\n",
    "        'penalty': ['elasticnet'],\n",
    "        'l1_ratio': [0.1, 0.5, 0.7, 0.9],\n",
    "        'C': [0.01, 0.1, 1, 5, 10],\n",
    "        'class_weight': ['balanced', None],\n",
    "        'max_iter': [100, 200, 300, 400, 500]\n",
    "    }\n",
    "]\n",
    "\n",
    "# Para RandomizedSearchCV, combinamos los espacios y muestreamos n_iter combinaciones\n",
    "n_iter = 10\n",
    "param_list = []\n",
    "for param_group in param_dist:\n",
    "    param_list.extend(list(ParameterSampler(param_group, n_iter=n_iter, random_state=42)))\n",
    "\n",
    "# Limitamos a n_iter combinaciones totales\n",
    "param_list = param_list[:n_iter]\n",
    "\n",
    "best_score_lr = -np.inf\n",
    "best_params_lr = None\n",
    "\n",
    "for i, params in enumerate(param_list):\n",
    "    with mlflow.start_run(run_name=f\"{run_name_prefix}_run_{i+1}\"):\n",
    "        # Entrena el modelo con los parámetros actuales\n",
    "        model = LogisticRegression(**params)\n",
    "        model.fit(X_train, y_train)\n",
    "\n",
    "        # Log metrics\n",
    "        y_pred = model.predict(X_test)\n",
    "\n",
    "        metrics = {\n",
    "            \"precision\": precision_score(y_test, y_pred),\n",
    "            \"recall\": recall_score(y_test, y_pred),\n",
    "            \"f1_score\": f1_score(y_test, y_pred),\n",
    "            \"average_precision\": average_precision_score(y_test, model.predict_proba(X_test)[:, 1])\n",
    "        }\n",
    "\n",
    "        mlflow.log_metrics(metrics)\n",
    "\n",
    "        # Log parameters\n",
    "        mlflow.log_params(params)\n",
    "\n",
    "        # Log tags\n",
    "        mlflow.set_tag(\"Model Type\", \"Logistic Regression\")\n",
    "        mlflow.set_tag(\"Run Type\", \"Hyperparameter Tuning\")\n",
    "\n",
    "        # Loguea el modelo con firma e input_example para trazabilidad\n",
    "        from mlflow.models import infer_signature\n",
    "        signature = infer_signature(X_train, model.predict(X_train))\n",
    "        mlflow.sklearn.log_model(\n",
    "            sk_model=model,\n",
    "            artifact_path=\"model\",\n",
    "            signature=signature,\n",
    "            input_example=X_train.head(5)\n",
    "        )\n",
    "\n",
    "        # Actualiza mejor resultado\n",
    "        if recall > best_score_lr:\n",
    "            best_score_lr = recall\n",
    "            best_params_lr = params\n",
    "\n",
    "\n"
   ]
  },
  {
   "cell_type": "code",
   "execution_count": 19,
   "id": "87e54a76",
   "metadata": {},
   "outputs": [
    {
     "name": "stdout",
     "output_type": "stream",
     "text": [
      "Mejores parámetros: {'solver': 'sag', 'penalty': None, 'max_iter': 400, 'class_weight': 'balanced', 'C': 5}\n",
      "Mejor recall: 0.8096085409252669\n"
     ]
    }
   ],
   "source": [
    "print(\"Mejores parámetros:\", best_params_lr)  # noqa: T201\n",
    "print(\"Mejor recall:\", best_score_lr) # noqa: T201"
   ]
  },
  {
   "cell_type": "markdown",
   "id": "59002e8d",
   "metadata": {},
   "source": [
    "**Random Forest**"
   ]
  },
  {
   "cell_type": "code",
   "execution_count": 21,
   "id": "2db4d690",
   "metadata": {},
   "outputs": [
    {
     "name": "stderr",
     "output_type": "stream",
     "text": [
      "Downloading artifacts: 100%|██████████| 7/7 [00:00<00:00, 378.47it/s] \n"
     ]
    },
    {
     "name": "stdout",
     "output_type": "stream",
     "text": [
      "🏃 View run RandomSearch_20250608_152147_run_1 at: http://127.0.0.1:5000/#/experiments/225744905131217093/runs/93c0e7b7e2b44344b9d5b1953d8f98e4\n",
      "🧪 View experiment at: http://127.0.0.1:5000/#/experiments/225744905131217093\n"
     ]
    },
    {
     "name": "stderr",
     "output_type": "stream",
     "text": [
      "Downloading artifacts: 100%|██████████| 7/7 [00:00<00:00, 610.03it/s] \n"
     ]
    },
    {
     "name": "stdout",
     "output_type": "stream",
     "text": [
      "🏃 View run RandomSearch_20250608_152147_run_2 at: http://127.0.0.1:5000/#/experiments/225744905131217093/runs/bac273ca4d944d55922c40fd06353022\n",
      "🧪 View experiment at: http://127.0.0.1:5000/#/experiments/225744905131217093\n"
     ]
    },
    {
     "name": "stderr",
     "output_type": "stream",
     "text": [
      "Downloading artifacts: 100%|██████████| 7/7 [00:00<00:00, 690.44it/s] \n"
     ]
    },
    {
     "name": "stdout",
     "output_type": "stream",
     "text": [
      "🏃 View run RandomSearch_20250608_152147_run_3 at: http://127.0.0.1:5000/#/experiments/225744905131217093/runs/b5a66070e7164e1a95d6b08c9dbb6d52\n",
      "🧪 View experiment at: http://127.0.0.1:5000/#/experiments/225744905131217093\n"
     ]
    },
    {
     "name": "stderr",
     "output_type": "stream",
     "text": [
      "Downloading artifacts: 100%|██████████| 7/7 [00:00<00:00, 582.80it/s] \n"
     ]
    },
    {
     "name": "stdout",
     "output_type": "stream",
     "text": [
      "🏃 View run RandomSearch_20250608_152147_run_4 at: http://127.0.0.1:5000/#/experiments/225744905131217093/runs/f13d1afa19924b0bb6b9322e16fa661f\n",
      "🧪 View experiment at: http://127.0.0.1:5000/#/experiments/225744905131217093\n"
     ]
    },
    {
     "name": "stderr",
     "output_type": "stream",
     "text": [
      "Downloading artifacts: 100%|██████████| 7/7 [00:00<00:00, 614.25it/s]\n"
     ]
    },
    {
     "name": "stdout",
     "output_type": "stream",
     "text": [
      "🏃 View run RandomSearch_20250608_152147_run_5 at: http://127.0.0.1:5000/#/experiments/225744905131217093/runs/df51079041a0410abaea6c09ee911951\n",
      "🧪 View experiment at: http://127.0.0.1:5000/#/experiments/225744905131217093\n"
     ]
    },
    {
     "name": "stderr",
     "output_type": "stream",
     "text": [
      "Downloading artifacts: 100%|██████████| 7/7 [00:00<00:00, 169.19it/s]\n"
     ]
    },
    {
     "name": "stdout",
     "output_type": "stream",
     "text": [
      "🏃 View run RandomSearch_20250608_152147_run_6 at: http://127.0.0.1:5000/#/experiments/225744905131217093/runs/a34b37e3a7f1449c9f691c44629493ef\n",
      "🧪 View experiment at: http://127.0.0.1:5000/#/experiments/225744905131217093\n"
     ]
    },
    {
     "name": "stderr",
     "output_type": "stream",
     "text": [
      "Downloading artifacts: 100%|██████████| 7/7 [00:00<00:00, 537.96it/s]\n"
     ]
    },
    {
     "name": "stdout",
     "output_type": "stream",
     "text": [
      "🏃 View run RandomSearch_20250608_152147_run_7 at: http://127.0.0.1:5000/#/experiments/225744905131217093/runs/8936c889ed184b17836a6aa3b3c739de\n",
      "🧪 View experiment at: http://127.0.0.1:5000/#/experiments/225744905131217093\n"
     ]
    },
    {
     "name": "stderr",
     "output_type": "stream",
     "text": [
      "Downloading artifacts: 100%|██████████| 7/7 [00:00<00:00, 642.44it/s] \n"
     ]
    },
    {
     "name": "stdout",
     "output_type": "stream",
     "text": [
      "🏃 View run RandomSearch_20250608_152147_run_8 at: http://127.0.0.1:5000/#/experiments/225744905131217093/runs/9f01da24fee2460c998c041b2db6d6b6\n",
      "🧪 View experiment at: http://127.0.0.1:5000/#/experiments/225744905131217093\n"
     ]
    },
    {
     "name": "stderr",
     "output_type": "stream",
     "text": [
      "Downloading artifacts: 100%|██████████| 7/7 [00:00<00:00, 444.74it/s]\n"
     ]
    },
    {
     "name": "stdout",
     "output_type": "stream",
     "text": [
      "🏃 View run RandomSearch_20250608_152147_run_9 at: http://127.0.0.1:5000/#/experiments/225744905131217093/runs/461045b84b0445c19c3b94cdf959bb3e\n",
      "🧪 View experiment at: http://127.0.0.1:5000/#/experiments/225744905131217093\n"
     ]
    },
    {
     "name": "stderr",
     "output_type": "stream",
     "text": [
      "Downloading artifacts: 100%|██████████| 7/7 [00:00<00:00, 23.44it/s]  \n"
     ]
    },
    {
     "name": "stdout",
     "output_type": "stream",
     "text": [
      "🏃 View run RandomSearch_20250608_152147_run_10 at: http://127.0.0.1:5000/#/experiments/225744905131217093/runs/b07aeee4e8a34eb389788285376cd7c5\n",
      "🧪 View experiment at: http://127.0.0.1:5000/#/experiments/225744905131217093\n"
     ]
    }
   ],
   "source": [
    "mlflow.set_experiment(\"Experiment 1\")\n",
    "run_name_prefix = f\"RandomSearch_{datetime.now().strftime('%Y%m%d_%H%M%S')}\"\n",
    "\n",
    "# Define features and target\n",
    "X = df_exp1.drop('cancelacion', axis=1)\n",
    "y = df_exp1['cancelacion']\n",
    "\n",
    "# Train-test split\n",
    "X_train, X_test, y_train, y_test = train_test_split(X, y, test_size=0.2, random_state=42)\n",
    "\n",
    "# Espacio de búsqueda para Random Forest\n",
    "param_dist = {\n",
    "    'n_estimators': [50, 100, 200, 300],\n",
    "    'max_depth': [None, 10, 20, 30, 40],\n",
    "    'min_samples_split': [2, 5, 10],\n",
    "    'min_samples_leaf': [1, 2, 4],\n",
    "    'max_features': [None, 'sqrt', 'log2'],\n",
    "    'max_leaf_nodes': [None, 10, 20, 30],\n",
    "    'criterion': ['gini', 'entropy'],\n",
    "    'bootstrap': [True, False],\n",
    "    'class_weight': ['balanced', 'balanced_subsample', None]\n",
    "}\n",
    "\n",
    "n_iter = 10\n",
    "param_list = list(ParameterSampler(param_dist, n_iter=n_iter, random_state=42))\n",
    "\n",
    "best_score_rf = -np.inf\n",
    "best_params_rf = None\n",
    "\n",
    "for i, params in enumerate(param_list):\n",
    "    with mlflow.start_run(run_name=f\"{run_name_prefix}_run_{i+1}\"):\n",
    "        # Entrena el modelo con los parámetros actuales\n",
    "        model = RandomForestClassifier(**params, random_state=42, n_jobs=-1)\n",
    "        model.fit(X_train, y_train)\n",
    "\n",
    "        # Predicciones y cálculo de métricas\n",
    "        y_pred = model.predict(X_test)\n",
    "        y_proba = model.predict_proba(X_test)[:, 1]\n",
    "\n",
    "        metrics = {\n",
    "            \"precision\": precision_score(y_test, y_pred),\n",
    "            \"recall\": recall_score(y_test, y_pred),\n",
    "            \"f1_score\": f1_score(y_test, y_pred),\n",
    "            \"average_precision\": average_precision_score(y_test, y_proba)\n",
    "        }\n",
    "\n",
    "        # Loguea métricas y parámetros\n",
    "        mlflow.log_metrics(metrics)\n",
    "        mlflow.log_params(params)\n",
    "\n",
    "        # Log tags\n",
    "        mlflow.set_tag(\"Model Type\", \"Random Forest\")\n",
    "        mlflow.set_tag(\"Run Type\", \"Hyperparameter Tuning\")\n",
    "\n",
    "        # Loguea el modelo con firma e input_example para trazabilidad\n",
    "        from mlflow.models import infer_signature\n",
    "        signature = infer_signature(X_train, model.predict(X_train))\n",
    "        mlflow.sklearn.log_model(\n",
    "            sk_model=model,\n",
    "            artifact_path=\"model\",\n",
    "            signature=signature,\n",
    "            input_example=X_train.head(5)\n",
    "        )\n",
    "\n",
    "        # Actualiza mejor resultado basado en recall\n",
    "        if metrics[\"recall\"] > best_score_rf:\n",
    "            best_score_rf = metrics[\"recall\"]\n",
    "            best_params_rf = params\n"
   ]
  },
  {
   "cell_type": "code",
   "execution_count": 22,
   "id": "2750fc0e",
   "metadata": {},
   "outputs": [
    {
     "name": "stdout",
     "output_type": "stream",
     "text": [
      "Mejores parámetros: {'n_estimators': 300, 'min_samples_split': 10, 'min_samples_leaf': 1, 'max_leaf_nodes': 30, 'max_features': 'log2', 'max_depth': 40, 'criterion': 'entropy', 'class_weight': 'balanced_subsample', 'bootstrap': False}\n",
      "Mejor recall: 0.8570346812055126\n"
     ]
    }
   ],
   "source": [
    "print(\"Mejores parámetros:\", best_params_rf) # noqa: T201\n",
    "print(\"Mejor recall:\", best_score_rf) # noqa: T201"
   ]
  },
  {
   "cell_type": "markdown",
   "id": "cbe6b40d",
   "metadata": {},
   "source": [
    "**XGBoos**"
   ]
  },
  {
   "cell_type": "code",
   "execution_count": 23,
   "id": "5e2c9de7",
   "metadata": {},
   "outputs": [
    {
     "name": "stderr",
     "output_type": "stream",
     "text": [
      "c:\\Users\\Esteban\\Documents\\. Clases_Tec\\8. Octavo semestre\\_Proyecto\\kProject\\tcaproject\\.venv\\Lib\\site-packages\\xgboost\\sklearn.py:1028: UserWarning: [15:29:40] WARNING: C:\\actions-runner\\_work\\xgboost\\xgboost\\src\\c_api\\c_api.cc:1427: Saving model in the UBJSON format as default.  You can use file extension: `json`, `ubj` or `deprecated` to choose between formats.\n",
      "  self.get_booster().save_model(fname)\n",
      "Downloading artifacts: 100%|██████████| 7/7 [00:00<00:00, 522.44it/s]\n"
     ]
    },
    {
     "name": "stdout",
     "output_type": "stream",
     "text": [
      "🏃 View run RandomSearch_XGB_20250608_152934_run_1 at: http://127.0.0.1:5000/#/experiments/225744905131217093/runs/d091e9cf86e141a4b8f2f7050a502766\n",
      "🧪 View experiment at: http://127.0.0.1:5000/#/experiments/225744905131217093\n"
     ]
    },
    {
     "name": "stderr",
     "output_type": "stream",
     "text": [
      "c:\\Users\\Esteban\\Documents\\. Clases_Tec\\8. Octavo semestre\\_Proyecto\\kProject\\tcaproject\\.venv\\Lib\\site-packages\\xgboost\\sklearn.py:1028: UserWarning: [15:29:57] WARNING: C:\\actions-runner\\_work\\xgboost\\xgboost\\src\\c_api\\c_api.cc:1427: Saving model in the UBJSON format as default.  You can use file extension: `json`, `ubj` or `deprecated` to choose between formats.\n",
      "  self.get_booster().save_model(fname)\n",
      "Downloading artifacts: 100%|██████████| 7/7 [00:00<00:00, 681.49it/s]\n"
     ]
    },
    {
     "name": "stdout",
     "output_type": "stream",
     "text": [
      "🏃 View run RandomSearch_XGB_20250608_152934_run_2 at: http://127.0.0.1:5000/#/experiments/225744905131217093/runs/9c0c509a79a94a569304a3fe32796e75\n",
      "🧪 View experiment at: http://127.0.0.1:5000/#/experiments/225744905131217093\n"
     ]
    },
    {
     "name": "stderr",
     "output_type": "stream",
     "text": [
      "c:\\Users\\Esteban\\Documents\\. Clases_Tec\\8. Octavo semestre\\_Proyecto\\kProject\\tcaproject\\.venv\\Lib\\site-packages\\xgboost\\sklearn.py:1028: UserWarning: [15:30:14] WARNING: C:\\actions-runner\\_work\\xgboost\\xgboost\\src\\c_api\\c_api.cc:1427: Saving model in the UBJSON format as default.  You can use file extension: `json`, `ubj` or `deprecated` to choose between formats.\n",
      "  self.get_booster().save_model(fname)\n",
      "Downloading artifacts: 100%|██████████| 7/7 [00:00<00:00, 510.05it/s]\n"
     ]
    },
    {
     "name": "stdout",
     "output_type": "stream",
     "text": [
      "🏃 View run RandomSearch_XGB_20250608_152934_run_3 at: http://127.0.0.1:5000/#/experiments/225744905131217093/runs/4a99813e12c04bf6a96e150a8a3c30ee\n",
      "🧪 View experiment at: http://127.0.0.1:5000/#/experiments/225744905131217093\n"
     ]
    },
    {
     "name": "stderr",
     "output_type": "stream",
     "text": [
      "c:\\Users\\Esteban\\Documents\\. Clases_Tec\\8. Octavo semestre\\_Proyecto\\kProject\\tcaproject\\.venv\\Lib\\site-packages\\xgboost\\sklearn.py:1028: UserWarning: [15:30:31] WARNING: C:\\actions-runner\\_work\\xgboost\\xgboost\\src\\c_api\\c_api.cc:1427: Saving model in the UBJSON format as default.  You can use file extension: `json`, `ubj` or `deprecated` to choose between formats.\n",
      "  self.get_booster().save_model(fname)\n",
      "Downloading artifacts: 100%|██████████| 7/7 [00:00<00:00, 974.67it/s] \n"
     ]
    },
    {
     "name": "stdout",
     "output_type": "stream",
     "text": [
      "🏃 View run RandomSearch_XGB_20250608_152934_run_4 at: http://127.0.0.1:5000/#/experiments/225744905131217093/runs/d782ceec392140c49723d2401c90873f\n",
      "🧪 View experiment at: http://127.0.0.1:5000/#/experiments/225744905131217093\n"
     ]
    },
    {
     "name": "stderr",
     "output_type": "stream",
     "text": [
      "c:\\Users\\Esteban\\Documents\\. Clases_Tec\\8. Octavo semestre\\_Proyecto\\kProject\\tcaproject\\.venv\\Lib\\site-packages\\xgboost\\sklearn.py:1028: UserWarning: [15:30:49] WARNING: C:\\actions-runner\\_work\\xgboost\\xgboost\\src\\c_api\\c_api.cc:1427: Saving model in the UBJSON format as default.  You can use file extension: `json`, `ubj` or `deprecated` to choose between formats.\n",
      "  self.get_booster().save_model(fname)\n",
      "Downloading artifacts: 100%|██████████| 7/7 [00:00<?, ?it/s]\n"
     ]
    },
    {
     "name": "stdout",
     "output_type": "stream",
     "text": [
      "🏃 View run RandomSearch_XGB_20250608_152934_run_5 at: http://127.0.0.1:5000/#/experiments/225744905131217093/runs/4e63246b99664808aa89cccb34ab509c\n",
      "🧪 View experiment at: http://127.0.0.1:5000/#/experiments/225744905131217093\n"
     ]
    },
    {
     "name": "stderr",
     "output_type": "stream",
     "text": [
      "c:\\Users\\Esteban\\Documents\\. Clases_Tec\\8. Octavo semestre\\_Proyecto\\kProject\\tcaproject\\.venv\\Lib\\site-packages\\xgboost\\sklearn.py:1028: UserWarning: [15:31:05] WARNING: C:\\actions-runner\\_work\\xgboost\\xgboost\\src\\c_api\\c_api.cc:1427: Saving model in the UBJSON format as default.  You can use file extension: `json`, `ubj` or `deprecated` to choose between formats.\n",
      "  self.get_booster().save_model(fname)\n",
      "Downloading artifacts: 100%|██████████| 7/7 [00:00<00:00, 1084.48it/s]\n"
     ]
    },
    {
     "name": "stdout",
     "output_type": "stream",
     "text": [
      "🏃 View run RandomSearch_XGB_20250608_152934_run_6 at: http://127.0.0.1:5000/#/experiments/225744905131217093/runs/c01d9f9358fd45d2b301aa6819b89c69\n",
      "🧪 View experiment at: http://127.0.0.1:5000/#/experiments/225744905131217093\n"
     ]
    },
    {
     "name": "stderr",
     "output_type": "stream",
     "text": [
      "c:\\Users\\Esteban\\Documents\\. Clases_Tec\\8. Octavo semestre\\_Proyecto\\kProject\\tcaproject\\.venv\\Lib\\site-packages\\xgboost\\sklearn.py:1028: UserWarning: [15:31:23] WARNING: C:\\actions-runner\\_work\\xgboost\\xgboost\\src\\c_api\\c_api.cc:1427: Saving model in the UBJSON format as default.  You can use file extension: `json`, `ubj` or `deprecated` to choose between formats.\n",
      "  self.get_booster().save_model(fname)\n",
      "Downloading artifacts: 100%|██████████| 7/7 [00:00<00:00, 568.91it/s]\n"
     ]
    },
    {
     "name": "stdout",
     "output_type": "stream",
     "text": [
      "🏃 View run RandomSearch_XGB_20250608_152934_run_7 at: http://127.0.0.1:5000/#/experiments/225744905131217093/runs/b9214a07de094d98a53200181d195c45\n",
      "🧪 View experiment at: http://127.0.0.1:5000/#/experiments/225744905131217093\n"
     ]
    },
    {
     "name": "stderr",
     "output_type": "stream",
     "text": [
      "c:\\Users\\Esteban\\Documents\\. Clases_Tec\\8. Octavo semestre\\_Proyecto\\kProject\\tcaproject\\.venv\\Lib\\site-packages\\xgboost\\sklearn.py:1028: UserWarning: [15:31:38] WARNING: C:\\actions-runner\\_work\\xgboost\\xgboost\\src\\c_api\\c_api.cc:1427: Saving model in the UBJSON format as default.  You can use file extension: `json`, `ubj` or `deprecated` to choose between formats.\n",
      "  self.get_booster().save_model(fname)\n",
      "Downloading artifacts: 100%|██████████| 7/7 [00:00<00:00, 555.64it/s]\n"
     ]
    },
    {
     "name": "stdout",
     "output_type": "stream",
     "text": [
      "🏃 View run RandomSearch_XGB_20250608_152934_run_8 at: http://127.0.0.1:5000/#/experiments/225744905131217093/runs/4a6b2dd0664f44629d53b3dd7782e7a6\n",
      "🧪 View experiment at: http://127.0.0.1:5000/#/experiments/225744905131217093\n"
     ]
    },
    {
     "name": "stderr",
     "output_type": "stream",
     "text": [
      "c:\\Users\\Esteban\\Documents\\. Clases_Tec\\8. Octavo semestre\\_Proyecto\\kProject\\tcaproject\\.venv\\Lib\\site-packages\\xgboost\\sklearn.py:1028: UserWarning: [15:31:55] WARNING: C:\\actions-runner\\_work\\xgboost\\xgboost\\src\\c_api\\c_api.cc:1427: Saving model in the UBJSON format as default.  You can use file extension: `json`, `ubj` or `deprecated` to choose between formats.\n",
      "  self.get_booster().save_model(fname)\n",
      "Downloading artifacts: 100%|██████████| 7/7 [00:00<00:00, 648.83it/s]\n"
     ]
    },
    {
     "name": "stdout",
     "output_type": "stream",
     "text": [
      "🏃 View run RandomSearch_XGB_20250608_152934_run_9 at: http://127.0.0.1:5000/#/experiments/225744905131217093/runs/fc32d2ba391b4b0394693e67a73fc61c\n",
      "🧪 View experiment at: http://127.0.0.1:5000/#/experiments/225744905131217093\n"
     ]
    },
    {
     "name": "stderr",
     "output_type": "stream",
     "text": [
      "c:\\Users\\Esteban\\Documents\\. Clases_Tec\\8. Octavo semestre\\_Proyecto\\kProject\\tcaproject\\.venv\\Lib\\site-packages\\xgboost\\sklearn.py:1028: UserWarning: [15:32:10] WARNING: C:\\actions-runner\\_work\\xgboost\\xgboost\\src\\c_api\\c_api.cc:1427: Saving model in the UBJSON format as default.  You can use file extension: `json`, `ubj` or `deprecated` to choose between formats.\n",
      "  self.get_booster().save_model(fname)\n",
      "Downloading artifacts: 100%|██████████| 7/7 [00:00<00:00, 768.99it/s]\n"
     ]
    },
    {
     "name": "stdout",
     "output_type": "stream",
     "text": [
      "🏃 View run RandomSearch_XGB_20250608_152934_run_10 at: http://127.0.0.1:5000/#/experiments/225744905131217093/runs/fdfe451caf624b68bc2fc8ce92c0c75f\n",
      "🧪 View experiment at: http://127.0.0.1:5000/#/experiments/225744905131217093\n"
     ]
    }
   ],
   "source": [
    "mlflow.set_experiment(\"Experiment 1\")\n",
    "run_name_prefix = f\"RandomSearch_XGB_{datetime.now().strftime('%Y%m%d_%H%M%S')}\"\n",
    "\n",
    "# Define features and target\n",
    "X = df_exp1.drop('cancelacion', axis=1)\n",
    "y = df_exp1['cancelacion']\n",
    "\n",
    "# Train-test split\n",
    "X_train, X_test, y_train, y_test = train_test_split(X, y, test_size=0.2, random_state=42)\n",
    "\n",
    "# Espacio de búsqueda típico para XGBClassifier\n",
    "param_dist = {\n",
    "    'n_estimators': [50, 100, 200, 300],\n",
    "    'max_depth': [3, 5, 7, 10],\n",
    "    'learning_rate': [0.01, 0.05, 0.1, 0.2],\n",
    "    'subsample': [0.6, 0.8, 1.0],\n",
    "    'colsample_bytree': [0.6, 0.8, 1.0],\n",
    "    'gamma': [0, 0.1, 0.3, 0.5],\n",
    "    'reg_alpha': [0, 0.01, 0.1],\n",
    "    'reg_lambda': [1, 1.5, 2],\n",
    "    'scale_pos_weight': [1, 3, 5],  # útil para clases desbalanceadas\n",
    "    'objective': ['binary:logistic'],\n",
    "    'use_label_encoder': [False],\n",
    "    'eval_metric': ['logloss']  # para evitar warning en XGBoost >1.3\n",
    "}\n",
    "\n",
    "n_iter = 10\n",
    "param_list = list(ParameterSampler(param_dist, n_iter=n_iter, random_state=42))\n",
    "\n",
    "best_score_xgb = -np.inf\n",
    "best_params_xgb = None\n",
    "\n",
    "for i, params in enumerate(param_list):\n",
    "    with mlflow.start_run(run_name=f\"{run_name_prefix}_run_{i+1}\"):\n",
    "        # Crea el modelo con los parámetros actuales\n",
    "        model = XGBClassifier(**params, random_state=42, verbosity=0)\n",
    "        model.fit(X_train, y_train)\n",
    "\n",
    "        # Predicciones y métricas\n",
    "        y_pred = model.predict(X_test)\n",
    "        y_proba = model.predict_proba(X_test)[:, 1]\n",
    "\n",
    "        metrics = {\n",
    "            \"precision\": precision_score(y_test, y_pred),\n",
    "            \"recall\": recall_score(y_test, y_pred),\n",
    "            \"f1_score\": f1_score(y_test, y_pred),\n",
    "            \"average_precision\": average_precision_score(y_test, y_proba)\n",
    "        }\n",
    "\n",
    "        # Loguea métricas y parámetros\n",
    "        mlflow.log_metrics(metrics)\n",
    "        mlflow.log_params(params)\n",
    "\n",
    "        # Log tags\n",
    "        mlflow.set_tag(\"Model Type\", \"XGBoost Classifier\")\n",
    "        mlflow.set_tag(\"Run Type\", \"Hyperparameter Tuning\")\n",
    "\n",
    "        # Loguea el modelo con firma e input_example para trazabilidad\n",
    "        from mlflow.models import infer_signature\n",
    "        signature = infer_signature(X_train, model.predict(X_train))\n",
    "        mlflow.xgboost.log_model(\n",
    "            xgb_model=model,\n",
    "            artifact_path=\"model\",\n",
    "            signature=signature,\n",
    "            input_example=X_train.head(5)\n",
    "        )\n",
    "\n",
    "        # Actualiza mejor resultado basado en recall\n",
    "        if metrics[\"recall\"] > best_score_xgb:\n",
    "            best_score_xgb = metrics[\"recall\"]\n",
    "            best_params_xgb = params\n"
   ]
  },
  {
   "cell_type": "code",
   "execution_count": 24,
   "id": "4799208c",
   "metadata": {},
   "outputs": [
    {
     "name": "stdout",
     "output_type": "stream",
     "text": [
      "Mejores parámetros: {'use_label_encoder': False, 'subsample': 0.8, 'scale_pos_weight': 5, 'reg_lambda': 2, 'reg_alpha': 0, 'objective': 'binary:logistic', 'n_estimators': 300, 'max_depth': 7, 'learning_rate': 0.01, 'gamma': 0.3, 'eval_metric': 'logloss', 'colsample_bytree': 0.6}\n",
      "Mejor recall: 0.8953505982129335\n"
     ]
    }
   ],
   "source": [
    "print(\"Mejores parámetros:\", best_params_xgb) # noqa: T201\n",
    "print(\"Mejor recall:\", best_score_xgb) # noqa: T201"
   ]
  },
  {
   "cell_type": "markdown",
   "id": "d142f3fd",
   "metadata": {},
   "source": [
    "**KNN Classifier**"
   ]
  },
  {
   "cell_type": "code",
   "execution_count": 35,
   "id": "116a18a1",
   "metadata": {},
   "outputs": [
    {
     "name": "stderr",
     "output_type": "stream",
     "text": [
      "Downloading artifacts: 100%|██████████| 7/7 [00:00<00:00, 296.11it/s]\n"
     ]
    },
    {
     "name": "stdout",
     "output_type": "stream",
     "text": [
      "🏃 View run RandomSearch_KNN_20250608_155746_run_1 at: http://127.0.0.1:5000/#/experiments/225744905131217093/runs/5a681ec9033d4965bd30e0b3dfc56e83\n",
      "🧪 View experiment at: http://127.0.0.1:5000/#/experiments/225744905131217093\n"
     ]
    },
    {
     "name": "stderr",
     "output_type": "stream",
     "text": [
      "Downloading artifacts: 100%|██████████| 7/7 [00:00<00:00, 280.50it/s]\n"
     ]
    },
    {
     "name": "stdout",
     "output_type": "stream",
     "text": [
      "🏃 View run RandomSearch_KNN_20250608_155746_run_2 at: http://127.0.0.1:5000/#/experiments/225744905131217093/runs/98ec5077f3eb4ec7aed91e6ac3b2fdfd\n",
      "🧪 View experiment at: http://127.0.0.1:5000/#/experiments/225744905131217093\n"
     ]
    },
    {
     "name": "stderr",
     "output_type": "stream",
     "text": [
      "Downloading artifacts: 100%|██████████| 7/7 [00:00<00:00, 306.16it/s] \n"
     ]
    },
    {
     "name": "stdout",
     "output_type": "stream",
     "text": [
      "🏃 View run RandomSearch_KNN_20250608_155746_run_3 at: http://127.0.0.1:5000/#/experiments/225744905131217093/runs/d7798d1a05eb43259201eb52ff38e551\n",
      "🧪 View experiment at: http://127.0.0.1:5000/#/experiments/225744905131217093\n"
     ]
    },
    {
     "name": "stderr",
     "output_type": "stream",
     "text": [
      "Downloading artifacts: 100%|██████████| 7/7 [00:00<00:00, 176.03it/s] \n"
     ]
    },
    {
     "name": "stdout",
     "output_type": "stream",
     "text": [
      "🏃 View run RandomSearch_KNN_20250608_155746_run_4 at: http://127.0.0.1:5000/#/experiments/225744905131217093/runs/83457d28550541ae8d0833965d11117a\n",
      "🧪 View experiment at: http://127.0.0.1:5000/#/experiments/225744905131217093\n"
     ]
    },
    {
     "name": "stderr",
     "output_type": "stream",
     "text": [
      "Downloading artifacts: 100%|██████████| 7/7 [00:00<00:00, 317.80it/s]\n"
     ]
    },
    {
     "name": "stdout",
     "output_type": "stream",
     "text": [
      "🏃 View run RandomSearch_KNN_20250608_155746_run_5 at: http://127.0.0.1:5000/#/experiments/225744905131217093/runs/031e8960592647f8977759beb82f97a5\n",
      "🧪 View experiment at: http://127.0.0.1:5000/#/experiments/225744905131217093\n"
     ]
    },
    {
     "name": "stderr",
     "output_type": "stream",
     "text": [
      "Downloading artifacts: 100%|██████████| 7/7 [00:00<00:00, 259.26it/s]\n"
     ]
    },
    {
     "name": "stdout",
     "output_type": "stream",
     "text": [
      "🏃 View run RandomSearch_KNN_20250608_155746_run_6 at: http://127.0.0.1:5000/#/experiments/225744905131217093/runs/d7db7e2db7f849bab165973fe6981598\n",
      "🧪 View experiment at: http://127.0.0.1:5000/#/experiments/225744905131217093\n"
     ]
    },
    {
     "name": "stderr",
     "output_type": "stream",
     "text": [
      "Downloading artifacts: 100%|██████████| 7/7 [00:00<00:00, 273.65it/s]\n"
     ]
    },
    {
     "name": "stdout",
     "output_type": "stream",
     "text": [
      "🏃 View run RandomSearch_KNN_20250608_155746_run_7 at: http://127.0.0.1:5000/#/experiments/225744905131217093/runs/b0b3b644f4dc4a19adccf3bcd1b2ba00\n",
      "🧪 View experiment at: http://127.0.0.1:5000/#/experiments/225744905131217093\n"
     ]
    },
    {
     "name": "stderr",
     "output_type": "stream",
     "text": [
      "Downloading artifacts: 100%|██████████| 7/7 [00:00<00:00, 356.79it/s] \n"
     ]
    },
    {
     "name": "stdout",
     "output_type": "stream",
     "text": [
      "🏃 View run RandomSearch_KNN_20250608_155746_run_8 at: http://127.0.0.1:5000/#/experiments/225744905131217093/runs/64438ae8fa7d4d3884f9a5f8894f4318\n",
      "🧪 View experiment at: http://127.0.0.1:5000/#/experiments/225744905131217093\n"
     ]
    },
    {
     "name": "stderr",
     "output_type": "stream",
     "text": [
      "Downloading artifacts: 100%|██████████| 7/7 [00:00<00:00, 241.38it/s] \n"
     ]
    },
    {
     "name": "stdout",
     "output_type": "stream",
     "text": [
      "🏃 View run RandomSearch_KNN_20250608_155746_run_9 at: http://127.0.0.1:5000/#/experiments/225744905131217093/runs/525180b961094a01a8833cecdbccf5a2\n",
      "🧪 View experiment at: http://127.0.0.1:5000/#/experiments/225744905131217093\n"
     ]
    },
    {
     "name": "stderr",
     "output_type": "stream",
     "text": [
      "Downloading artifacts: 100%|██████████| 7/7 [00:00<00:00, 304.35it/s]\n"
     ]
    },
    {
     "name": "stdout",
     "output_type": "stream",
     "text": [
      "🏃 View run RandomSearch_KNN_20250608_155746_run_10 at: http://127.0.0.1:5000/#/experiments/225744905131217093/runs/678dca812d0a46859ebb30e797069806\n",
      "🧪 View experiment at: http://127.0.0.1:5000/#/experiments/225744905131217093\n"
     ]
    }
   ],
   "source": [
    "mlflow.set_experiment(\"Experiment 1\")\n",
    "run_name_prefix = f\"RandomSearch_KNN_{datetime.now().strftime('%Y%m%d_%H%M%S')}\"\n",
    "\n",
    "# Define features and target\n",
    "X = df_exp1.drop('cancelacion', axis=1)\n",
    "y = df_exp1['cancelacion']\n",
    "\n",
    "# Train-test split\n",
    "X_train, X_test, y_train, y_test = train_test_split(X, y, test_size=0.2, random_state=42)\n",
    "\n",
    "# Espacio de búsqueda típico para KNN\n",
    "param_dist = {\n",
    "    'n_neighbors': list(range(1, 31)),          # Número de vecinos\n",
    "    'weights': ['uniform', 'distance'],         # Ponderación de los vecinos\n",
    "    'algorithm': ['auto', 'ball_tree', 'kd_tree', 'brute'],  # Algoritmo para búsqueda\n",
    "    'p': [1, 2]                                 # Parámetro para la distancia (1=Manhattan, 2=Euclidiana)\n",
    "}\n",
    "\n",
    "n_iter = 10\n",
    "param_list = list(ParameterSampler(param_dist, n_iter=n_iter, random_state=42))\n",
    "\n",
    "best_score_knn = -np.inf\n",
    "best_params_knn = None\n",
    "\n",
    "for i, params in enumerate(param_list):\n",
    "    with mlflow.start_run(run_name=f\"{run_name_prefix}_run_{i+1}\"):\n",
    "        model = KNeighborsClassifier(**params)\n",
    "        model.fit(X_train, y_train)\n",
    "\n",
    "        y_pred = model.predict(X_test)\n",
    "\n",
    "        # KNN no tiene método predict_proba para algunos casos, así que evitamos average_precision si no está disponible\n",
    "        try:\n",
    "            y_proba = model.predict_proba(X_test)[:, 1]\n",
    "            avg_prec = average_precision_score(y_test, y_proba)\n",
    "        except AttributeError:\n",
    "            avg_prec = None\n",
    "\n",
    "        metrics = {\n",
    "            \"precision\": precision_score(y_test, y_pred),\n",
    "            \"recall\": recall_score(y_test, y_pred),\n",
    "            \"f1_score\": f1_score(y_test, y_pred),\n",
    "        }\n",
    "        if avg_prec is not None:\n",
    "            metrics[\"average_precision\"] = avg_prec\n",
    "\n",
    "        mlflow.log_metrics(metrics)\n",
    "        mlflow.log_params(params)\n",
    "\n",
    "        mlflow.set_tag(\"Model Type\", \"KNeighborsClassifier\")\n",
    "        mlflow.set_tag(\"Run Type\", \"Hyperparameter Tuning\")\n",
    "\n",
    "        from mlflow.models import infer_signature\n",
    "        signature = infer_signature(X_train, model.predict(X_train))\n",
    "        mlflow.sklearn.log_model(\n",
    "            sk_model=model,\n",
    "            artifact_path=\"model\",\n",
    "            signature=signature,\n",
    "            input_example=X_train.head(5)\n",
    "        )\n",
    "\n",
    "        if metrics[\"recall\"] > best_score_knn:\n",
    "            best_score_knn = metrics[\"recall\"]\n",
    "            best_params_knn = params\n"
   ]
  },
  {
   "cell_type": "code",
   "execution_count": 36,
   "id": "ddf63884",
   "metadata": {},
   "outputs": [
    {
     "name": "stdout",
     "output_type": "stream",
     "text": [
      "Mejores parámetros: {'weights': 'distance', 'p': 1, 'n_neighbors': 10, 'algorithm': 'kd_tree'}\n",
      "Mejor recall: 0.7513251552324701\n"
     ]
    }
   ],
   "source": [
    "print(\"Mejores parámetros:\", best_params_knn) # noqa: T201\n",
    "print(\"Mejor recall:\", best_score_knn) # noqa: T201\n"
   ]
  },
  {
   "cell_type": "markdown",
   "id": "032da479",
   "metadata": {},
   "source": [
    "#### Experiment 2"
   ]
  },
  {
   "cell_type": "markdown",
   "id": "2715f9a3",
   "metadata": {},
   "source": [
    "**Logistic Regression**"
   ]
  },
  {
   "cell_type": "code",
   "execution_count": 27,
   "id": "35944fd0",
   "metadata": {},
   "outputs": [
    {
     "name": "stderr",
     "output_type": "stream",
     "text": [
      "c:\\Users\\Esteban\\Documents\\. Clases_Tec\\8. Octavo semestre\\_Proyecto\\kProject\\tcaproject\\.venv\\Lib\\site-packages\\sklearn\\linear_model\\_logistic.py:1207: UserWarning: Setting penalty=None will ignore the C and l1_ratio parameters\n",
      "  warnings.warn(\n",
      "Downloading artifacts: 100%|██████████| 7/7 [00:00<00:00, 460.16it/s] \n"
     ]
    },
    {
     "name": "stdout",
     "output_type": "stream",
     "text": [
      "🏃 View run RandomSearch_20250608_153841_run_1 at: http://127.0.0.1:5000/#/experiments/723662218742010694/runs/1ebed90e14cd46709c1d7b5d2d310729\n",
      "🧪 View experiment at: http://127.0.0.1:5000/#/experiments/723662218742010694\n"
     ]
    },
    {
     "name": "stderr",
     "output_type": "stream",
     "text": [
      "Downloading artifacts: 100%|██████████| 7/7 [00:00<00:00, 468.80it/s]\n"
     ]
    },
    {
     "name": "stdout",
     "output_type": "stream",
     "text": [
      "🏃 View run RandomSearch_20250608_153841_run_2 at: http://127.0.0.1:5000/#/experiments/723662218742010694/runs/b0ec4ee4da1c4f53a86b8d37e47ffb31\n",
      "🧪 View experiment at: http://127.0.0.1:5000/#/experiments/723662218742010694\n"
     ]
    },
    {
     "name": "stderr",
     "output_type": "stream",
     "text": [
      "Downloading artifacts: 100%|██████████| 7/7 [00:00<00:00, 521.86it/s] \n"
     ]
    },
    {
     "name": "stdout",
     "output_type": "stream",
     "text": [
      "🏃 View run RandomSearch_20250608_153841_run_3 at: http://127.0.0.1:5000/#/experiments/723662218742010694/runs/2848c873efa34a1e9e4677e97e4b4963\n",
      "🧪 View experiment at: http://127.0.0.1:5000/#/experiments/723662218742010694\n"
     ]
    },
    {
     "name": "stderr",
     "output_type": "stream",
     "text": [
      "c:\\Users\\Esteban\\Documents\\. Clases_Tec\\8. Octavo semestre\\_Proyecto\\kProject\\tcaproject\\.venv\\Lib\\site-packages\\sklearn\\linear_model\\_logistic.py:1207: UserWarning: Setting penalty=None will ignore the C and l1_ratio parameters\n",
      "  warnings.warn(\n",
      "Downloading artifacts: 100%|██████████| 7/7 [00:00<00:00, 569.72it/s] \n"
     ]
    },
    {
     "name": "stdout",
     "output_type": "stream",
     "text": [
      "🏃 View run RandomSearch_20250608_153841_run_4 at: http://127.0.0.1:5000/#/experiments/723662218742010694/runs/254bee5da49e48389876a6a78aaaf55c\n",
      "🧪 View experiment at: http://127.0.0.1:5000/#/experiments/723662218742010694\n"
     ]
    },
    {
     "name": "stderr",
     "output_type": "stream",
     "text": [
      "c:\\Users\\Esteban\\Documents\\. Clases_Tec\\8. Octavo semestre\\_Proyecto\\kProject\\tcaproject\\.venv\\Lib\\site-packages\\sklearn\\linear_model\\_logistic.py:1207: UserWarning: Setting penalty=None will ignore the C and l1_ratio parameters\n",
      "  warnings.warn(\n",
      "Downloading artifacts: 100%|██████████| 7/7 [00:00<00:00, 555.26it/s]\n"
     ]
    },
    {
     "name": "stdout",
     "output_type": "stream",
     "text": [
      "🏃 View run RandomSearch_20250608_153841_run_5 at: http://127.0.0.1:5000/#/experiments/723662218742010694/runs/5ea40d60db1b42a6bfb2f6a3c409796d\n",
      "🧪 View experiment at: http://127.0.0.1:5000/#/experiments/723662218742010694\n"
     ]
    },
    {
     "name": "stderr",
     "output_type": "stream",
     "text": [
      "c:\\Users\\Esteban\\Documents\\. Clases_Tec\\8. Octavo semestre\\_Proyecto\\kProject\\tcaproject\\.venv\\Lib\\site-packages\\sklearn\\linear_model\\_logistic.py:1207: UserWarning: Setting penalty=None will ignore the C and l1_ratio parameters\n",
      "  warnings.warn(\n",
      "Downloading artifacts: 100%|██████████| 7/7 [00:00<00:00, 327.30it/s]\n"
     ]
    },
    {
     "name": "stdout",
     "output_type": "stream",
     "text": [
      "🏃 View run RandomSearch_20250608_153841_run_6 at: http://127.0.0.1:5000/#/experiments/723662218742010694/runs/4f71557d6c684f3db5e6666bd3fc3355\n",
      "🧪 View experiment at: http://127.0.0.1:5000/#/experiments/723662218742010694\n"
     ]
    },
    {
     "name": "stderr",
     "output_type": "stream",
     "text": [
      "c:\\Users\\Esteban\\Documents\\. Clases_Tec\\8. Octavo semestre\\_Proyecto\\kProject\\tcaproject\\.venv\\Lib\\site-packages\\sklearn\\linear_model\\_logistic.py:1207: UserWarning: Setting penalty=None will ignore the C and l1_ratio parameters\n",
      "  warnings.warn(\n",
      "Downloading artifacts: 100%|██████████| 7/7 [00:00<00:00, 545.58it/s]\n"
     ]
    },
    {
     "name": "stdout",
     "output_type": "stream",
     "text": [
      "🏃 View run RandomSearch_20250608_153841_run_7 at: http://127.0.0.1:5000/#/experiments/723662218742010694/runs/ca3cc005d6de4e9da2b602c05f96ca57\n",
      "🧪 View experiment at: http://127.0.0.1:5000/#/experiments/723662218742010694\n"
     ]
    },
    {
     "name": "stderr",
     "output_type": "stream",
     "text": [
      "Downloading artifacts: 100%|██████████| 7/7 [00:00<00:00, 595.79it/s] \n"
     ]
    },
    {
     "name": "stdout",
     "output_type": "stream",
     "text": [
      "🏃 View run RandomSearch_20250608_153841_run_8 at: http://127.0.0.1:5000/#/experiments/723662218742010694/runs/1e6da4640172496dbb11878e0e5dd9fe\n",
      "🧪 View experiment at: http://127.0.0.1:5000/#/experiments/723662218742010694\n"
     ]
    },
    {
     "name": "stderr",
     "output_type": "stream",
     "text": [
      "c:\\Users\\Esteban\\Documents\\. Clases_Tec\\8. Octavo semestre\\_Proyecto\\kProject\\tcaproject\\.venv\\Lib\\site-packages\\sklearn\\linear_model\\_logistic.py:1207: UserWarning: Setting penalty=None will ignore the C and l1_ratio parameters\n",
      "  warnings.warn(\n",
      "Downloading artifacts: 100%|██████████| 7/7 [00:00<00:00, 577.74it/s]\n"
     ]
    },
    {
     "name": "stdout",
     "output_type": "stream",
     "text": [
      "🏃 View run RandomSearch_20250608_153841_run_9 at: http://127.0.0.1:5000/#/experiments/723662218742010694/runs/ca31e069c1f04968afe2b5fd3bb2be50\n",
      "🧪 View experiment at: http://127.0.0.1:5000/#/experiments/723662218742010694\n"
     ]
    },
    {
     "name": "stderr",
     "output_type": "stream",
     "text": [
      "Downloading artifacts: 100%|██████████| 7/7 [00:00<00:00, 495.23it/s] \n"
     ]
    },
    {
     "name": "stdout",
     "output_type": "stream",
     "text": [
      "🏃 View run RandomSearch_20250608_153841_run_10 at: http://127.0.0.1:5000/#/experiments/723662218742010694/runs/1a8068d1e8c34bf0b2d2bbd9b5a21bce\n",
      "🧪 View experiment at: http://127.0.0.1:5000/#/experiments/723662218742010694\n"
     ]
    }
   ],
   "source": [
    "mlflow.set_experiment(\"Experiment 2\")\n",
    "run_name_prefix = f\"RandomSearch_{datetime.now().strftime('%Y%m%d_%H%M%S')}\"\n",
    "\n",
    "# Define the target variable and independent variables\n",
    "X = df_exp2.drop('cancelacion', axis=1)\n",
    "y = df_exp2['cancelacion']\n",
    "# Train test split\n",
    "X_train, X_test, y_train, y_test = train_test_split(X, y, test_size=0.2, random_state=42)\n",
    "\n",
    "\n",
    "\n",
    "# Espacio de búsqueda válido agrupado por compatibilidad solver-penalty\n",
    "param_dist = [\n",
    "    {\n",
    "        'solver': ['newton-cg', 'lbfgs', 'sag'],\n",
    "        'penalty': ['l2', None],\n",
    "        'C': [0.01, 0.1, 1, 5, 10],\n",
    "        'class_weight': ['balanced', None],\n",
    "        'max_iter': [100, 200, 300, 400, 500]\n",
    "    },\n",
    "    {\n",
    "        'solver': ['liblinear', 'saga'],\n",
    "        'penalty': ['l1'],\n",
    "        'C': [0.01, 0.1, 1, 5, 10],\n",
    "        'class_weight': ['balanced', None],\n",
    "        'max_iter': [100, 200, 300, 400, 500]\n",
    "    },\n",
    "    {\n",
    "        'solver': ['saga'],\n",
    "        'penalty': ['elasticnet'],\n",
    "        'l1_ratio': [0.1, 0.5, 0.7, 0.9],\n",
    "        'C': [0.01, 0.1, 1, 5, 10],\n",
    "        'class_weight': ['balanced', None],\n",
    "        'max_iter': [100, 200, 300, 400, 500]\n",
    "    }\n",
    "]\n",
    "\n",
    "# Para RandomizedSearchCV, combinamos los espacios y muestreamos n_iter combinaciones\n",
    "n_iter = 10\n",
    "param_list = []\n",
    "for param_group in param_dist:\n",
    "    param_list.extend(list(ParameterSampler(param_group, n_iter=n_iter, random_state=42)))\n",
    "\n",
    "# Limitamos a n_iter combinaciones totales\n",
    "param_list = param_list[:n_iter]\n",
    "\n",
    "best_score_lr = -np.inf\n",
    "best_params_lr = None\n",
    "\n",
    "for i, params in enumerate(param_list):\n",
    "    with mlflow.start_run(run_name=f\"{run_name_prefix}_run_{i+1}\"):\n",
    "        # Entrena el modelo con los parámetros actuales\n",
    "        model = LogisticRegression(**params)\n",
    "        model.fit(X_train, y_train)\n",
    "\n",
    "        # Log metrics\n",
    "        y_pred = model.predict(X_test)\n",
    "\n",
    "        metrics = {\n",
    "            \"precision\": precision_score(y_test, y_pred),\n",
    "            \"recall\": recall_score(y_test, y_pred),\n",
    "            \"f1_score\": f1_score(y_test, y_pred),\n",
    "            \"average_precision\": average_precision_score(y_test, model.predict_proba(X_test)[:, 1])\n",
    "        }\n",
    "\n",
    "        mlflow.log_metrics(metrics)\n",
    "\n",
    "        # Log parameters\n",
    "        mlflow.log_params(params)\n",
    "\n",
    "        # Log tags\n",
    "        mlflow.set_tag(\"Model Type\", \"Logistic Regression\")\n",
    "        mlflow.set_tag(\"Run Type\", \"Hyperparameter Tuning\")\n",
    "\n",
    "        # Loguea el modelo con firma e input_example para trazabilidad\n",
    "        from mlflow.models import infer_signature\n",
    "        signature = infer_signature(X_train, model.predict(X_train))\n",
    "        mlflow.sklearn.log_model(\n",
    "            sk_model=model,\n",
    "            artifact_path=\"model\",\n",
    "            signature=signature,\n",
    "            input_example=X_train.head(5)\n",
    "        )\n",
    "\n",
    "        # Actualiza mejor resultado\n",
    "        if recall > best_score_lr:\n",
    "            best_score_lr = recall\n",
    "            best_params_lr = params\n",
    "\n",
    "\n"
   ]
  },
  {
   "cell_type": "code",
   "execution_count": 28,
   "id": "1b9d34db",
   "metadata": {},
   "outputs": [
    {
     "name": "stdout",
     "output_type": "stream",
     "text": [
      "Mejores parámetros: {'solver': 'sag', 'penalty': None, 'max_iter': 400, 'class_weight': 'balanced', 'C': 5}\n",
      "Mejor recall: 0.8096085409252669\n"
     ]
    }
   ],
   "source": [
    "print(\"Mejores parámetros:\", best_params_lr)  # noqa: T201\n",
    "print(\"Mejor recall:\", best_score_lr) # noqa: T201"
   ]
  },
  {
   "cell_type": "markdown",
   "id": "694f9dcf",
   "metadata": {},
   "source": [
    "**Random Forest**"
   ]
  },
  {
   "cell_type": "code",
   "execution_count": 29,
   "id": "b3d41b06",
   "metadata": {},
   "outputs": [
    {
     "name": "stderr",
     "output_type": "stream",
     "text": [
      "Downloading artifacts: 100%|██████████| 7/7 [00:00<00:00, 526.29it/s] \n"
     ]
    },
    {
     "name": "stdout",
     "output_type": "stream",
     "text": [
      "🏃 View run RandomSearch_20250608_154058_run_1 at: http://127.0.0.1:5000/#/experiments/723662218742010694/runs/fc3b9ae62e2741f5b01ae32e029bca16\n",
      "🧪 View experiment at: http://127.0.0.1:5000/#/experiments/723662218742010694\n"
     ]
    },
    {
     "name": "stderr",
     "output_type": "stream",
     "text": [
      "Downloading artifacts: 100%|██████████| 7/7 [00:00<00:00, 601.60it/s]\n"
     ]
    },
    {
     "name": "stdout",
     "output_type": "stream",
     "text": [
      "🏃 View run RandomSearch_20250608_154058_run_2 at: http://127.0.0.1:5000/#/experiments/723662218742010694/runs/ea79f9a8d7ed4e16adc0161988778570\n",
      "🧪 View experiment at: http://127.0.0.1:5000/#/experiments/723662218742010694\n"
     ]
    },
    {
     "name": "stderr",
     "output_type": "stream",
     "text": [
      "Downloading artifacts: 100%|██████████| 7/7 [00:00<00:00, 496.94it/s]\n"
     ]
    },
    {
     "name": "stdout",
     "output_type": "stream",
     "text": [
      "🏃 View run RandomSearch_20250608_154058_run_3 at: http://127.0.0.1:5000/#/experiments/723662218742010694/runs/1d656e4ef94d46b4ba9fe1b5960cd563\n",
      "🧪 View experiment at: http://127.0.0.1:5000/#/experiments/723662218742010694\n"
     ]
    },
    {
     "name": "stderr",
     "output_type": "stream",
     "text": [
      "Downloading artifacts: 100%|██████████| 7/7 [00:00<00:00, 336.99it/s]\n"
     ]
    },
    {
     "name": "stdout",
     "output_type": "stream",
     "text": [
      "🏃 View run RandomSearch_20250608_154058_run_4 at: http://127.0.0.1:5000/#/experiments/723662218742010694/runs/ceefc46d20b4472cbe82ca57ed5d5de1\n",
      "🧪 View experiment at: http://127.0.0.1:5000/#/experiments/723662218742010694\n"
     ]
    },
    {
     "name": "stderr",
     "output_type": "stream",
     "text": [
      "Downloading artifacts: 100%|██████████| 7/7 [00:00<00:00, 449.29it/s]\n"
     ]
    },
    {
     "name": "stdout",
     "output_type": "stream",
     "text": [
      "🏃 View run RandomSearch_20250608_154058_run_5 at: http://127.0.0.1:5000/#/experiments/723662218742010694/runs/1aed3756f776439ba5d23799e2a1a22b\n",
      "🧪 View experiment at: http://127.0.0.1:5000/#/experiments/723662218742010694\n"
     ]
    },
    {
     "name": "stderr",
     "output_type": "stream",
     "text": [
      "Downloading artifacts: 100%|██████████| 7/7 [00:00<00:00, 444.80it/s]\n"
     ]
    },
    {
     "name": "stdout",
     "output_type": "stream",
     "text": [
      "🏃 View run RandomSearch_20250608_154058_run_6 at: http://127.0.0.1:5000/#/experiments/723662218742010694/runs/a5a0e4309afb4e16914a319af490e9aa\n",
      "🧪 View experiment at: http://127.0.0.1:5000/#/experiments/723662218742010694\n"
     ]
    },
    {
     "name": "stderr",
     "output_type": "stream",
     "text": [
      "Downloading artifacts: 100%|██████████| 7/7 [00:00<00:00, 512.38it/s] \n"
     ]
    },
    {
     "name": "stdout",
     "output_type": "stream",
     "text": [
      "🏃 View run RandomSearch_20250608_154058_run_7 at: http://127.0.0.1:5000/#/experiments/723662218742010694/runs/cdaa6687fc884a158408a5ea3f28ce05\n",
      "🧪 View experiment at: http://127.0.0.1:5000/#/experiments/723662218742010694\n"
     ]
    },
    {
     "name": "stderr",
     "output_type": "stream",
     "text": [
      "Downloading artifacts: 100%|██████████| 7/7 [00:00<00:00, 695.28it/s] \n"
     ]
    },
    {
     "name": "stdout",
     "output_type": "stream",
     "text": [
      "🏃 View run RandomSearch_20250608_154058_run_8 at: http://127.0.0.1:5000/#/experiments/723662218742010694/runs/fab5206cceab44e99a2778b804ff1686\n",
      "🧪 View experiment at: http://127.0.0.1:5000/#/experiments/723662218742010694\n"
     ]
    },
    {
     "name": "stderr",
     "output_type": "stream",
     "text": [
      "Downloading artifacts: 100%|██████████| 7/7 [00:00<00:00, 443.57it/s]\n"
     ]
    },
    {
     "name": "stdout",
     "output_type": "stream",
     "text": [
      "🏃 View run RandomSearch_20250608_154058_run_9 at: http://127.0.0.1:5000/#/experiments/723662218742010694/runs/18be839862b942ce83a54d97d827a300\n",
      "🧪 View experiment at: http://127.0.0.1:5000/#/experiments/723662218742010694\n"
     ]
    },
    {
     "name": "stderr",
     "output_type": "stream",
     "text": [
      "Downloading artifacts: 100%|██████████| 7/7 [00:00<00:00, 159.09it/s] \n"
     ]
    },
    {
     "name": "stdout",
     "output_type": "stream",
     "text": [
      "🏃 View run RandomSearch_20250608_154058_run_10 at: http://127.0.0.1:5000/#/experiments/723662218742010694/runs/28d092c1e5414dffbebbb8693d07e05d\n",
      "🧪 View experiment at: http://127.0.0.1:5000/#/experiments/723662218742010694\n"
     ]
    }
   ],
   "source": [
    "mlflow.set_experiment(\"Experiment 2\")\n",
    "run_name_prefix = f\"RandomSearch_{datetime.now().strftime('%Y%m%d_%H%M%S')}\"\n",
    "\n",
    "# Define features and target\n",
    "X = df_exp2.drop('cancelacion', axis=1)\n",
    "y = df_exp2['cancelacion']\n",
    "\n",
    "# Train-test split\n",
    "X_train, X_test, y_train, y_test = train_test_split(X, y, test_size=0.2, random_state=42)\n",
    "\n",
    "# Espacio de búsqueda para Random Forest\n",
    "param_dist = {\n",
    "    'n_estimators': [50, 100, 200, 300],\n",
    "    'max_depth': [None, 10, 20, 30, 40],\n",
    "    'min_samples_split': [2, 5, 10],\n",
    "    'min_samples_leaf': [1, 2, 4],\n",
    "    'max_features': [None, 'sqrt', 'log2'],\n",
    "    'max_leaf_nodes': [None, 10, 20, 30],\n",
    "    'criterion': ['gini', 'entropy'],\n",
    "    'bootstrap': [True, False],\n",
    "    'class_weight': ['balanced', 'balanced_subsample', None]\n",
    "}\n",
    "\n",
    "n_iter = 10\n",
    "param_list = list(ParameterSampler(param_dist, n_iter=n_iter, random_state=42))\n",
    "\n",
    "best_score_rf = -np.inf\n",
    "best_params_rf = None\n",
    "\n",
    "for i, params in enumerate(param_list):\n",
    "    with mlflow.start_run(run_name=f\"{run_name_prefix}_run_{i+1}\"):\n",
    "        # Entrena el modelo con los parámetros actuales\n",
    "        model = RandomForestClassifier(**params, random_state=42, n_jobs=-1)\n",
    "        model.fit(X_train, y_train)\n",
    "\n",
    "        # Predicciones y cálculo de métricas\n",
    "        y_pred = model.predict(X_test)\n",
    "        y_proba = model.predict_proba(X_test)[:, 1]\n",
    "\n",
    "        metrics = {\n",
    "            \"precision\": precision_score(y_test, y_pred),\n",
    "            \"recall\": recall_score(y_test, y_pred),\n",
    "            \"f1_score\": f1_score(y_test, y_pred),\n",
    "            \"average_precision\": average_precision_score(y_test, y_proba)\n",
    "        }\n",
    "\n",
    "        # Loguea métricas y parámetros\n",
    "        mlflow.log_metrics(metrics)\n",
    "        mlflow.log_params(params)\n",
    "\n",
    "        # Log tags\n",
    "        mlflow.set_tag(\"Model Type\", \"Random Forest\")\n",
    "        mlflow.set_tag(\"Run Type\", \"Hyperparameter Tuning\")\n",
    "\n",
    "        # Loguea el modelo con firma e input_example para trazabilidad\n",
    "        from mlflow.models import infer_signature\n",
    "        signature = infer_signature(X_train, model.predict(X_train))\n",
    "        mlflow.sklearn.log_model(\n",
    "            sk_model=model,\n",
    "            artifact_path=\"model\",\n",
    "            signature=signature,\n",
    "            input_example=X_train.head(5)\n",
    "        )\n",
    "\n",
    "        # Actualiza mejor resultado basado en recall\n",
    "        if metrics[\"recall\"] > best_score_rf:\n",
    "            best_score_rf = metrics[\"recall\"]\n",
    "            best_params_rf = params\n"
   ]
  },
  {
   "cell_type": "code",
   "execution_count": 30,
   "id": "682be08a",
   "metadata": {},
   "outputs": [
    {
     "name": "stdout",
     "output_type": "stream",
     "text": [
      "Mejores parámetros: {'n_estimators': 200, 'min_samples_split': 2, 'min_samples_leaf': 1, 'max_leaf_nodes': None, 'max_features': None, 'max_depth': 40, 'criterion': 'entropy', 'class_weight': 'balanced', 'bootstrap': False}\n",
      "Mejor recall: 0.8959074733096085\n"
     ]
    }
   ],
   "source": [
    "print(\"Mejores parámetros:\", best_params_rf) # noqa: T201\n",
    "print(\"Mejor recall:\", best_score_rf) # noqa: T201"
   ]
  },
  {
   "cell_type": "markdown",
   "id": "fa45befa",
   "metadata": {},
   "source": [
    "**XGBoos**"
   ]
  },
  {
   "cell_type": "code",
   "execution_count": 31,
   "id": "b930e6b1",
   "metadata": {},
   "outputs": [
    {
     "name": "stderr",
     "output_type": "stream",
     "text": [
      "c:\\Users\\Esteban\\Documents\\. Clases_Tec\\8. Octavo semestre\\_Proyecto\\kProject\\tcaproject\\.venv\\Lib\\site-packages\\xgboost\\sklearn.py:1028: UserWarning: [15:43:52] WARNING: C:\\actions-runner\\_work\\xgboost\\xgboost\\src\\c_api\\c_api.cc:1427: Saving model in the UBJSON format as default.  You can use file extension: `json`, `ubj` or `deprecated` to choose between formats.\n",
      "  self.get_booster().save_model(fname)\n",
      "Downloading artifacts: 100%|██████████| 7/7 [00:00<00:00, 583.34it/s] \n"
     ]
    },
    {
     "name": "stdout",
     "output_type": "stream",
     "text": [
      "🏃 View run RandomSearch_20250608_154349_run_1 at: http://127.0.0.1:5000/#/experiments/723662218742010694/runs/81943b0c73eb40f9af27bfab65a2aefc\n",
      "🧪 View experiment at: http://127.0.0.1:5000/#/experiments/723662218742010694\n"
     ]
    },
    {
     "name": "stderr",
     "output_type": "stream",
     "text": [
      "c:\\Users\\Esteban\\Documents\\. Clases_Tec\\8. Octavo semestre\\_Proyecto\\kProject\\tcaproject\\.venv\\Lib\\site-packages\\xgboost\\sklearn.py:1028: UserWarning: [15:44:07] WARNING: C:\\actions-runner\\_work\\xgboost\\xgboost\\src\\c_api\\c_api.cc:1427: Saving model in the UBJSON format as default.  You can use file extension: `json`, `ubj` or `deprecated` to choose between formats.\n",
      "  self.get_booster().save_model(fname)\n",
      "Downloading artifacts: 100%|██████████| 7/7 [00:00<00:00, 699.98it/s]\n"
     ]
    },
    {
     "name": "stdout",
     "output_type": "stream",
     "text": [
      "🏃 View run RandomSearch_20250608_154349_run_2 at: http://127.0.0.1:5000/#/experiments/723662218742010694/runs/1ad0e0bbb0964b4faf0854db7524cc7d\n",
      "🧪 View experiment at: http://127.0.0.1:5000/#/experiments/723662218742010694\n"
     ]
    },
    {
     "name": "stderr",
     "output_type": "stream",
     "text": [
      "c:\\Users\\Esteban\\Documents\\. Clases_Tec\\8. Octavo semestre\\_Proyecto\\kProject\\tcaproject\\.venv\\Lib\\site-packages\\xgboost\\sklearn.py:1028: UserWarning: [15:44:21] WARNING: C:\\actions-runner\\_work\\xgboost\\xgboost\\src\\c_api\\c_api.cc:1427: Saving model in the UBJSON format as default.  You can use file extension: `json`, `ubj` or `deprecated` to choose between formats.\n",
      "  self.get_booster().save_model(fname)\n",
      "Downloading artifacts: 100%|██████████| 7/7 [00:00<00:00, 579.80it/s] \n"
     ]
    },
    {
     "name": "stdout",
     "output_type": "stream",
     "text": [
      "🏃 View run RandomSearch_20250608_154349_run_3 at: http://127.0.0.1:5000/#/experiments/723662218742010694/runs/2c0346281aae4952a43b939ec3e2084c\n",
      "🧪 View experiment at: http://127.0.0.1:5000/#/experiments/723662218742010694\n"
     ]
    },
    {
     "name": "stderr",
     "output_type": "stream",
     "text": [
      "c:\\Users\\Esteban\\Documents\\. Clases_Tec\\8. Octavo semestre\\_Proyecto\\kProject\\tcaproject\\.venv\\Lib\\site-packages\\xgboost\\sklearn.py:1028: UserWarning: [15:44:36] WARNING: C:\\actions-runner\\_work\\xgboost\\xgboost\\src\\c_api\\c_api.cc:1427: Saving model in the UBJSON format as default.  You can use file extension: `json`, `ubj` or `deprecated` to choose between formats.\n",
      "  self.get_booster().save_model(fname)\n",
      "Downloading artifacts: 100%|██████████| 7/7 [00:00<00:00, 442.83it/s]\n"
     ]
    },
    {
     "name": "stdout",
     "output_type": "stream",
     "text": [
      "🏃 View run RandomSearch_20250608_154349_run_4 at: http://127.0.0.1:5000/#/experiments/723662218742010694/runs/1423b7b8956d4aff90a9381f5a5c7181\n",
      "🧪 View experiment at: http://127.0.0.1:5000/#/experiments/723662218742010694\n"
     ]
    },
    {
     "name": "stderr",
     "output_type": "stream",
     "text": [
      "c:\\Users\\Esteban\\Documents\\. Clases_Tec\\8. Octavo semestre\\_Proyecto\\kProject\\tcaproject\\.venv\\Lib\\site-packages\\xgboost\\sklearn.py:1028: UserWarning: [15:44:52] WARNING: C:\\actions-runner\\_work\\xgboost\\xgboost\\src\\c_api\\c_api.cc:1427: Saving model in the UBJSON format as default.  You can use file extension: `json`, `ubj` or `deprecated` to choose between formats.\n",
      "  self.get_booster().save_model(fname)\n",
      "Downloading artifacts: 100%|██████████| 7/7 [00:00<00:00, 874.96it/s]\n"
     ]
    },
    {
     "name": "stdout",
     "output_type": "stream",
     "text": [
      "🏃 View run RandomSearch_20250608_154349_run_5 at: http://127.0.0.1:5000/#/experiments/723662218742010694/runs/d3d00b6c9ce14cdf87996d330237f41f\n",
      "🧪 View experiment at: http://127.0.0.1:5000/#/experiments/723662218742010694\n"
     ]
    },
    {
     "name": "stderr",
     "output_type": "stream",
     "text": [
      "c:\\Users\\Esteban\\Documents\\. Clases_Tec\\8. Octavo semestre\\_Proyecto\\kProject\\tcaproject\\.venv\\Lib\\site-packages\\xgboost\\sklearn.py:1028: UserWarning: [15:45:05] WARNING: C:\\actions-runner\\_work\\xgboost\\xgboost\\src\\c_api\\c_api.cc:1427: Saving model in the UBJSON format as default.  You can use file extension: `json`, `ubj` or `deprecated` to choose between formats.\n",
      "  self.get_booster().save_model(fname)\n",
      "Downloading artifacts: 100%|██████████| 7/7 [00:00<00:00, 777.79it/s] \n"
     ]
    },
    {
     "name": "stdout",
     "output_type": "stream",
     "text": [
      "🏃 View run RandomSearch_20250608_154349_run_6 at: http://127.0.0.1:5000/#/experiments/723662218742010694/runs/0a6bd83ae61949f18568649c23bf54ee\n",
      "🧪 View experiment at: http://127.0.0.1:5000/#/experiments/723662218742010694\n"
     ]
    },
    {
     "name": "stderr",
     "output_type": "stream",
     "text": [
      "c:\\Users\\Esteban\\Documents\\. Clases_Tec\\8. Octavo semestre\\_Proyecto\\kProject\\tcaproject\\.venv\\Lib\\site-packages\\xgboost\\sklearn.py:1028: UserWarning: [15:45:20] WARNING: C:\\actions-runner\\_work\\xgboost\\xgboost\\src\\c_api\\c_api.cc:1427: Saving model in the UBJSON format as default.  You can use file extension: `json`, `ubj` or `deprecated` to choose between formats.\n",
      "  self.get_booster().save_model(fname)\n",
      "Downloading artifacts: 100%|██████████| 7/7 [00:00<00:00, 538.47it/s] \n"
     ]
    },
    {
     "name": "stdout",
     "output_type": "stream",
     "text": [
      "🏃 View run RandomSearch_20250608_154349_run_7 at: http://127.0.0.1:5000/#/experiments/723662218742010694/runs/01684ecdaf7f4718bc1a48697adc1a4a\n",
      "🧪 View experiment at: http://127.0.0.1:5000/#/experiments/723662218742010694\n"
     ]
    },
    {
     "name": "stderr",
     "output_type": "stream",
     "text": [
      "c:\\Users\\Esteban\\Documents\\. Clases_Tec\\8. Octavo semestre\\_Proyecto\\kProject\\tcaproject\\.venv\\Lib\\site-packages\\xgboost\\sklearn.py:1028: UserWarning: [15:45:33] WARNING: C:\\actions-runner\\_work\\xgboost\\xgboost\\src\\c_api\\c_api.cc:1427: Saving model in the UBJSON format as default.  You can use file extension: `json`, `ubj` or `deprecated` to choose between formats.\n",
      "  self.get_booster().save_model(fname)\n",
      "Downloading artifacts: 100%|██████████| 7/7 [00:00<00:00, 875.04it/s] \n"
     ]
    },
    {
     "name": "stdout",
     "output_type": "stream",
     "text": [
      "🏃 View run RandomSearch_20250608_154349_run_8 at: http://127.0.0.1:5000/#/experiments/723662218742010694/runs/b477d2b367834a998ac62ed2ac57c2c3\n",
      "🧪 View experiment at: http://127.0.0.1:5000/#/experiments/723662218742010694\n"
     ]
    },
    {
     "name": "stderr",
     "output_type": "stream",
     "text": [
      "c:\\Users\\Esteban\\Documents\\. Clases_Tec\\8. Octavo semestre\\_Proyecto\\kProject\\tcaproject\\.venv\\Lib\\site-packages\\xgboost\\sklearn.py:1028: UserWarning: [15:45:46] WARNING: C:\\actions-runner\\_work\\xgboost\\xgboost\\src\\c_api\\c_api.cc:1427: Saving model in the UBJSON format as default.  You can use file extension: `json`, `ubj` or `deprecated` to choose between formats.\n",
      "  self.get_booster().save_model(fname)\n",
      "Downloading artifacts: 100%|██████████| 7/7 [00:00<00:00, 636.35it/s]\n"
     ]
    },
    {
     "name": "stdout",
     "output_type": "stream",
     "text": [
      "🏃 View run RandomSearch_20250608_154349_run_9 at: http://127.0.0.1:5000/#/experiments/723662218742010694/runs/f293e1704a124734a841674bf2255fe6\n",
      "🧪 View experiment at: http://127.0.0.1:5000/#/experiments/723662218742010694\n"
     ]
    },
    {
     "name": "stderr",
     "output_type": "stream",
     "text": [
      "c:\\Users\\Esteban\\Documents\\. Clases_Tec\\8. Octavo semestre\\_Proyecto\\kProject\\tcaproject\\.venv\\Lib\\site-packages\\xgboost\\sklearn.py:1028: UserWarning: [15:45:58] WARNING: C:\\actions-runner\\_work\\xgboost\\xgboost\\src\\c_api\\c_api.cc:1427: Saving model in the UBJSON format as default.  You can use file extension: `json`, `ubj` or `deprecated` to choose between formats.\n",
      "  self.get_booster().save_model(fname)\n",
      "Downloading artifacts: 100%|██████████| 7/7 [00:00<00:00, 777.83it/s] \n"
     ]
    },
    {
     "name": "stdout",
     "output_type": "stream",
     "text": [
      "🏃 View run RandomSearch_20250608_154349_run_10 at: http://127.0.0.1:5000/#/experiments/723662218742010694/runs/8c0a00cf82c046e2b9c877d448193e16\n",
      "🧪 View experiment at: http://127.0.0.1:5000/#/experiments/723662218742010694\n"
     ]
    }
   ],
   "source": [
    "mlflow.set_experiment(\"Experiment 2\")\n",
    "run_name_prefix = f\"RandomSearch_{datetime.now().strftime('%Y%m%d_%H%M%S')}\"\n",
    "\n",
    "# Define the target variable and independent variables\n",
    "X = df_exp2.drop('cancelacion', axis=1)\n",
    "y = df_exp2['cancelacion']\n",
    "# Train test split\n",
    "X_train, X_test, y_train, y_test = train_test_split(X, y, test_size=0.2, random_state=42)\n",
    "\n",
    "\n",
    "# Espacio de búsqueda típico para XGBClassifier\n",
    "param_dist = {\n",
    "    'n_estimators': [50, 100, 200, 300],\n",
    "    'max_depth': [3, 5, 7, 10],\n",
    "    'learning_rate': [0.01, 0.05, 0.1, 0.2],\n",
    "    'subsample': [0.6, 0.8, 1.0],\n",
    "    'colsample_bytree': [0.6, 0.8, 1.0],\n",
    "    'gamma': [0, 0.1, 0.3, 0.5],\n",
    "    'reg_alpha': [0, 0.01, 0.1],\n",
    "    'reg_lambda': [1, 1.5, 2],\n",
    "    'scale_pos_weight': [1, 3, 5],  # útil para clases desbalanceadas\n",
    "    'objective': ['binary:logistic'],\n",
    "    'use_label_encoder': [False],\n",
    "    'eval_metric': ['logloss']  # para evitar warning en XGBoost >1.3\n",
    "}\n",
    "\n",
    "n_iter = 10\n",
    "param_list = list(ParameterSampler(param_dist, n_iter=n_iter, random_state=42))\n",
    "\n",
    "best_score_xgb = -np.inf\n",
    "best_params_xgb = None\n",
    "\n",
    "for i, params in enumerate(param_list):\n",
    "    with mlflow.start_run(run_name=f\"{run_name_prefix}_run_{i+1}\"):\n",
    "        # Crea el modelo con los parámetros actuales\n",
    "        model = XGBClassifier(**params, random_state=42, verbosity=0)\n",
    "        model.fit(X_train, y_train)\n",
    "\n",
    "        # Predicciones y métricas\n",
    "        y_pred = model.predict(X_test)\n",
    "        y_proba = model.predict_proba(X_test)[:, 1]\n",
    "\n",
    "        metrics = {\n",
    "            \"precision\": precision_score(y_test, y_pred),\n",
    "            \"recall\": recall_score(y_test, y_pred),\n",
    "            \"f1_score\": f1_score(y_test, y_pred),\n",
    "            \"average_precision\": average_precision_score(y_test, y_proba)\n",
    "        }\n",
    "\n",
    "        # Loguea métricas y parámetros\n",
    "        mlflow.log_metrics(metrics)\n",
    "        mlflow.log_params(params)\n",
    "\n",
    "        # Log tags\n",
    "        mlflow.set_tag(\"Model Type\", \"XGBoost Classifier\")\n",
    "        mlflow.set_tag(\"Run Type\", \"Hyperparameter Tuning\")\n",
    "\n",
    "        # Loguea el modelo con firma e input_example para trazabilidad\n",
    "        from mlflow.models import infer_signature\n",
    "        signature = infer_signature(X_train, model.predict(X_train))\n",
    "        mlflow.xgboost.log_model(\n",
    "            xgb_model=model,\n",
    "            artifact_path=\"model\",\n",
    "            signature=signature,\n",
    "            input_example=X_train.head(5)\n",
    "        )\n",
    "\n",
    "        # Actualiza mejor resultado basado en recall\n",
    "        if metrics[\"recall\"] > best_score_xgb:\n",
    "            best_score_xgb = metrics[\"recall\"]\n",
    "            best_params_xgb = params\n"
   ]
  },
  {
   "cell_type": "code",
   "execution_count": 32,
   "id": "aeb919fd",
   "metadata": {},
   "outputs": [
    {
     "name": "stdout",
     "output_type": "stream",
     "text": [
      "Mejores parámetros: {'use_label_encoder': False, 'subsample': 0.8, 'scale_pos_weight': 5, 'reg_lambda': 1, 'reg_alpha': 0, 'objective': 'binary:logistic', 'n_estimators': 300, 'max_depth': 5, 'learning_rate': 0.05, 'gamma': 0.5, 'eval_metric': 'logloss', 'colsample_bytree': 0.8}\n",
      "Mejor recall: 0.8806346381969158\n"
     ]
    }
   ],
   "source": [
    "print(\"Mejores parámetros:\", best_params_xgb) # noqa: T201\n",
    "print(\"Mejor recall:\", best_score_xgb) # noqa: T201"
   ]
  },
  {
   "cell_type": "markdown",
   "id": "704de87b",
   "metadata": {},
   "source": [
    "**KNN Classifier**"
   ]
  },
  {
   "cell_type": "code",
   "execution_count": 33,
   "id": "683b3c1b",
   "metadata": {},
   "outputs": [
    {
     "name": "stderr",
     "output_type": "stream",
     "text": [
      "Downloading artifacts: 100%|██████████| 7/7 [00:00<00:00, 444.61it/s]\n"
     ]
    },
    {
     "name": "stdout",
     "output_type": "stream",
     "text": [
      "🏃 View run RandomSearch_20250608_154608_run_1 at: http://127.0.0.1:5000/#/experiments/723662218742010694/runs/09022abacf7549b18498bc1dab75f2ba\n",
      "🧪 View experiment at: http://127.0.0.1:5000/#/experiments/723662218742010694\n"
     ]
    },
    {
     "name": "stderr",
     "output_type": "stream",
     "text": [
      "Downloading artifacts: 100%|██████████| 7/7 [00:00<00:00, 437.50it/s] \n"
     ]
    },
    {
     "name": "stdout",
     "output_type": "stream",
     "text": [
      "🏃 View run RandomSearch_20250608_154608_run_2 at: http://127.0.0.1:5000/#/experiments/723662218742010694/runs/3478c62a90404be78d6091d8f00bf373\n",
      "🧪 View experiment at: http://127.0.0.1:5000/#/experiments/723662218742010694\n"
     ]
    },
    {
     "name": "stderr",
     "output_type": "stream",
     "text": [
      "Downloading artifacts: 100%|██████████| 7/7 [00:00<00:00, 422.53it/s]\n"
     ]
    },
    {
     "name": "stdout",
     "output_type": "stream",
     "text": [
      "🏃 View run RandomSearch_20250608_154608_run_3 at: http://127.0.0.1:5000/#/experiments/723662218742010694/runs/4b694d56d4cc4221be23b1195f41d342\n",
      "🧪 View experiment at: http://127.0.0.1:5000/#/experiments/723662218742010694\n"
     ]
    },
    {
     "name": "stderr",
     "output_type": "stream",
     "text": [
      "Downloading artifacts: 100%|██████████| 7/7 [00:00<00:00, 356.52it/s]\n"
     ]
    },
    {
     "name": "stdout",
     "output_type": "stream",
     "text": [
      "🏃 View run RandomSearch_20250608_154608_run_4 at: http://127.0.0.1:5000/#/experiments/723662218742010694/runs/eede72d648304cdc8a0e31476a10e364\n",
      "🧪 View experiment at: http://127.0.0.1:5000/#/experiments/723662218742010694\n"
     ]
    },
    {
     "name": "stderr",
     "output_type": "stream",
     "text": [
      "Downloading artifacts: 100%|██████████| 7/7 [00:00<00:00, 466.66it/s]\n"
     ]
    },
    {
     "name": "stdout",
     "output_type": "stream",
     "text": [
      "🏃 View run RandomSearch_20250608_154608_run_5 at: http://127.0.0.1:5000/#/experiments/723662218742010694/runs/de902d64d4d64865aad0fc5e4e311bb2\n",
      "🧪 View experiment at: http://127.0.0.1:5000/#/experiments/723662218742010694\n"
     ]
    },
    {
     "name": "stderr",
     "output_type": "stream",
     "text": [
      "Downloading artifacts: 100%|██████████| 7/7 [00:00<00:00, 423.43it/s] \n"
     ]
    },
    {
     "name": "stdout",
     "output_type": "stream",
     "text": [
      "🏃 View run RandomSearch_20250608_154608_run_6 at: http://127.0.0.1:5000/#/experiments/723662218742010694/runs/27cc00a0520749bf95cae6fefae8a15e\n",
      "🧪 View experiment at: http://127.0.0.1:5000/#/experiments/723662218742010694\n"
     ]
    },
    {
     "name": "stderr",
     "output_type": "stream",
     "text": [
      "Downloading artifacts: 100%|██████████| 7/7 [00:00<00:00, 583.36it/s] \n"
     ]
    },
    {
     "name": "stdout",
     "output_type": "stream",
     "text": [
      "🏃 View run RandomSearch_20250608_154608_run_7 at: http://127.0.0.1:5000/#/experiments/723662218742010694/runs/95215460c5514ae6ae660423f687d102\n",
      "🧪 View experiment at: http://127.0.0.1:5000/#/experiments/723662218742010694\n"
     ]
    },
    {
     "name": "stderr",
     "output_type": "stream",
     "text": [
      "Downloading artifacts: 100%|██████████| 7/7 [00:00<00:00, 462.71it/s] \n"
     ]
    },
    {
     "name": "stdout",
     "output_type": "stream",
     "text": [
      "🏃 View run RandomSearch_20250608_154608_run_8 at: http://127.0.0.1:5000/#/experiments/723662218742010694/runs/ac1960365a06426f8ee6d99bf9156028\n",
      "🧪 View experiment at: http://127.0.0.1:5000/#/experiments/723662218742010694\n"
     ]
    },
    {
     "name": "stderr",
     "output_type": "stream",
     "text": [
      "Downloading artifacts: 100%|██████████| 7/7 [00:00<00:00, 366.55it/s]\n"
     ]
    },
    {
     "name": "stdout",
     "output_type": "stream",
     "text": [
      "🏃 View run RandomSearch_20250608_154608_run_9 at: http://127.0.0.1:5000/#/experiments/723662218742010694/runs/219f6c17e6654245b68bc36cd288d316\n",
      "🧪 View experiment at: http://127.0.0.1:5000/#/experiments/723662218742010694\n"
     ]
    },
    {
     "name": "stderr",
     "output_type": "stream",
     "text": [
      "Downloading artifacts: 100%|██████████| 7/7 [00:00<00:00, 531.92it/s] \n"
     ]
    },
    {
     "name": "stdout",
     "output_type": "stream",
     "text": [
      "🏃 View run RandomSearch_20250608_154608_run_10 at: http://127.0.0.1:5000/#/experiments/723662218742010694/runs/2360e3d81e8941f982cd0379cf22d786\n",
      "🧪 View experiment at: http://127.0.0.1:5000/#/experiments/723662218742010694\n"
     ]
    }
   ],
   "source": [
    "mlflow.set_experiment(\"Experiment 2\")\n",
    "run_name_prefix = f\"RandomSearch_{datetime.now().strftime('%Y%m%d_%H%M%S')}\"\n",
    "\n",
    "# Define the target variable and independent variables\n",
    "X = df_exp2.drop('cancelacion', axis=1)\n",
    "y = df_exp2['cancelacion']\n",
    "# Train test split\n",
    "X_train, X_test, y_train, y_test = train_test_split(X, y, test_size=0.2, random_state=42)\n",
    "\n",
    "\n",
    "# Espacio de búsqueda típico para KNN\n",
    "param_dist = {\n",
    "    'n_neighbors': list(range(1, 31)),          # Número de vecinos\n",
    "    'weights': ['uniform', 'distance'],         # Ponderación de los vecinos\n",
    "    'algorithm': ['auto', 'ball_tree', 'kd_tree', 'brute'],  # Algoritmo para búsqueda\n",
    "    'p': [1, 2]                                 # Parámetro para la distancia (1=Manhattan, 2=Euclidiana)\n",
    "}\n",
    "\n",
    "n_iter = 10\n",
    "param_list = list(ParameterSampler(param_dist, n_iter=n_iter, random_state=42))\n",
    "\n",
    "best_score_knn = -np.inf\n",
    "best_params_knn = None\n",
    "\n",
    "for i, params in enumerate(param_list):\n",
    "    with mlflow.start_run(run_name=f\"{run_name_prefix}_run_{i+1}\"):\n",
    "        model = KNeighborsClassifier(**params)\n",
    "        model.fit(X_train, y_train)\n",
    "\n",
    "        y_pred = model.predict(X_test)\n",
    "\n",
    "        # KNN no tiene método predict_proba para algunos casos, así que evitamos average_precision si no está disponible\n",
    "        try:\n",
    "            y_proba = model.predict_proba(X_test)[:, 1]\n",
    "            avg_prec = average_precision_score(y_test, y_proba)\n",
    "        except AttributeError:\n",
    "            avg_prec = None\n",
    "\n",
    "        metrics = {\n",
    "            \"precision\": precision_score(y_test, y_pred),\n",
    "            \"recall\": recall_score(y_test, y_pred),\n",
    "            \"f1_score\": f1_score(y_test, y_pred),\n",
    "        }\n",
    "        if avg_prec is not None:\n",
    "            metrics[\"average_precision\"] = avg_prec\n",
    "\n",
    "        mlflow.log_metrics(metrics)\n",
    "        mlflow.log_params(params)\n",
    "\n",
    "        mlflow.set_tag(\"Model Type\", \"KNeighborsClassifier\")\n",
    "        mlflow.set_tag(\"Run Type\", \"Hyperparameter Tuning\")\n",
    "\n",
    "        from mlflow.models import infer_signature\n",
    "        signature = infer_signature(X_train, model.predict(X_train))\n",
    "        mlflow.sklearn.log_model(\n",
    "            sk_model=model,\n",
    "            artifact_path=\"model\",\n",
    "            signature=signature,\n",
    "            input_example=X_train.head(5)\n",
    "        )\n",
    "\n",
    "        if metrics[\"recall\"] > best_score_knn:\n",
    "            best_score_knn = metrics[\"recall\"]\n",
    "            best_params_knn = params\n"
   ]
  },
  {
   "cell_type": "code",
   "execution_count": 34,
   "id": "a1a00e6e",
   "metadata": {},
   "outputs": [
    {
     "name": "stdout",
     "output_type": "stream",
     "text": [
      "Mejores parámetros: {'weights': 'distance', 'p': 1, 'n_neighbors': 19, 'algorithm': 'auto'}\n",
      "Mejor recall: 0.7239027283511269\n"
     ]
    }
   ],
   "source": [
    "print(\"Mejores parámetros:\", best_params_knn) # noqa: T201\n",
    "print(\"Mejor recall:\", best_score_knn) # noqa: T201"
   ]
  },
  {
   "cell_type": "markdown",
   "id": "bb6c6b25",
   "metadata": {},
   "source": [
    "---\n",
    "---"
   ]
  },
  {
   "cell_type": "markdown",
   "id": "2e2100b9",
   "metadata": {},
   "source": [
    "### Best Models: Training and deployment in MLflow"
   ]
  },
  {
   "cell_type": "markdown",
   "id": "9d9af6f1",
   "metadata": {},
   "source": [
    "**Experiment 1:** Random Forest"
   ]
  },
  {
   "cell_type": "code",
   "execution_count": null,
   "id": "7e5f6f78",
   "metadata": {},
   "outputs": [],
   "source": [
    "mlflow.set_experiment(\"Experiment 1\")\n",
    "run_name_prefix = \"Best_Model_Exp1_RandomForest\"\n",
    "\n",
    "# Define the target variable and independent variables\n",
    "X = df_exp1.drop('cancelacion', axis=1)\n",
    "y = df_exp1['cancelacion']\n",
    "# Train test split\n",
    "X_train, X_test, y_train, y_test = train_test_split(X, y, test_size=0.2, random_state=42)\n",
    "\n",
    "# Best parameters from previous runs\n",
    "best_params_rf = {\n",
    "    \"bootstrap\": True,\n",
    "    \"class_weight\": \"balanced_subsample\",\n",
    "    \"max_depth\": 20,\n",
    "    \"max_features\": \"log2\",\n",
    "    \"min_samples_leaf\": 4,\n",
    "    \"min_samples_split\": 10,\n",
    "    \"n_estimators\": 50}\n",
    "\n",
    "# Train the best Random Forest model\n",
    "rf = RandomForestClassifier(**best_params_rf, random_state=42, n_jobs=-1)\n",
    "rf.fit(X_train, y_train)\n"
   ]
  },
  {
   "cell_type": "code",
   "execution_count": 8,
   "id": "41003785",
   "metadata": {},
   "outputs": [
    {
     "name": "stdout",
     "output_type": "stream",
     "text": [
      "                 precision    recall  f1-score   support\n",
      "\n",
      "No Cancellation       0.98      0.86      0.92     33896\n",
      "   Cancellation       0.56      0.91      0.70      6603\n",
      "\n",
      "       accuracy                           0.87     40499\n",
      "      macro avg       0.77      0.89      0.81     40499\n",
      "   weighted avg       0.91      0.87      0.88     40499\n",
      "\n"
     ]
    }
   ],
   "source": [
    "# Evaluation\n",
    "y_pred = rf.predict(X_test)\n",
    "\n",
    "print(classification_report(y_test, y_pred, target_names=['No Cancellation', 'Cancellation']))  # noqa: T201\n",
    "\n",
    "precision = precision_score(y_test, y_pred)\n",
    "recall = recall_score(y_test, y_pred)\n",
    "f1 = f1_score(y_test, y_pred)\n",
    "y_scores = rf.predict_proba(X_test)[:, 1]\n",
    "average_precision = average_precision_score(y_test, y_scores)\n",
    "accuracy = accuracy_score(y_test, y_pred)"
   ]
  },
  {
   "cell_type": "code",
   "execution_count": 10,
   "id": "62fab5fd",
   "metadata": {},
   "outputs": [
    {
     "data": {
      "text/html": [
       "<pre style=\"white-space:pre;overflow-x:auto;line-height:normal;font-family:Menlo,'DejaVu Sans Mono',consolas,'Courier New',monospace\"></pre>\n"
      ],
      "text/plain": []
     },
     "metadata": {},
     "output_type": "display_data"
    },
    {
     "data": {
      "image/png": "[encoded data removed]",
      "text/plain": [
       "\u001b[1m<\u001b[0m\u001b[1;95mFigure\u001b[0m\u001b[39m size 80\u001b[0m\u001b[1;36m0x400\u001b[0m\u001b[39m with \u001b[0m\u001b[1;36m3\u001b[0m\u001b[39m Axes\u001b[0m\u001b[1m>\u001b[0m"
      ]
     },
     "metadata": {},
     "output_type": "display_data"
    }
   ],
   "source": [
    "fig, (ax1, ax2) = plt.subplots(1, 2, figsize=(8, 4))\n",
    "\n",
    "ConfusionMatrixDisplay.from_estimator(rf, X_test, y_test, normalize='all', cmap='Blues', ax=ax1)\n",
    "ax1.set_title(\"Confusion Matrix - Exp 1\")\n",
    "\n",
    "PrecisionRecallDisplay.from_estimator(rf, X_test, y_test, ax=ax2)\n",
    "ax2.set_title(\"Precision-Recall Curve - Exp 1\")\n",
    "\n",
    "plt.suptitle(\"Model Evaluation - Exp 1\")\n",
    "\n",
    "plt.tight_layout()  # Ajusta para que no se solapen los títulos\n",
    "\n",
    "plt.savefig(\"model_evaluation_exp1.png\")\n",
    "plt.show()"
   ]
  },
  {
   "cell_type": "code",
   "execution_count": 14,
   "id": "5ace7211",
   "metadata": {},
   "outputs": [
    {
     "name": "stderr",
     "output_type": "stream",
     "text": [
      "Downloading artifacts: 100%|██████████| 7/7 [00:00<00:00, 108.52it/s]\n",
      "Registered model 'RandomForest_BM_Exp1' already exists. Creating a new version of this model...\n",
      "2025/06/13 22:00:35 INFO mlflow.store.model_registry.abstract_store: Waiting up to 300 seconds for model version to finish creation. Model name: RandomForest_BM_Exp1, version 2\n"
     ]
    },
    {
     "name": "stdout",
     "output_type": "stream",
     "text": [
      "🏃 View run Best_Model_Exp1_RandomForest at: http://127.0.0.1:5000/#/experiments/225744905131217093/runs/1297b2ca3f034f4f87d455ebb6f01099\n",
      "🧪 View experiment at: http://127.0.0.1:5000/#/experiments/225744905131217093\n"
     ]
    },
    {
     "name": "stderr",
     "output_type": "stream",
     "text": [
      "Created version '2' of model 'RandomForest_BM_Exp1'.\n"
     ]
    }
   ],
   "source": [
    "# Set our tracking server uri for logging\n",
    "mlflow.set_tracking_uri(uri=\"http://127.0.0.1:5000\")\n",
    "\n",
    "# Create a new MLflow Experiment\n",
    "mlflow.set_experiment(\"Experiment 1\")\n",
    "\n",
    "# Start an MLflow run\n",
    "with mlflow.start_run(run_name=run_name_prefix):\n",
    "    # Log the dataset\n",
    "    #mlflow.log_artifact(datasets.load_iris())\n",
    "\n",
    "    # Log the hyperparameters\n",
    "    mlflow.log_params(best_params_rf)\n",
    "\n",
    "    # Log metrics\n",
    "    metrics = {\n",
    "        \"precision\": precision,\n",
    "        \"recall\": recall,\n",
    "        \"f1_score\": f1,\n",
    "        \"average_precision\": average_precision,\n",
    "        \"accuracy\": accuracy\n",
    "    }\n",
    "\n",
    "    mlflow.log_metrics(metrics)\n",
    "\n",
    "    # Log plots\n",
    "    mlflow.log_artifact(\"model_evaluation_exp1.png\")\n",
    "\n",
    "    # Set a tag that we can use to remind ourselves what this run was for\n",
    "    mlflow.set_tag(\"Info\", \"Best model Exp 1\")\n",
    "    mlflow.set_tag(\"Model Type\", \"Random Forest\")\n",
    "    mlflow.set_tag(\"Dataset\", \"reservaciones_exp1.parquet\")\n",
    "\n",
    "    # Infer the model signature\n",
    "    signature = infer_signature(X_train, rf.predict(X_train))\n",
    "\n",
    "    # Log the model\n",
    "    model_info = mlflow.sklearn.log_model(\n",
    "        sk_model=rf,\n",
    "        artifact_path=\"reservaciones_exp1_model\",\n",
    "        signature=signature,\n",
    "        input_example=X_train,\n",
    "        registered_model_name=\"RandomForest_BM_Exp1\"\n",
    "    )"
   ]
  },
  {
   "cell_type": "markdown",
   "id": "dc654604",
   "metadata": {},
   "source": [
    "**Experiment 2:** Random Forest"
   ]
  },
  {
   "cell_type": "code",
   "execution_count": null,
   "id": "924f2ea9",
   "metadata": {},
   "outputs": [
    {
     "data": {
      "text/html": [
       "<style>#sk-container-id-1 {\n",
       "  /* Definition of color scheme common for light and dark mode */\n",
       "  --sklearn-color-text: #000;\n",
       "  --sklearn-color-text-muted: #666;\n",
       "  --sklearn-color-line: gray;\n",
       "  /* Definition of color scheme for unfitted estimators */\n",
       "  --sklearn-color-unfitted-level-0: #fff5e6;\n",
       "  --sklearn-color-unfitted-level-1: #f6e4d2;\n",
       "  --sklearn-color-unfitted-level-2: #ffe0b3;\n",
       "  --sklearn-color-unfitted-level-3: chocolate;\n",
       "  /* Definition of color scheme for fitted estimators */\n",
       "  --sklearn-color-fitted-level-0: #f0f8ff;\n",
       "  --sklearn-color-fitted-level-1: #d4ebff;\n",
       "  --sklearn-color-fitted-level-2: #b3dbfd;\n",
       "  --sklearn-color-fitted-level-3: cornflowerblue;\n",
       "\n",
       "  /* Specific color for light theme */\n",
       "  --sklearn-color-text-on-default-background: var(--sg-text-color, var(--theme-code-foreground, var(--jp-content-font-color1, black)));\n",
       "  --sklearn-color-background: var(--sg-background-color, var(--theme-background, var(--jp-layout-color0, white)));\n",
       "  --sklearn-color-border-box: var(--sg-text-color, var(--theme-code-foreground, var(--jp-content-font-color1, black)));\n",
       "  --sklearn-color-icon: #696969;\n",
       "\n",
       "  @media (prefers-color-scheme: dark) {\n",
       "    /* Redefinition of color scheme for dark theme */\n",
       "    --sklearn-color-text-on-default-background: var(--sg-text-color, var(--theme-code-foreground, var(--jp-content-font-color1, white)));\n",
       "    --sklearn-color-background: var(--sg-background-color, var(--theme-background, var(--jp-layout-color0, #111)));\n",
       "    --sklearn-color-border-box: var(--sg-text-color, var(--theme-code-foreground, var(--jp-content-font-color1, white)));\n",
       "    --sklearn-color-icon: #878787;\n",
       "  }\n",
       "}\n",
       "\n",
       "#sk-container-id-1 {\n",
       "  color: var(--sklearn-color-text);\n",
       "}\n",
       "\n",
       "#sk-container-id-1 pre {\n",
       "  padding: 0;\n",
       "}\n",
       "\n",
       "#sk-container-id-1 input.sk-hidden--visually {\n",
       "  border: 0;\n",
       "  clip: rect(1px 1px 1px 1px);\n",
       "  clip: rect(1px, 1px, 1px, 1px);\n",
       "  height: 1px;\n",
       "  margin: -1px;\n",
       "  overflow: hidden;\n",
       "  padding: 0;\n",
       "  position: absolute;\n",
       "  width: 1px;\n",
       "}\n",
       "\n",
       "#sk-container-id-1 div.sk-dashed-wrapped {\n",
       "  border: 1px dashed var(--sklearn-color-line);\n",
       "  margin: 0 0.4em 0.5em 0.4em;\n",
       "  box-sizing: border-box;\n",
       "  padding-bottom: 0.4em;\n",
       "  background-color: var(--sklearn-color-background);\n",
       "}\n",
       "\n",
       "#sk-container-id-1 div.sk-container {\n",
       "  /* jupyter's `normalize.less` sets `[hidden] { display: none; }`\n",
       "     but bootstrap.min.css set `[hidden] { display: none !important; }`\n",
       "     so we also need the `!important` here to be able to override the\n",
       "     default hidden behavior on the sphinx rendered scikit-learn.org.\n",
       "     See: https://github.com/scikit-learn/scikit-learn/issues/21755 */\n",
       "  display: inline-block !important;\n",
       "  position: relative;\n",
       "}\n",
       "\n",
       "#sk-container-id-1 div.sk-text-repr-fallback {\n",
       "  display: none;\n",
       "}\n",
       "\n",
       "div.sk-parallel-item,\n",
       "div.sk-serial,\n",
       "div.sk-item {\n",
       "  /* draw centered vertical line to link estimators */\n",
       "  background-image: linear-gradient(var(--sklearn-color-text-on-default-background), var(--sklearn-color-text-on-default-background));\n",
       "  background-size: 2px 100%;\n",
       "  background-repeat: no-repeat;\n",
       "  background-position: center center;\n",
       "}\n",
       "\n",
       "/* Parallel-specific style estimator block */\n",
       "\n",
       "#sk-container-id-1 div.sk-parallel-item::after {\n",
       "  content: \"\";\n",
       "  width: 100%;\n",
       "  border-bottom: 2px solid var(--sklearn-color-text-on-default-background);\n",
       "  flex-grow: 1;\n",
       "}\n",
       "\n",
       "#sk-container-id-1 div.sk-parallel {\n",
       "  display: flex;\n",
       "  align-items: stretch;\n",
       "  justify-content: center;\n",
       "  background-color: var(--sklearn-color-background);\n",
       "  position: relative;\n",
       "}\n",
       "\n",
       "#sk-container-id-1 div.sk-parallel-item {\n",
       "  display: flex;\n",
       "  flex-direction: column;\n",
       "}\n",
       "\n",
       "#sk-container-id-1 div.sk-parallel-item:first-child::after {\n",
       "  align-self: flex-end;\n",
       "  width: 50%;\n",
       "}\n",
       "\n",
       "#sk-container-id-1 div.sk-parallel-item:last-child::after {\n",
       "  align-self: flex-start;\n",
       "  width: 50%;\n",
       "}\n",
       "\n",
       "#sk-container-id-1 div.sk-parallel-item:only-child::after {\n",
       "  width: 0;\n",
       "}\n",
       "\n",
       "/* Serial-specific style estimator block */\n",
       "\n",
       "#sk-container-id-1 div.sk-serial {\n",
       "  display: flex;\n",
       "  flex-direction: column;\n",
       "  align-items: center;\n",
       "  background-color: var(--sklearn-color-background);\n",
       "  padding-right: 1em;\n",
       "  padding-left: 1em;\n",
       "}\n",
       "\n",
       "\n",
       "/* Toggleable style: style used for estimator/Pipeline/ColumnTransformer box that is\n",
       "clickable and can be expanded/collapsed.\n",
       "- Pipeline and ColumnTransformer use this feature and define the default style\n",
       "- Estimators will overwrite some part of the style using the `sk-estimator` class\n",
       "*/\n",
       "\n",
       "/* Pipeline and ColumnTransformer style (default) */\n",
       "\n",
       "#sk-container-id-1 div.sk-toggleable {\n",
       "  /* Default theme specific background. It is overwritten whether we have a\n",
       "  specific estimator or a Pipeline/ColumnTransformer */\n",
       "  background-color: var(--sklearn-color-background);\n",
       "}\n",
       "\n",
       "/* Toggleable label */\n",
       "#sk-container-id-1 label.sk-toggleable__label {\n",
       "  cursor: pointer;\n",
       "  display: flex;\n",
       "  width: 100%;\n",
       "  margin-bottom: 0;\n",
       "  padding: 0.5em;\n",
       "  box-sizing: border-box;\n",
       "  text-align: center;\n",
       "  align-items: start;\n",
       "  justify-content: space-between;\n",
       "  gap: 0.5em;\n",
       "}\n",
       "\n",
       "#sk-container-id-1 label.sk-toggleable__label .caption {\n",
       "  font-size: 0.6rem;\n",
       "  font-weight: lighter;\n",
       "  color: var(--sklearn-color-text-muted);\n",
       "}\n",
       "\n",
       "#sk-container-id-1 label.sk-toggleable__label-arrow:before {\n",
       "  /* Arrow on the left of the label */\n",
       "  content: \"▸\";\n",
       "  float: left;\n",
       "  margin-right: 0.25em;\n",
       "  color: var(--sklearn-color-icon);\n",
       "}\n",
       "\n",
       "#sk-container-id-1 label.sk-toggleable__label-arrow:hover:before {\n",
       "  color: var(--sklearn-color-text);\n",
       "}\n",
       "\n",
       "/* Toggleable content - dropdown */\n",
       "\n",
       "#sk-container-id-1 div.sk-toggleable__content {\n",
       "  max-height: 0;\n",
       "  max-width: 0;\n",
       "  overflow: hidden;\n",
       "  text-align: left;\n",
       "  /* unfitted */\n",
       "  background-color: var(--sklearn-color-unfitted-level-0);\n",
       "}\n",
       "\n",
       "#sk-container-id-1 div.sk-toggleable__content.fitted {\n",
       "  /* fitted */\n",
       "  background-color: var(--sklearn-color-fitted-level-0);\n",
       "}\n",
       "\n",
       "#sk-container-id-1 div.sk-toggleable__content pre {\n",
       "  margin: 0.2em;\n",
       "  border-radius: 0.25em;\n",
       "  color: var(--sklearn-color-text);\n",
       "  /* unfitted */\n",
       "  background-color: var(--sklearn-color-unfitted-level-0);\n",
       "}\n",
       "\n",
       "#sk-container-id-1 div.sk-toggleable__content.fitted pre {\n",
       "  /* unfitted */\n",
       "  background-color: var(--sklearn-color-fitted-level-0);\n",
       "}\n",
       "\n",
       "#sk-container-id-1 input.sk-toggleable__control:checked~div.sk-toggleable__content {\n",
       "  /* Expand drop-down */\n",
       "  max-height: 200px;\n",
       "  max-width: 100%;\n",
       "  overflow: auto;\n",
       "}\n",
       "\n",
       "#sk-container-id-1 input.sk-toggleable__control:checked~label.sk-toggleable__label-arrow:before {\n",
       "  content: \"▾\";\n",
       "}\n",
       "\n",
       "/* Pipeline/ColumnTransformer-specific style */\n",
       "\n",
       "#sk-container-id-1 div.sk-label input.sk-toggleable__control:checked~label.sk-toggleable__label {\n",
       "  color: var(--sklearn-color-text);\n",
       "  background-color: var(--sklearn-color-unfitted-level-2);\n",
       "}\n",
       "\n",
       "#sk-container-id-1 div.sk-label.fitted input.sk-toggleable__control:checked~label.sk-toggleable__label {\n",
       "  background-color: var(--sklearn-color-fitted-level-2);\n",
       "}\n",
       "\n",
       "/* Estimator-specific style */\n",
       "\n",
       "/* Colorize estimator box */\n",
       "#sk-container-id-1 div.sk-estimator input.sk-toggleable__control:checked~label.sk-toggleable__label {\n",
       "  /* unfitted */\n",
       "  background-color: var(--sklearn-color-unfitted-level-2);\n",
       "}\n",
       "\n",
       "#sk-container-id-1 div.sk-estimator.fitted input.sk-toggleable__control:checked~label.sk-toggleable__label {\n",
       "  /* fitted */\n",
       "  background-color: var(--sklearn-color-fitted-level-2);\n",
       "}\n",
       "\n",
       "#sk-container-id-1 div.sk-label label.sk-toggleable__label,\n",
       "#sk-container-id-1 div.sk-label label {\n",
       "  /* The background is the default theme color */\n",
       "  color: var(--sklearn-color-text-on-default-background);\n",
       "}\n",
       "\n",
       "/* On hover, darken the color of the background */\n",
       "#sk-container-id-1 div.sk-label:hover label.sk-toggleable__label {\n",
       "  color: var(--sklearn-color-text);\n",
       "  background-color: var(--sklearn-color-unfitted-level-2);\n",
       "}\n",
       "\n",
       "/* Label box, darken color on hover, fitted */\n",
       "#sk-container-id-1 div.sk-label.fitted:hover label.sk-toggleable__label.fitted {\n",
       "  color: var(--sklearn-color-text);\n",
       "  background-color: var(--sklearn-color-fitted-level-2);\n",
       "}\n",
       "\n",
       "/* Estimator label */\n",
       "\n",
       "#sk-container-id-1 div.sk-label label {\n",
       "  font-family: monospace;\n",
       "  font-weight: bold;\n",
       "  display: inline-block;\n",
       "  line-height: 1.2em;\n",
       "}\n",
       "\n",
       "#sk-container-id-1 div.sk-label-container {\n",
       "  text-align: center;\n",
       "}\n",
       "\n",
       "/* Estimator-specific */\n",
       "#sk-container-id-1 div.sk-estimator {\n",
       "  font-family: monospace;\n",
       "  border: 1px dotted var(--sklearn-color-border-box);\n",
       "  border-radius: 0.25em;\n",
       "  box-sizing: border-box;\n",
       "  margin-bottom: 0.5em;\n",
       "  /* unfitted */\n",
       "  background-color: var(--sklearn-color-unfitted-level-0);\n",
       "}\n",
       "\n",
       "#sk-container-id-1 div.sk-estimator.fitted {\n",
       "  /* fitted */\n",
       "  background-color: var(--sklearn-color-fitted-level-0);\n",
       "}\n",
       "\n",
       "/* on hover */\n",
       "#sk-container-id-1 div.sk-estimator:hover {\n",
       "  /* unfitted */\n",
       "  background-color: var(--sklearn-color-unfitted-level-2);\n",
       "}\n",
       "\n",
       "#sk-container-id-1 div.sk-estimator.fitted:hover {\n",
       "  /* fitted */\n",
       "  background-color: var(--sklearn-color-fitted-level-2);\n",
       "}\n",
       "\n",
       "/* Specification for estimator info (e.g. \"i\" and \"?\") */\n",
       "\n",
       "/* Common style for \"i\" and \"?\" */\n",
       "\n",
       ".sk-estimator-doc-link,\n",
       "a:link.sk-estimator-doc-link,\n",
       "a:visited.sk-estimator-doc-link {\n",
       "  float: right;\n",
       "  font-size: smaller;\n",
       "  line-height: 1em;\n",
       "  font-family: monospace;\n",
       "  background-color: var(--sklearn-color-background);\n",
       "  border-radius: 1em;\n",
       "  height: 1em;\n",
       "  width: 1em;\n",
       "  text-decoration: none !important;\n",
       "  margin-left: 0.5em;\n",
       "  text-align: center;\n",
       "  /* unfitted */\n",
       "  border: var(--sklearn-color-unfitted-level-1) 1pt solid;\n",
       "  color: var(--sklearn-color-unfitted-level-1);\n",
       "}\n",
       "\n",
       ".sk-estimator-doc-link.fitted,\n",
       "a:link.sk-estimator-doc-link.fitted,\n",
       "a:visited.sk-estimator-doc-link.fitted {\n",
       "  /* fitted */\n",
       "  border: var(--sklearn-color-fitted-level-1) 1pt solid;\n",
       "  color: var(--sklearn-color-fitted-level-1);\n",
       "}\n",
       "\n",
       "/* On hover */\n",
       "div.sk-estimator:hover .sk-estimator-doc-link:hover,\n",
       ".sk-estimator-doc-link:hover,\n",
       "div.sk-label-container:hover .sk-estimator-doc-link:hover,\n",
       ".sk-estimator-doc-link:hover {\n",
       "  /* unfitted */\n",
       "  background-color: var(--sklearn-color-unfitted-level-3);\n",
       "  color: var(--sklearn-color-background);\n",
       "  text-decoration: none;\n",
       "}\n",
       "\n",
       "div.sk-estimator.fitted:hover .sk-estimator-doc-link.fitted:hover,\n",
       ".sk-estimator-doc-link.fitted:hover,\n",
       "div.sk-label-container:hover .sk-estimator-doc-link.fitted:hover,\n",
       ".sk-estimator-doc-link.fitted:hover {\n",
       "  /* fitted */\n",
       "  background-color: var(--sklearn-color-fitted-level-3);\n",
       "  color: var(--sklearn-color-background);\n",
       "  text-decoration: none;\n",
       "}\n",
       "\n",
       "/* Span, style for the box shown on hovering the info icon */\n",
       ".sk-estimator-doc-link span {\n",
       "  display: none;\n",
       "  z-index: 9999;\n",
       "  position: relative;\n",
       "  font-weight: normal;\n",
       "  right: .2ex;\n",
       "  padding: .5ex;\n",
       "  margin: .5ex;\n",
       "  width: min-content;\n",
       "  min-width: 20ex;\n",
       "  max-width: 50ex;\n",
       "  color: var(--sklearn-color-text);\n",
       "  box-shadow: 2pt 2pt 4pt #999;\n",
       "  /* unfitted */\n",
       "  background: var(--sklearn-color-unfitted-level-0);\n",
       "  border: .5pt solid var(--sklearn-color-unfitted-level-3);\n",
       "}\n",
       "\n",
       ".sk-estimator-doc-link.fitted span {\n",
       "  /* fitted */\n",
       "  background: var(--sklearn-color-fitted-level-0);\n",
       "  border: var(--sklearn-color-fitted-level-3);\n",
       "}\n",
       "\n",
       ".sk-estimator-doc-link:hover span {\n",
       "  display: block;\n",
       "}\n",
       "\n",
       "/* \"?\"-specific style due to the `<a>` HTML tag */\n",
       "\n",
       "#sk-container-id-1 a.estimator_doc_link {\n",
       "  float: right;\n",
       "  font-size: 1rem;\n",
       "  line-height: 1em;\n",
       "  font-family: monospace;\n",
       "  background-color: var(--sklearn-color-background);\n",
       "  border-radius: 1rem;\n",
       "  height: 1rem;\n",
       "  width: 1rem;\n",
       "  text-decoration: none;\n",
       "  /* unfitted */\n",
       "  color: var(--sklearn-color-unfitted-level-1);\n",
       "  border: var(--sklearn-color-unfitted-level-1) 1pt solid;\n",
       "}\n",
       "\n",
       "#sk-container-id-1 a.estimator_doc_link.fitted {\n",
       "  /* fitted */\n",
       "  border: var(--sklearn-color-fitted-level-1) 1pt solid;\n",
       "  color: var(--sklearn-color-fitted-level-1);\n",
       "}\n",
       "\n",
       "/* On hover */\n",
       "#sk-container-id-1 a.estimator_doc_link:hover {\n",
       "  /* unfitted */\n",
       "  background-color: var(--sklearn-color-unfitted-level-3);\n",
       "  color: var(--sklearn-color-background);\n",
       "  text-decoration: none;\n",
       "}\n",
       "\n",
       "#sk-container-id-1 a.estimator_doc_link.fitted:hover {\n",
       "  /* fitted */\n",
       "  background-color: var(--sklearn-color-fitted-level-3);\n",
       "}\n",
       "</style><div id=\"sk-container-id-1\" class=\"sk-top-container\"><div class=\"sk-text-repr-fallback\"><pre>RandomForestClassifier(bootstrap=False, class_weight=&#x27;balanced&#x27;,\n",
       "                       criterion=&#x27;entropy&#x27;, max_depth=40, max_features=None,\n",
       "                       n_estimators=200, n_jobs=-1, random_state=42)</pre><b>In a Jupyter environment, please rerun this cell to show the HTML representation or trust the notebook. <br />On GitHub, the HTML representation is unable to render, please try loading this page with nbviewer.org.</b></div><div class=\"sk-container\" hidden><div class=\"sk-item\"><div class=\"sk-estimator fitted sk-toggleable\"><input class=\"sk-toggleable__control sk-hidden--visually\" id=\"sk-estimator-id-1\" type=\"checkbox\" checked><label for=\"sk-estimator-id-1\" class=\"sk-toggleable__label fitted sk-toggleable__label-arrow\"><div><div>RandomForestClassifier</div></div><div><a class=\"sk-estimator-doc-link fitted\" rel=\"noreferrer\" target=\"_blank\" href=\"https://scikit-learn.org/1.6/modules/generated/sklearn.ensemble.RandomForestClassifier.html\">?<span>Documentation for RandomForestClassifier</span></a><span class=\"sk-estimator-doc-link fitted\">i<span>Fitted</span></span></div></label><div class=\"sk-toggleable__content fitted\"><pre>RandomForestClassifier(bootstrap=False, class_weight=&#x27;balanced&#x27;,\n",
       "                       criterion=&#x27;entropy&#x27;, max_depth=40, max_features=None,\n",
       "                       n_estimators=200, n_jobs=-1, random_state=42)</pre></div> </div></div></div></div>"
      ],
      "text/plain": [
       "RandomForestClassifier(bootstrap=False, class_weight='balanced',\n",
       "                       criterion='entropy', max_depth=40, max_features=None,\n",
       "                       n_estimators=200, n_jobs=-1, random_state=42)"
      ]
     },
     "execution_count": 15,
     "metadata": {},
     "output_type": "execute_result"
    }
   ],
   "source": [
    "# Set our tracking server uri for logging\n",
    "mlflow.set_tracking_uri(uri=\"http://127.0.0.1:5000\")\n",
    "\n",
    "# Create a new MLflow Experiment\n",
    "mlflow.set_experiment(\"Experiment 2\")\n",
    "run_name_prefix = \"Best_Model_Exp2_RandomForest\"\n",
    "\n",
    "# Define the target variable and independent variables\n",
    "X = df_exp2.drop('cancelacion', axis=1)\n",
    "y = df_exp2['cancelacion']\n",
    "# Train test split\n",
    "X_train, X_test, y_train, y_test = train_test_split(X, y, test_size=0.2, random_state=42)\n",
    "\n",
    "# Best parameters from previous runs\n",
    "best_params_rf = {\n",
    "    \"bootstrap\": False,\n",
    "    \"class_weight\": \"balanced\",\n",
    "    \"criterion\": \"entropy\",\n",
    "    \"max_depth\": 40,\n",
    "    \"max_features\": None,\n",
    "    \"max_leaf_nodes\": None,\n",
    "    \"min_samples_leaf\": 1,\n",
    "    \"min_samples_split\": 2,\n",
    "    \"n_estimators\": 200}\n",
    "\n",
    "# Train the best Random Forest model\n",
    "rf = RandomForestClassifier(**best_params_rf, random_state=42, n_jobs=-1)\n",
    "rf.fit(X_train, y_train)\n"
   ]
  },
  {
   "cell_type": "code",
   "execution_count": 16,
   "id": "df9d024d",
   "metadata": {},
   "outputs": [
    {
     "name": "stdout",
     "output_type": "stream",
     "text": [
      "                 precision    recall  f1-score   support\n",
      "\n",
      "No Cancellation       0.98      0.89      0.93     33219\n",
      "   Cancellation       0.62      0.90      0.74      6744\n",
      "\n",
      "       accuracy                           0.89     39963\n",
      "      macro avg       0.80      0.89      0.83     39963\n",
      "   weighted avg       0.92      0.89      0.90     39963\n",
      "\n"
     ]
    }
   ],
   "source": [
    "# Evaluation\n",
    "y_pred = rf.predict(X_test)\n",
    "\n",
    "print(classification_report(y_test, y_pred, target_names=['No Cancellation', 'Cancellation']))  # noqa: T201\n",
    "\n",
    "precision = precision_score(y_test, y_pred)\n",
    "recall = recall_score(y_test, y_pred)\n",
    "f1 = f1_score(y_test, y_pred)\n",
    "y_scores = rf.predict_proba(X_test)[:, 1]\n",
    "average_precision = average_precision_score(y_test, y_scores)\n",
    "accuracy = accuracy_score(y_test, y_pred)"
   ]
  },
  {
   "cell_type": "code",
   "execution_count": 17,
   "id": "3b493c5d",
   "metadata": {},
   "outputs": [
    {
     "data": {
      "text/html": [
       "<pre style=\"white-space:pre;overflow-x:auto;line-height:normal;font-family:Menlo,'DejaVu Sans Mono',consolas,'Courier New',monospace\"></pre>\n"
      ],
      "text/plain": []
     },
     "metadata": {},
     "output_type": "display_data"
    },
    {
     "data": {
      "image/png": "[encoded data removed]",
      "text/plain": [
       "\u001b[1m<\u001b[0m\u001b[1;95mFigure\u001b[0m\u001b[39m size 80\u001b[0m\u001b[1;36m0x400\u001b[0m\u001b[39m with \u001b[0m\u001b[1;36m3\u001b[0m\u001b[39m Axes\u001b[0m\u001b[1m>\u001b[0m"
      ]
     },
     "metadata": {},
     "output_type": "display_data"
    }
   ],
   "source": [
    "fig, (ax1, ax2) = plt.subplots(1, 2, figsize=(8, 4))\n",
    "\n",
    "ConfusionMatrixDisplay.from_estimator(rf, X_test, y_test, normalize='all', cmap='Blues', ax=ax1)\n",
    "ax1.set_title(\"Confusion Matrix - Exp 2\")\n",
    "\n",
    "PrecisionRecallDisplay.from_estimator(rf, X_test, y_test, ax=ax2)\n",
    "ax2.set_title(\"Precision-Recall Curve - Exp 2\")\n",
    "\n",
    "plt.suptitle(\"Model Evaluation - Exp 2\")\n",
    "\n",
    "plt.tight_layout()  # Ajusta para que no se solapen los títulos\n",
    "\n",
    "plt.savefig(\"model_evaluation_exp2.png\")\n",
    "plt.show()"
   ]
  },
  {
   "cell_type": "code",
   "execution_count": 18,
   "id": "ffaf2667",
   "metadata": {},
   "outputs": [
    {
     "name": "stderr",
     "output_type": "stream",
     "text": [
      "Downloading artifacts: 100%|██████████| 7/7 [00:00<00:00, 129.01it/s]\n",
      "Successfully registered model 'RandomForest_BM_Exp2'.\n",
      "2025/06/13 22:05:17 INFO mlflow.store.model_registry.abstract_store: Waiting up to 300 seconds for model version to finish creation. Model name: RandomForest_BM_Exp2, version 1\n"
     ]
    },
    {
     "name": "stdout",
     "output_type": "stream",
     "text": [
      "🏃 View run Best_Model_Exp2_RandomForest at: http://127.0.0.1:5000/#/experiments/723662218742010694/runs/94b529e3782b4fdfa8b75ff1b733eac1\n",
      "🧪 View experiment at: http://127.0.0.1:5000/#/experiments/723662218742010694\n"
     ]
    },
    {
     "name": "stderr",
     "output_type": "stream",
     "text": [
      "Created version '1' of model 'RandomForest_BM_Exp2'.\n"
     ]
    }
   ],
   "source": [
    "# Set our tracking server uri for logging\n",
    "mlflow.set_tracking_uri(uri=\"http://127.0.0.1:5000\")\n",
    "\n",
    "# Create a new MLflow Experiment\n",
    "mlflow.set_experiment(\"Experiment 2\")\n",
    "\n",
    "# Start an MLflow run\n",
    "with mlflow.start_run(run_name=run_name_prefix):\n",
    "    # Log the dataset\n",
    "    #mlflow.log_artifact(datasets.load_iris())\n",
    "\n",
    "    # Log the hyperparameters\n",
    "    mlflow.log_params(best_params_rf)\n",
    "\n",
    "    # Log metrics\n",
    "    metrics = {\n",
    "        \"precision\": precision,\n",
    "        \"recall\": recall,\n",
    "        \"f1_score\": f1,\n",
    "        \"average_precision\": average_precision,\n",
    "        \"accuracy\": accuracy\n",
    "    }\n",
    "\n",
    "    mlflow.log_metrics(metrics)\n",
    "\n",
    "    # Log plots\n",
    "    mlflow.log_artifact(\"model_evaluation_exp1.png\")\n",
    "\n",
    "    # Set a tag that we can use to remind ourselves what this run was for\n",
    "    mlflow.set_tag(\"Info\", \"Best model Exp 2\")\n",
    "    mlflow.set_tag(\"Model Type\", \"Random Forest\")\n",
    "    mlflow.set_tag(\"Dataset\", \"reservaciones_exp2.parquet\")\n",
    "\n",
    "    # Infer the model signature\n",
    "    signature = infer_signature(X_train, rf.predict(X_train))\n",
    "\n",
    "    # Log the model\n",
    "    model_info = mlflow.sklearn.log_model(\n",
    "        sk_model=rf,\n",
    "        artifact_path=\"reservaciones_exp2_model\",\n",
    "        signature=signature,\n",
    "        input_example=X_train,\n",
    "        registered_model_name=\"RandomForest_BM_Exp2\"\n",
    "    )"
   ]
  },
  {
   "cell_type": "markdown",
   "id": "4cbe2e77",
   "metadata": {},
   "source": [
    "---\n",
    "---"
   ]
  },
  {
   "cell_type": "markdown",
   "id": "ec1d782d",
   "metadata": {},
   "source": [
    "### Train a Neural Network"
   ]
  },
  {
   "cell_type": "markdown",
   "id": "196f8ea1",
   "metadata": {},
   "source": [
    "**Experimento 1**"
   ]
  },
  {
   "cell_type": "code",
   "execution_count": 34,
   "id": "4eccd455",
   "metadata": {},
   "outputs": [],
   "source": [
    "import mlflow.tensorflow\n",
    "import pandas as pd\n",
    "import tensorflow as tf\n",
    "from sklearn.model_selection import train_test_split\n",
    "from sklearn.preprocessing import StandardScaler\n",
    "from tensorflow.keras.callbacks import EarlyStopping\n",
    "from tensorflow.keras.layers import Dense, Dropout\n",
    "from tensorflow.keras.models import Sequential\n",
    "from tensorflow.keras.optimizers import Adam"
   ]
  },
  {
   "cell_type": "code",
   "execution_count": null,
   "id": "fcf465e9",
   "metadata": {},
   "outputs": [
    {
     "name": "stderr",
     "output_type": "stream",
     "text": [
      "c:\\Users\\Esteban\\Documents\\. Clases_Tec\\8. Octavo semestre\\_Proyecto\\kProject\\tcaproject\\.venv\\Lib\\site-packages\\keras\\src\\layers\\core\\dense.py:93: UserWarning: Do not pass an `input_shape`/`input_dim` argument to a layer. When using Sequential models, prefer using an `Input(shape)` object as the first layer in the model instead.\n",
      "  super().__init__(activity_regularizer=activity_regularizer, **kwargs)\n"
     ]
    },
    {
     "name": "stdout",
     "output_type": "stream",
     "text": [
      "Epoch 1/100\n",
      "\u001b[1m443/443\u001b[0m \u001b[32m━━━━━━━━━━━━━━━━━━━━\u001b[0m\u001b[37m\u001b[0m \u001b[1m5s\u001b[0m 6ms/step - accuracy: 0.7942 - loss: 0.7126 - pr_auc: 0.4294 - precision: 0.4098 - recall: 0.5222 - val_accuracy: 0.8427 - val_loss: 0.3609 - val_pr_auc: 0.5801 - val_precision: 0.5216 - val_recall: 0.6950\n",
      "Epoch 2/100\n",
      "\u001b[1m443/443\u001b[0m \u001b[32m━━━━━━━━━━━━━━━━━━━━\u001b[0m\u001b[37m\u001b[0m \u001b[1m2s\u001b[0m 4ms/step - accuracy: 0.8328 - loss: 0.5955 - pr_auc: 0.5527 - precision: 0.4925 - recall: 0.6916 - val_accuracy: 0.8375 - val_loss: 0.3666 - val_pr_auc: 0.5868 - val_precision: 0.5094 - val_recall: 0.7096\n",
      "Epoch 3/100\n",
      "\u001b[1m443/443\u001b[0m \u001b[32m━━━━━━━━━━━━━━━━━━━━\u001b[0m\u001b[37m\u001b[0m \u001b[1m2s\u001b[0m 4ms/step - accuracy: 0.8344 - loss: 0.5844 - pr_auc: 0.5705 - precision: 0.4967 - recall: 0.6890 - val_accuracy: 0.8418 - val_loss: 0.3566 - val_pr_auc: 0.6010 - val_precision: 0.5191 - val_recall: 0.7087\n",
      "Epoch 4/100\n",
      "\u001b[1m443/443\u001b[0m \u001b[32m━━━━━━━━━━━━━━━━━━━━\u001b[0m\u001b[37m\u001b[0m \u001b[1m2s\u001b[0m 4ms/step - accuracy: 0.8343 - loss: 0.5820 - pr_auc: 0.5726 - precision: 0.4953 - recall: 0.7021 - val_accuracy: 0.8414 - val_loss: 0.3521 - val_pr_auc: 0.6042 - val_precision: 0.5184 - val_recall: 0.7037\n",
      "Epoch 5/100\n",
      "\u001b[1m443/443\u001b[0m \u001b[32m━━━━━━━━━━━━━━━━━━━━\u001b[0m\u001b[37m\u001b[0m \u001b[1m2s\u001b[0m 4ms/step - accuracy: 0.8321 - loss: 0.5712 - pr_auc: 0.5781 - precision: 0.4922 - recall: 0.7072 - val_accuracy: 0.8393 - val_loss: 0.3622 - val_pr_auc: 0.6142 - val_precision: 0.5131 - val_recall: 0.7271\n",
      "Epoch 6/100\n",
      "\u001b[1m443/443\u001b[0m \u001b[32m━━━━━━━━━━━━━━━━━━━━\u001b[0m\u001b[37m\u001b[0m \u001b[1m2s\u001b[0m 4ms/step - accuracy: 0.8341 - loss: 0.5665 - pr_auc: 0.5850 - precision: 0.4965 - recall: 0.7178 - val_accuracy: 0.8373 - val_loss: 0.3541 - val_pr_auc: 0.6191 - val_precision: 0.5089 - val_recall: 0.7275\n",
      "Epoch 7/100\n",
      "\u001b[1m443/443\u001b[0m \u001b[32m━━━━━━━━━━━━━━━━━━━━\u001b[0m\u001b[37m\u001b[0m \u001b[1m2s\u001b[0m 4ms/step - accuracy: 0.8316 - loss: 0.5630 - pr_auc: 0.5913 - precision: 0.4919 - recall: 0.7245 - val_accuracy: 0.8263 - val_loss: 0.3584 - val_pr_auc: 0.6217 - val_precision: 0.4871 - val_recall: 0.7713\n",
      "Epoch 8/100\n",
      "\u001b[1m443/443\u001b[0m \u001b[32m━━━━━━━━━━━━━━━━━━━━\u001b[0m\u001b[37m\u001b[0m \u001b[1m2s\u001b[0m 4ms/step - accuracy: 0.8310 - loss: 0.5551 - pr_auc: 0.5940 - precision: 0.4858 - recall: 0.7202 - val_accuracy: 0.8436 - val_loss: 0.3422 - val_pr_auc: 0.6293 - val_precision: 0.5226 - val_recall: 0.7297\n",
      "Epoch 9/100\n",
      "\u001b[1m443/443\u001b[0m \u001b[32m━━━━━━━━━━━━━━━━━━━━\u001b[0m\u001b[37m\u001b[0m \u001b[1m2s\u001b[0m 4ms/step - accuracy: 0.8310 - loss: 0.5539 - pr_auc: 0.6048 - precision: 0.4935 - recall: 0.7351 - val_accuracy: 0.8369 - val_loss: 0.3443 - val_pr_auc: 0.6280 - val_precision: 0.5076 - val_recall: 0.7512\n",
      "Epoch 10/100\n",
      "\u001b[1m443/443\u001b[0m \u001b[32m━━━━━━━━━━━━━━━━━━━━\u001b[0m\u001b[37m\u001b[0m \u001b[1m2s\u001b[0m 4ms/step - accuracy: 0.8337 - loss: 0.5560 - pr_auc: 0.6066 - precision: 0.4984 - recall: 0.7364 - val_accuracy: 0.8499 - val_loss: 0.3408 - val_pr_auc: 0.6321 - val_precision: 0.5380 - val_recall: 0.7115\n",
      "Epoch 11/100\n",
      "\u001b[1m443/443\u001b[0m \u001b[32m━━━━━━━━━━━━━━━━━━━━\u001b[0m\u001b[37m\u001b[0m \u001b[1m2s\u001b[0m 4ms/step - accuracy: 0.8353 - loss: 0.5514 - pr_auc: 0.6032 - precision: 0.4960 - recall: 0.7212 - val_accuracy: 0.8485 - val_loss: 0.3381 - val_pr_auc: 0.6341 - val_precision: 0.5341 - val_recall: 0.7208\n",
      "Epoch 12/100\n",
      "\u001b[1m443/443\u001b[0m \u001b[32m━━━━━━━━━━━━━━━━━━━━\u001b[0m\u001b[37m\u001b[0m \u001b[1m2s\u001b[0m 4ms/step - accuracy: 0.8337 - loss: 0.5540 - pr_auc: 0.6006 - precision: 0.4937 - recall: 0.7250 - val_accuracy: 0.8400 - val_loss: 0.3456 - val_pr_auc: 0.6328 - val_precision: 0.5141 - val_recall: 0.7502\n",
      "Epoch 13/100\n",
      "\u001b[1m443/443\u001b[0m \u001b[32m━━━━━━━━━━━━━━━━━━━━\u001b[0m\u001b[37m\u001b[0m \u001b[1m2s\u001b[0m 4ms/step - accuracy: 0.8335 - loss: 0.5491 - pr_auc: 0.6108 - precision: 0.4972 - recall: 0.7356 - val_accuracy: 0.8450 - val_loss: 0.3379 - val_pr_auc: 0.6370 - val_precision: 0.5259 - val_recall: 0.7265\n",
      "Epoch 14/100\n",
      "\u001b[1m443/443\u001b[0m \u001b[32m━━━━━━━━━━━━━━━━━━━━\u001b[0m\u001b[37m\u001b[0m \u001b[1m2s\u001b[0m 4ms/step - accuracy: 0.8354 - loss: 0.5439 - pr_auc: 0.6137 - precision: 0.4995 - recall: 0.7291 - val_accuracy: 0.8365 - val_loss: 0.3435 - val_pr_auc: 0.6385 - val_precision: 0.5067 - val_recall: 0.7601\n",
      "Epoch 15/100\n",
      "\u001b[1m443/443\u001b[0m \u001b[32m━━━━━━━━━━━━━━━━━━━━\u001b[0m\u001b[37m\u001b[0m \u001b[1m2s\u001b[0m 4ms/step - accuracy: 0.8350 - loss: 0.5449 - pr_auc: 0.6159 - precision: 0.4999 - recall: 0.7392 - val_accuracy: 0.8394 - val_loss: 0.3377 - val_pr_auc: 0.6407 - val_precision: 0.5127 - val_recall: 0.7576\n",
      "Epoch 16/100\n",
      "\u001b[1m443/443\u001b[0m \u001b[32m━━━━━━━━━━━━━━━━━━━━\u001b[0m\u001b[37m\u001b[0m \u001b[1m2s\u001b[0m 4ms/step - accuracy: 0.8346 - loss: 0.5397 - pr_auc: 0.6184 - precision: 0.4981 - recall: 0.7381 - val_accuracy: 0.8429 - val_loss: 0.3317 - val_pr_auc: 0.6412 - val_precision: 0.5205 - val_recall: 0.7398\n",
      "Epoch 17/100\n",
      "\u001b[1m443/443\u001b[0m \u001b[32m━━━━━━━━━━━━━━━━━━━━\u001b[0m\u001b[37m\u001b[0m \u001b[1m3s\u001b[0m 4ms/step - accuracy: 0.8335 - loss: 0.5464 - pr_auc: 0.6094 - precision: 0.4962 - recall: 0.7341 - val_accuracy: 0.8395 - val_loss: 0.3350 - val_pr_auc: 0.6429 - val_precision: 0.5128 - val_recall: 0.7681\n",
      "Epoch 18/100\n",
      "\u001b[1m443/443\u001b[0m \u001b[32m━━━━━━━━━━━━━━━━━━━━\u001b[0m\u001b[37m\u001b[0m \u001b[1m2s\u001b[0m 4ms/step - accuracy: 0.8375 - loss: 0.5389 - pr_auc: 0.6167 - precision: 0.5018 - recall: 0.7401 - val_accuracy: 0.8454 - val_loss: 0.3346 - val_pr_auc: 0.6454 - val_precision: 0.5259 - val_recall: 0.7495\n",
      "Epoch 19/100\n",
      "\u001b[1m443/443\u001b[0m \u001b[32m━━━━━━━━━━━━━━━━━━━━\u001b[0m\u001b[37m\u001b[0m \u001b[1m2s\u001b[0m 4ms/step - accuracy: 0.8388 - loss: 0.5368 - pr_auc: 0.6192 - precision: 0.5050 - recall: 0.7415 - val_accuracy: 0.8337 - val_loss: 0.3367 - val_pr_auc: 0.6437 - val_precision: 0.5011 - val_recall: 0.7865\n",
      "Epoch 20/100\n",
      "\u001b[1m443/443\u001b[0m \u001b[32m━━━━━━━━━━━━━━━━━━━━\u001b[0m\u001b[37m\u001b[0m \u001b[1m2s\u001b[0m 4ms/step - accuracy: 0.8381 - loss: 0.5316 - pr_auc: 0.6167 - precision: 0.4985 - recall: 0.7386 - val_accuracy: 0.8390 - val_loss: 0.3375 - val_pr_auc: 0.6456 - val_precision: 0.5116 - val_recall: 0.7768\n",
      "Epoch 21/100\n",
      "\u001b[1m443/443\u001b[0m \u001b[32m━━━━━━━━━━━━━━━━━━━━\u001b[0m\u001b[37m\u001b[0m \u001b[1m2s\u001b[0m 4ms/step - accuracy: 0.8386 - loss: 0.5330 - pr_auc: 0.6157 - precision: 0.5010 - recall: 0.7410 - val_accuracy: 0.8316 - val_loss: 0.3422 - val_pr_auc: 0.6462 - val_precision: 0.4972 - val_recall: 0.7994\n",
      "Epoch 21: early stopping\n",
      "Restoring model weights from the end of the best epoch: 16.\n",
      "\u001b[1m1899/1899\u001b[0m \u001b[32m━━━━━━━━━━━━━━━━━━━━\u001b[0m\u001b[37m\u001b[0m \u001b[1m4s\u001b[0m 2ms/step - accuracy: 0.8429 - loss: 0.3273 - pr_auc: 0.6479 - precision: 0.5187 - recall: 0.7429\n",
      "Loss: 0.3302, Accuracy: 0.8422, Recall: 0.7412, Precision: 0.5139, Average Precision: 0.6389\n"
     ]
    }
   ],
   "source": [
    "# 1. Preprocesamiento de datos\n",
    "# Suponiendo un DataFrame 'df' con características y columna 'is_canceled'\n",
    "X = df_exp1.drop('cancelacion', axis=1)\n",
    "y = df_exp1['cancelacion']\n",
    "\n",
    "# Normalización y split\n",
    "scaler = StandardScaler()\n",
    "X_scaled = scaler.fit_transform(X)\n",
    "X_train, X_test, y_train, y_test = train_test_split(X_scaled, y, test_size=0.3, stratify=y)\n",
    "\n",
    "# 2. Arquitectura de la red\n",
    "model = Sequential([\n",
    "    Dense(64, activation='relu', input_shape=(X_train.shape[1],)),\n",
    "    Dropout(0.3),\n",
    "    Dense(32, activation='relu'),\n",
    "    Dropout(0.2),\n",
    "    Dense(1, activation='sigmoid')\n",
    "])\n",
    "\n",
    "# 3. Compilación con parámetros optimizados\n",
    "model.compile(optimizer=Adam(learning_rate=0.001),\n",
    "              loss='binary_crossentropy',\n",
    "              metrics=['accuracy',\n",
    "                       tf.keras.metrics.Recall(name='recall'),\n",
    "                       tf.keras.metrics.Precision(name='precision'),\n",
    "                       tf.keras.metrics.AUC(name='pr_auc', curve='PR')\n",
    "                       ])\n",
    "\n",
    "# 4. Entrenamiento con early stopping (edtener luego de no mejorar durante 5 épocas)\n",
    "early_stop = EarlyStopping(\n",
    "                            monitor='val_loss',\n",
    "                            min_delta=0.001,\n",
    "                            patience=5,\n",
    "                            verbose=1,\n",
    "                            mode='min',\n",
    "                            restore_best_weights=True)\n",
    "\n",
    "history = model.fit(X_train, y_train,\n",
    "                    epochs=100,\n",
    "                    batch_size=256,\n",
    "                    validation_split=0.2,\n",
    "                    callbacks=[early_stop],\n",
    "                    class_weight={0:1, 1:3})  # Ajuste para clases desbalanceadas\n",
    "\n",
    "# 5. Evaluación del modelo\n",
    "loss, accuracy, recall, precision, average_precision = model.evaluate(X_test, y_test)\n",
    "print(f\"Loss: {loss:.4f}, Accuracy: {accuracy:.4f}, Recall: {recall:.4f}, Precision: {precision:.4f}, Average Precision: {average_precision:.4f}\")  # noqa: T201\n"
   ]
  },
  {
   "cell_type": "code",
   "execution_count": 28,
   "id": "0613fb71",
   "metadata": {},
   "outputs": [
    {
     "data": {
      "text/html": [
       "<pre style=\"white-space:pre;overflow-x:auto;line-height:normal;font-family:Menlo,'DejaVu Sans Mono',consolas,'Courier New',monospace\"></pre>\n"
      ],
      "text/plain": []
     },
     "metadata": {},
     "output_type": "display_data"
    },
    {
     "data": {
      "image/png": "[encoded data removed]",
      "text/plain": [
       "\u001b[1m<\u001b[0m\u001b[1;95mFigure\u001b[0m\u001b[39m size 120\u001b[0m\u001b[1;36m0x500\u001b[0m\u001b[39m with \u001b[0m\u001b[1;36m2\u001b[0m\u001b[39m Axes\u001b[0m\u001b[1m>\u001b[0m"
      ]
     },
     "metadata": {},
     "output_type": "display_data"
    }
   ],
   "source": [
    "# Graficar pérdida (loss)\n",
    "plt.figure(figsize=(12,5))\n",
    "plt.subplot(1,2,1)\n",
    "plt.plot(history.history['loss'], label='Loss entrenamiento')\n",
    "plt.plot(history.history['val_loss'], label='Loss validación')\n",
    "plt.xlabel('Época')\n",
    "plt.ylabel('Loss')\n",
    "plt.title('Evolución de la pérdida')\n",
    "plt.legend()\n",
    "\n",
    "# Graficar recall\n",
    "plt.subplot(1,2,2)\n",
    "plt.plot(history.history['recall'], label='Recall entrenamiento')\n",
    "plt.plot(history.history['val_recall'], label='Recall validación')\n",
    "plt.xlabel('Época')\n",
    "plt.ylabel('Recall')\n",
    "plt.title('Evolución del Recall')\n",
    "plt.legend()\n",
    "\n",
    "plt.tight_layout()\n",
    "plt.show()\n"
   ]
  },
  {
   "cell_type": "markdown",
   "id": "1a23f532",
   "metadata": {},
   "source": [
    "#### **Interpretación de las gráficas**\n",
    "No de las últimas\n",
    "\n",
    "1. **Pérdida (Loss)**\n",
    "- **Entrenamiento:** La pérdida disminuye rápidamente al inicio y luego se estabiliza, lo cual es típico y esperado.\n",
    "- **Validación:** La pérdida de validación es consistentemente menor que la de entrenamiento y se mantiene estable.\n",
    "- **No hay señales claras de overfitting:** Normalmente, si la pérdida de validación sube mientras la de entrenamiento baja, hay sobreajuste. Aquí ambas se estabilizan y la de validación incluso es menor.\n",
    "\n",
    "2. **Recall**\n",
    "- **Entrenamiento:** El recall sube rápido y se estabiliza.\n",
    "- **Validación:** El recall de validación muestra mucha variabilidad (ruido) pero oscila en torno al valor del entrenamiento.\n",
    "- **Conclusión:** El modelo no está sobreajustando, pero el recall de validación es inestable, lo que puede indicar:\n",
    "  - Dataset pequeño\n",
    "  - Variabilidad en los datos de validación\n",
    "  - Modelo sensible a pequeñas fluctuaciones\n",
    "\n",
    "---\n",
    "\n",
    " **¿Cómo mejorar tu modelo?**\n",
    "\n",
    "**1. Reduce la variabilidad del recall de validación**\n",
    "- **Aumenta el tamaño del batch:** Usa batch_size=512 o 1024 si tu hardware lo permite. Esto suaviza las curvas de validación.\n",
    "- **Haz k-fold cross-validation:** Así tendrás una mejor estimación de la performance real y menos variabilidad.\n",
    "- **Aumenta el tamaño del dataset:** Si es posible, agrega más datos de entrenamiento.\n",
    "\n",
    "**2. Ajusta la arquitectura**\n",
    "- **Reduce la complejidad:** Prueba con menos neuronas o una sola capa oculta. Tu modelo podría estar ligeramente sobredimensionado para la cantidad de datos.\n",
    "- **Aumenta la regularización:** Sube un poco el dropout (por ejemplo, 0.4 y 0.3) para ver si mejora la estabilidad.\n",
    "\n",
    "**3. Ajusta el early stopping**\n",
    "- **Aumenta `patience`:** Si el recall oscila mucho, prueba con `patience=10` para que el early stopping no corte demasiado pronto.\n",
    "- **Monitorea otra métrica:** Puedes probar monitorear `val_recall` o `val_pr_auc` si te interesa más recall o precisión-recall.\n",
    "\n",
    "**4. Ingenería de características**\n",
    "- **Crea nuevas variables:** Por ejemplo, días hasta la reserva, tipo de cliente, época del año, etc.\n",
    "- **Prueba con otras codificaciones:** Si tienes variables categóricas, prueba One-Hot Encoding o Embeddings si hay muchas categorías.\n",
    "\n",
    "**5. Balanceo de clases**\n",
    "- **Prueba diferentes `class_weight`:** Ajusta los pesos para ver si puedes mejorar recall sin perder precisión.\n",
    "\n",
    "**6. Otras recomendaciones**\n",
    "- **Evalúa otras métricas:** El PR AUC es muy útil en problemas desbalanceados. Si tienes un PR AUC alto, tu modelo está funcionando bien aunque el recall oscile.\n",
    "- **Normaliza bien tus datos:** Ya lo haces, pero asegúrate que no haya outliers extremos.\n",
    "\n",
    "\n",
    "**Resumen de pasos sugeridos**\n",
    "\n",
    "1. **Aumenta el batch_size** para suavizar la curva de validación.\n",
    "2. **Haz cross-validation** para una mejor estimación.\n",
    "3. **Ajusta la arquitectura** y la regularización.\n",
    "4. **Juega con los pesos de clase**.\n",
    "5. **Prueba monitorear otras métricas** en el early stopping.\n",
    "6. **Agrega más datos** o haz ingeniería de características.\n"
   ]
  },
  {
   "cell_type": "code",
   "execution_count": 31,
   "id": "a85578bc",
   "metadata": {},
   "outputs": [
    {
     "name": "stdout",
     "output_type": "stream",
     "text": [
      "\u001b[1m1899/1899\u001b[0m \u001b[32m━━━━━━━━━━━━━━━━━━━━\u001b[0m\u001b[37m\u001b[0m \u001b[1m2s\u001b[0m 1ms/step\n",
      "                 precision    recall  f1-score   support\n",
      "\n",
      "No Cancellation       0.94      0.86      0.90     50759\n",
      "   Cancellation       0.51      0.74      0.61      9989\n",
      "\n",
      "       accuracy                           0.84     60748\n",
      "      macro avg       0.73      0.80      0.75     60748\n",
      "   weighted avg       0.87      0.84      0.85     60748\n",
      "\n",
      "Precision: 0.5139, Recall: 0.7412, F1: 0.6070, Average Precision: 0.6392, Accuracy: 0.8422\n"
     ]
    }
   ],
   "source": [
    "# Evaluation\n",
    "y_pred_proba = model.predict(X_test)  # Probabilidades\n",
    "y_pred = (y_pred_proba >= 0.5).astype(int)  # Etiquetas binarias 0 o 1\n",
    "\n",
    "print(classification_report(y_test, y_pred, target_names=['No Cancellation', 'Cancellation']))  # noqa: T201\n",
    "\n",
    "precision = precision_score(y_test, y_pred)\n",
    "recall = recall_score(y_test, y_pred)\n",
    "f1 = f1_score(y_test, y_pred)\n",
    "average_precision = average_precision_score(y_test, y_pred_proba)\n",
    "accuracy = accuracy_score(y_test, y_pred)\n",
    "\n",
    "print(f\"Precision: {precision:.4f}, Recall: {recall:.4f}, F1: {f1:.4f}, Average Precision: {average_precision:.4f}, Accuracy: {accuracy:.4f}\")"
   ]
  },
  {
   "cell_type": "code",
   "execution_count": 33,
   "id": "72053558",
   "metadata": {},
   "outputs": [
    {
     "data": {
      "text/html": [
       "<pre style=\"white-space:pre;overflow-x:auto;line-height:normal;font-family:Menlo,'DejaVu Sans Mono',consolas,'Courier New',monospace\"></pre>\n"
      ],
      "text/plain": []
     },
     "metadata": {},
     "output_type": "display_data"
    },
    {
     "data": {
      "image/png": "[encoded data removed]",
      "text/plain": [
       "\u001b[1m<\u001b[0m\u001b[1;95mFigure\u001b[0m\u001b[39m size 80\u001b[0m\u001b[1;36m0x400\u001b[0m\u001b[39m with \u001b[0m\u001b[1;36m3\u001b[0m\u001b[39m Axes\u001b[0m\u001b[1m>\u001b[0m"
      ]
     },
     "metadata": {},
     "output_type": "display_data"
    }
   ],
   "source": [
    "fig, (ax1, ax2) = plt.subplots(1, 2, figsize=(8, 4))\n",
    "\n",
    "# Matriz de confusión normalizada\n",
    "ConfusionMatrixDisplay.from_predictions(\n",
    "    y_test, y_pred,\n",
    "    normalize='all',\n",
    "    cmap='Blues',\n",
    "    ax=ax1\n",
    ")\n",
    "ax1.set_title(\"Confusion Matrix - Exp 1\")\n",
    "\n",
    "# Curva Precision-Recall usando probabilidades\n",
    "PrecisionRecallDisplay.from_predictions(\n",
    "    y_test, y_pred_proba,\n",
    "    ax=ax2\n",
    ")\n",
    "ax2.set_title(\"Precision-Recall Curve - Exp 1\")\n",
    "\n",
    "plt.suptitle(\"Model Evaluation - Exp 1\")\n",
    "plt.tight_layout()\n",
    "plt.show()"
   ]
  },
  {
   "cell_type": "markdown",
   "id": "72be96a7",
   "metadata": {},
   "source": [
    "**Registrar entreamientos en MLflow**"
   ]
  },
  {
   "cell_type": "markdown",
   "id": "3950aa7b",
   "metadata": {},
   "source": [
    "a) Autologging"
   ]
  },
  {
   "cell_type": "code",
   "execution_count": 35,
   "id": "aa9ab0de",
   "metadata": {},
   "outputs": [
    {
     "name": "stderr",
     "output_type": "stream",
     "text": [
      "2025/06/14 12:55:54 INFO mlflow.tracking.fluent: Experiment with name 'Neural_Networks' does not exist. Creating a new experiment.\n",
      "c:\\Users\\Esteban\\Documents\\. Clases_Tec\\8. Octavo semestre\\_Proyecto\\kProject\\tcaproject\\.venv\\Lib\\site-packages\\keras\\src\\layers\\core\\dense.py:93: UserWarning: Do not pass an `input_shape`/`input_dim` argument to a layer. When using Sequential models, prefer using an `Input(shape)` object as the first layer in the model instead.\n",
      "  super().__init__(activity_regularizer=activity_regularizer, **kwargs)\n",
      "2025/06/14 12:55:55 INFO mlflow.utils.autologging_utils: Created MLflow autologging run with ID '9e2d8920b0b14f989b3087647b59d0e6', which will track hyperparameters, performance metrics, model artifacts, and lineage information for the current tensorflow workflow\n",
      "2025/06/14 12:55:55 WARNING mlflow.tensorflow: Failed to log training dataset information to MLflow Tracking. Reason: 'Series' object has no attribute 'flatten'\n"
     ]
    },
    {
     "data": {
      "text/html": [
       "<pre style=\"white-space:pre;overflow-x:auto;line-height:normal;font-family:Menlo,'DejaVu Sans Mono',consolas,'Courier New',monospace\"></pre>\n"
      ],
      "text/plain": []
     },
     "metadata": {},
     "output_type": "display_data"
    },
    {
     "name": "stdout",
     "output_type": "stream",
     "text": [
      "Epoch 1/100\n",
      "\u001b[1m441/443\u001b[0m \u001b[32m━━━━━━━━━━━━━━━━━━━\u001b[0m\u001b[37m━\u001b[0m \u001b[1m0s\u001b[0m 5ms/step - accuracy: 0.8045 - loss: 0.7078 - pr_auc: 0.4319 - precision: 0.4259 - recall: 0.5409"
     ]
    },
    {
     "data": {
      "text/html": [
       "<pre style=\"white-space:pre;overflow-x:auto;line-height:normal;font-family:Menlo,'DejaVu Sans Mono',consolas,'Courier New',monospace\"><span style=\"color: #7fbfbf; text-decoration-color: #7fbfbf\">[14/06/2025 12:56:02 p. m.] </span><span style=\"color: #808000; text-decoration-color: #808000\">WARNING </span> You are saving your model as an HDF5 file via `<span style=\"color: #800080; text-decoration-color: #800080; font-weight: bold\">model.save</span><span style=\"font-weight: bold\">()</span>`  <span style=\"color: #7f7f7f; text-decoration-color: #7f7f7f\">saving_api.py:83</span>\n",
       "<span style=\"color: #7fbfbf; text-decoration-color: #7fbfbf\">                            </span>         or `<span style=\"color: #800080; text-decoration-color: #800080; font-weight: bold\">keras.saving.save_model</span><span style=\"font-weight: bold\">(</span>model<span style=\"font-weight: bold\">)</span>`. This file format is      <span style=\"color: #7f7f7f; text-decoration-color: #7f7f7f\">                </span>\n",
       "<span style=\"color: #7fbfbf; text-decoration-color: #7fbfbf\">                            </span>         considered legacy. We recommend using instead the native      <span style=\"color: #7f7f7f; text-decoration-color: #7f7f7f\">                </span>\n",
       "<span style=\"color: #7fbfbf; text-decoration-color: #7fbfbf\">                            </span>         Keras format, e.g. `<span style=\"color: #800080; text-decoration-color: #800080; font-weight: bold\">model.save</span><span style=\"font-weight: bold\">(</span><span style=\"color: #008000; text-decoration-color: #008000\">'my_model.keras'</span><span style=\"font-weight: bold\">)</span>` or          <span style=\"color: #7f7f7f; text-decoration-color: #7f7f7f\">                </span>\n",
       "<span style=\"color: #7fbfbf; text-decoration-color: #7fbfbf\">                            </span>         `<span style=\"color: #800080; text-decoration-color: #800080; font-weight: bold\">keras.saving.save_model</span><span style=\"font-weight: bold\">(</span>model, <span style=\"color: #008000; text-decoration-color: #008000\">'my_model.keras'</span><span style=\"font-weight: bold\">)</span>`.           <span style=\"color: #7f7f7f; text-decoration-color: #7f7f7f\">                </span>\n",
       "</pre>\n"
      ],
      "text/plain": [
       "\u001b[2;36m[14/06/2025 12:56:02 p. m.]\u001b[0m\u001b[2;36m \u001b[0m\u001b[33mWARNING \u001b[0m You are saving your model as an HDF5 file via `\u001b[1;35mmodel.save\u001b[0m\u001b[1m(\u001b[0m\u001b[1m)\u001b[0m`  \u001b[2msaving_api.py\u001b[0m\u001b[2m:\u001b[0m\u001b[2m83\u001b[0m\n",
       "\u001b[2;36m                            \u001b[0m         or `\u001b[1;35mkeras.saving.save_model\u001b[0m\u001b[1m(\u001b[0mmodel\u001b[1m)\u001b[0m`. This file format is      \u001b[2m                \u001b[0m\n",
       "\u001b[2;36m                            \u001b[0m         considered legacy. We recommend using instead the native      \u001b[2m                \u001b[0m\n",
       "\u001b[2;36m                            \u001b[0m         Keras format, e.g. `\u001b[1;35mmodel.save\u001b[0m\u001b[1m(\u001b[0m\u001b[32m'my_model.keras'\u001b[0m\u001b[1m)\u001b[0m` or          \u001b[2m                \u001b[0m\n",
       "\u001b[2;36m                            \u001b[0m         `\u001b[1;35mkeras.saving.save_model\u001b[0m\u001b[1m(\u001b[0mmodel, \u001b[32m'my_model.keras'\u001b[0m\u001b[1m)\u001b[0m`.           \u001b[2m                \u001b[0m\n"
      ]
     },
     "metadata": {},
     "output_type": "display_data"
    },
    {
     "name": "stdout",
     "output_type": "stream",
     "text": [
      "\u001b[1m443/443\u001b[0m \u001b[32m━━━━━━━━━━━━━━━━━━━━\u001b[0m\u001b[37m\u001b[0m \u001b[1m7s\u001b[0m 8ms/step - accuracy: 0.8046 - loss: 0.7074 - pr_auc: 0.4323 - precision: 0.4262 - recall: 0.5415 - val_accuracy: 0.8366 - val_loss: 0.3703 - val_pr_auc: 0.5699 - val_precision: 0.5069 - val_recall: 0.6782\n",
      "Epoch 2/100\n",
      "\u001b[1m437/443\u001b[0m \u001b[32m━━━━━━━━━━━━━━━━━━━\u001b[0m\u001b[37m━\u001b[0m \u001b[1m0s\u001b[0m 5ms/step - accuracy: 0.8329 - loss: 0.5963 - pr_auc: 0.5489 - precision: 0.4947 - recall: 0.6819"
     ]
    },
    {
     "data": {
      "text/html": [
       "<pre style=\"white-space:pre;overflow-x:auto;line-height:normal;font-family:Menlo,'DejaVu Sans Mono',consolas,'Courier New',monospace\"><span style=\"color: #7fbfbf; text-decoration-color: #7fbfbf\">[14/06/2025 12:56:05 p. m.] </span><span style=\"color: #808000; text-decoration-color: #808000\">WARNING </span> You are saving your model as an HDF5 file via `<span style=\"color: #800080; text-decoration-color: #800080; font-weight: bold\">model.save</span><span style=\"font-weight: bold\">()</span>`  <span style=\"color: #7f7f7f; text-decoration-color: #7f7f7f\">saving_api.py:83</span>\n",
       "<span style=\"color: #7fbfbf; text-decoration-color: #7fbfbf\">                            </span>         or `<span style=\"color: #800080; text-decoration-color: #800080; font-weight: bold\">keras.saving.save_model</span><span style=\"font-weight: bold\">(</span>model<span style=\"font-weight: bold\">)</span>`. This file format is      <span style=\"color: #7f7f7f; text-decoration-color: #7f7f7f\">                </span>\n",
       "<span style=\"color: #7fbfbf; text-decoration-color: #7fbfbf\">                            </span>         considered legacy. We recommend using instead the native      <span style=\"color: #7f7f7f; text-decoration-color: #7f7f7f\">                </span>\n",
       "<span style=\"color: #7fbfbf; text-decoration-color: #7fbfbf\">                            </span>         Keras format, e.g. `<span style=\"color: #800080; text-decoration-color: #800080; font-weight: bold\">model.save</span><span style=\"font-weight: bold\">(</span><span style=\"color: #008000; text-decoration-color: #008000\">'my_model.keras'</span><span style=\"font-weight: bold\">)</span>` or          <span style=\"color: #7f7f7f; text-decoration-color: #7f7f7f\">                </span>\n",
       "<span style=\"color: #7fbfbf; text-decoration-color: #7fbfbf\">                            </span>         `<span style=\"color: #800080; text-decoration-color: #800080; font-weight: bold\">keras.saving.save_model</span><span style=\"font-weight: bold\">(</span>model, <span style=\"color: #008000; text-decoration-color: #008000\">'my_model.keras'</span><span style=\"font-weight: bold\">)</span>`.           <span style=\"color: #7f7f7f; text-decoration-color: #7f7f7f\">                </span>\n",
       "</pre>\n"
      ],
      "text/plain": [
       "\u001b[2;36m[14/06/2025 12:56:05 p. m.]\u001b[0m\u001b[2;36m \u001b[0m\u001b[33mWARNING \u001b[0m You are saving your model as an HDF5 file via `\u001b[1;35mmodel.save\u001b[0m\u001b[1m(\u001b[0m\u001b[1m)\u001b[0m`  \u001b[2msaving_api.py\u001b[0m\u001b[2m:\u001b[0m\u001b[2m83\u001b[0m\n",
       "\u001b[2;36m                            \u001b[0m         or `\u001b[1;35mkeras.saving.save_model\u001b[0m\u001b[1m(\u001b[0mmodel\u001b[1m)\u001b[0m`. This file format is      \u001b[2m                \u001b[0m\n",
       "\u001b[2;36m                            \u001b[0m         considered legacy. We recommend using instead the native      \u001b[2m                \u001b[0m\n",
       "\u001b[2;36m                            \u001b[0m         Keras format, e.g. `\u001b[1;35mmodel.save\u001b[0m\u001b[1m(\u001b[0m\u001b[32m'my_model.keras'\u001b[0m\u001b[1m)\u001b[0m` or          \u001b[2m                \u001b[0m\n",
       "\u001b[2;36m                            \u001b[0m         `\u001b[1;35mkeras.saving.save_model\u001b[0m\u001b[1m(\u001b[0mmodel, \u001b[32m'my_model.keras'\u001b[0m\u001b[1m)\u001b[0m`.           \u001b[2m                \u001b[0m\n"
      ]
     },
     "metadata": {},
     "output_type": "display_data"
    },
    {
     "name": "stdout",
     "output_type": "stream",
     "text": [
      "\u001b[1m443/443\u001b[0m \u001b[32m━━━━━━━━━━━━━━━━━━━━\u001b[0m\u001b[37m\u001b[0m \u001b[1m3s\u001b[0m 6ms/step - accuracy: 0.8329 - loss: 0.5963 - pr_auc: 0.5489 - precision: 0.4947 - recall: 0.6820 - val_accuracy: 0.8398 - val_loss: 0.3630 - val_pr_auc: 0.5809 - val_precision: 0.5141 - val_recall: 0.6919\n",
      "Epoch 3/100\n",
      "\u001b[1m443/443\u001b[0m \u001b[32m━━━━━━━━━━━━━━━━━━━━\u001b[0m\u001b[37m\u001b[0m \u001b[1m3s\u001b[0m 6ms/step - accuracy: 0.8332 - loss: 0.5842 - pr_auc: 0.5611 - precision: 0.4914 - recall: 0.6875 - val_accuracy: 0.8358 - val_loss: 0.3677 - val_pr_auc: 0.5892 - val_precision: 0.5048 - val_recall: 0.7095\n",
      "Epoch 4/100\n",
      "\u001b[1m443/443\u001b[0m \u001b[32m━━━━━━━━━━━━━━━━━━━━\u001b[0m\u001b[37m\u001b[0m \u001b[1m0s\u001b[0m 6ms/step - accuracy: 0.8361 - loss: 0.5763 - pr_auc: 0.5714 - precision: 0.5014 - recall: 0.7007"
     ]
    },
    {
     "data": {
      "text/html": [
       "<pre style=\"white-space:pre;overflow-x:auto;line-height:normal;font-family:Menlo,'DejaVu Sans Mono',consolas,'Courier New',monospace\"><span style=\"color: #7fbfbf; text-decoration-color: #7fbfbf\">[14/06/2025 12:56:11 p. m.] </span><span style=\"color: #808000; text-decoration-color: #808000\">WARNING </span> You are saving your model as an HDF5 file via `<span style=\"color: #800080; text-decoration-color: #800080; font-weight: bold\">model.save</span><span style=\"font-weight: bold\">()</span>`  <span style=\"color: #7f7f7f; text-decoration-color: #7f7f7f\">saving_api.py:83</span>\n",
       "<span style=\"color: #7fbfbf; text-decoration-color: #7fbfbf\">                            </span>         or `<span style=\"color: #800080; text-decoration-color: #800080; font-weight: bold\">keras.saving.save_model</span><span style=\"font-weight: bold\">(</span>model<span style=\"font-weight: bold\">)</span>`. This file format is      <span style=\"color: #7f7f7f; text-decoration-color: #7f7f7f\">                </span>\n",
       "<span style=\"color: #7fbfbf; text-decoration-color: #7fbfbf\">                            </span>         considered legacy. We recommend using instead the native      <span style=\"color: #7f7f7f; text-decoration-color: #7f7f7f\">                </span>\n",
       "<span style=\"color: #7fbfbf; text-decoration-color: #7fbfbf\">                            </span>         Keras format, e.g. `<span style=\"color: #800080; text-decoration-color: #800080; font-weight: bold\">model.save</span><span style=\"font-weight: bold\">(</span><span style=\"color: #008000; text-decoration-color: #008000\">'my_model.keras'</span><span style=\"font-weight: bold\">)</span>` or          <span style=\"color: #7f7f7f; text-decoration-color: #7f7f7f\">                </span>\n",
       "<span style=\"color: #7fbfbf; text-decoration-color: #7fbfbf\">                            </span>         `<span style=\"color: #800080; text-decoration-color: #800080; font-weight: bold\">keras.saving.save_model</span><span style=\"font-weight: bold\">(</span>model, <span style=\"color: #008000; text-decoration-color: #008000\">'my_model.keras'</span><span style=\"font-weight: bold\">)</span>`.           <span style=\"color: #7f7f7f; text-decoration-color: #7f7f7f\">                </span>\n",
       "</pre>\n"
      ],
      "text/plain": [
       "\u001b[2;36m[14/06/2025 12:56:11 p. m.]\u001b[0m\u001b[2;36m \u001b[0m\u001b[33mWARNING \u001b[0m You are saving your model as an HDF5 file via `\u001b[1;35mmodel.save\u001b[0m\u001b[1m(\u001b[0m\u001b[1m)\u001b[0m`  \u001b[2msaving_api.py\u001b[0m\u001b[2m:\u001b[0m\u001b[2m83\u001b[0m\n",
       "\u001b[2;36m                            \u001b[0m         or `\u001b[1;35mkeras.saving.save_model\u001b[0m\u001b[1m(\u001b[0mmodel\u001b[1m)\u001b[0m`. This file format is      \u001b[2m                \u001b[0m\n",
       "\u001b[2;36m                            \u001b[0m         considered legacy. We recommend using instead the native      \u001b[2m                \u001b[0m\n",
       "\u001b[2;36m                            \u001b[0m         Keras format, e.g. `\u001b[1;35mmodel.save\u001b[0m\u001b[1m(\u001b[0m\u001b[32m'my_model.keras'\u001b[0m\u001b[1m)\u001b[0m` or          \u001b[2m                \u001b[0m\n",
       "\u001b[2;36m                            \u001b[0m         `\u001b[1;35mkeras.saving.save_model\u001b[0m\u001b[1m(\u001b[0mmodel, \u001b[32m'my_model.keras'\u001b[0m\u001b[1m)\u001b[0m`.           \u001b[2m                \u001b[0m\n"
      ]
     },
     "metadata": {},
     "output_type": "display_data"
    },
    {
     "name": "stdout",
     "output_type": "stream",
     "text": [
      "\u001b[1m443/443\u001b[0m \u001b[32m━━━━━━━━━━━━━━━━━━━━\u001b[0m\u001b[37m\u001b[0m \u001b[1m3s\u001b[0m 7ms/step - accuracy: 0.8361 - loss: 0.5763 - pr_auc: 0.5714 - precision: 0.5014 - recall: 0.7006 - val_accuracy: 0.8358 - val_loss: 0.3610 - val_pr_auc: 0.5983 - val_precision: 0.5049 - val_recall: 0.7176\n",
      "Epoch 5/100\n",
      "\u001b[1m436/443\u001b[0m \u001b[32m━━━━━━━━━━━━━━━━━━━\u001b[0m\u001b[37m━\u001b[0m \u001b[1m0s\u001b[0m 6ms/step - accuracy: 0.8347 - loss: 0.5706 - pr_auc: 0.5767 - precision: 0.4958 - recall: 0.7042"
     ]
    },
    {
     "data": {
      "text/html": [
       "<pre style=\"white-space:pre;overflow-x:auto;line-height:normal;font-family:Menlo,'DejaVu Sans Mono',consolas,'Courier New',monospace\"><span style=\"color: #7fbfbf; text-decoration-color: #7fbfbf\">[14/06/2025 12:56:14 p. m.] </span><span style=\"color: #808000; text-decoration-color: #808000\">WARNING </span> You are saving your model as an HDF5 file via `<span style=\"color: #800080; text-decoration-color: #800080; font-weight: bold\">model.save</span><span style=\"font-weight: bold\">()</span>`  <span style=\"color: #7f7f7f; text-decoration-color: #7f7f7f\">saving_api.py:83</span>\n",
       "<span style=\"color: #7fbfbf; text-decoration-color: #7fbfbf\">                            </span>         or `<span style=\"color: #800080; text-decoration-color: #800080; font-weight: bold\">keras.saving.save_model</span><span style=\"font-weight: bold\">(</span>model<span style=\"font-weight: bold\">)</span>`. This file format is      <span style=\"color: #7f7f7f; text-decoration-color: #7f7f7f\">                </span>\n",
       "<span style=\"color: #7fbfbf; text-decoration-color: #7fbfbf\">                            </span>         considered legacy. We recommend using instead the native      <span style=\"color: #7f7f7f; text-decoration-color: #7f7f7f\">                </span>\n",
       "<span style=\"color: #7fbfbf; text-decoration-color: #7fbfbf\">                            </span>         Keras format, e.g. `<span style=\"color: #800080; text-decoration-color: #800080; font-weight: bold\">model.save</span><span style=\"font-weight: bold\">(</span><span style=\"color: #008000; text-decoration-color: #008000\">'my_model.keras'</span><span style=\"font-weight: bold\">)</span>` or          <span style=\"color: #7f7f7f; text-decoration-color: #7f7f7f\">                </span>\n",
       "<span style=\"color: #7fbfbf; text-decoration-color: #7fbfbf\">                            </span>         `<span style=\"color: #800080; text-decoration-color: #800080; font-weight: bold\">keras.saving.save_model</span><span style=\"font-weight: bold\">(</span>model, <span style=\"color: #008000; text-decoration-color: #008000\">'my_model.keras'</span><span style=\"font-weight: bold\">)</span>`.           <span style=\"color: #7f7f7f; text-decoration-color: #7f7f7f\">                </span>\n",
       "</pre>\n"
      ],
      "text/plain": [
       "\u001b[2;36m[14/06/2025 12:56:14 p. m.]\u001b[0m\u001b[2;36m \u001b[0m\u001b[33mWARNING \u001b[0m You are saving your model as an HDF5 file via `\u001b[1;35mmodel.save\u001b[0m\u001b[1m(\u001b[0m\u001b[1m)\u001b[0m`  \u001b[2msaving_api.py\u001b[0m\u001b[2m:\u001b[0m\u001b[2m83\u001b[0m\n",
       "\u001b[2;36m                            \u001b[0m         or `\u001b[1;35mkeras.saving.save_model\u001b[0m\u001b[1m(\u001b[0mmodel\u001b[1m)\u001b[0m`. This file format is      \u001b[2m                \u001b[0m\n",
       "\u001b[2;36m                            \u001b[0m         considered legacy. We recommend using instead the native      \u001b[2m                \u001b[0m\n",
       "\u001b[2;36m                            \u001b[0m         Keras format, e.g. `\u001b[1;35mmodel.save\u001b[0m\u001b[1m(\u001b[0m\u001b[32m'my_model.keras'\u001b[0m\u001b[1m)\u001b[0m` or          \u001b[2m                \u001b[0m\n",
       "\u001b[2;36m                            \u001b[0m         `\u001b[1;35mkeras.saving.save_model\u001b[0m\u001b[1m(\u001b[0mmodel, \u001b[32m'my_model.keras'\u001b[0m\u001b[1m)\u001b[0m`.           \u001b[2m                \u001b[0m\n"
      ]
     },
     "metadata": {},
     "output_type": "display_data"
    },
    {
     "name": "stdout",
     "output_type": "stream",
     "text": [
      "\u001b[1m443/443\u001b[0m \u001b[32m━━━━━━━━━━━━━━━━━━━━\u001b[0m\u001b[37m\u001b[0m \u001b[1m3s\u001b[0m 7ms/step - accuracy: 0.8347 - loss: 0.5705 - pr_auc: 0.5768 - precision: 0.4958 - recall: 0.7042 - val_accuracy: 0.8454 - val_loss: 0.3402 - val_pr_auc: 0.6081 - val_precision: 0.5274 - val_recall: 0.6888\n",
      "Epoch 6/100\n",
      "\u001b[1m443/443\u001b[0m \u001b[32m━━━━━━━━━━━━━━━━━━━━\u001b[0m\u001b[37m\u001b[0m \u001b[1m3s\u001b[0m 7ms/step - accuracy: 0.8343 - loss: 0.5662 - pr_auc: 0.5805 - precision: 0.4955 - recall: 0.7125 - val_accuracy: 0.8389 - val_loss: 0.3532 - val_pr_auc: 0.6096 - val_precision: 0.5114 - val_recall: 0.7220\n",
      "Epoch 7/100\n",
      "\u001b[1m443/443\u001b[0m \u001b[32m━━━━━━━━━━━━━━━━━━━━\u001b[0m\u001b[37m\u001b[0m \u001b[1m3s\u001b[0m 6ms/step - accuracy: 0.8361 - loss: 0.5575 - pr_auc: 0.6097 - precision: 0.5065 - recall: 0.7254 - val_accuracy: 0.8411 - val_loss: 0.3495 - val_pr_auc: 0.6180 - val_precision: 0.5164 - val_recall: 0.7136\n",
      "Epoch 8/100\n",
      "\u001b[1m443/443\u001b[0m \u001b[32m━━━━━━━━━━━━━━━━━━━━\u001b[0m\u001b[37m\u001b[0m \u001b[1m3s\u001b[0m 6ms/step - accuracy: 0.8367 - loss: 0.5506 - pr_auc: 0.5989 - precision: 0.4996 - recall: 0.7212 - val_accuracy: 0.8403 - val_loss: 0.3464 - val_pr_auc: 0.6182 - val_precision: 0.5145 - val_recall: 0.7195\n",
      "Epoch 9/100\n",
      "\u001b[1m443/443\u001b[0m \u001b[32m━━━━━━━━━━━━━━━━━━━━\u001b[0m\u001b[37m\u001b[0m \u001b[1m2s\u001b[0m 5ms/step - accuracy: 0.8419 - loss: 0.5384 - pr_auc: 0.6122 - precision: 0.5107 - recall: 0.7376 - val_accuracy: 0.8291 - val_loss: 0.3623 - val_pr_auc: 0.6219 - val_precision: 0.4914 - val_recall: 0.7629\n",
      "Epoch 10/100\n",
      "\u001b[1m443/443\u001b[0m \u001b[32m━━━━━━━━━━━━━━━━━━━━\u001b[0m\u001b[37m\u001b[0m \u001b[1m3s\u001b[0m 6ms/step - accuracy: 0.8355 - loss: 0.5442 - pr_auc: 0.6086 - precision: 0.4993 - recall: 0.7339 - val_accuracy: 0.8463 - val_loss: 0.3427 - val_pr_auc: 0.6215 - val_precision: 0.5285 - val_recall: 0.7144\n",
      "Epoch 10: early stopping\n",
      "Restoring model weights from the end of the best epoch: 5.\n",
      "\u001b[1m1/1\u001b[0m \u001b[32m━━━━━━━━━━━━━━━━━━━━\u001b[0m\u001b[37m\u001b[0m \u001b[1m0s\u001b[0m 105ms/step\n",
      "🏃 View run entertaining-dog-455 at: http://127.0.0.1:5000/#/experiments/293457258299496794/runs/9e2d8920b0b14f989b3087647b59d0e6\n",
      "🧪 View experiment at: http://127.0.0.1:5000/#/experiments/293457258299496794\n",
      "\u001b[1m1899/1899\u001b[0m \u001b[32m━━━━━━━━━━━━━━━━━━━━\u001b[0m\u001b[37m\u001b[0m \u001b[1m4s\u001b[0m 2ms/step - accuracy: 0.8456 - loss: 0.3364 - pr_auc: 0.6298 - precision: 0.5327 - recall: 0.7071\n",
      "Loss: 0.3383, Accuracy: 0.8442, Recall: 0.6990, Precision: 0.5195, Average Precision: 0.6137\n"
     ]
    }
   ],
   "source": [
    "# Set our tracking server uri for logging\n",
    "mlflow.set_tracking_uri(uri=\"http://127.0.0.1:5000\")\n",
    "\n",
    "# Create a new MLflow Experiment\n",
    "mlflow.set_experiment(\"Neural_Networks\")\n",
    "\n",
    "# Habilitar autologging antes de entrenar el modelo\n",
    "mlflow.tensorflow.autolog()\n",
    "\n",
    "# 1. Preprocesamiento de datos\n",
    "X = df_exp1.drop('cancelacion', axis=1)\n",
    "y = df_exp1['cancelacion']\n",
    "\n",
    "# Normalización y split\n",
    "scaler = StandardScaler()\n",
    "X_scaled = scaler.fit_transform(X)\n",
    "X_train, X_test, y_train, y_test = train_test_split(X_scaled, y, test_size=0.3, stratify=y)\n",
    "\n",
    "# 2. Arquitectura de la red\n",
    "model = Sequential([\n",
    "    Dense(64, activation='relu', input_shape=(X_train.shape[1],)),\n",
    "    Dropout(0.3),\n",
    "    Dense(32, activation='relu'),\n",
    "    Dropout(0.2),\n",
    "    Dense(1, activation='sigmoid')\n",
    "])\n",
    "\n",
    "# 3. Compilación con parámetros optimizados\n",
    "model.compile(optimizer=Adam(learning_rate=0.001),\n",
    "              loss='binary_crossentropy',\n",
    "              metrics=['accuracy',\n",
    "                       tf.keras.metrics.Recall(name='recall'),\n",
    "                       tf.keras.metrics.Precision(name='precision'),\n",
    "                       tf.keras.metrics.AUC(name='pr_auc', curve='PR')\n",
    "                       ])\n",
    "\n",
    "# 4. Entrenamiento con early stopping (edtener luego de no mejorar durante 5 épocas)\n",
    "early_stop = EarlyStopping(\n",
    "                            monitor='val_loss',\n",
    "                            min_delta=0.001,\n",
    "                            patience=5,\n",
    "                            verbose=1,\n",
    "                            mode='min',\n",
    "                            restore_best_weights=True)\n",
    "\n",
    "history = model.fit(X_train, y_train,\n",
    "                    epochs=100,\n",
    "                    batch_size=256,\n",
    "                    validation_split=0.2,\n",
    "                    callbacks=[early_stop],\n",
    "                    class_weight={0:1, 1:3})  # Ajuste para clases desbalanceadas\n",
    "\n",
    "# 5. Evaluación del modelo\n",
    "loss, accuracy, recall, precision, average_precision = model.evaluate(X_test, y_test)\n",
    "print(f\"Loss: {loss:.4f}, Accuracy: {accuracy:.4f}, Recall: {recall:.4f}, Precision: {precision:.4f}, Average Precision: {average_precision:.4f}\")  # noqa: T201\n",
    "\n"
   ]
  },
  {
   "cell_type": "markdown",
   "id": "b17e8136",
   "metadata": {},
   "source": [
    "b) Logging manual"
   ]
  },
  {
   "cell_type": "code",
   "execution_count": 36,
   "id": "ef9dc032",
   "metadata": {},
   "outputs": [
    {
     "name": "stderr",
     "output_type": "stream",
     "text": [
      "c:\\Users\\Esteban\\Documents\\. Clases_Tec\\8. Octavo semestre\\_Proyecto\\kProject\\tcaproject\\.venv\\Lib\\site-packages\\keras\\src\\layers\\core\\dense.py:93: UserWarning: Do not pass an `input_shape`/`input_dim` argument to a layer. When using Sequential models, prefer using an `Input(shape)` object as the first layer in the model instead.\n",
      "  super().__init__(activity_regularizer=activity_regularizer, **kwargs)\n",
      "2025/06/14 13:16:13 WARNING mlflow.tensorflow: Failed to log training dataset information to MLflow Tracking. Reason: 'Series' object has no attribute 'flatten'\n"
     ]
    },
    {
     "data": {
      "text/html": [
       "<pre style=\"white-space:pre;overflow-x:auto;line-height:normal;font-family:Menlo,'DejaVu Sans Mono',consolas,'Courier New',monospace\"></pre>\n"
      ],
      "text/plain": []
     },
     "metadata": {},
     "output_type": "display_data"
    },
    {
     "name": "stdout",
     "output_type": "stream",
     "text": [
      "Epoch 1/100\n",
      "\u001b[1m466/475\u001b[0m \u001b[32m━━━━━━━━━━━━━━━━━━━\u001b[0m\u001b[37m━\u001b[0m \u001b[1m0s\u001b[0m 5ms/step - accuracy: 0.8115 - loss: 0.7016 - pr_auc: 0.4307 - precision: 0.4288 - recall: 0.5244"
     ]
    },
    {
     "data": {
      "text/html": [
       "<pre style=\"white-space:pre;overflow-x:auto;line-height:normal;font-family:Menlo,'DejaVu Sans Mono',consolas,'Courier New',monospace\"><span style=\"color: #7fbfbf; text-decoration-color: #7fbfbf\">[14/06/2025 01:16:20 p. m.] </span><span style=\"color: #808000; text-decoration-color: #808000\">WARNING </span> You are saving your model as an HDF5 file via `<span style=\"color: #800080; text-decoration-color: #800080; font-weight: bold\">model.save</span><span style=\"font-weight: bold\">()</span>`  <span style=\"color: #7f7f7f; text-decoration-color: #7f7f7f\">saving_api.py:83</span>\n",
       "<span style=\"color: #7fbfbf; text-decoration-color: #7fbfbf\">                            </span>         or `<span style=\"color: #800080; text-decoration-color: #800080; font-weight: bold\">keras.saving.save_model</span><span style=\"font-weight: bold\">(</span>model<span style=\"font-weight: bold\">)</span>`. This file format is      <span style=\"color: #7f7f7f; text-decoration-color: #7f7f7f\">                </span>\n",
       "<span style=\"color: #7fbfbf; text-decoration-color: #7fbfbf\">                            </span>         considered legacy. We recommend using instead the native      <span style=\"color: #7f7f7f; text-decoration-color: #7f7f7f\">                </span>\n",
       "<span style=\"color: #7fbfbf; text-decoration-color: #7fbfbf\">                            </span>         Keras format, e.g. `<span style=\"color: #800080; text-decoration-color: #800080; font-weight: bold\">model.save</span><span style=\"font-weight: bold\">(</span><span style=\"color: #008000; text-decoration-color: #008000\">'my_model.keras'</span><span style=\"font-weight: bold\">)</span>` or          <span style=\"color: #7f7f7f; text-decoration-color: #7f7f7f\">                </span>\n",
       "<span style=\"color: #7fbfbf; text-decoration-color: #7fbfbf\">                            </span>         `<span style=\"color: #800080; text-decoration-color: #800080; font-weight: bold\">keras.saving.save_model</span><span style=\"font-weight: bold\">(</span>model, <span style=\"color: #008000; text-decoration-color: #008000\">'my_model.keras'</span><span style=\"font-weight: bold\">)</span>`.           <span style=\"color: #7f7f7f; text-decoration-color: #7f7f7f\">                </span>\n",
       "</pre>\n"
      ],
      "text/plain": [
       "\u001b[2;36m[14/06/2025 01:16:20 p. m.]\u001b[0m\u001b[2;36m \u001b[0m\u001b[33mWARNING \u001b[0m You are saving your model as an HDF5 file via `\u001b[1;35mmodel.save\u001b[0m\u001b[1m(\u001b[0m\u001b[1m)\u001b[0m`  \u001b[2msaving_api.py\u001b[0m\u001b[2m:\u001b[0m\u001b[2m83\u001b[0m\n",
       "\u001b[2;36m                            \u001b[0m         or `\u001b[1;35mkeras.saving.save_model\u001b[0m\u001b[1m(\u001b[0mmodel\u001b[1m)\u001b[0m`. This file format is      \u001b[2m                \u001b[0m\n",
       "\u001b[2;36m                            \u001b[0m         considered legacy. We recommend using instead the native      \u001b[2m                \u001b[0m\n",
       "\u001b[2;36m                            \u001b[0m         Keras format, e.g. `\u001b[1;35mmodel.save\u001b[0m\u001b[1m(\u001b[0m\u001b[32m'my_model.keras'\u001b[0m\u001b[1m)\u001b[0m` or          \u001b[2m                \u001b[0m\n",
       "\u001b[2;36m                            \u001b[0m         `\u001b[1;35mkeras.saving.save_model\u001b[0m\u001b[1m(\u001b[0mmodel, \u001b[32m'my_model.keras'\u001b[0m\u001b[1m)\u001b[0m`.           \u001b[2m                \u001b[0m\n"
      ]
     },
     "metadata": {},
     "output_type": "display_data"
    },
    {
     "name": "stdout",
     "output_type": "stream",
     "text": [
      "\u001b[1m475/475\u001b[0m \u001b[32m━━━━━━━━━━━━━━━━━━━━\u001b[0m\u001b[37m\u001b[0m \u001b[1m7s\u001b[0m 8ms/step - accuracy: 0.8117 - loss: 0.7004 - pr_auc: 0.4322 - precision: 0.4297 - recall: 0.5266 - val_accuracy: 0.8246 - val_loss: 0.3848 - val_pr_auc: 0.5546 - val_precision: 0.4731 - val_recall: 0.7194\n",
      "Epoch 2/100\n",
      "\u001b[1m473/475\u001b[0m \u001b[32m━━━━━━━━━━━━━━━━━━━\u001b[0m\u001b[37m━\u001b[0m \u001b[1m0s\u001b[0m 5ms/step - accuracy: 0.8254 - loss: 0.6009 - pr_auc: 0.5394 - precision: 0.4777 - recall: 0.6856"
     ]
    },
    {
     "data": {
      "text/html": [
       "<pre style=\"white-space:pre;overflow-x:auto;line-height:normal;font-family:Menlo,'DejaVu Sans Mono',consolas,'Courier New',monospace\"><span style=\"color: #7fbfbf; text-decoration-color: #7fbfbf\">[14/06/2025 01:16:23 p. m.] </span><span style=\"color: #808000; text-decoration-color: #808000\">WARNING </span> You are saving your model as an HDF5 file via `<span style=\"color: #800080; text-decoration-color: #800080; font-weight: bold\">model.save</span><span style=\"font-weight: bold\">()</span>`  <span style=\"color: #7f7f7f; text-decoration-color: #7f7f7f\">saving_api.py:83</span>\n",
       "<span style=\"color: #7fbfbf; text-decoration-color: #7fbfbf\">                            </span>         or `<span style=\"color: #800080; text-decoration-color: #800080; font-weight: bold\">keras.saving.save_model</span><span style=\"font-weight: bold\">(</span>model<span style=\"font-weight: bold\">)</span>`. This file format is      <span style=\"color: #7f7f7f; text-decoration-color: #7f7f7f\">                </span>\n",
       "<span style=\"color: #7fbfbf; text-decoration-color: #7fbfbf\">                            </span>         considered legacy. We recommend using instead the native      <span style=\"color: #7f7f7f; text-decoration-color: #7f7f7f\">                </span>\n",
       "<span style=\"color: #7fbfbf; text-decoration-color: #7fbfbf\">                            </span>         Keras format, e.g. `<span style=\"color: #800080; text-decoration-color: #800080; font-weight: bold\">model.save</span><span style=\"font-weight: bold\">(</span><span style=\"color: #008000; text-decoration-color: #008000\">'my_model.keras'</span><span style=\"font-weight: bold\">)</span>` or          <span style=\"color: #7f7f7f; text-decoration-color: #7f7f7f\">                </span>\n",
       "<span style=\"color: #7fbfbf; text-decoration-color: #7fbfbf\">                            </span>         `<span style=\"color: #800080; text-decoration-color: #800080; font-weight: bold\">keras.saving.save_model</span><span style=\"font-weight: bold\">(</span>model, <span style=\"color: #008000; text-decoration-color: #008000\">'my_model.keras'</span><span style=\"font-weight: bold\">)</span>`.           <span style=\"color: #7f7f7f; text-decoration-color: #7f7f7f\">                </span>\n",
       "</pre>\n"
      ],
      "text/plain": [
       "\u001b[2;36m[14/06/2025 01:16:23 p. m.]\u001b[0m\u001b[2;36m \u001b[0m\u001b[33mWARNING \u001b[0m You are saving your model as an HDF5 file via `\u001b[1;35mmodel.save\u001b[0m\u001b[1m(\u001b[0m\u001b[1m)\u001b[0m`  \u001b[2msaving_api.py\u001b[0m\u001b[2m:\u001b[0m\u001b[2m83\u001b[0m\n",
       "\u001b[2;36m                            \u001b[0m         or `\u001b[1;35mkeras.saving.save_model\u001b[0m\u001b[1m(\u001b[0mmodel\u001b[1m)\u001b[0m`. This file format is      \u001b[2m                \u001b[0m\n",
       "\u001b[2;36m                            \u001b[0m         considered legacy. We recommend using instead the native      \u001b[2m                \u001b[0m\n",
       "\u001b[2;36m                            \u001b[0m         Keras format, e.g. `\u001b[1;35mmodel.save\u001b[0m\u001b[1m(\u001b[0m\u001b[32m'my_model.keras'\u001b[0m\u001b[1m)\u001b[0m` or          \u001b[2m                \u001b[0m\n",
       "\u001b[2;36m                            \u001b[0m         `\u001b[1;35mkeras.saving.save_model\u001b[0m\u001b[1m(\u001b[0mmodel, \u001b[32m'my_model.keras'\u001b[0m\u001b[1m)\u001b[0m`.           \u001b[2m                \u001b[0m\n"
      ]
     },
     "metadata": {},
     "output_type": "display_data"
    },
    {
     "name": "stdout",
     "output_type": "stream",
     "text": [
      "\u001b[1m475/475\u001b[0m \u001b[32m━━━━━━━━━━━━━━━━━━━━\u001b[0m\u001b[37m\u001b[0m \u001b[1m3s\u001b[0m 6ms/step - accuracy: 0.8254 - loss: 0.6009 - pr_auc: 0.5395 - precision: 0.4778 - recall: 0.6857 - val_accuracy: 0.8335 - val_loss: 0.3686 - val_pr_auc: 0.5674 - val_precision: 0.4909 - val_recall: 0.7089\n",
      "Epoch 3/100\n",
      "\u001b[1m468/475\u001b[0m \u001b[32m━━━━━━━━━━━━━━━━━━━\u001b[0m\u001b[37m━\u001b[0m \u001b[1m0s\u001b[0m 5ms/step - accuracy: 0.8340 - loss: 0.5830 - pr_auc: 0.5766 - precision: 0.5004 - recall: 0.7036"
     ]
    },
    {
     "data": {
      "text/html": [
       "<pre style=\"white-space:pre;overflow-x:auto;line-height:normal;font-family:Menlo,'DejaVu Sans Mono',consolas,'Courier New',monospace\"><span style=\"color: #7fbfbf; text-decoration-color: #7fbfbf\">[14/06/2025 01:16:26 p. m.] </span><span style=\"color: #808000; text-decoration-color: #808000\">WARNING </span> You are saving your model as an HDF5 file via `<span style=\"color: #800080; text-decoration-color: #800080; font-weight: bold\">model.save</span><span style=\"font-weight: bold\">()</span>`  <span style=\"color: #7f7f7f; text-decoration-color: #7f7f7f\">saving_api.py:83</span>\n",
       "<span style=\"color: #7fbfbf; text-decoration-color: #7fbfbf\">                            </span>         or `<span style=\"color: #800080; text-decoration-color: #800080; font-weight: bold\">keras.saving.save_model</span><span style=\"font-weight: bold\">(</span>model<span style=\"font-weight: bold\">)</span>`. This file format is      <span style=\"color: #7f7f7f; text-decoration-color: #7f7f7f\">                </span>\n",
       "<span style=\"color: #7fbfbf; text-decoration-color: #7fbfbf\">                            </span>         considered legacy. We recommend using instead the native      <span style=\"color: #7f7f7f; text-decoration-color: #7f7f7f\">                </span>\n",
       "<span style=\"color: #7fbfbf; text-decoration-color: #7fbfbf\">                            </span>         Keras format, e.g. `<span style=\"color: #800080; text-decoration-color: #800080; font-weight: bold\">model.save</span><span style=\"font-weight: bold\">(</span><span style=\"color: #008000; text-decoration-color: #008000\">'my_model.keras'</span><span style=\"font-weight: bold\">)</span>` or          <span style=\"color: #7f7f7f; text-decoration-color: #7f7f7f\">                </span>\n",
       "<span style=\"color: #7fbfbf; text-decoration-color: #7fbfbf\">                            </span>         `<span style=\"color: #800080; text-decoration-color: #800080; font-weight: bold\">keras.saving.save_model</span><span style=\"font-weight: bold\">(</span>model, <span style=\"color: #008000; text-decoration-color: #008000\">'my_model.keras'</span><span style=\"font-weight: bold\">)</span>`.           <span style=\"color: #7f7f7f; text-decoration-color: #7f7f7f\">                </span>\n",
       "</pre>\n"
      ],
      "text/plain": [
       "\u001b[2;36m[14/06/2025 01:16:26 p. m.]\u001b[0m\u001b[2;36m \u001b[0m\u001b[33mWARNING \u001b[0m You are saving your model as an HDF5 file via `\u001b[1;35mmodel.save\u001b[0m\u001b[1m(\u001b[0m\u001b[1m)\u001b[0m`  \u001b[2msaving_api.py\u001b[0m\u001b[2m:\u001b[0m\u001b[2m83\u001b[0m\n",
       "\u001b[2;36m                            \u001b[0m         or `\u001b[1;35mkeras.saving.save_model\u001b[0m\u001b[1m(\u001b[0mmodel\u001b[1m)\u001b[0m`. This file format is      \u001b[2m                \u001b[0m\n",
       "\u001b[2;36m                            \u001b[0m         considered legacy. We recommend using instead the native      \u001b[2m                \u001b[0m\n",
       "\u001b[2;36m                            \u001b[0m         Keras format, e.g. `\u001b[1;35mmodel.save\u001b[0m\u001b[1m(\u001b[0m\u001b[32m'my_model.keras'\u001b[0m\u001b[1m)\u001b[0m` or          \u001b[2m                \u001b[0m\n",
       "\u001b[2;36m                            \u001b[0m         `\u001b[1;35mkeras.saving.save_model\u001b[0m\u001b[1m(\u001b[0mmodel, \u001b[32m'my_model.keras'\u001b[0m\u001b[1m)\u001b[0m`.           \u001b[2m                \u001b[0m\n"
      ]
     },
     "metadata": {},
     "output_type": "display_data"
    },
    {
     "name": "stdout",
     "output_type": "stream",
     "text": [
      "\u001b[1m475/475\u001b[0m \u001b[32m━━━━━━━━━━━━━━━━━━━━\u001b[0m\u001b[37m\u001b[0m \u001b[1m3s\u001b[0m 6ms/step - accuracy: 0.8340 - loss: 0.5830 - pr_auc: 0.5764 - precision: 0.5003 - recall: 0.7036 - val_accuracy: 0.8366 - val_loss: 0.3581 - val_pr_auc: 0.5787 - val_precision: 0.4973 - val_recall: 0.7095\n",
      "Epoch 4/100\n",
      "\u001b[1m475/475\u001b[0m \u001b[32m━━━━━━━━━━━━━━━━━━━━\u001b[0m\u001b[37m\u001b[0m \u001b[1m3s\u001b[0m 5ms/step - accuracy: 0.8353 - loss: 0.5731 - pr_auc: 0.5849 - precision: 0.5021 - recall: 0.7143 - val_accuracy: 0.8312 - val_loss: 0.3638 - val_pr_auc: 0.5869 - val_precision: 0.4866 - val_recall: 0.7400\n",
      "Epoch 5/100\n",
      "\u001b[1m467/475\u001b[0m \u001b[32m━━━━━━━━━━━━━━━━━━━\u001b[0m\u001b[37m━\u001b[0m \u001b[1m0s\u001b[0m 5ms/step - accuracy: 0.8342 - loss: 0.5711 - pr_auc: 0.5887 - precision: 0.4993 - recall: 0.7167"
     ]
    },
    {
     "data": {
      "text/html": [
       "<pre style=\"white-space:pre;overflow-x:auto;line-height:normal;font-family:Menlo,'DejaVu Sans Mono',consolas,'Courier New',monospace\"><span style=\"color: #7fbfbf; text-decoration-color: #7fbfbf\">[14/06/2025 01:16:31 p. m.] </span><span style=\"color: #808000; text-decoration-color: #808000\">WARNING </span> You are saving your model as an HDF5 file via `<span style=\"color: #800080; text-decoration-color: #800080; font-weight: bold\">model.save</span><span style=\"font-weight: bold\">()</span>`  <span style=\"color: #7f7f7f; text-decoration-color: #7f7f7f\">saving_api.py:83</span>\n",
       "<span style=\"color: #7fbfbf; text-decoration-color: #7fbfbf\">                            </span>         or `<span style=\"color: #800080; text-decoration-color: #800080; font-weight: bold\">keras.saving.save_model</span><span style=\"font-weight: bold\">(</span>model<span style=\"font-weight: bold\">)</span>`. This file format is      <span style=\"color: #7f7f7f; text-decoration-color: #7f7f7f\">                </span>\n",
       "<span style=\"color: #7fbfbf; text-decoration-color: #7fbfbf\">                            </span>         considered legacy. We recommend using instead the native      <span style=\"color: #7f7f7f; text-decoration-color: #7f7f7f\">                </span>\n",
       "<span style=\"color: #7fbfbf; text-decoration-color: #7fbfbf\">                            </span>         Keras format, e.g. `<span style=\"color: #800080; text-decoration-color: #800080; font-weight: bold\">model.save</span><span style=\"font-weight: bold\">(</span><span style=\"color: #008000; text-decoration-color: #008000\">'my_model.keras'</span><span style=\"font-weight: bold\">)</span>` or          <span style=\"color: #7f7f7f; text-decoration-color: #7f7f7f\">                </span>\n",
       "<span style=\"color: #7fbfbf; text-decoration-color: #7fbfbf\">                            </span>         `<span style=\"color: #800080; text-decoration-color: #800080; font-weight: bold\">keras.saving.save_model</span><span style=\"font-weight: bold\">(</span>model, <span style=\"color: #008000; text-decoration-color: #008000\">'my_model.keras'</span><span style=\"font-weight: bold\">)</span>`.           <span style=\"color: #7f7f7f; text-decoration-color: #7f7f7f\">                </span>\n",
       "</pre>\n"
      ],
      "text/plain": [
       "\u001b[2;36m[14/06/2025 01:16:31 p. m.]\u001b[0m\u001b[2;36m \u001b[0m\u001b[33mWARNING \u001b[0m You are saving your model as an HDF5 file via `\u001b[1;35mmodel.save\u001b[0m\u001b[1m(\u001b[0m\u001b[1m)\u001b[0m`  \u001b[2msaving_api.py\u001b[0m\u001b[2m:\u001b[0m\u001b[2m83\u001b[0m\n",
       "\u001b[2;36m                            \u001b[0m         or `\u001b[1;35mkeras.saving.save_model\u001b[0m\u001b[1m(\u001b[0mmodel\u001b[1m)\u001b[0m`. This file format is      \u001b[2m                \u001b[0m\n",
       "\u001b[2;36m                            \u001b[0m         considered legacy. We recommend using instead the native      \u001b[2m                \u001b[0m\n",
       "\u001b[2;36m                            \u001b[0m         Keras format, e.g. `\u001b[1;35mmodel.save\u001b[0m\u001b[1m(\u001b[0m\u001b[32m'my_model.keras'\u001b[0m\u001b[1m)\u001b[0m` or          \u001b[2m                \u001b[0m\n",
       "\u001b[2;36m                            \u001b[0m         `\u001b[1;35mkeras.saving.save_model\u001b[0m\u001b[1m(\u001b[0mmodel, \u001b[32m'my_model.keras'\u001b[0m\u001b[1m)\u001b[0m`.           \u001b[2m                \u001b[0m\n"
      ]
     },
     "metadata": {},
     "output_type": "display_data"
    },
    {
     "name": "stdout",
     "output_type": "stream",
     "text": [
      "\u001b[1m475/475\u001b[0m \u001b[32m━━━━━━━━━━━━━━━━━━━━\u001b[0m\u001b[37m\u001b[0m \u001b[1m3s\u001b[0m 6ms/step - accuracy: 0.8342 - loss: 0.5710 - pr_auc: 0.5887 - precision: 0.4992 - recall: 0.7168 - val_accuracy: 0.8366 - val_loss: 0.3507 - val_pr_auc: 0.5961 - val_precision: 0.4975 - val_recall: 0.7318\n",
      "Epoch 6/100\n",
      "\u001b[1m475/475\u001b[0m \u001b[32m━━━━━━━━━━━━━━━━━━━━\u001b[0m\u001b[37m\u001b[0m \u001b[1m3s\u001b[0m 6ms/step - accuracy: 0.8301 - loss: 0.5647 - pr_auc: 0.5842 - precision: 0.4894 - recall: 0.7254 - val_accuracy: 0.8254 - val_loss: 0.3554 - val_pr_auc: 0.6040 - val_precision: 0.4761 - val_recall: 0.7625\n",
      "Epoch 7/100\n",
      "\u001b[1m475/475\u001b[0m \u001b[32m━━━━━━━━━━━━━━━━━━━━\u001b[0m\u001b[37m\u001b[0m \u001b[1m3s\u001b[0m 6ms/step - accuracy: 0.8308 - loss: 0.5570 - pr_auc: 0.5992 - precision: 0.4915 - recall: 0.7372 - val_accuracy: 0.8303 - val_loss: 0.3557 - val_pr_auc: 0.6093 - val_precision: 0.4852 - val_recall: 0.7607\n",
      "Epoch 8/100\n",
      "\u001b[1m467/475\u001b[0m \u001b[32m━━━━━━━━━━━━━━━━━━━\u001b[0m\u001b[37m━\u001b[0m \u001b[1m0s\u001b[0m 5ms/step - accuracy: 0.8338 - loss: 0.5537 - pr_auc: 0.6029 - precision: 0.4976 - recall: 0.7339"
     ]
    },
    {
     "data": {
      "text/html": [
       "<pre style=\"white-space:pre;overflow-x:auto;line-height:normal;font-family:Menlo,'DejaVu Sans Mono',consolas,'Courier New',monospace\"><span style=\"color: #7fbfbf; text-decoration-color: #7fbfbf\">[14/06/2025 01:16:40 p. m.] </span><span style=\"color: #808000; text-decoration-color: #808000\">WARNING </span> You are saving your model as an HDF5 file via `<span style=\"color: #800080; text-decoration-color: #800080; font-weight: bold\">model.save</span><span style=\"font-weight: bold\">()</span>`  <span style=\"color: #7f7f7f; text-decoration-color: #7f7f7f\">saving_api.py:83</span>\n",
       "<span style=\"color: #7fbfbf; text-decoration-color: #7fbfbf\">                            </span>         or `<span style=\"color: #800080; text-decoration-color: #800080; font-weight: bold\">keras.saving.save_model</span><span style=\"font-weight: bold\">(</span>model<span style=\"font-weight: bold\">)</span>`. This file format is      <span style=\"color: #7f7f7f; text-decoration-color: #7f7f7f\">                </span>\n",
       "<span style=\"color: #7fbfbf; text-decoration-color: #7fbfbf\">                            </span>         considered legacy. We recommend using instead the native      <span style=\"color: #7f7f7f; text-decoration-color: #7f7f7f\">                </span>\n",
       "<span style=\"color: #7fbfbf; text-decoration-color: #7fbfbf\">                            </span>         Keras format, e.g. `<span style=\"color: #800080; text-decoration-color: #800080; font-weight: bold\">model.save</span><span style=\"font-weight: bold\">(</span><span style=\"color: #008000; text-decoration-color: #008000\">'my_model.keras'</span><span style=\"font-weight: bold\">)</span>` or          <span style=\"color: #7f7f7f; text-decoration-color: #7f7f7f\">                </span>\n",
       "<span style=\"color: #7fbfbf; text-decoration-color: #7fbfbf\">                            </span>         `<span style=\"color: #800080; text-decoration-color: #800080; font-weight: bold\">keras.saving.save_model</span><span style=\"font-weight: bold\">(</span>model, <span style=\"color: #008000; text-decoration-color: #008000\">'my_model.keras'</span><span style=\"font-weight: bold\">)</span>`.           <span style=\"color: #7f7f7f; text-decoration-color: #7f7f7f\">                </span>\n",
       "</pre>\n"
      ],
      "text/plain": [
       "\u001b[2;36m[14/06/2025 01:16:40 p. m.]\u001b[0m\u001b[2;36m \u001b[0m\u001b[33mWARNING \u001b[0m You are saving your model as an HDF5 file via `\u001b[1;35mmodel.save\u001b[0m\u001b[1m(\u001b[0m\u001b[1m)\u001b[0m`  \u001b[2msaving_api.py\u001b[0m\u001b[2m:\u001b[0m\u001b[2m83\u001b[0m\n",
       "\u001b[2;36m                            \u001b[0m         or `\u001b[1;35mkeras.saving.save_model\u001b[0m\u001b[1m(\u001b[0mmodel\u001b[1m)\u001b[0m`. This file format is      \u001b[2m                \u001b[0m\n",
       "\u001b[2;36m                            \u001b[0m         considered legacy. We recommend using instead the native      \u001b[2m                \u001b[0m\n",
       "\u001b[2;36m                            \u001b[0m         Keras format, e.g. `\u001b[1;35mmodel.save\u001b[0m\u001b[1m(\u001b[0m\u001b[32m'my_model.keras'\u001b[0m\u001b[1m)\u001b[0m` or          \u001b[2m                \u001b[0m\n",
       "\u001b[2;36m                            \u001b[0m         `\u001b[1;35mkeras.saving.save_model\u001b[0m\u001b[1m(\u001b[0mmodel, \u001b[32m'my_model.keras'\u001b[0m\u001b[1m)\u001b[0m`.           \u001b[2m                \u001b[0m\n"
      ]
     },
     "metadata": {},
     "output_type": "display_data"
    },
    {
     "name": "stdout",
     "output_type": "stream",
     "text": [
      "\u001b[1m475/475\u001b[0m \u001b[32m━━━━━━━━━━━━━━━━━━━━\u001b[0m\u001b[37m\u001b[0m \u001b[1m3s\u001b[0m 6ms/step - accuracy: 0.8338 - loss: 0.5537 - pr_auc: 0.6029 - precision: 0.4975 - recall: 0.7339 - val_accuracy: 0.8348 - val_loss: 0.3483 - val_pr_auc: 0.6116 - val_precision: 0.4938 - val_recall: 0.7556\n",
      "Epoch 9/100\n",
      "\u001b[1m475/475\u001b[0m \u001b[32m━━━━━━━━━━━━━━━━━━━━\u001b[0m\u001b[37m\u001b[0m \u001b[1m3s\u001b[0m 6ms/step - accuracy: 0.8307 - loss: 0.5488 - pr_auc: 0.6094 - precision: 0.4938 - recall: 0.7385 - val_accuracy: 0.8285 - val_loss: 0.3548 - val_pr_auc: 0.6199 - val_precision: 0.4821 - val_recall: 0.7726\n",
      "Epoch 10/100\n",
      "\u001b[1m465/475\u001b[0m \u001b[32m━━━━━━━━━━━━━━━━━━━\u001b[0m\u001b[37m━\u001b[0m \u001b[1m0s\u001b[0m 5ms/step - accuracy: 0.8309 - loss: 0.5437 - pr_auc: 0.6044 - precision: 0.4906 - recall: 0.7521"
     ]
    },
    {
     "data": {
      "text/html": [
       "<pre style=\"white-space:pre;overflow-x:auto;line-height:normal;font-family:Menlo,'DejaVu Sans Mono',consolas,'Courier New',monospace\"><span style=\"color: #7fbfbf; text-decoration-color: #7fbfbf\">[14/06/2025 01:16:46 p. m.] </span><span style=\"color: #808000; text-decoration-color: #808000\">WARNING </span> You are saving your model as an HDF5 file via `<span style=\"color: #800080; text-decoration-color: #800080; font-weight: bold\">model.save</span><span style=\"font-weight: bold\">()</span>`  <span style=\"color: #7f7f7f; text-decoration-color: #7f7f7f\">saving_api.py:83</span>\n",
       "<span style=\"color: #7fbfbf; text-decoration-color: #7fbfbf\">                            </span>         or `<span style=\"color: #800080; text-decoration-color: #800080; font-weight: bold\">keras.saving.save_model</span><span style=\"font-weight: bold\">(</span>model<span style=\"font-weight: bold\">)</span>`. This file format is      <span style=\"color: #7f7f7f; text-decoration-color: #7f7f7f\">                </span>\n",
       "<span style=\"color: #7fbfbf; text-decoration-color: #7fbfbf\">                            </span>         considered legacy. We recommend using instead the native      <span style=\"color: #7f7f7f; text-decoration-color: #7f7f7f\">                </span>\n",
       "<span style=\"color: #7fbfbf; text-decoration-color: #7fbfbf\">                            </span>         Keras format, e.g. `<span style=\"color: #800080; text-decoration-color: #800080; font-weight: bold\">model.save</span><span style=\"font-weight: bold\">(</span><span style=\"color: #008000; text-decoration-color: #008000\">'my_model.keras'</span><span style=\"font-weight: bold\">)</span>` or          <span style=\"color: #7f7f7f; text-decoration-color: #7f7f7f\">                </span>\n",
       "<span style=\"color: #7fbfbf; text-decoration-color: #7fbfbf\">                            </span>         `<span style=\"color: #800080; text-decoration-color: #800080; font-weight: bold\">keras.saving.save_model</span><span style=\"font-weight: bold\">(</span>model, <span style=\"color: #008000; text-decoration-color: #008000\">'my_model.keras'</span><span style=\"font-weight: bold\">)</span>`.           <span style=\"color: #7f7f7f; text-decoration-color: #7f7f7f\">                </span>\n",
       "</pre>\n"
      ],
      "text/plain": [
       "\u001b[2;36m[14/06/2025 01:16:46 p. m.]\u001b[0m\u001b[2;36m \u001b[0m\u001b[33mWARNING \u001b[0m You are saving your model as an HDF5 file via `\u001b[1;35mmodel.save\u001b[0m\u001b[1m(\u001b[0m\u001b[1m)\u001b[0m`  \u001b[2msaving_api.py\u001b[0m\u001b[2m:\u001b[0m\u001b[2m83\u001b[0m\n",
       "\u001b[2;36m                            \u001b[0m         or `\u001b[1;35mkeras.saving.save_model\u001b[0m\u001b[1m(\u001b[0mmodel\u001b[1m)\u001b[0m`. This file format is      \u001b[2m                \u001b[0m\n",
       "\u001b[2;36m                            \u001b[0m         considered legacy. We recommend using instead the native      \u001b[2m                \u001b[0m\n",
       "\u001b[2;36m                            \u001b[0m         Keras format, e.g. `\u001b[1;35mmodel.save\u001b[0m\u001b[1m(\u001b[0m\u001b[32m'my_model.keras'\u001b[0m\u001b[1m)\u001b[0m` or          \u001b[2m                \u001b[0m\n",
       "\u001b[2;36m                            \u001b[0m         `\u001b[1;35mkeras.saving.save_model\u001b[0m\u001b[1m(\u001b[0mmodel, \u001b[32m'my_model.keras'\u001b[0m\u001b[1m)\u001b[0m`.           \u001b[2m                \u001b[0m\n"
      ]
     },
     "metadata": {},
     "output_type": "display_data"
    },
    {
     "name": "stdout",
     "output_type": "stream",
     "text": [
      "\u001b[1m475/475\u001b[0m \u001b[32m━━━━━━━━━━━━━━━━━━━━\u001b[0m\u001b[37m\u001b[0m \u001b[1m3s\u001b[0m 6ms/step - accuracy: 0.8308 - loss: 0.5438 - pr_auc: 0.6045 - precision: 0.4906 - recall: 0.7520 - val_accuracy: 0.8353 - val_loss: 0.3481 - val_pr_auc: 0.6187 - val_precision: 0.4950 - val_recall: 0.7570\n",
      "Epoch 11/100\n",
      "\u001b[1m474/475\u001b[0m \u001b[32m━━━━━━━━━━━━━━━━━━━\u001b[0m\u001b[37m━\u001b[0m \u001b[1m0s\u001b[0m 5ms/step - accuracy: 0.8340 - loss: 0.5416 - pr_auc: 0.6040 - precision: 0.4951 - recall: 0.7433"
     ]
    },
    {
     "data": {
      "text/html": [
       "<pre style=\"white-space:pre;overflow-x:auto;line-height:normal;font-family:Menlo,'DejaVu Sans Mono',consolas,'Courier New',monospace\"><span style=\"color: #7fbfbf; text-decoration-color: #7fbfbf\">[14/06/2025 01:16:49 p. m.] </span><span style=\"color: #808000; text-decoration-color: #808000\">WARNING </span> You are saving your model as an HDF5 file via `<span style=\"color: #800080; text-decoration-color: #800080; font-weight: bold\">model.save</span><span style=\"font-weight: bold\">()</span>`  <span style=\"color: #7f7f7f; text-decoration-color: #7f7f7f\">saving_api.py:83</span>\n",
       "<span style=\"color: #7fbfbf; text-decoration-color: #7fbfbf\">                            </span>         or `<span style=\"color: #800080; text-decoration-color: #800080; font-weight: bold\">keras.saving.save_model</span><span style=\"font-weight: bold\">(</span>model<span style=\"font-weight: bold\">)</span>`. This file format is      <span style=\"color: #7f7f7f; text-decoration-color: #7f7f7f\">                </span>\n",
       "<span style=\"color: #7fbfbf; text-decoration-color: #7fbfbf\">                            </span>         considered legacy. We recommend using instead the native      <span style=\"color: #7f7f7f; text-decoration-color: #7f7f7f\">                </span>\n",
       "<span style=\"color: #7fbfbf; text-decoration-color: #7fbfbf\">                            </span>         Keras format, e.g. `<span style=\"color: #800080; text-decoration-color: #800080; font-weight: bold\">model.save</span><span style=\"font-weight: bold\">(</span><span style=\"color: #008000; text-decoration-color: #008000\">'my_model.keras'</span><span style=\"font-weight: bold\">)</span>` or          <span style=\"color: #7f7f7f; text-decoration-color: #7f7f7f\">                </span>\n",
       "<span style=\"color: #7fbfbf; text-decoration-color: #7fbfbf\">                            </span>         `<span style=\"color: #800080; text-decoration-color: #800080; font-weight: bold\">keras.saving.save_model</span><span style=\"font-weight: bold\">(</span>model, <span style=\"color: #008000; text-decoration-color: #008000\">'my_model.keras'</span><span style=\"font-weight: bold\">)</span>`.           <span style=\"color: #7f7f7f; text-decoration-color: #7f7f7f\">                </span>\n",
       "</pre>\n"
      ],
      "text/plain": [
       "\u001b[2;36m[14/06/2025 01:16:49 p. m.]\u001b[0m\u001b[2;36m \u001b[0m\u001b[33mWARNING \u001b[0m You are saving your model as an HDF5 file via `\u001b[1;35mmodel.save\u001b[0m\u001b[1m(\u001b[0m\u001b[1m)\u001b[0m`  \u001b[2msaving_api.py\u001b[0m\u001b[2m:\u001b[0m\u001b[2m83\u001b[0m\n",
       "\u001b[2;36m                            \u001b[0m         or `\u001b[1;35mkeras.saving.save_model\u001b[0m\u001b[1m(\u001b[0mmodel\u001b[1m)\u001b[0m`. This file format is      \u001b[2m                \u001b[0m\n",
       "\u001b[2;36m                            \u001b[0m         considered legacy. We recommend using instead the native      \u001b[2m                \u001b[0m\n",
       "\u001b[2;36m                            \u001b[0m         Keras format, e.g. `\u001b[1;35mmodel.save\u001b[0m\u001b[1m(\u001b[0m\u001b[32m'my_model.keras'\u001b[0m\u001b[1m)\u001b[0m` or          \u001b[2m                \u001b[0m\n",
       "\u001b[2;36m                            \u001b[0m         `\u001b[1;35mkeras.saving.save_model\u001b[0m\u001b[1m(\u001b[0mmodel, \u001b[32m'my_model.keras'\u001b[0m\u001b[1m)\u001b[0m`.           \u001b[2m                \u001b[0m\n"
      ]
     },
     "metadata": {},
     "output_type": "display_data"
    },
    {
     "name": "stdout",
     "output_type": "stream",
     "text": [
      "\u001b[1m475/475\u001b[0m \u001b[32m━━━━━━━━━━━━━━━━━━━━\u001b[0m\u001b[37m\u001b[0m \u001b[1m3s\u001b[0m 6ms/step - accuracy: 0.8340 - loss: 0.5416 - pr_auc: 0.6040 - precision: 0.4951 - recall: 0.7433 - val_accuracy: 0.8306 - val_loss: 0.3453 - val_pr_auc: 0.6228 - val_precision: 0.4860 - val_recall: 0.7706\n",
      "Epoch 12/100\n",
      "\u001b[1m472/475\u001b[0m \u001b[32m━━━━━━━━━━━━━━━━━━━\u001b[0m\u001b[37m━\u001b[0m \u001b[1m0s\u001b[0m 5ms/step - accuracy: 0.8324 - loss: 0.5424 - pr_auc: 0.6103 - precision: 0.4958 - recall: 0.7473"
     ]
    },
    {
     "data": {
      "text/html": [
       "<pre style=\"white-space:pre;overflow-x:auto;line-height:normal;font-family:Menlo,'DejaVu Sans Mono',consolas,'Courier New',monospace\"><span style=\"color: #7fbfbf; text-decoration-color: #7fbfbf\">[14/06/2025 01:16:52 p. m.] </span><span style=\"color: #808000; text-decoration-color: #808000\">WARNING </span> You are saving your model as an HDF5 file via `<span style=\"color: #800080; text-decoration-color: #800080; font-weight: bold\">model.save</span><span style=\"font-weight: bold\">()</span>`  <span style=\"color: #7f7f7f; text-decoration-color: #7f7f7f\">saving_api.py:83</span>\n",
       "<span style=\"color: #7fbfbf; text-decoration-color: #7fbfbf\">                            </span>         or `<span style=\"color: #800080; text-decoration-color: #800080; font-weight: bold\">keras.saving.save_model</span><span style=\"font-weight: bold\">(</span>model<span style=\"font-weight: bold\">)</span>`. This file format is      <span style=\"color: #7f7f7f; text-decoration-color: #7f7f7f\">                </span>\n",
       "<span style=\"color: #7fbfbf; text-decoration-color: #7fbfbf\">                            </span>         considered legacy. We recommend using instead the native      <span style=\"color: #7f7f7f; text-decoration-color: #7f7f7f\">                </span>\n",
       "<span style=\"color: #7fbfbf; text-decoration-color: #7fbfbf\">                            </span>         Keras format, e.g. `<span style=\"color: #800080; text-decoration-color: #800080; font-weight: bold\">model.save</span><span style=\"font-weight: bold\">(</span><span style=\"color: #008000; text-decoration-color: #008000\">'my_model.keras'</span><span style=\"font-weight: bold\">)</span>` or          <span style=\"color: #7f7f7f; text-decoration-color: #7f7f7f\">                </span>\n",
       "<span style=\"color: #7fbfbf; text-decoration-color: #7fbfbf\">                            </span>         `<span style=\"color: #800080; text-decoration-color: #800080; font-weight: bold\">keras.saving.save_model</span><span style=\"font-weight: bold\">(</span>model, <span style=\"color: #008000; text-decoration-color: #008000\">'my_model.keras'</span><span style=\"font-weight: bold\">)</span>`.           <span style=\"color: #7f7f7f; text-decoration-color: #7f7f7f\">                </span>\n",
       "</pre>\n"
      ],
      "text/plain": [
       "\u001b[2;36m[14/06/2025 01:16:52 p. m.]\u001b[0m\u001b[2;36m \u001b[0m\u001b[33mWARNING \u001b[0m You are saving your model as an HDF5 file via `\u001b[1;35mmodel.save\u001b[0m\u001b[1m(\u001b[0m\u001b[1m)\u001b[0m`  \u001b[2msaving_api.py\u001b[0m\u001b[2m:\u001b[0m\u001b[2m83\u001b[0m\n",
       "\u001b[2;36m                            \u001b[0m         or `\u001b[1;35mkeras.saving.save_model\u001b[0m\u001b[1m(\u001b[0mmodel\u001b[1m)\u001b[0m`. This file format is      \u001b[2m                \u001b[0m\n",
       "\u001b[2;36m                            \u001b[0m         considered legacy. We recommend using instead the native      \u001b[2m                \u001b[0m\n",
       "\u001b[2;36m                            \u001b[0m         Keras format, e.g. `\u001b[1;35mmodel.save\u001b[0m\u001b[1m(\u001b[0m\u001b[32m'my_model.keras'\u001b[0m\u001b[1m)\u001b[0m` or          \u001b[2m                \u001b[0m\n",
       "\u001b[2;36m                            \u001b[0m         `\u001b[1;35mkeras.saving.save_model\u001b[0m\u001b[1m(\u001b[0mmodel, \u001b[32m'my_model.keras'\u001b[0m\u001b[1m)\u001b[0m`.           \u001b[2m                \u001b[0m\n"
      ]
     },
     "metadata": {},
     "output_type": "display_data"
    },
    {
     "name": "stdout",
     "output_type": "stream",
     "text": [
      "\u001b[1m475/475\u001b[0m \u001b[32m━━━━━━━━━━━━━━━━━━━━\u001b[0m\u001b[37m\u001b[0m \u001b[1m3s\u001b[0m 7ms/step - accuracy: 0.8324 - loss: 0.5424 - pr_auc: 0.6103 - precision: 0.4958 - recall: 0.7473 - val_accuracy: 0.8416 - val_loss: 0.3384 - val_pr_auc: 0.6260 - val_precision: 0.5079 - val_recall: 0.7495\n",
      "Epoch 13/100\n",
      "\u001b[1m475/475\u001b[0m \u001b[32m━━━━━━━━━━━━━━━━━━━━\u001b[0m\u001b[37m\u001b[0m \u001b[1m3s\u001b[0m 6ms/step - accuracy: 0.8338 - loss: 0.5381 - pr_auc: 0.6180 - precision: 0.4972 - recall: 0.7500 - val_accuracy: 0.8342 - val_loss: 0.3501 - val_pr_auc: 0.6278 - val_precision: 0.4927 - val_recall: 0.7603\n",
      "Epoch 14/100\n",
      "\u001b[1m475/475\u001b[0m \u001b[32m━━━━━━━━━━━━━━━━━━━━\u001b[0m\u001b[37m\u001b[0m \u001b[1m3s\u001b[0m 6ms/step - accuracy: 0.8348 - loss: 0.5407 - pr_auc: 0.6214 - precision: 0.5013 - recall: 0.7491 - val_accuracy: 0.8302 - val_loss: 0.3405 - val_pr_auc: 0.6319 - val_precision: 0.4855 - val_recall: 0.7858\n",
      "Epoch 15/100\n",
      "\u001b[1m474/475\u001b[0m \u001b[32m━━━━━━━━━━━━━━━━━━━\u001b[0m\u001b[37m━\u001b[0m \u001b[1m0s\u001b[0m 5ms/step - accuracy: 0.8342 - loss: 0.5336 - pr_auc: 0.6179 - precision: 0.4985 - recall: 0.7530"
     ]
    },
    {
     "data": {
      "text/html": [
       "<pre style=\"white-space:pre;overflow-x:auto;line-height:normal;font-family:Menlo,'DejaVu Sans Mono',consolas,'Courier New',monospace\"><span style=\"color: #7fbfbf; text-decoration-color: #7fbfbf\">[14/06/2025 01:17:01 p. m.] </span><span style=\"color: #808000; text-decoration-color: #808000\">WARNING </span> You are saving your model as an HDF5 file via `<span style=\"color: #800080; text-decoration-color: #800080; font-weight: bold\">model.save</span><span style=\"font-weight: bold\">()</span>`  <span style=\"color: #7f7f7f; text-decoration-color: #7f7f7f\">saving_api.py:83</span>\n",
       "<span style=\"color: #7fbfbf; text-decoration-color: #7fbfbf\">                            </span>         or `<span style=\"color: #800080; text-decoration-color: #800080; font-weight: bold\">keras.saving.save_model</span><span style=\"font-weight: bold\">(</span>model<span style=\"font-weight: bold\">)</span>`. This file format is      <span style=\"color: #7f7f7f; text-decoration-color: #7f7f7f\">                </span>\n",
       "<span style=\"color: #7fbfbf; text-decoration-color: #7fbfbf\">                            </span>         considered legacy. We recommend using instead the native      <span style=\"color: #7f7f7f; text-decoration-color: #7f7f7f\">                </span>\n",
       "<span style=\"color: #7fbfbf; text-decoration-color: #7fbfbf\">                            </span>         Keras format, e.g. `<span style=\"color: #800080; text-decoration-color: #800080; font-weight: bold\">model.save</span><span style=\"font-weight: bold\">(</span><span style=\"color: #008000; text-decoration-color: #008000\">'my_model.keras'</span><span style=\"font-weight: bold\">)</span>` or          <span style=\"color: #7f7f7f; text-decoration-color: #7f7f7f\">                </span>\n",
       "<span style=\"color: #7fbfbf; text-decoration-color: #7fbfbf\">                            </span>         `<span style=\"color: #800080; text-decoration-color: #800080; font-weight: bold\">keras.saving.save_model</span><span style=\"font-weight: bold\">(</span>model, <span style=\"color: #008000; text-decoration-color: #008000\">'my_model.keras'</span><span style=\"font-weight: bold\">)</span>`.           <span style=\"color: #7f7f7f; text-decoration-color: #7f7f7f\">                </span>\n",
       "</pre>\n"
      ],
      "text/plain": [
       "\u001b[2;36m[14/06/2025 01:17:01 p. m.]\u001b[0m\u001b[2;36m \u001b[0m\u001b[33mWARNING \u001b[0m You are saving your model as an HDF5 file via `\u001b[1;35mmodel.save\u001b[0m\u001b[1m(\u001b[0m\u001b[1m)\u001b[0m`  \u001b[2msaving_api.py\u001b[0m\u001b[2m:\u001b[0m\u001b[2m83\u001b[0m\n",
       "\u001b[2;36m                            \u001b[0m         or `\u001b[1;35mkeras.saving.save_model\u001b[0m\u001b[1m(\u001b[0mmodel\u001b[1m)\u001b[0m`. This file format is      \u001b[2m                \u001b[0m\n",
       "\u001b[2;36m                            \u001b[0m         considered legacy. We recommend using instead the native      \u001b[2m                \u001b[0m\n",
       "\u001b[2;36m                            \u001b[0m         Keras format, e.g. `\u001b[1;35mmodel.save\u001b[0m\u001b[1m(\u001b[0m\u001b[32m'my_model.keras'\u001b[0m\u001b[1m)\u001b[0m` or          \u001b[2m                \u001b[0m\n",
       "\u001b[2;36m                            \u001b[0m         `\u001b[1;35mkeras.saving.save_model\u001b[0m\u001b[1m(\u001b[0mmodel, \u001b[32m'my_model.keras'\u001b[0m\u001b[1m)\u001b[0m`.           \u001b[2m                \u001b[0m\n"
      ]
     },
     "metadata": {},
     "output_type": "display_data"
    },
    {
     "name": "stdout",
     "output_type": "stream",
     "text": [
      "\u001b[1m475/475\u001b[0m \u001b[32m━━━━━━━━━━━━━━━━━━━━\u001b[0m\u001b[37m\u001b[0m \u001b[1m3s\u001b[0m 6ms/step - accuracy: 0.8342 - loss: 0.5336 - pr_auc: 0.6179 - precision: 0.4984 - recall: 0.7530 - val_accuracy: 0.8446 - val_loss: 0.3342 - val_pr_auc: 0.6285 - val_precision: 0.5145 - val_recall: 0.7442\n",
      "Epoch 16/100\n",
      "\u001b[1m475/475\u001b[0m \u001b[32m━━━━━━━━━━━━━━━━━━━━\u001b[0m\u001b[37m\u001b[0m \u001b[1m3s\u001b[0m 6ms/step - accuracy: 0.8360 - loss: 0.5361 - pr_auc: 0.6275 - precision: 0.5043 - recall: 0.7482 - val_accuracy: 0.8342 - val_loss: 0.3363 - val_pr_auc: 0.6319 - val_precision: 0.4928 - val_recall: 0.7763\n",
      "Epoch 17/100\n",
      "\u001b[1m475/475\u001b[0m \u001b[32m━━━━━━━━━━━━━━━━━━━━\u001b[0m\u001b[37m\u001b[0m \u001b[1m3s\u001b[0m 6ms/step - accuracy: 0.8332 - loss: 0.5320 - pr_auc: 0.6220 - precision: 0.4976 - recall: 0.7541 - val_accuracy: 0.8370 - val_loss: 0.3372 - val_pr_auc: 0.6349 - val_precision: 0.4984 - val_recall: 0.7554\n",
      "Epoch 18/100\n",
      "\u001b[1m466/475\u001b[0m \u001b[32m━━━━━━━━━━━━━━━━━━━\u001b[0m\u001b[37m━\u001b[0m \u001b[1m0s\u001b[0m 5ms/step - accuracy: 0.8379 - loss: 0.5322 - pr_auc: 0.6206 - precision: 0.5040 - recall: 0.7479"
     ]
    },
    {
     "data": {
      "text/html": [
       "<pre style=\"white-space:pre;overflow-x:auto;line-height:normal;font-family:Menlo,'DejaVu Sans Mono',consolas,'Courier New',monospace\"><span style=\"color: #7fbfbf; text-decoration-color: #7fbfbf\">[14/06/2025 01:17:10 p. m.] </span><span style=\"color: #808000; text-decoration-color: #808000\">WARNING </span> You are saving your model as an HDF5 file via `<span style=\"color: #800080; text-decoration-color: #800080; font-weight: bold\">model.save</span><span style=\"font-weight: bold\">()</span>`  <span style=\"color: #7f7f7f; text-decoration-color: #7f7f7f\">saving_api.py:83</span>\n",
       "<span style=\"color: #7fbfbf; text-decoration-color: #7fbfbf\">                            </span>         or `<span style=\"color: #800080; text-decoration-color: #800080; font-weight: bold\">keras.saving.save_model</span><span style=\"font-weight: bold\">(</span>model<span style=\"font-weight: bold\">)</span>`. This file format is      <span style=\"color: #7f7f7f; text-decoration-color: #7f7f7f\">                </span>\n",
       "<span style=\"color: #7fbfbf; text-decoration-color: #7fbfbf\">                            </span>         considered legacy. We recommend using instead the native      <span style=\"color: #7f7f7f; text-decoration-color: #7f7f7f\">                </span>\n",
       "<span style=\"color: #7fbfbf; text-decoration-color: #7fbfbf\">                            </span>         Keras format, e.g. `<span style=\"color: #800080; text-decoration-color: #800080; font-weight: bold\">model.save</span><span style=\"font-weight: bold\">(</span><span style=\"color: #008000; text-decoration-color: #008000\">'my_model.keras'</span><span style=\"font-weight: bold\">)</span>` or          <span style=\"color: #7f7f7f; text-decoration-color: #7f7f7f\">                </span>\n",
       "<span style=\"color: #7fbfbf; text-decoration-color: #7fbfbf\">                            </span>         `<span style=\"color: #800080; text-decoration-color: #800080; font-weight: bold\">keras.saving.save_model</span><span style=\"font-weight: bold\">(</span>model, <span style=\"color: #008000; text-decoration-color: #008000\">'my_model.keras'</span><span style=\"font-weight: bold\">)</span>`.           <span style=\"color: #7f7f7f; text-decoration-color: #7f7f7f\">                </span>\n",
       "</pre>\n"
      ],
      "text/plain": [
       "\u001b[2;36m[14/06/2025 01:17:10 p. m.]\u001b[0m\u001b[2;36m \u001b[0m\u001b[33mWARNING \u001b[0m You are saving your model as an HDF5 file via `\u001b[1;35mmodel.save\u001b[0m\u001b[1m(\u001b[0m\u001b[1m)\u001b[0m`  \u001b[2msaving_api.py\u001b[0m\u001b[2m:\u001b[0m\u001b[2m83\u001b[0m\n",
       "\u001b[2;36m                            \u001b[0m         or `\u001b[1;35mkeras.saving.save_model\u001b[0m\u001b[1m(\u001b[0mmodel\u001b[1m)\u001b[0m`. This file format is      \u001b[2m                \u001b[0m\n",
       "\u001b[2;36m                            \u001b[0m         considered legacy. We recommend using instead the native      \u001b[2m                \u001b[0m\n",
       "\u001b[2;36m                            \u001b[0m         Keras format, e.g. `\u001b[1;35mmodel.save\u001b[0m\u001b[1m(\u001b[0m\u001b[32m'my_model.keras'\u001b[0m\u001b[1m)\u001b[0m` or          \u001b[2m                \u001b[0m\n",
       "\u001b[2;36m                            \u001b[0m         `\u001b[1;35mkeras.saving.save_model\u001b[0m\u001b[1m(\u001b[0mmodel, \u001b[32m'my_model.keras'\u001b[0m\u001b[1m)\u001b[0m`.           \u001b[2m                \u001b[0m\n"
      ]
     },
     "metadata": {},
     "output_type": "display_data"
    },
    {
     "name": "stdout",
     "output_type": "stream",
     "text": [
      "\u001b[1m475/475\u001b[0m \u001b[32m━━━━━━━━━━━━━━━━━━━━\u001b[0m\u001b[37m\u001b[0m \u001b[1m3s\u001b[0m 6ms/step - accuracy: 0.8378 - loss: 0.5322 - pr_auc: 0.6206 - precision: 0.5040 - recall: 0.7480 - val_accuracy: 0.8386 - val_loss: 0.3326 - val_pr_auc: 0.6403 - val_precision: 0.5015 - val_recall: 0.7645\n",
      "Epoch 19/100\n",
      "\u001b[1m475/475\u001b[0m \u001b[32m━━━━━━━━━━━━━━━━━━━━\u001b[0m\u001b[37m\u001b[0m \u001b[1m3s\u001b[0m 6ms/step - accuracy: 0.8316 - loss: 0.5406 - pr_auc: 0.6172 - precision: 0.4938 - recall: 0.7483 - val_accuracy: 0.8382 - val_loss: 0.3340 - val_pr_auc: 0.6393 - val_precision: 0.5007 - val_recall: 0.7586\n",
      "Epoch 20/100\n",
      "\u001b[1m475/475\u001b[0m \u001b[32m━━━━━━━━━━━━━━━━━━━━\u001b[0m\u001b[37m\u001b[0m \u001b[1m3s\u001b[0m 6ms/step - accuracy: 0.8371 - loss: 0.5225 - pr_auc: 0.6299 - precision: 0.5024 - recall: 0.7562 - val_accuracy: 0.8317 - val_loss: 0.3329 - val_pr_auc: 0.6370 - val_precision: 0.4881 - val_recall: 0.7696\n",
      "Epoch 21/100\n",
      "\u001b[1m475/475\u001b[0m \u001b[32m━━━━━━━━━━━━━━━━━━━━\u001b[0m\u001b[37m\u001b[0m \u001b[1m3s\u001b[0m 6ms/step - accuracy: 0.8350 - loss: 0.5268 - pr_auc: 0.6331 - precision: 0.5000 - recall: 0.7513 - val_accuracy: 0.8369 - val_loss: 0.3348 - val_pr_auc: 0.6430 - val_precision: 0.4981 - val_recall: 0.7617\n",
      "Epoch 22/100\n",
      "\u001b[1m464/475\u001b[0m \u001b[32m━━━━━━━━━━━━━━━━━━━\u001b[0m\u001b[37m━\u001b[0m \u001b[1m0s\u001b[0m 5ms/step - accuracy: 0.8360 - loss: 0.5323 - pr_auc: 0.6330 - precision: 0.5042 - recall: 0.7525"
     ]
    },
    {
     "data": {
      "text/html": [
       "<pre style=\"white-space:pre;overflow-x:auto;line-height:normal;font-family:Menlo,'DejaVu Sans Mono',consolas,'Courier New',monospace\"><span style=\"color: #7fbfbf; text-decoration-color: #7fbfbf\">[14/06/2025 01:17:21 p. m.] </span><span style=\"color: #808000; text-decoration-color: #808000\">WARNING </span> You are saving your model as an HDF5 file via `<span style=\"color: #800080; text-decoration-color: #800080; font-weight: bold\">model.save</span><span style=\"font-weight: bold\">()</span>`  <span style=\"color: #7f7f7f; text-decoration-color: #7f7f7f\">saving_api.py:83</span>\n",
       "<span style=\"color: #7fbfbf; text-decoration-color: #7fbfbf\">                            </span>         or `<span style=\"color: #800080; text-decoration-color: #800080; font-weight: bold\">keras.saving.save_model</span><span style=\"font-weight: bold\">(</span>model<span style=\"font-weight: bold\">)</span>`. This file format is      <span style=\"color: #7f7f7f; text-decoration-color: #7f7f7f\">                </span>\n",
       "<span style=\"color: #7fbfbf; text-decoration-color: #7fbfbf\">                            </span>         considered legacy. We recommend using instead the native      <span style=\"color: #7f7f7f; text-decoration-color: #7f7f7f\">                </span>\n",
       "<span style=\"color: #7fbfbf; text-decoration-color: #7fbfbf\">                            </span>         Keras format, e.g. `<span style=\"color: #800080; text-decoration-color: #800080; font-weight: bold\">model.save</span><span style=\"font-weight: bold\">(</span><span style=\"color: #008000; text-decoration-color: #008000\">'my_model.keras'</span><span style=\"font-weight: bold\">)</span>` or          <span style=\"color: #7f7f7f; text-decoration-color: #7f7f7f\">                </span>\n",
       "<span style=\"color: #7fbfbf; text-decoration-color: #7fbfbf\">                            </span>         `<span style=\"color: #800080; text-decoration-color: #800080; font-weight: bold\">keras.saving.save_model</span><span style=\"font-weight: bold\">(</span>model, <span style=\"color: #008000; text-decoration-color: #008000\">'my_model.keras'</span><span style=\"font-weight: bold\">)</span>`.           <span style=\"color: #7f7f7f; text-decoration-color: #7f7f7f\">                </span>\n",
       "</pre>\n"
      ],
      "text/plain": [
       "\u001b[2;36m[14/06/2025 01:17:21 p. m.]\u001b[0m\u001b[2;36m \u001b[0m\u001b[33mWARNING \u001b[0m You are saving your model as an HDF5 file via `\u001b[1;35mmodel.save\u001b[0m\u001b[1m(\u001b[0m\u001b[1m)\u001b[0m`  \u001b[2msaving_api.py\u001b[0m\u001b[2m:\u001b[0m\u001b[2m83\u001b[0m\n",
       "\u001b[2;36m                            \u001b[0m         or `\u001b[1;35mkeras.saving.save_model\u001b[0m\u001b[1m(\u001b[0mmodel\u001b[1m)\u001b[0m`. This file format is      \u001b[2m                \u001b[0m\n",
       "\u001b[2;36m                            \u001b[0m         considered legacy. We recommend using instead the native      \u001b[2m                \u001b[0m\n",
       "\u001b[2;36m                            \u001b[0m         Keras format, e.g. `\u001b[1;35mmodel.save\u001b[0m\u001b[1m(\u001b[0m\u001b[32m'my_model.keras'\u001b[0m\u001b[1m)\u001b[0m` or          \u001b[2m                \u001b[0m\n",
       "\u001b[2;36m                            \u001b[0m         `\u001b[1;35mkeras.saving.save_model\u001b[0m\u001b[1m(\u001b[0mmodel, \u001b[32m'my_model.keras'\u001b[0m\u001b[1m)\u001b[0m`.           \u001b[2m                \u001b[0m\n"
      ]
     },
     "metadata": {},
     "output_type": "display_data"
    },
    {
     "name": "stdout",
     "output_type": "stream",
     "text": [
      "\u001b[1m475/475\u001b[0m \u001b[32m━━━━━━━━━━━━━━━━━━━━\u001b[0m\u001b[37m\u001b[0m \u001b[1m3s\u001b[0m 6ms/step - accuracy: 0.8360 - loss: 0.5323 - pr_auc: 0.6329 - precision: 0.5042 - recall: 0.7525 - val_accuracy: 0.8313 - val_loss: 0.3323 - val_pr_auc: 0.6421 - val_precision: 0.4875 - val_recall: 0.7820\n",
      "Epoch 23/100\n",
      "\u001b[1m475/475\u001b[0m \u001b[32m━━━━━━━━━━━━━━━━━━━━\u001b[0m\u001b[37m\u001b[0m \u001b[1m3s\u001b[0m 6ms/step - accuracy: 0.8350 - loss: 0.5314 - pr_auc: 0.6254 - precision: 0.4997 - recall: 0.7452 - val_accuracy: 0.8389 - val_loss: 0.3338 - val_pr_auc: 0.6457 - val_precision: 0.5022 - val_recall: 0.7732\n",
      "Epoch 23: early stopping\n",
      "Restoring model weights from the end of the best epoch: 18.\n",
      "\u001b[1m1/1\u001b[0m \u001b[32m━━━━━━━━━━━━━━━━━━━━\u001b[0m\u001b[37m\u001b[0m \u001b[1m0s\u001b[0m 109ms/step\n",
      "\u001b[1m4746/4746\u001b[0m \u001b[32m━━━━━━━━━━━━━━━━━━━━\u001b[0m\u001b[37m\u001b[0m \u001b[1m6s\u001b[0m 1ms/step\n",
      "🏃 View run Neural_Network_20250614_131612 at: http://127.0.0.1:5000/#/experiments/293457258299496794/runs/1100cda2dcb04c748d1394fc1cd6707b\n",
      "🧪 View experiment at: http://127.0.0.1:5000/#/experiments/293457258299496794\n"
     ]
    }
   ],
   "source": [
    "# Configura el tracking server y el experimento\n",
    "mlflow.set_tracking_uri(\"http://127.0.0.1:5000\")\n",
    "mlflow.set_experiment(\"Neural_Networks\")\n",
    "\n",
    "# Diccionario con los parámetros del experimento\n",
    "params = {\n",
    "    \"learning_rate\": 0.001,\n",
    "    \"batch_size\": 256,\n",
    "    \"epochs\": 100,\n",
    "    \"dropout_1\": 0.3,\n",
    "    \"dropout_2\": 0.2,\n",
    "    \"class_weight_0\": 1,\n",
    "    \"class_weight_1\": 3,\n",
    "    \"test_size\": 0.25\n",
    "}\n",
    "\n",
    "# Tags personalizados (puedes agregar más)\n",
    "tags = {\n",
    "    \"model_type\": \"keras_sequential\"\n",
    "    }\n",
    "\n",
    "# Nombre del run con fecha y hora\n",
    "run_name = f\"Neural_Network_{datetime.now().strftime('%Y%m%d_%H%M%S')}\"\n",
    "\n",
    "\n",
    "# 1. Preprocesamiento de datos\n",
    "X = df_exp1.drop('cancelacion', axis=1)\n",
    "y = df_exp1['cancelacion']\n",
    "\n",
    "# Normalización y split\n",
    "scaler = StandardScaler()\n",
    "X_scaled = scaler.fit_transform(X)\n",
    "X_train, X_test, y_train, y_test = train_test_split(X_scaled, y, test_size=params[\"test_size\"], stratify=y)\n",
    "\n",
    "\n",
    "with mlflow.start_run(run_name=run_name) as run:\n",
    "    # Loguear todos los parámetros del diccionario\n",
    "    mlflow.log_params(params)\n",
    "\n",
    "    # Loguear tags\n",
    "    mlflow.set_tags(tags)\n",
    "\n",
    "    # Definir y compilar el modelo usando parámetros del diccionario\n",
    "    model = tf.keras.Sequential([\n",
    "        tf.keras.layers.Dense(64, activation='relu', input_shape=(X_train.shape[1],)),\n",
    "        tf.keras.layers.Dropout(params[\"dropout_1\"]),\n",
    "        tf.keras.layers.Dense(32, activation='relu'),\n",
    "        tf.keras.layers.Dropout(params[\"dropout_2\"]),\n",
    "        tf.keras.layers.Dense(1, activation='sigmoid')\n",
    "    ])\n",
    "\n",
    "    model.compile(\n",
    "        optimizer=tf.keras.optimizers.Adam(learning_rate=params[\"learning_rate\"]),\n",
    "        loss='binary_crossentropy',\n",
    "        metrics=[\n",
    "            'accuracy',\n",
    "            tf.keras.metrics.Recall(name='recall'),\n",
    "            tf.keras.metrics.Precision(name='precision'),\n",
    "            tf.keras.metrics.AUC(name='pr_auc', curve='PR')\n",
    "        ]\n",
    "    )\n",
    "\n",
    "    # Entrenamiento con early stopping (puedes definirlo antes)\n",
    "    early_stop = tf.keras.callbacks.EarlyStopping(\n",
    "        monitor='val_loss',\n",
    "        min_delta=0.001,\n",
    "        patience=5,\n",
    "        verbose=1,\n",
    "        mode='min',\n",
    "        restore_best_weights=True\n",
    "    )\n",
    "\n",
    "    history = model.fit(\n",
    "        X_train, y_train,\n",
    "        epochs=params[\"epochs\"],\n",
    "        batch_size=params[\"batch_size\"],\n",
    "        validation_split=0.2,\n",
    "        callbacks=[early_stop],\n",
    "        class_weight={0: params[\"class_weight_0\"], 1: params[\"class_weight_1\"]}\n",
    "    )\n",
    "\n",
    "    # Loguear métricas finales (última época)\n",
    "    mlflow.log_metric(\"final_val_loss\", history.history['val_loss'][-1])\n",
    "    mlflow.log_metric(\"final_val_accuracy\", history.history['val_accuracy'][-1])\n",
    "    mlflow.log_metric(\"final_val_recall\", history.history['val_recall'][-1])\n",
    "    mlflow.log_metric(\"final_val_precision\", history.history['val_precision'][-1])\n",
    "    mlflow.log_metric(\"final_val_pr_auc\", history.history['val_pr_auc'][-1])\n",
    "\n",
    "    # Inferir la firma del modelo (inputs y outputs) para documentación y validación\n",
    "    signature = infer_signature(X_train, model.predict(X_train))\n",
    "\n",
    "    # Loguear el modelo con la firma\n",
    "    mlflow.tensorflow.log_model(model, artifact_path=\"model\", signature=signature)\n",
    "\n",
    "    # Opcional: setear el nombre del run también como tag (útil para UI)\n",
    "    mlflow.set_tag(\"mlflow.runName\", run_name)\n"
   ]
  },
  {
   "cell_type": "code",
   "execution_count": null,
   "id": "1c45f5f7",
   "metadata": {},
   "outputs": [],
   "source": []
  }
 ],
 "metadata": {
  "kernelspec": {
   "display_name": ".venv",
   "language": "python",
   "name": "python3"
  },
  "language_info": {
   "codemirror_mode": {
    "name": "ipython",
    "version": 3
   },
   "file_extension": ".py",
   "mimetype": "text/x-python",
   "name": "python",
   "nbconvert_exporter": "python",
   "pygments_lexer": "ipython3",
   "version": "3.11.5"
  }
 },
 "nbformat": 4,
 "nbformat_minor": 5
}
