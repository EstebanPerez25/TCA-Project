{
 "cells": [
  {
   "cell_type": "markdown",
   "id": "48bd20b1",
   "metadata": {},
   "source": [
    "# Model Usage\n",
    "\n",
    "Use the mode through the API."
   ]
  },
  {
   "cell_type": "markdown",
   "id": "8ac2775b",
   "metadata": {},
   "source": [
    "### Libraries"
   ]
  },
  {
   "cell_type": "code",
   "execution_count": 21,
   "id": "d1d1be18",
   "metadata": {},
   "outputs": [],
   "source": [
    "import pandas as pd\n",
    "import json\n",
    "import requests\n",
    "import numpy as np"
   ]
  },
  {
   "cell_type": "markdown",
   "id": "05bda301",
   "metadata": {},
   "source": [
    "### Read test data"
   ]
  },
  {
   "cell_type": "code",
   "execution_count": 45,
   "id": "a5d34e59",
   "metadata": {},
   "outputs": [
    {
     "name": "stdout",
     "output_type": "stream",
     "text": [
      "{'result': [1]}\n"
     ]
    },
    {
     "data": {
      "application/vnd.microsoft.datawrangler.viewer.v0+json": {
       "columns": [
        {
         "name": "index",
         "rawType": "int64",
         "type": "integer"
        },
        {
         "name": "nombre_paquete",
         "rawType": "category",
         "type": "unknown"
        },
        {
         "name": "ciudad_agencia",
         "rawType": "category",
         "type": "unknown"
        },
        {
         "name": "nombre_tipo_habitacion",
         "rawType": "category",
         "type": "unknown"
        },
        {
         "name": "nombre_canal",
         "rawType": "category",
         "type": "unknown"
        },
        {
         "name": "nombre_estado",
         "rawType": "category",
         "type": "unknown"
        },
        {
         "name": "Cancelacion prediction",
         "rawType": "object",
         "type": "string"
        }
       ],
       "ref": "087997ba-195e-47d0-a475-16df0aeaaa8c",
       "rows": [
        [
         "46704",
         "Walk In",
         "Leon",
         "Estd Db Sn12ast",
         "Lada 800 Nacional68",
         "Guerrero",
         "Reservación Cancelada"
        ]
       ],
       "shape": {
        "columns": 6,
        "rows": 1
       }
      },
      "text/html": [
       "<div>\n",
       "<style scoped>\n",
       "    .dataframe tbody tr th:only-of-type {\n",
       "        vertical-align: middle;\n",
       "    }\n",
       "\n",
       "    .dataframe tbody tr th {\n",
       "        vertical-align: top;\n",
       "    }\n",
       "\n",
       "    .dataframe thead th {\n",
       "        text-align: right;\n",
       "    }\n",
       "</style>\n",
       "<table border=\"1\" class=\"dataframe\">\n",
       "  <thead>\n",
       "    <tr style=\"text-align: right;\">\n",
       "      <th></th>\n",
       "      <th>nombre_paquete</th>\n",
       "      <th>ciudad_agencia</th>\n",
       "      <th>nombre_tipo_habitacion</th>\n",
       "      <th>nombre_canal</th>\n",
       "      <th>nombre_estado</th>\n",
       "      <th>Cancelacion prediction</th>\n",
       "    </tr>\n",
       "  </thead>\n",
       "  <tbody>\n",
       "    <tr>\n",
       "      <th>46704</th>\n",
       "      <td>Walk In</td>\n",
       "      <td>Leon</td>\n",
       "      <td>Estd Db Sn12ast</td>\n",
       "      <td>Lada 800 Nacional68</td>\n",
       "      <td>Guerrero</td>\n",
       "      <td>Reservación Cancelada</td>\n",
       "    </tr>\n",
       "  </tbody>\n",
       "</table>\n",
       "</div>"
      ],
      "text/plain": [
       "      nombre_paquete ciudad_agencia nombre_tipo_habitacion  \\\n",
       "46704        Walk In           Leon        Estd Db Sn12ast   \n",
       "\n",
       "              nombre_canal nombre_estado Cancelacion prediction  \n",
       "46704  Lada 800 Nacional68      Guerrero  Reservación Cancelada  "
      ]
     },
     "metadata": {},
     "output_type": "display_data"
    }
   ],
   "source": [
    "model_variables =['nombre_paquete',\n",
    "                  'ciudad_agencia',\n",
    "                  'nombre_tipo_habitacion',\n",
    "                  'nombre_canal',\n",
    "                  'nombre_estado'\n",
    "                  ]\n",
    "\n",
    "\n",
    "# Read sample data choosen randomly from the dataset\n",
    "test_model_data = pd.read_parquet(\"reservaciones_eda.parquet\").sample(n=1)\n",
    "\n",
    "# Convert the dataframe to a dictionary\n",
    "test_model_dict = test_model_data.to_dict(orient='list')\n",
    "\n",
    "### 1. Convert all dataframe into string format\n",
    "for key in test_model_dict:\n",
    "    test_model_dict[key] = [str(value) for value in test_model_dict[key]]\n",
    "\n",
    "\n",
    "### 2. Convert to json format converting all records to strings format\n",
    "data_json = json.dumps({\"data\": [test_model_dict]})\n",
    "\n",
    "\n",
    "### 2. Load the scoring URI from a file\n",
    "suri = open(\"uri.json\", \"r\")\n",
    "scoring_uri = json.load(suri)[\"URI\"][0]\n",
    "suri.close()\n",
    "\n",
    "### 3. Use the requests library to send a POST request to the model endpoint\n",
    "headers = {\"Content-Type\": \"application/json\"}\n",
    "\n",
    "response = requests.post(scoring_uri, data=data_json, headers=headers)\n",
    "\n",
    "\n",
    "if response.status_code == 200:\n",
    "    result = json.loads(response.json())\n",
    "    print(result)\n",
    "    result = \"Reservación Cancelada\" if result['result'][0]==1 else \"Reservación No Cancelada\"\n",
    "    \n",
    "    test_model_data[\"Cancelacion prediction\"] = result\n",
    "    \n",
    "    #display(test_model_data[[\"id_reservaciones\", \"nombre_estatus_reservacion\", \"Cancelacion prediction\"]])\n",
    "    display(test_model_data[model_variables + [\"Cancelacion prediction\"]])\n",
    "else:\n",
    "    print(f\"Error: {response.text}\")"
   ]
  },
  {
   "cell_type": "code",
   "execution_count": 46,
   "id": "95b7b249",
   "metadata": {},
   "outputs": [
    {
     "data": {
      "application/vnd.microsoft.datawrangler.viewer.v0+json": {
       "columns": [
        {
         "name": "nombre_paquete",
         "rawType": "category",
         "type": "unknown"
        },
        {
         "name": "count",
         "rawType": "int64",
         "type": "integer"
        }
       ],
       "ref": "11a6bbd6-05d5-4272-9551-d94654d9d27d",
       "rows": [
        [
         "Walk In",
         "1"
        ],
        [
         "Entre Semana",
         "0"
        ],
        [
         "Fin De Semana",
         "0"
        ],
        [
         "Lunamielero",
         "0"
        ],
        [
         "Ninguno",
         "0"
        ],
        [
         "Sin Definir",
         "0"
        ]
       ],
       "shape": {
        "columns": 1,
        "rows": 6
       }
      },
      "text/plain": [
       "nombre_paquete\n",
       "Walk In          1\n",
       "Entre Semana     0\n",
       "Fin De Semana    0\n",
       "Lunamielero      0\n",
       "Ninguno          0\n",
       "Sin Definir      0\n",
       "Name: count, dtype: int64"
      ]
     },
     "execution_count": 46,
     "metadata": {},
     "output_type": "execute_result"
    }
   ],
   "source": [
    "test_model_data.nombre_paquete.value_counts()"
   ]
  }
 ],
 "metadata": {
  "kernelspec": {
   "display_name": ".venv",
   "language": "python",
   "name": "python3"
  },
  "language_info": {
   "codemirror_mode": {
    "name": "ipython",
    "version": 3
   },
   "file_extension": ".py",
   "mimetype": "text/x-python",
   "name": "python",
   "nbconvert_exporter": "python",
   "pygments_lexer": "ipython3",
   "version": "3.11.5"
  }
 },
 "nbformat": 4,
 "nbformat_minor": 5
}
