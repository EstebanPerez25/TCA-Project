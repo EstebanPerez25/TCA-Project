{
 "cells": [
  {
   "cell_type": "markdown",
   "id": "459aefe0",
   "metadata": {},
   "source": [
    "# Model Creation\n",
    "\n",
    "In this notebook, we will process the data and train our final model to classify cancellations.\n",
    "\n",
    "\n",
    "---"
   ]
  },
  {
   "cell_type": "markdown",
   "id": "eecec8e0",
   "metadata": {},
   "source": [
    "**Dependencies**\n",
    "\n",
    "Check `requirements.txt`\n",
    "\n",
    "Main:\n",
    "* ipykernel\n",
    "* pandas\n",
    "* sckit-learn\n",
    "* azureml-sdk\n",
    "* xgboost"
   ]
  },
  {
   "cell_type": "markdown",
   "id": "6c705a4d",
   "metadata": {},
   "source": [
    "### Libraries"
   ]
  },
  {
   "cell_type": "code",
   "execution_count": 44,
   "id": "6d54bd73",
   "metadata": {},
   "outputs": [],
   "source": [
    "import pickle\n",
    "\n",
    "import matplotlib.pyplot as plt\n",
    "import pandas as pd\n",
    "import seaborn as sns\n",
    "from sklearn.metrics import (\n",
    "    ConfusionMatrixDisplay,\n",
    "    PrecisionRecallDisplay,\n",
    "    classification_report,\n",
    "    precision_score,\n",
    "    recall_score,\n",
    ")\n",
    "from sklearn.model_selection import train_test_split\n",
    "from xgboost import XGBClassifier"
   ]
  },
  {
   "cell_type": "markdown",
   "id": "bc9095aa",
   "metadata": {},
   "source": [
    "### Load data"
   ]
  },
  {
   "cell_type": "code",
   "execution_count": 45,
   "id": "c07ce69c",
   "metadata": {},
   "outputs": [
    {
     "name": "stdout",
     "output_type": "stream",
     "text": [
      "The kedro.ipython extension is already loaded. To reload it, use:\n",
      "  %reload_ext kedro.ipython\n"
     ]
    }
   ],
   "source": [
    "%load_ext kedro.ipython"
   ]
  },
  {
   "cell_type": "code",
   "execution_count": 46,
   "id": "dd0f0da9",
   "metadata": {},
   "outputs": [
    {
     "data": {
      "text/html": [
       "<pre style=\"white-space:pre;overflow-x:auto;line-height:normal;font-family:Menlo,'DejaVu Sans Mono',consolas,'Courier New',monospace\"><span style=\"color: #7fbfbf; text-decoration-color: #7fbfbf\">[01/06/2025 03:45:50 a. m.] </span><span style=\"color: #000080; text-decoration-color: #000080\">INFO    </span> Resolved project path as: C:\\Users\\Esteban\\Documents\\.         <span style=\"color: #7f7f7f; text-decoration-color: #7f7f7f\">__init__.py:180</span>\n",
       "<span style=\"color: #7fbfbf; text-decoration-color: #7fbfbf\">                            </span>         Clases_Tec\\<span style=\"color: #008080; text-decoration-color: #008080; font-weight: bold\">8</span>. Octavo semestre\\_Proyecto\\kProject\\tcaproject.   <span style=\"color: #7f7f7f; text-decoration-color: #7f7f7f\">               </span>\n",
       "<span style=\"color: #7fbfbf; text-decoration-color: #7fbfbf\">                            </span>         To set a different path, run <span style=\"color: #008000; text-decoration-color: #008000\">'%reload_kedro &lt;project_root&gt;'</span>    <span style=\"color: #7f7f7f; text-decoration-color: #7f7f7f\">               </span>\n",
       "</pre>\n"
      ],
      "text/plain": [
       "\u001b[2;36m[01/06/2025 03:45:50 a. m.]\u001b[0m\u001b[2;36m \u001b[0m\u001b[34mINFO    \u001b[0m Resolved project path as: C:\\Users\\Esteban\\Documents\\.         \u001b[2m__init__.py\u001b[0m\u001b[2m:\u001b[0m\u001b[2m180\u001b[0m\n",
       "\u001b[2;36m                            \u001b[0m         Clases_Tec\\\u001b[1;36m8\u001b[0m. Octavo semestre\\_Proyecto\\kProject\\tcaproject.   \u001b[2m               \u001b[0m\n",
       "\u001b[2;36m                            \u001b[0m         To set a different path, run \u001b[32m'%reload_kedro \u001b[0m\u001b[32m<\u001b[0m\u001b[32mproject_root\u001b[0m\u001b[32m>\u001b[0m\u001b[32m'\u001b[0m    \u001b[2m               \u001b[0m\n"
      ]
     },
     "metadata": {},
     "output_type": "display_data"
    },
    {
     "data": {
      "text/html": [
       "<pre style=\"white-space:pre;overflow-x:auto;line-height:normal;font-family:Menlo,'DejaVu Sans Mono',consolas,'Courier New',monospace\"><span style=\"color: #7fbfbf; text-decoration-color: #7fbfbf\">[01/06/2025 03:45:51 a. m.] </span><span style=\"color: #000080; text-decoration-color: #000080\">INFO    </span> Registering new custom resolver: <span style=\"color: #008000; text-decoration-color: #008000\">'km.random_name'</span>            <span style=\"color: #7f7f7f; text-decoration-color: #7f7f7f\">mlflow_hook.py:65</span>\n",
       "</pre>\n"
      ],
      "text/plain": [
       "\u001b[2;36m[01/06/2025 03:45:51 a. m.]\u001b[0m\u001b[2;36m \u001b[0m\u001b[34mINFO    \u001b[0m Registering new custom resolver: \u001b[32m'km.random_name'\u001b[0m            \u001b[2mmlflow_hook.py\u001b[0m\u001b[2m:\u001b[0m\u001b[2m65\u001b[0m\n"
      ]
     },
     "metadata": {},
     "output_type": "display_data"
    },
    {
     "data": {
      "text/html": [
       "<pre style=\"white-space:pre;overflow-x:auto;line-height:normal;font-family:Menlo,'DejaVu Sans Mono',consolas,'Courier New',monospace\"><span style=\"color: #7fbfbf; text-decoration-color: #7fbfbf\">                            </span><span style=\"color: #808000; text-decoration-color: #808000\">WARNING </span> No <span style=\"color: #008000; text-decoration-color: #008000\">'mlflow.yml'</span> config file found in environment. Default    <span style=\"color: #7f7f7f; text-decoration-color: #7f7f7f\">mlflow_hook.py:78</span>\n",
       "<span style=\"color: #7fbfbf; text-decoration-color: #7fbfbf\">                            </span>         configuration will be used. Use ``kedro mlflow init``        <span style=\"color: #7f7f7f; text-decoration-color: #7f7f7f\">                 </span>\n",
       "<span style=\"color: #7fbfbf; text-decoration-color: #7fbfbf\">                            </span>         command in CLI to customize the configuration.               <span style=\"color: #7f7f7f; text-decoration-color: #7f7f7f\">                 </span>\n",
       "</pre>\n"
      ],
      "text/plain": [
       "\u001b[2;36m                           \u001b[0m\u001b[2;36m \u001b[0m\u001b[33mWARNING \u001b[0m No \u001b[32m'mlflow.yml'\u001b[0m config file found in environment. Default    \u001b[2mmlflow_hook.py\u001b[0m\u001b[2m:\u001b[0m\u001b[2m78\u001b[0m\n",
       "\u001b[2;36m                            \u001b[0m         configuration will be used. Use ``kedro mlflow init``        \u001b[2m                 \u001b[0m\n",
       "\u001b[2;36m                            \u001b[0m         command in CLI to customize the configuration.               \u001b[2m                 \u001b[0m\n"
      ]
     },
     "metadata": {},
     "output_type": "display_data"
    },
    {
     "data": {
      "text/html": [
       "<pre style=\"white-space:pre;overflow-x:auto;line-height:normal;font-family:Menlo,'DejaVu Sans Mono',consolas,'Courier New',monospace\"><span style=\"color: #7fbfbf; text-decoration-color: #7fbfbf\">                            </span><span style=\"color: #000080; text-decoration-color: #000080\">INFO    </span> Kedro is sending anonymous usage data with the sole purpose of   <span style=\"color: #7f7f7f; text-decoration-color: #7f7f7f\">plugin.py:233</span>\n",
       "<span style=\"color: #7fbfbf; text-decoration-color: #7fbfbf\">                            </span>         improving the product. No personal data or IP addresses are      <span style=\"color: #7f7f7f; text-decoration-color: #7f7f7f\">             </span>\n",
       "<span style=\"color: #7fbfbf; text-decoration-color: #7fbfbf\">                            </span>         stored on our side. If you want to opt out, set the              <span style=\"color: #7f7f7f; text-decoration-color: #7f7f7f\">             </span>\n",
       "<span style=\"color: #7fbfbf; text-decoration-color: #7fbfbf\">                            </span>         `KEDRO_DISABLE_TELEMETRY` or `DO_NOT_TRACK` environment          <span style=\"color: #7f7f7f; text-decoration-color: #7f7f7f\">             </span>\n",
       "<span style=\"color: #7fbfbf; text-decoration-color: #7fbfbf\">                            </span>         variables, or create a `.telemetry` file in the current working  <span style=\"color: #7f7f7f; text-decoration-color: #7f7f7f\">             </span>\n",
       "<span style=\"color: #7fbfbf; text-decoration-color: #7fbfbf\">                            </span>         directory with the contents `consent: false`. Read more at       <span style=\"color: #7f7f7f; text-decoration-color: #7f7f7f\">             </span>\n",
       "<span style=\"color: #7fbfbf; text-decoration-color: #7fbfbf\">                            </span>         <span style=\"color: #0000ff; text-decoration-color: #0000ff; text-decoration: underline\">https://docs.kedro.org/en/stable/configuration/telemetry.html</span>    <span style=\"color: #7f7f7f; text-decoration-color: #7f7f7f\">             </span>\n",
       "</pre>\n"
      ],
      "text/plain": [
       "\u001b[2;36m                           \u001b[0m\u001b[2;36m \u001b[0m\u001b[34mINFO    \u001b[0m Kedro is sending anonymous usage data with the sole purpose of   \u001b[2mplugin.py\u001b[0m\u001b[2m:\u001b[0m\u001b[2m233\u001b[0m\n",
       "\u001b[2;36m                            \u001b[0m         improving the product. No personal data or IP addresses are      \u001b[2m             \u001b[0m\n",
       "\u001b[2;36m                            \u001b[0m         stored on our side. If you want to opt out, set the              \u001b[2m             \u001b[0m\n",
       "\u001b[2;36m                            \u001b[0m         `KEDRO_DISABLE_TELEMETRY` or `DO_NOT_TRACK` environment          \u001b[2m             \u001b[0m\n",
       "\u001b[2;36m                            \u001b[0m         variables, or create a `.telemetry` file in the current working  \u001b[2m             \u001b[0m\n",
       "\u001b[2;36m                            \u001b[0m         directory with the contents `consent: false`. Read more at       \u001b[2m             \u001b[0m\n",
       "\u001b[2;36m                            \u001b[0m         \u001b[4;94mhttps://docs.kedro.org/en/stable/configuration/telemetry.html\u001b[0m    \u001b[2m             \u001b[0m\n"
      ]
     },
     "metadata": {},
     "output_type": "display_data"
    },
    {
     "data": {
      "text/html": [
       "<pre style=\"white-space:pre;overflow-x:auto;line-height:normal;font-family:Menlo,'DejaVu Sans Mono',consolas,'Courier New',monospace\"><span style=\"color: #7fbfbf; text-decoration-color: #7fbfbf\">[01/06/2025 03:45:53 a. m.] </span><span style=\"color: #000080; text-decoration-color: #000080\">INFO    </span> Kedro project tcaProject                                       <span style=\"color: #7f7f7f; text-decoration-color: #7f7f7f\">__init__.py:146</span>\n",
       "</pre>\n"
      ],
      "text/plain": [
       "\u001b[2;36m[01/06/2025 03:45:53 a. m.]\u001b[0m\u001b[2;36m \u001b[0m\u001b[34mINFO    \u001b[0m Kedro project tcaProject                                       \u001b[2m__init__.py\u001b[0m\u001b[2m:\u001b[0m\u001b[2m146\u001b[0m\n"
      ]
     },
     "metadata": {},
     "output_type": "display_data"
    },
    {
     "data": {
      "text/html": [
       "<pre style=\"white-space:pre;overflow-x:auto;line-height:normal;font-family:Menlo,'DejaVu Sans Mono',consolas,'Courier New',monospace\"><span style=\"color: #7fbfbf; text-decoration-color: #7fbfbf\">                            </span><span style=\"color: #000080; text-decoration-color: #000080\">INFO    </span> Defined global variable <span style=\"color: #008000; text-decoration-color: #008000\">'context'</span>, <span style=\"color: #008000; text-decoration-color: #008000\">'session'</span>, <span style=\"color: #008000; text-decoration-color: #008000\">'catalog'</span> and    <span style=\"color: #7f7f7f; text-decoration-color: #7f7f7f\">__init__.py:147</span>\n",
       "<span style=\"color: #7fbfbf; text-decoration-color: #7fbfbf\">                            </span>         <span style=\"color: #008000; text-decoration-color: #008000\">'pipelines'</span>                                                    <span style=\"color: #7f7f7f; text-decoration-color: #7f7f7f\">               </span>\n",
       "</pre>\n"
      ],
      "text/plain": [
       "\u001b[2;36m                           \u001b[0m\u001b[2;36m \u001b[0m\u001b[34mINFO    \u001b[0m Defined global variable \u001b[32m'context'\u001b[0m, \u001b[32m'session'\u001b[0m, \u001b[32m'catalog'\u001b[0m and    \u001b[2m__init__.py\u001b[0m\u001b[2m:\u001b[0m\u001b[2m147\u001b[0m\n",
       "\u001b[2;36m                            \u001b[0m         \u001b[32m'pipelines'\u001b[0m                                                    \u001b[2m               \u001b[0m\n"
      ]
     },
     "metadata": {},
     "output_type": "display_data"
    },
    {
     "data": {
      "text/html": [
       "<pre style=\"white-space:pre;overflow-x:auto;line-height:normal;font-family:Menlo,'DejaVu Sans Mono',consolas,'Courier New',monospace\"><span style=\"color: #7fbfbf; text-decoration-color: #7fbfbf\">                            </span><span style=\"color: #000080; text-decoration-color: #000080\">INFO    </span> Registered line magic <span style=\"color: #008000; text-decoration-color: #008000\">'run_viz'</span>                                <span style=\"color: #7f7f7f; text-decoration-color: #7f7f7f\">__init__.py:153</span>\n",
       "</pre>\n"
      ],
      "text/plain": [
       "\u001b[2;36m                           \u001b[0m\u001b[2;36m \u001b[0m\u001b[34mINFO    \u001b[0m Registered line magic \u001b[32m'run_viz'\u001b[0m                                \u001b[2m__init__.py\u001b[0m\u001b[2m:\u001b[0m\u001b[2m153\u001b[0m\n"
      ]
     },
     "metadata": {},
     "output_type": "display_data"
    }
   ],
   "source": [
    "%reload_kedro"
   ]
  },
  {
   "cell_type": "code",
   "execution_count": 47,
   "id": "6bd2f579",
   "metadata": {},
   "outputs": [
    {
     "data": {
      "text/html": [
       "<pre style=\"white-space:pre;overflow-x:auto;line-height:normal;font-family:Menlo,'DejaVu Sans Mono',consolas,'Courier New',monospace\"><span style=\"color: #7fbfbf; text-decoration-color: #7fbfbf\">                            </span><span style=\"color: #000080; text-decoration-color: #000080\">INFO    </span> Loading data from <span style=\"color: #ff8700; text-decoration-color: #ff8700\">reservaciones_cleaned</span>                    <span style=\"color: #7f7f7f; text-decoration-color: #7f7f7f\">data_catalog.py:403</span>\n",
       "<span style=\"color: #7fbfbf; text-decoration-color: #7fbfbf\">                            </span>         <span style=\"font-weight: bold\">(</span>ParquetDataset<span style=\"font-weight: bold\">)</span><span style=\"color: #808000; text-decoration-color: #808000\">...</span>                                        <span style=\"color: #7f7f7f; text-decoration-color: #7f7f7f\">                   </span>\n",
       "</pre>\n"
      ],
      "text/plain": [
       "\u001b[2;36m                           \u001b[0m\u001b[2;36m \u001b[0m\u001b[34mINFO    \u001b[0m Loading data from \u001b[38;5;208mreservaciones_cleaned\u001b[0m                    \u001b[2mdata_catalog.py\u001b[0m\u001b[2m:\u001b[0m\u001b[2m403\u001b[0m\n",
       "\u001b[2;36m                            \u001b[0m         \u001b[1m(\u001b[0mParquetDataset\u001b[1m)\u001b[0m\u001b[33m...\u001b[0m                                        \u001b[2m                   \u001b[0m\n"
      ]
     },
     "metadata": {},
     "output_type": "display_data"
    },
    {
     "data": {
      "text/html": [
       "<pre style=\"white-space:pre;overflow-x:auto;line-height:normal;font-family:Menlo,'DejaVu Sans Mono',consolas,'Courier New',monospace\"></pre>\n"
      ],
      "text/plain": []
     },
     "metadata": {},
     "output_type": "display_data"
    },
    {
     "data": {
      "text/plain": [
       "\u001b[1m(\u001b[0m\u001b[1;36m202491\u001b[0m, \u001b[1;36m49\u001b[0m\u001b[1m)\u001b[0m"
      ]
     },
     "execution_count": 47,
     "metadata": {},
     "output_type": "execute_result"
    }
   ],
   "source": [
    "df = catalog.load(\"reservaciones_cleaned\")  # type: ignore # noqa: F821\n",
    "df.shape"
   ]
  },
  {
   "cell_type": "code",
   "execution_count": 48,
   "id": "8f125da2",
   "metadata": {},
   "outputs": [
    {
     "data": {
      "text/html": [
       "<pre style=\"white-space:pre;overflow-x:auto;line-height:normal;font-family:Menlo,'DejaVu Sans Mono',consolas,'Courier New',monospace\"></pre>\n"
      ],
      "text/plain": []
     },
     "metadata": {},
     "output_type": "display_data"
    },
    {
     "data": {
      "text/plain": [
       "\u001b[1;35mIndex\u001b[0m\u001b[1m(\u001b[0m\u001b[1m[\u001b[0m\u001b[32m'Walk In'\u001b[0m, \u001b[32m'Ninguno'\u001b[0m, \u001b[32m'Entre Semana'\u001b[0m, \u001b[32m'Lunamielero'\u001b[0m, \u001b[32m'Fin De Semana'\u001b[0m\u001b[1m]\u001b[0m, \u001b[33mdtype\u001b[0m=\u001b[32m'object'\u001b[0m, \u001b[33mname\u001b[0m=\u001b[32m'nombre_paquete'\u001b[0m\u001b[1m)\u001b[0m"
      ]
     },
     "execution_count": 48,
     "metadata": {},
     "output_type": "execute_result"
    }
   ],
   "source": [
    "df.nombre_paquete.value_counts().index"
   ]
  },
  {
   "cell_type": "code",
   "execution_count": 49,
   "id": "ef41679f",
   "metadata": {},
   "outputs": [
    {
     "name": "stdout",
     "output_type": "stream",
     "text": [
      "<class 'pandas.core.frame.DataFrame'>\n",
      "Index: 202491 entries, 0 to 203001\n",
      "Columns: 49 entries, id_reservaciones to cliente_disp_anio_anterior\n",
      "dtypes: bool(3), datetime64[ns](5), float64(2), int64(24), object(15)\n",
      "memory usage: 73.2+ MB\n"
     ]
    }
   ],
   "source": [
    "df.info(verbose=False)"
   ]
  },
  {
   "cell_type": "code",
   "execution_count": 50,
   "id": "30105c04",
   "metadata": {},
   "outputs": [
    {
     "data": {
      "text/html": [
       "<pre style=\"white-space:pre;overflow-x:auto;line-height:normal;font-family:Menlo,'DejaVu Sans Mono',consolas,'Courier New',monospace\"></pre>\n"
      ],
      "text/plain": []
     },
     "metadata": {},
     "output_type": "display_data"
    },
    {
     "data": {
      "application/vnd.microsoft.datawrangler.viewer.v0+json": {
       "columns": [
        {
         "name": "index",
         "rawType": "int64",
         "type": "integer"
        },
        {
         "name": "id_reservaciones",
         "rawType": "int64",
         "type": "integer"
        },
        {
         "name": "fecha_hoy",
         "rawType": "datetime64[ns]",
         "type": "datetime"
        },
        {
         "name": "fecha_reservacion",
         "rawType": "datetime64[ns]",
         "type": "datetime"
        },
        {
         "name": "fecha_llegada",
         "rawType": "datetime64[ns]",
         "type": "datetime"
        },
        {
         "name": "fecha_salida",
         "rawType": "datetime64[ns]",
         "type": "datetime"
        },
        {
         "name": "numero_personas",
         "rawType": "int64",
         "type": "integer"
        },
        {
         "name": "numero_personas_anio_anterior",
         "rawType": "int64",
         "type": "integer"
        },
        {
         "name": "numero_adultos",
         "rawType": "int64",
         "type": "integer"
        },
        {
         "name": "numero_adultos_anio_anterior",
         "rawType": "int64",
         "type": "integer"
        },
        {
         "name": "numero_menores",
         "rawType": "int64",
         "type": "integer"
        },
        {
         "name": "numero_menores_anio_anterior",
         "rawType": "int64",
         "type": "integer"
        },
        {
         "name": "numero_noches",
         "rawType": "int64",
         "type": "integer"
        },
        {
         "name": "numero_noches_anio_anterior",
         "rawType": "int64",
         "type": "integer"
        },
        {
         "name": "total_habitaciones",
         "rawType": "int64",
         "type": "integer"
        },
        {
         "name": "total_habitaciones_anio_anterior",
         "rawType": "int64",
         "type": "integer"
        },
        {
         "name": "id_programa",
         "rawType": "int64",
         "type": "integer"
        },
        {
         "name": "nombre_programa",
         "rawType": "object",
         "type": "string"
        },
        {
         "name": "id_paquete",
         "rawType": "int64",
         "type": "integer"
        },
        {
         "name": "nombre_paquete",
         "rawType": "object",
         "type": "string"
        },
        {
         "name": "id_segmento",
         "rawType": "int64",
         "type": "integer"
        },
        {
         "name": "nombre_segmento",
         "rawType": "object",
         "type": "string"
        },
        {
         "name": "id_agencia",
         "rawType": "int64",
         "type": "integer"
        },
        {
         "name": "nombre_agencia",
         "rawType": "object",
         "type": "string"
        },
        {
         "name": "ciudad_agencia",
         "rawType": "object",
         "type": "string"
        },
        {
         "name": "entidad_federativa_agencia",
         "rawType": "object",
         "type": "string"
        },
        {
         "name": "pais_agencia",
         "rawType": "object",
         "type": "string"
        },
        {
         "name": "id_empresa",
         "rawType": "int64",
         "type": "integer"
        },
        {
         "name": "nombre_empresa",
         "rawType": "object",
         "type": "string"
        },
        {
         "name": "total_habitaciones_empresa",
         "rawType": "int64",
         "type": "integer"
        },
        {
         "name": "id_tipo_habitacion",
         "rawType": "int64",
         "type": "integer"
        },
        {
         "name": "nombre_tipo_habitacion",
         "rawType": "object",
         "type": "string"
        },
        {
         "name": "cupo_tipo_habitacion",
         "rawType": "float64",
         "type": "float"
        },
        {
         "name": "clasificacion_tipo_habitacion",
         "rawType": "object",
         "type": "string"
        },
        {
         "name": "id_canal",
         "rawType": "int64",
         "type": "integer"
        },
        {
         "name": "nombre_canal",
         "rawType": "object",
         "type": "string"
        },
        {
         "name": "id_pais_origen",
         "rawType": "int64",
         "type": "integer"
        },
        {
         "name": "nombre_pais_origen",
         "rawType": "object",
         "type": "string"
        },
        {
         "name": "reservacion_pendiente",
         "rawType": "bool",
         "type": "boolean"
        },
        {
         "name": "id_estatus_reservacion",
         "rawType": "int64",
         "type": "integer"
        },
        {
         "name": "nombre_estatus_reservacion",
         "rawType": "object",
         "type": "string"
        },
        {
         "name": "clave_estado",
         "rawType": "object",
         "type": "string"
        },
        {
         "name": "nombre_estado",
         "rawType": "object",
         "type": "string"
        },
        {
         "name": "total_tarifa",
         "rawType": "float64",
         "type": "float"
        },
        {
         "name": "id_moneda",
         "rawType": "int64",
         "type": "integer"
        },
        {
         "name": "fecha_ultimo_cambio",
         "rawType": "datetime64[ns]",
         "type": "datetime"
        },
        {
         "name": "reservacion",
         "rawType": "bool",
         "type": "boolean"
        },
        {
         "name": "reservacion_anio_anterior",
         "rawType": "bool",
         "type": "boolean"
        },
        {
         "name": "id_cliente_disp",
         "rawType": "int64",
         "type": "integer"
        },
        {
         "name": "cliente_disp_anio_anterior",
         "rawType": "int64",
         "type": "integer"
        }
       ],
       "ref": "c180bc41-8d42-43b5-a126-8e90f68b782b",
       "rows": [
        [
         "0",
         "0",
         "2019-08-16 00:00:00",
         "2019-08-16 00:00:00",
         "2019-07-11 00:00:00",
         "2019-10-11 00:00:00",
         "2",
         "0",
         "2",
         "0",
         "0",
         "0",
         "3",
         "0",
         "1",
         "0",
         "1",
         "Ninguno",
         "1",
         "Walk In",
         "14",
         "Individual Ep/Vac. Club",
         "112",
         "Hoteles S.A.",
         "Mexico City",
         "Mexico",
         "Mexico",
         "1",
         "Hotel 1",
         "735",
         "25",
         "Estd 2Q Sn12Mst",
         "2.0",
         "Mst",
         "10",
         "Multivacaciones 2",
         "157",
         "Mexico",
         "True",
         "9",
         "Salida",
         "Emx",
         "Mexico",
         "2659.98",
         "1",
         "2019-10-11 00:00:00",
         "True",
         "False",
         "2",
         "0"
        ],
        [
         "1",
         "1",
         "2019-10-22 00:00:00",
         "2019-10-22 00:00:00",
         "2019-01-12 00:00:00",
         "2019-05-12 00:00:00",
         "4",
         "0",
         "4",
         "0",
         "0",
         "0",
         "4",
         "0",
         "1",
         "0",
         "1",
         "Ninguno",
         "2",
         "Ninguno",
         "14",
         "Individual Ep/Vac. Club",
         "112",
         "Hoteles S.A.",
         "Mexico City",
         "Mexico",
         "Mexico",
         "1",
         "Hotel 1",
         "735",
         "25",
         "Estd 2Q Sn12Mst",
         "2.0",
         "Mst",
         "10",
         "Multivacaciones 2",
         "157",
         "Mexico",
         "True",
         "9",
         "Salida",
         "Egt",
         "Guanajuato",
         "1764.0",
         "1",
         "2019-05-12 00:00:00",
         "True",
         "False",
         "4",
         "0"
        ],
        [
         "2",
         "2",
         "2019-10-28 00:00:00",
         "2019-10-28 00:00:00",
         "2019-01-12 00:00:00",
         "2019-05-12 00:00:00",
         "2",
         "0",
         "2",
         "0",
         "0",
         "0",
         "4",
         "0",
         "1",
         "0",
         "1",
         "Ninguno",
         "1",
         "Walk In",
         "14",
         "Individual Ep/Vac. Club",
         "112",
         "Hoteles S.A.",
         "Mexico City",
         "Mexico",
         "Mexico",
         "1",
         "Hotel 1",
         "735",
         "23",
         "Jr Suite 1K Sn12Mjs",
         "2.0",
         "Mjs",
         "10",
         "Multivacaciones 2",
         "157",
         "Mexico",
         "True",
         "9",
         "Salida",
         "Emc",
         "Michoacan",
         "2660.04",
         "1",
         "2019-05-12 00:00:00",
         "True",
         "False",
         "2",
         "0"
        ],
        [
         "3",
         "3",
         "2019-10-28 00:00:00",
         "2019-10-28 00:00:00",
         "2019-08-12 00:00:00",
         "2019-11-12 00:00:00",
         "4",
         "0",
         "3",
         "0",
         "0",
         "0",
         "3",
         "0",
         "1",
         "0",
         "1",
         "Ninguno",
         "2",
         "Ninguno",
         "14",
         "Individual Ep/Vac. Club",
         "112",
         "Hoteles S.A.",
         "Mexico City",
         "Mexico",
         "Mexico",
         "1",
         "Hotel 1",
         "735",
         "24",
         "Jr Suite 2Q Sn12Mjs",
         "2.0",
         "Mjs",
         "10",
         "Multivacaciones 2",
         "157",
         "Mexico",
         "True",
         "9",
         "Salida",
         "Egt",
         "Guanajuato",
         "1995.03",
         "1",
         "2019-11-12 00:00:00",
         "True",
         "False",
         "3",
         "0"
        ],
        [
         "4",
         "4",
         "2019-10-28 00:00:00",
         "2019-10-28 00:00:00",
         "2019-08-12 00:00:00",
         "2019-12-12 00:00:00",
         "2",
         "0",
         "2",
         "0",
         "0",
         "0",
         "4",
         "0",
         "1",
         "0",
         "1",
         "Ninguno",
         "1",
         "Walk In",
         "5",
         "Ecommerce Ota Domestic",
         "14",
         "Bestday Travel Group",
         "Cancun",
         "Quintana Roo",
         "Mexico",
         "1",
         "Hotel 1",
         "735",
         "4",
         "Luxury 2Q Sn12Gsu",
         "2.0",
         "Gsu",
         "13",
         "Vertical Booking",
         "157",
         "Mexico",
         "True",
         "9",
         "Salida",
         "Emx",
         "Mexico",
         "13369.92",
         "1",
         "2019-12-12 00:00:00",
         "True",
         "False",
         "2",
         "0"
        ]
       ],
       "shape": {
        "columns": 49,
        "rows": 5
       }
      },
      "text/html": [
       "<div>\n",
       "<style scoped>\n",
       "    .dataframe tbody tr th:only-of-type {\n",
       "        vertical-align: middle;\n",
       "    }\n",
       "\n",
       "    .dataframe tbody tr th {\n",
       "        vertical-align: top;\n",
       "    }\n",
       "\n",
       "    .dataframe thead th {\n",
       "        text-align: right;\n",
       "    }\n",
       "</style>\n",
       "<table border=\"1\" class=\"dataframe\">\n",
       "  <thead>\n",
       "    <tr style=\"text-align: right;\">\n",
       "      <th></th>\n",
       "      <th>id_reservaciones</th>\n",
       "      <th>fecha_hoy</th>\n",
       "      <th>fecha_reservacion</th>\n",
       "      <th>fecha_llegada</th>\n",
       "      <th>fecha_salida</th>\n",
       "      <th>numero_personas</th>\n",
       "      <th>numero_personas_anio_anterior</th>\n",
       "      <th>numero_adultos</th>\n",
       "      <th>numero_adultos_anio_anterior</th>\n",
       "      <th>numero_menores</th>\n",
       "      <th>...</th>\n",
       "      <th>nombre_estatus_reservacion</th>\n",
       "      <th>clave_estado</th>\n",
       "      <th>nombre_estado</th>\n",
       "      <th>total_tarifa</th>\n",
       "      <th>id_moneda</th>\n",
       "      <th>fecha_ultimo_cambio</th>\n",
       "      <th>reservacion</th>\n",
       "      <th>reservacion_anio_anterior</th>\n",
       "      <th>id_cliente_disp</th>\n",
       "      <th>cliente_disp_anio_anterior</th>\n",
       "    </tr>\n",
       "  </thead>\n",
       "  <tbody>\n",
       "    <tr>\n",
       "      <th>0</th>\n",
       "      <td>0</td>\n",
       "      <td>2019-08-16</td>\n",
       "      <td>2019-08-16</td>\n",
       "      <td>2019-07-11</td>\n",
       "      <td>2019-10-11</td>\n",
       "      <td>2</td>\n",
       "      <td>0</td>\n",
       "      <td>2</td>\n",
       "      <td>0</td>\n",
       "      <td>0</td>\n",
       "      <td>...</td>\n",
       "      <td>Salida</td>\n",
       "      <td>Emx</td>\n",
       "      <td>Mexico</td>\n",
       "      <td>2659.98</td>\n",
       "      <td>1</td>\n",
       "      <td>2019-10-11</td>\n",
       "      <td>True</td>\n",
       "      <td>False</td>\n",
       "      <td>2</td>\n",
       "      <td>0</td>\n",
       "    </tr>\n",
       "    <tr>\n",
       "      <th>1</th>\n",
       "      <td>1</td>\n",
       "      <td>2019-10-22</td>\n",
       "      <td>2019-10-22</td>\n",
       "      <td>2019-01-12</td>\n",
       "      <td>2019-05-12</td>\n",
       "      <td>4</td>\n",
       "      <td>0</td>\n",
       "      <td>4</td>\n",
       "      <td>0</td>\n",
       "      <td>0</td>\n",
       "      <td>...</td>\n",
       "      <td>Salida</td>\n",
       "      <td>Egt</td>\n",
       "      <td>Guanajuato</td>\n",
       "      <td>1764.00</td>\n",
       "      <td>1</td>\n",
       "      <td>2019-05-12</td>\n",
       "      <td>True</td>\n",
       "      <td>False</td>\n",
       "      <td>4</td>\n",
       "      <td>0</td>\n",
       "    </tr>\n",
       "    <tr>\n",
       "      <th>2</th>\n",
       "      <td>2</td>\n",
       "      <td>2019-10-28</td>\n",
       "      <td>2019-10-28</td>\n",
       "      <td>2019-01-12</td>\n",
       "      <td>2019-05-12</td>\n",
       "      <td>2</td>\n",
       "      <td>0</td>\n",
       "      <td>2</td>\n",
       "      <td>0</td>\n",
       "      <td>0</td>\n",
       "      <td>...</td>\n",
       "      <td>Salida</td>\n",
       "      <td>Emc</td>\n",
       "      <td>Michoacan</td>\n",
       "      <td>2660.04</td>\n",
       "      <td>1</td>\n",
       "      <td>2019-05-12</td>\n",
       "      <td>True</td>\n",
       "      <td>False</td>\n",
       "      <td>2</td>\n",
       "      <td>0</td>\n",
       "    </tr>\n",
       "    <tr>\n",
       "      <th>3</th>\n",
       "      <td>3</td>\n",
       "      <td>2019-10-28</td>\n",
       "      <td>2019-10-28</td>\n",
       "      <td>2019-08-12</td>\n",
       "      <td>2019-11-12</td>\n",
       "      <td>4</td>\n",
       "      <td>0</td>\n",
       "      <td>3</td>\n",
       "      <td>0</td>\n",
       "      <td>0</td>\n",
       "      <td>...</td>\n",
       "      <td>Salida</td>\n",
       "      <td>Egt</td>\n",
       "      <td>Guanajuato</td>\n",
       "      <td>1995.03</td>\n",
       "      <td>1</td>\n",
       "      <td>2019-11-12</td>\n",
       "      <td>True</td>\n",
       "      <td>False</td>\n",
       "      <td>3</td>\n",
       "      <td>0</td>\n",
       "    </tr>\n",
       "    <tr>\n",
       "      <th>4</th>\n",
       "      <td>4</td>\n",
       "      <td>2019-10-28</td>\n",
       "      <td>2019-10-28</td>\n",
       "      <td>2019-08-12</td>\n",
       "      <td>2019-12-12</td>\n",
       "      <td>2</td>\n",
       "      <td>0</td>\n",
       "      <td>2</td>\n",
       "      <td>0</td>\n",
       "      <td>0</td>\n",
       "      <td>...</td>\n",
       "      <td>Salida</td>\n",
       "      <td>Emx</td>\n",
       "      <td>Mexico</td>\n",
       "      <td>13369.92</td>\n",
       "      <td>1</td>\n",
       "      <td>2019-12-12</td>\n",
       "      <td>True</td>\n",
       "      <td>False</td>\n",
       "      <td>2</td>\n",
       "      <td>0</td>\n",
       "    </tr>\n",
       "  </tbody>\n",
       "</table>\n",
       "<p>5 rows × 49 columns</p>\n",
       "</div>"
      ],
      "text/plain": [
       "\n",
       "   id_reservaciones  fecha_hoy fecha_reservacion fecha_llegada fecha_salida  \\\n",
       "\u001b[1;36m0\u001b[0m                 \u001b[1;36m0\u001b[0m \u001b[1;36m2019\u001b[0m-\u001b[1;36m08\u001b[0m-\u001b[1;36m16\u001b[0m        \u001b[1;36m2019\u001b[0m-\u001b[1;36m08\u001b[0m-\u001b[1;36m16\u001b[0m    \u001b[1;36m2019\u001b[0m-\u001b[1;36m07\u001b[0m-\u001b[1;36m11\u001b[0m   \u001b[1;36m2019\u001b[0m-\u001b[1;36m10\u001b[0m-\u001b[1;36m11\u001b[0m   \n",
       "\u001b[1;36m1\u001b[0m                 \u001b[1;36m1\u001b[0m \u001b[1;36m2019\u001b[0m-\u001b[1;36m10\u001b[0m-\u001b[1;36m22\u001b[0m        \u001b[1;36m2019\u001b[0m-\u001b[1;36m10\u001b[0m-\u001b[1;36m22\u001b[0m    \u001b[1;36m2019\u001b[0m-\u001b[1;36m01\u001b[0m-\u001b[1;36m12\u001b[0m   \u001b[1;36m2019\u001b[0m-\u001b[1;36m05\u001b[0m-\u001b[1;36m12\u001b[0m   \n",
       "\u001b[1;36m2\u001b[0m                 \u001b[1;36m2\u001b[0m \u001b[1;36m2019\u001b[0m-\u001b[1;36m10\u001b[0m-\u001b[1;36m28\u001b[0m        \u001b[1;36m2019\u001b[0m-\u001b[1;36m10\u001b[0m-\u001b[1;36m28\u001b[0m    \u001b[1;36m2019\u001b[0m-\u001b[1;36m01\u001b[0m-\u001b[1;36m12\u001b[0m   \u001b[1;36m2019\u001b[0m-\u001b[1;36m05\u001b[0m-\u001b[1;36m12\u001b[0m   \n",
       "\u001b[1;36m3\u001b[0m                 \u001b[1;36m3\u001b[0m \u001b[1;36m2019\u001b[0m-\u001b[1;36m10\u001b[0m-\u001b[1;36m28\u001b[0m        \u001b[1;36m2019\u001b[0m-\u001b[1;36m10\u001b[0m-\u001b[1;36m28\u001b[0m    \u001b[1;36m2019\u001b[0m-\u001b[1;36m08\u001b[0m-\u001b[1;36m12\u001b[0m   \u001b[1;36m2019\u001b[0m-\u001b[1;36m11\u001b[0m-\u001b[1;36m12\u001b[0m   \n",
       "\u001b[1;36m4\u001b[0m                 \u001b[1;36m4\u001b[0m \u001b[1;36m2019\u001b[0m-\u001b[1;36m10\u001b[0m-\u001b[1;36m28\u001b[0m        \u001b[1;36m2019\u001b[0m-\u001b[1;36m10\u001b[0m-\u001b[1;36m28\u001b[0m    \u001b[1;36m2019\u001b[0m-\u001b[1;36m08\u001b[0m-\u001b[1;36m12\u001b[0m   \u001b[1;36m2019\u001b[0m-\u001b[1;36m12\u001b[0m-\u001b[1;36m12\u001b[0m   \n",
       "\n",
       "   numero_personas  numero_personas_anio_anterior  numero_adultos  \\\n",
       "\u001b[1;36m0\u001b[0m                \u001b[1;36m2\u001b[0m                              \u001b[1;36m0\u001b[0m               \u001b[1;36m2\u001b[0m   \n",
       "\u001b[1;36m1\u001b[0m                \u001b[1;36m4\u001b[0m                              \u001b[1;36m0\u001b[0m               \u001b[1;36m4\u001b[0m   \n",
       "\u001b[1;36m2\u001b[0m                \u001b[1;36m2\u001b[0m                              \u001b[1;36m0\u001b[0m               \u001b[1;36m2\u001b[0m   \n",
       "\u001b[1;36m3\u001b[0m                \u001b[1;36m4\u001b[0m                              \u001b[1;36m0\u001b[0m               \u001b[1;36m3\u001b[0m   \n",
       "\u001b[1;36m4\u001b[0m                \u001b[1;36m2\u001b[0m                              \u001b[1;36m0\u001b[0m               \u001b[1;36m2\u001b[0m   \n",
       "\n",
       "   numero_adultos_anio_anterior  numero_menores  \u001b[33m...\u001b[0m  \\\n",
       "\u001b[1;36m0\u001b[0m                             \u001b[1;36m0\u001b[0m               \u001b[1;36m0\u001b[0m  \u001b[33m...\u001b[0m   \n",
       "\u001b[1;36m1\u001b[0m                             \u001b[1;36m0\u001b[0m               \u001b[1;36m0\u001b[0m  \u001b[33m...\u001b[0m   \n",
       "\u001b[1;36m2\u001b[0m                             \u001b[1;36m0\u001b[0m               \u001b[1;36m0\u001b[0m  \u001b[33m...\u001b[0m   \n",
       "\u001b[1;36m3\u001b[0m                             \u001b[1;36m0\u001b[0m               \u001b[1;36m0\u001b[0m  \u001b[33m...\u001b[0m   \n",
       "\u001b[1;36m4\u001b[0m                             \u001b[1;36m0\u001b[0m               \u001b[1;36m0\u001b[0m  \u001b[33m...\u001b[0m   \n",
       "\n",
       "   nombre_estatus_reservacion  clave_estado  nombre_estado  total_tarifa  \\\n",
       "\u001b[1;36m0\u001b[0m                      Salida           Emx         Mexico       \u001b[1;36m2659.98\u001b[0m   \n",
       "\u001b[1;36m1\u001b[0m                      Salida           Egt     Guanajuato       \u001b[1;36m1764.00\u001b[0m   \n",
       "\u001b[1;36m2\u001b[0m                      Salida           Emc      Michoacan       \u001b[1;36m2660.04\u001b[0m   \n",
       "\u001b[1;36m3\u001b[0m                      Salida           Egt     Guanajuato       \u001b[1;36m1995.03\u001b[0m   \n",
       "\u001b[1;36m4\u001b[0m                      Salida           Emx         Mexico      \u001b[1;36m13369.92\u001b[0m   \n",
       "\n",
       "   id_moneda  fecha_ultimo_cambio reservacion  reservacion_anio_anterior  \\\n",
       "\u001b[1;36m0\u001b[0m          \u001b[1;36m1\u001b[0m           \u001b[1;36m2019\u001b[0m-\u001b[1;36m10\u001b[0m-\u001b[1;36m11\u001b[0m        \u001b[3;92mTrue\u001b[0m                      \u001b[3;91mFalse\u001b[0m   \n",
       "\u001b[1;36m1\u001b[0m          \u001b[1;36m1\u001b[0m           \u001b[1;36m2019\u001b[0m-\u001b[1;36m05\u001b[0m-\u001b[1;36m12\u001b[0m        \u001b[3;92mTrue\u001b[0m                      \u001b[3;91mFalse\u001b[0m   \n",
       "\u001b[1;36m2\u001b[0m          \u001b[1;36m1\u001b[0m           \u001b[1;36m2019\u001b[0m-\u001b[1;36m05\u001b[0m-\u001b[1;36m12\u001b[0m        \u001b[3;92mTrue\u001b[0m                      \u001b[3;91mFalse\u001b[0m   \n",
       "\u001b[1;36m3\u001b[0m          \u001b[1;36m1\u001b[0m           \u001b[1;36m2019\u001b[0m-\u001b[1;36m11\u001b[0m-\u001b[1;36m12\u001b[0m        \u001b[3;92mTrue\u001b[0m                      \u001b[3;91mFalse\u001b[0m   \n",
       "\u001b[1;36m4\u001b[0m          \u001b[1;36m1\u001b[0m           \u001b[1;36m2019\u001b[0m-\u001b[1;36m12\u001b[0m-\u001b[1;36m12\u001b[0m        \u001b[3;92mTrue\u001b[0m                      \u001b[3;91mFalse\u001b[0m   \n",
       "\n",
       "  id_cliente_disp  cliente_disp_anio_anterior  \n",
       "\u001b[1;36m0\u001b[0m               \u001b[1;36m2\u001b[0m                           \u001b[1;36m0\u001b[0m  \n",
       "\u001b[1;36m1\u001b[0m               \u001b[1;36m4\u001b[0m                           \u001b[1;36m0\u001b[0m  \n",
       "\u001b[1;36m2\u001b[0m               \u001b[1;36m2\u001b[0m                           \u001b[1;36m0\u001b[0m  \n",
       "\u001b[1;36m3\u001b[0m               \u001b[1;36m3\u001b[0m                           \u001b[1;36m0\u001b[0m  \n",
       "\u001b[1;36m4\u001b[0m               \u001b[1;36m2\u001b[0m                           \u001b[1;36m0\u001b[0m  \n",
       "\n",
       "\u001b[1m[\u001b[0m\u001b[1;36m5\u001b[0m rows x \u001b[1;36m49\u001b[0m columns\u001b[1m]\u001b[0m"
      ]
     },
     "execution_count": 50,
     "metadata": {},
     "output_type": "execute_result"
    }
   ],
   "source": [
    "df.head()"
   ]
  },
  {
   "cell_type": "markdown",
   "id": "b1469f76",
   "metadata": {},
   "source": [
    "### Data Processing"
   ]
  },
  {
   "cell_type": "markdown",
   "id": "951552ad",
   "metadata": {},
   "source": [
    "#### 0. Target Variable\n",
    "\n",
    "Definition of target varable (cancelacion)"
   ]
  },
  {
   "cell_type": "code",
   "execution_count": 51,
   "id": "c269ee51",
   "metadata": {},
   "outputs": [
    {
     "data": {
      "text/html": [
       "<pre style=\"white-space:pre;overflow-x:auto;line-height:normal;font-family:Menlo,'DejaVu Sans Mono',consolas,'Courier New',monospace\"></pre>\n"
      ],
      "text/plain": []
     },
     "metadata": {},
     "output_type": "display_data"
    },
    {
     "data": {
      "application/vnd.microsoft.datawrangler.viewer.v0+json": {
       "columns": [
        {
         "name": "cancelacion",
         "rawType": "int64",
         "type": "integer"
        },
        {
         "name": "count",
         "rawType": "int64",
         "type": "integer"
        }
       ],
       "ref": "d68c778b-5732-4709-9c28-26186e28342a",
       "rows": [
        [
         "0",
         "169194"
        ],
        [
         "1",
         "33297"
        ]
       ],
       "shape": {
        "columns": 1,
        "rows": 2
       }
      },
      "text/plain": [
       "\n",
       "cancelacion\n",
       "\u001b[1;36m0\u001b[0m    \u001b[1;36m169194\u001b[0m\n",
       "\u001b[1;36m1\u001b[0m     \u001b[1;36m33297\u001b[0m\n",
       "Name: count, dtype: int64"
      ]
     },
     "execution_count": 51,
     "metadata": {},
     "output_type": "execute_result"
    }
   ],
   "source": [
    "df_tv = df.copy() # Copy of last dataset\n",
    "\n",
    "df_tv['cancelacion'] = df_tv[\"nombre_estatus_reservacion\"].apply(lambda x: 1 if x == 'Reservacion Cancelada' else 0)\n",
    "\n",
    "# Value counts of target variable\n",
    "df_tv['cancelacion'].value_counts()"
   ]
  },
  {
   "cell_type": "markdown",
   "id": "52d0670f",
   "metadata": {},
   "source": [
    "#### 1. Filter variables\n",
    "\n",
    "Filter the variables that will be used by the model."
   ]
  },
  {
   "cell_type": "code",
   "execution_count": 52,
   "id": "498bc64b",
   "metadata": {},
   "outputs": [
    {
     "data": {
      "text/html": [
       "<pre style=\"white-space:pre;overflow-x:auto;line-height:normal;font-family:Menlo,'DejaVu Sans Mono',consolas,'Courier New',monospace\"></pre>\n"
      ],
      "text/plain": []
     },
     "metadata": {},
     "output_type": "display_data"
    },
    {
     "data": {
      "application/vnd.microsoft.datawrangler.viewer.v0+json": {
       "columns": [
        {
         "name": "index",
         "rawType": "int64",
         "type": "integer"
        },
        {
         "name": "nombre_paquete",
         "rawType": "object",
         "type": "string"
        },
        {
         "name": "ciudad_agencia",
         "rawType": "object",
         "type": "string"
        },
        {
         "name": "nombre_tipo_habitacion",
         "rawType": "object",
         "type": "string"
        },
        {
         "name": "nombre_canal",
         "rawType": "object",
         "type": "string"
        },
        {
         "name": "nombre_estado",
         "rawType": "object",
         "type": "string"
        },
        {
         "name": "cancelacion",
         "rawType": "int64",
         "type": "integer"
        }
       ],
       "ref": "c2871571-65ee-4e5b-a8e8-b59dc8754a8e",
       "rows": [
        [
         "0",
         "Walk In",
         "Mexico City",
         "Estd 2Q Sn12Mst",
         "Multivacaciones 2",
         "Mexico",
         "0"
        ],
        [
         "1",
         "Ninguno",
         "Mexico City",
         "Estd 2Q Sn12Mst",
         "Multivacaciones 2",
         "Guanajuato",
         "0"
        ],
        [
         "2",
         "Walk In",
         "Mexico City",
         "Jr Suite 1K Sn12Mjs",
         "Multivacaciones 2",
         "Michoacan",
         "0"
        ],
        [
         "3",
         "Ninguno",
         "Mexico City",
         "Jr Suite 2Q Sn12Mjs",
         "Multivacaciones 2",
         "Guanajuato",
         "0"
        ],
        [
         "4",
         "Walk In",
         "Cancun",
         "Luxury 2Q Sn12Gsu",
         "Vertical Booking",
         "Mexico",
         "0"
        ]
       ],
       "shape": {
        "columns": 6,
        "rows": 5
       }
      },
      "text/html": [
       "<div>\n",
       "<style scoped>\n",
       "    .dataframe tbody tr th:only-of-type {\n",
       "        vertical-align: middle;\n",
       "    }\n",
       "\n",
       "    .dataframe tbody tr th {\n",
       "        vertical-align: top;\n",
       "    }\n",
       "\n",
       "    .dataframe thead th {\n",
       "        text-align: right;\n",
       "    }\n",
       "</style>\n",
       "<table border=\"1\" class=\"dataframe\">\n",
       "  <thead>\n",
       "    <tr style=\"text-align: right;\">\n",
       "      <th></th>\n",
       "      <th>nombre_paquete</th>\n",
       "      <th>ciudad_agencia</th>\n",
       "      <th>nombre_tipo_habitacion</th>\n",
       "      <th>nombre_canal</th>\n",
       "      <th>nombre_estado</th>\n",
       "      <th>cancelacion</th>\n",
       "    </tr>\n",
       "  </thead>\n",
       "  <tbody>\n",
       "    <tr>\n",
       "      <th>0</th>\n",
       "      <td>Walk In</td>\n",
       "      <td>Mexico City</td>\n",
       "      <td>Estd 2Q Sn12Mst</td>\n",
       "      <td>Multivacaciones 2</td>\n",
       "      <td>Mexico</td>\n",
       "      <td>0</td>\n",
       "    </tr>\n",
       "    <tr>\n",
       "      <th>1</th>\n",
       "      <td>Ninguno</td>\n",
       "      <td>Mexico City</td>\n",
       "      <td>Estd 2Q Sn12Mst</td>\n",
       "      <td>Multivacaciones 2</td>\n",
       "      <td>Guanajuato</td>\n",
       "      <td>0</td>\n",
       "    </tr>\n",
       "    <tr>\n",
       "      <th>2</th>\n",
       "      <td>Walk In</td>\n",
       "      <td>Mexico City</td>\n",
       "      <td>Jr Suite 1K Sn12Mjs</td>\n",
       "      <td>Multivacaciones 2</td>\n",
       "      <td>Michoacan</td>\n",
       "      <td>0</td>\n",
       "    </tr>\n",
       "    <tr>\n",
       "      <th>3</th>\n",
       "      <td>Ninguno</td>\n",
       "      <td>Mexico City</td>\n",
       "      <td>Jr Suite 2Q Sn12Mjs</td>\n",
       "      <td>Multivacaciones 2</td>\n",
       "      <td>Guanajuato</td>\n",
       "      <td>0</td>\n",
       "    </tr>\n",
       "    <tr>\n",
       "      <th>4</th>\n",
       "      <td>Walk In</td>\n",
       "      <td>Cancun</td>\n",
       "      <td>Luxury 2Q Sn12Gsu</td>\n",
       "      <td>Vertical Booking</td>\n",
       "      <td>Mexico</td>\n",
       "      <td>0</td>\n",
       "    </tr>\n",
       "  </tbody>\n",
       "</table>\n",
       "</div>"
      ],
      "text/plain": [
       "\n",
       "  nombre_paquete ciudad_agencia nombre_tipo_habitacion       nombre_canal  \\\n",
       "\u001b[1;36m0\u001b[0m        Walk In    Mexico City        Estd 2Q Sn12Mst  Multivacaciones \u001b[1;36m2\u001b[0m   \n",
       "\u001b[1;36m1\u001b[0m        Ninguno    Mexico City        Estd 2Q Sn12Mst  Multivacaciones \u001b[1;36m2\u001b[0m   \n",
       "\u001b[1;36m2\u001b[0m        Walk In    Mexico City    Jr Suite 1K Sn12Mjs  Multivacaciones \u001b[1;36m2\u001b[0m   \n",
       "\u001b[1;36m3\u001b[0m        Ninguno    Mexico City    Jr Suite 2Q Sn12Mjs  Multivacaciones \u001b[1;36m2\u001b[0m   \n",
       "\u001b[1;36m4\u001b[0m        Walk In         Cancun      Luxury 2Q Sn12Gsu   Vertical Booking   \n",
       "\n",
       "  nombre_estado  cancelacion  \n",
       "\u001b[1;36m0\u001b[0m        Mexico            \u001b[1;36m0\u001b[0m  \n",
       "\u001b[1;36m1\u001b[0m    Guanajuato            \u001b[1;36m0\u001b[0m  \n",
       "\u001b[1;36m2\u001b[0m     Michoacan            \u001b[1;36m0\u001b[0m  \n",
       "\u001b[1;36m3\u001b[0m    Guanajuato            \u001b[1;36m0\u001b[0m  \n",
       "\u001b[1;36m4\u001b[0m        Mexico            \u001b[1;36m0\u001b[0m  "
      ]
     },
     "execution_count": 52,
     "metadata": {},
     "output_type": "execute_result"
    }
   ],
   "source": [
    "model_variables =['nombre_paquete',\n",
    "                  'ciudad_agencia',\n",
    "                  'nombre_tipo_habitacion',\n",
    "                  'nombre_canal',\n",
    "                  'nombre_estado',\n",
    "                  #'hist_menores',\n",
    "                  #'hist_total_habitaciones'\n",
    "                  ]\n",
    "\n",
    "# Model variables and target variable\n",
    "df_fv = df_tv.copy()[model_variables+['cancelacion']]\n",
    "\n",
    "df_fv.head()"
   ]
  },
  {
   "cell_type": "markdown",
   "id": "9c435392",
   "metadata": {},
   "source": [
    "#### 2. Clean spaces"
   ]
  },
  {
   "cell_type": "code",
   "execution_count": 53,
   "id": "ad4f6131",
   "metadata": {},
   "outputs": [],
   "source": [
    "def clean_spaces(obj):\n",
    "    if isinstance(obj, dict):\n",
    "        return {k: clean_spaces(v) for k, v in obj.items()}\n",
    "    elif isinstance(obj, list):\n",
    "        return [clean_spaces(elem) for elem in obj]\n",
    "    elif isinstance(obj, pd.Series):\n",
    "        return obj.apply(clean_spaces)\n",
    "    elif isinstance(obj, pd.DataFrame):\n",
    "        return obj.map(clean_spaces)\n",
    "    elif isinstance(obj, str):\n",
    "        return ' '.join(obj.split())\n",
    "    else:\n",
    "        return obj"
   ]
  },
  {
   "cell_type": "code",
   "execution_count": 54,
   "id": "956d208e",
   "metadata": {},
   "outputs": [
    {
     "data": {
      "text/html": [
       "<pre style=\"white-space:pre;overflow-x:auto;line-height:normal;font-family:Menlo,'DejaVu Sans Mono',consolas,'Courier New',monospace\"></pre>\n"
      ],
      "text/plain": []
     },
     "metadata": {},
     "output_type": "display_data"
    },
    {
     "data": {
      "text/plain": [
       "\u001b[1;35mIndex\u001b[0m\u001b[1m(\u001b[0m\u001b[1m[\u001b[0m\u001b[32m'Walk In'\u001b[0m, \u001b[32m'Ninguno'\u001b[0m, \u001b[32m'Entre Semana'\u001b[0m, \u001b[32m'Lunamielero'\u001b[0m, \u001b[32m'Fin De Semana'\u001b[0m\u001b[1m]\u001b[0m, \u001b[33mdtype\u001b[0m=\u001b[32m'object'\u001b[0m, \u001b[33mname\u001b[0m=\u001b[32m'nombre_paquete'\u001b[0m\u001b[1m)\u001b[0m"
      ]
     },
     "execution_count": 54,
     "metadata": {},
     "output_type": "execute_result"
    }
   ],
   "source": [
    "df_cs = df_fv.copy()\n",
    "df_cs = clean_spaces(df_cs)\n",
    "df_cs.nombre_paquete.value_counts().index"
   ]
  },
  {
   "cell_type": "markdown",
   "id": "d881de7e",
   "metadata": {},
   "source": [
    "#### 3. Transform categorical variables"
   ]
  },
  {
   "cell_type": "code",
   "execution_count": 55,
   "id": "8ead18f0",
   "metadata": {},
   "outputs": [
    {
     "data": {
      "text/html": [
       "<pre style=\"white-space:pre;overflow-x:auto;line-height:normal;font-family:Menlo,'DejaVu Sans Mono',consolas,'Courier New',monospace\"></pre>\n"
      ],
      "text/plain": []
     },
     "metadata": {},
     "output_type": "display_data"
    },
    {
     "data": {
      "application/vnd.microsoft.datawrangler.viewer.v0+json": {
       "columns": [
        {
         "name": "index",
         "rawType": "int64",
         "type": "integer"
        },
        {
         "name": "nombre_paquete",
         "rawType": "float64",
         "type": "float"
        },
        {
         "name": "ciudad_agencia",
         "rawType": "float64",
         "type": "float"
        },
        {
         "name": "nombre_tipo_habitacion",
         "rawType": "float64",
         "type": "float"
        },
        {
         "name": "nombre_canal",
         "rawType": "float64",
         "type": "float"
        },
        {
         "name": "nombre_estado",
         "rawType": "float64",
         "type": "float"
        },
        {
         "name": "cancelacion",
         "rawType": "int64",
         "type": "integer"
        }
       ],
       "ref": "8f1fefe1-0be9-4204-8d6e-f14930bbab46",
       "rows": [
        [
         "0",
         "0.8825",
         "0.3008",
         "0.0899",
         "0.163",
         "0.0689",
         "0"
        ],
        [
         "1",
         "0.1174",
         "0.3008",
         "0.0899",
         "0.163",
         "0.0331",
         "0"
        ],
        [
         "2",
         "0.8825",
         "0.3008",
         "0.0489",
         "0.163",
         "0.0812",
         "0"
        ],
        [
         "3",
         "0.1174",
         "0.3008",
         "0.024",
         "0.163",
         "0.0331",
         "0"
        ],
        [
         "4",
         "0.8825",
         "0.175",
         "0.2974",
         "0.0184",
         "0.0689",
         "0"
        ]
       ],
       "shape": {
        "columns": 6,
        "rows": 5
       }
      },
      "text/html": [
       "<div>\n",
       "<style scoped>\n",
       "    .dataframe tbody tr th:only-of-type {\n",
       "        vertical-align: middle;\n",
       "    }\n",
       "\n",
       "    .dataframe tbody tr th {\n",
       "        vertical-align: top;\n",
       "    }\n",
       "\n",
       "    .dataframe thead th {\n",
       "        text-align: right;\n",
       "    }\n",
       "</style>\n",
       "<table border=\"1\" class=\"dataframe\">\n",
       "  <thead>\n",
       "    <tr style=\"text-align: right;\">\n",
       "      <th></th>\n",
       "      <th>nombre_paquete</th>\n",
       "      <th>ciudad_agencia</th>\n",
       "      <th>nombre_tipo_habitacion</th>\n",
       "      <th>nombre_canal</th>\n",
       "      <th>nombre_estado</th>\n",
       "      <th>cancelacion</th>\n",
       "    </tr>\n",
       "  </thead>\n",
       "  <tbody>\n",
       "    <tr>\n",
       "      <th>0</th>\n",
       "      <td>0.8825</td>\n",
       "      <td>0.3008</td>\n",
       "      <td>0.0899</td>\n",
       "      <td>0.1630</td>\n",
       "      <td>0.0689</td>\n",
       "      <td>0</td>\n",
       "    </tr>\n",
       "    <tr>\n",
       "      <th>1</th>\n",
       "      <td>0.1174</td>\n",
       "      <td>0.3008</td>\n",
       "      <td>0.0899</td>\n",
       "      <td>0.1630</td>\n",
       "      <td>0.0331</td>\n",
       "      <td>0</td>\n",
       "    </tr>\n",
       "    <tr>\n",
       "      <th>2</th>\n",
       "      <td>0.8825</td>\n",
       "      <td>0.3008</td>\n",
       "      <td>0.0489</td>\n",
       "      <td>0.1630</td>\n",
       "      <td>0.0812</td>\n",
       "      <td>0</td>\n",
       "    </tr>\n",
       "    <tr>\n",
       "      <th>3</th>\n",
       "      <td>0.1174</td>\n",
       "      <td>0.3008</td>\n",
       "      <td>0.0240</td>\n",
       "      <td>0.1630</td>\n",
       "      <td>0.0331</td>\n",
       "      <td>0</td>\n",
       "    </tr>\n",
       "    <tr>\n",
       "      <th>4</th>\n",
       "      <td>0.8825</td>\n",
       "      <td>0.1750</td>\n",
       "      <td>0.2974</td>\n",
       "      <td>0.0184</td>\n",
       "      <td>0.0689</td>\n",
       "      <td>0</td>\n",
       "    </tr>\n",
       "  </tbody>\n",
       "</table>\n",
       "</div>"
      ],
      "text/plain": [
       "\n",
       "   nombre_paquete  ciudad_agencia  nombre_tipo_habitacion  nombre_canal  \\\n",
       "\u001b[1;36m0\u001b[0m          \u001b[1;36m0.8825\u001b[0m          \u001b[1;36m0.3008\u001b[0m                  \u001b[1;36m0.0899\u001b[0m        \u001b[1;36m0.1630\u001b[0m   \n",
       "\u001b[1;36m1\u001b[0m          \u001b[1;36m0.1174\u001b[0m          \u001b[1;36m0.3008\u001b[0m                  \u001b[1;36m0.0899\u001b[0m        \u001b[1;36m0.1630\u001b[0m   \n",
       "\u001b[1;36m2\u001b[0m          \u001b[1;36m0.8825\u001b[0m          \u001b[1;36m0.3008\u001b[0m                  \u001b[1;36m0.0489\u001b[0m        \u001b[1;36m0.1630\u001b[0m   \n",
       "\u001b[1;36m3\u001b[0m          \u001b[1;36m0.1174\u001b[0m          \u001b[1;36m0.3008\u001b[0m                  \u001b[1;36m0.0240\u001b[0m        \u001b[1;36m0.1630\u001b[0m   \n",
       "\u001b[1;36m4\u001b[0m          \u001b[1;36m0.8825\u001b[0m          \u001b[1;36m0.1750\u001b[0m                  \u001b[1;36m0.2974\u001b[0m        \u001b[1;36m0.0184\u001b[0m   \n",
       "\n",
       "   nombre_estado  cancelacion  \n",
       "\u001b[1;36m0\u001b[0m         \u001b[1;36m0.0689\u001b[0m            \u001b[1;36m0\u001b[0m  \n",
       "\u001b[1;36m1\u001b[0m         \u001b[1;36m0.0331\u001b[0m            \u001b[1;36m0\u001b[0m  \n",
       "\u001b[1;36m2\u001b[0m         \u001b[1;36m0.0812\u001b[0m            \u001b[1;36m0\u001b[0m  \n",
       "\u001b[1;36m3\u001b[0m         \u001b[1;36m0.0331\u001b[0m            \u001b[1;36m0\u001b[0m  \n",
       "\u001b[1;36m4\u001b[0m         \u001b[1;36m0.0689\u001b[0m            \u001b[1;36m0\u001b[0m  "
      ]
     },
     "execution_count": 55,
     "metadata": {},
     "output_type": "execute_result"
    }
   ],
   "source": [
    "df_tcv = df_cs.copy()\n",
    "\n",
    "# Subset of dataset containing only records with canceled reservations\n",
    "df_cancelations = df_tcv[df_tcv.cancelacion == 1]\n",
    "\n",
    "\n",
    "# Function\n",
    "def calcular_peso_columna(dfx, columna, nombre_columna_resultado=None):\n",
    "    # Usar nombre_columna_resultado o columna si no se especifica\n",
    "    nombre_columna_resultado = nombre_columna_resultado or columna\n",
    "\n",
    "    # Calcular conteos de valores únicos (convertidos a string para evitar problemas con tipos mixtos)\n",
    "    conteos = dfx[columna].astype(str).value_counts()\n",
    "\n",
    "    # Crear DataFrame resultado directamente desde la Serie conteos\n",
    "    peso = conteos.rename_axis(nombre_columna_resultado).reset_index(name='conteo')\n",
    "\n",
    "    # Calcular proporción en porcentaje con 3 decimales\n",
    "    peso['proporcion'] = (peso['conteo'] / peso['conteo'].sum()).round(4)\n",
    "\n",
    "    return peso\n",
    "\n",
    "\n",
    "# Diccionario con pesos para cada columna, limpiando '#_' del nombre para la clave\n",
    "pesos = {\n",
    "    f\"peso_{col}\": calcular_peso_columna(dfx=df_cancelations, columna=col)\n",
    "    for col in model_variables\n",
    "}\n",
    "\n",
    "# Convertir pesos a diccionario json\n",
    "dict_pesos = {k: v.to_dict(orient='records') for k, v in pesos.items()}\n",
    "\n",
    "\n",
    "# Reemplaza los valores en el df con los pesos asignados a cada variable del diccionario\n",
    "for col in model_variables:\n",
    "    nombre_peso = f\"peso_{col}\"\n",
    "\n",
    "    if nombre_peso in pesos:\n",
    "        # Mapear valores directamente usando Series para mejor rendimiento\n",
    "        #mapa = pesos[nombre_peso].set_index(col)['proporcion']\n",
    "        mapa = pd.Series({item[col]: item['proporcion'] for item in dict_pesos[nombre_peso]})\n",
    "        df_tcv[col] = df_tcv[col].astype(str).map(mapa)\n",
    "\n",
    "\n",
    "df_tcv.head()"
   ]
  },
  {
   "cell_type": "markdown",
   "id": "74c1a42b",
   "metadata": {},
   "source": [
    "**Save dict_pesos as json**"
   ]
  },
  {
   "cell_type": "code",
   "execution_count": 56,
   "id": "fa9c6efd",
   "metadata": {},
   "outputs": [],
   "source": [
    "# save dict_json as json file with asci encoding in thi s notebook folder\n",
    "with open(\"pesos_variables.json\", \"w\", encoding=\"utf-8\") as f:\n",
    "    import json\n",
    "    json.dump(dict_pesos, f, ensure_ascii=False, indent=4)\n"
   ]
  },
  {
   "cell_type": "markdown",
   "id": "2f721e44",
   "metadata": {},
   "source": [
    "**Test read dict_pesos json file and update categorical columns for testing**"
   ]
  },
  {
   "cell_type": "code",
   "execution_count": 57,
   "id": "c296cde5",
   "metadata": {},
   "outputs": [
    {
     "data": {
      "text/html": [
       "<pre style=\"white-space:pre;overflow-x:auto;line-height:normal;font-family:Menlo,'DejaVu Sans Mono',consolas,'Courier New',monospace\"></pre>\n"
      ],
      "text/plain": []
     },
     "metadata": {},
     "output_type": "display_data"
    },
    {
     "data": {
      "application/vnd.microsoft.datawrangler.viewer.v0+json": {
       "columns": [
        {
         "name": "index",
         "rawType": "int64",
         "type": "integer"
        },
        {
         "name": "nombre_paquete",
         "rawType": "float64",
         "type": "float"
        },
        {
         "name": "ciudad_agencia",
         "rawType": "float64",
         "type": "float"
        },
        {
         "name": "nombre_tipo_habitacion",
         "rawType": "float64",
         "type": "float"
        },
        {
         "name": "nombre_canal",
         "rawType": "float64",
         "type": "float"
        },
        {
         "name": "nombre_estado",
         "rawType": "float64",
         "type": "float"
        },
        {
         "name": "cancelacion",
         "rawType": "int64",
         "type": "integer"
        }
       ],
       "ref": "52be5b68-7f91-4330-89fe-8ad0de1a4979",
       "rows": [
        [
         "0",
         "0.8825",
         "0.3008",
         "0.0899",
         "0.163",
         "0.0689",
         "0"
        ],
        [
         "1",
         "0.1174",
         "0.3008",
         "0.0899",
         "0.163",
         "0.0331",
         "0"
        ],
        [
         "2",
         "0.8825",
         "0.3008",
         "0.0489",
         "0.163",
         "0.0812",
         "0"
        ],
        [
         "3",
         "0.1174",
         "0.3008",
         "0.024",
         "0.163",
         "0.0331",
         "0"
        ],
        [
         "4",
         "0.8825",
         "0.175",
         "0.2974",
         "0.0184",
         "0.0689",
         "0"
        ]
       ],
       "shape": {
        "columns": 6,
        "rows": 5
       }
      },
      "text/html": [
       "<div>\n",
       "<style scoped>\n",
       "    .dataframe tbody tr th:only-of-type {\n",
       "        vertical-align: middle;\n",
       "    }\n",
       "\n",
       "    .dataframe tbody tr th {\n",
       "        vertical-align: top;\n",
       "    }\n",
       "\n",
       "    .dataframe thead th {\n",
       "        text-align: right;\n",
       "    }\n",
       "</style>\n",
       "<table border=\"1\" class=\"dataframe\">\n",
       "  <thead>\n",
       "    <tr style=\"text-align: right;\">\n",
       "      <th></th>\n",
       "      <th>nombre_paquete</th>\n",
       "      <th>ciudad_agencia</th>\n",
       "      <th>nombre_tipo_habitacion</th>\n",
       "      <th>nombre_canal</th>\n",
       "      <th>nombre_estado</th>\n",
       "      <th>cancelacion</th>\n",
       "    </tr>\n",
       "  </thead>\n",
       "  <tbody>\n",
       "    <tr>\n",
       "      <th>0</th>\n",
       "      <td>0.8825</td>\n",
       "      <td>0.3008</td>\n",
       "      <td>0.0899</td>\n",
       "      <td>0.1630</td>\n",
       "      <td>0.0689</td>\n",
       "      <td>0</td>\n",
       "    </tr>\n",
       "    <tr>\n",
       "      <th>1</th>\n",
       "      <td>0.1174</td>\n",
       "      <td>0.3008</td>\n",
       "      <td>0.0899</td>\n",
       "      <td>0.1630</td>\n",
       "      <td>0.0331</td>\n",
       "      <td>0</td>\n",
       "    </tr>\n",
       "    <tr>\n",
       "      <th>2</th>\n",
       "      <td>0.8825</td>\n",
       "      <td>0.3008</td>\n",
       "      <td>0.0489</td>\n",
       "      <td>0.1630</td>\n",
       "      <td>0.0812</td>\n",
       "      <td>0</td>\n",
       "    </tr>\n",
       "    <tr>\n",
       "      <th>3</th>\n",
       "      <td>0.1174</td>\n",
       "      <td>0.3008</td>\n",
       "      <td>0.0240</td>\n",
       "      <td>0.1630</td>\n",
       "      <td>0.0331</td>\n",
       "      <td>0</td>\n",
       "    </tr>\n",
       "    <tr>\n",
       "      <th>4</th>\n",
       "      <td>0.8825</td>\n",
       "      <td>0.1750</td>\n",
       "      <td>0.2974</td>\n",
       "      <td>0.0184</td>\n",
       "      <td>0.0689</td>\n",
       "      <td>0</td>\n",
       "    </tr>\n",
       "  </tbody>\n",
       "</table>\n",
       "</div>"
      ],
      "text/plain": [
       "\n",
       "   nombre_paquete  ciudad_agencia  nombre_tipo_habitacion  nombre_canal  \\\n",
       "\u001b[1;36m0\u001b[0m          \u001b[1;36m0.8825\u001b[0m          \u001b[1;36m0.3008\u001b[0m                  \u001b[1;36m0.0899\u001b[0m        \u001b[1;36m0.1630\u001b[0m   \n",
       "\u001b[1;36m1\u001b[0m          \u001b[1;36m0.1174\u001b[0m          \u001b[1;36m0.3008\u001b[0m                  \u001b[1;36m0.0899\u001b[0m        \u001b[1;36m0.1630\u001b[0m   \n",
       "\u001b[1;36m2\u001b[0m          \u001b[1;36m0.8825\u001b[0m          \u001b[1;36m0.3008\u001b[0m                  \u001b[1;36m0.0489\u001b[0m        \u001b[1;36m0.1630\u001b[0m   \n",
       "\u001b[1;36m3\u001b[0m          \u001b[1;36m0.1174\u001b[0m          \u001b[1;36m0.3008\u001b[0m                  \u001b[1;36m0.0240\u001b[0m        \u001b[1;36m0.1630\u001b[0m   \n",
       "\u001b[1;36m4\u001b[0m          \u001b[1;36m0.8825\u001b[0m          \u001b[1;36m0.1750\u001b[0m                  \u001b[1;36m0.2974\u001b[0m        \u001b[1;36m0.0184\u001b[0m   \n",
       "\n",
       "   nombre_estado  cancelacion  \n",
       "\u001b[1;36m0\u001b[0m         \u001b[1;36m0.0689\u001b[0m            \u001b[1;36m0\u001b[0m  \n",
       "\u001b[1;36m1\u001b[0m         \u001b[1;36m0.0331\u001b[0m            \u001b[1;36m0\u001b[0m  \n",
       "\u001b[1;36m2\u001b[0m         \u001b[1;36m0.0812\u001b[0m            \u001b[1;36m0\u001b[0m  \n",
       "\u001b[1;36m3\u001b[0m         \u001b[1;36m0.0331\u001b[0m            \u001b[1;36m0\u001b[0m  \n",
       "\u001b[1;36m4\u001b[0m         \u001b[1;36m0.0689\u001b[0m            \u001b[1;36m0\u001b[0m  "
      ]
     },
     "execution_count": 57,
     "metadata": {},
     "output_type": "execute_result"
    }
   ],
   "source": [
    "# Test read dict_pesos json file and update categorical columns for testing\n",
    "with open('pesos_variables.json') as f:\n",
    "    dict_pesos = json.load(f)\n",
    "\n",
    "# Test dataset\n",
    "df_json_test = df_fv.copy()\n",
    "\n",
    "\n",
    "# Update categorical columns in df_tcv with the weights from dict_pesos\n",
    "for col in model_variables:\n",
    "    col_name = \"peso_\"+col\n",
    "    if col_name in dict_pesos:\n",
    "        # Mapear valores directamente usando Series para mejor rendimiento\n",
    "        mapa = pd.Series({item[col]: item['proporcion'] for item in dict_pesos[col_name]})\n",
    "        df_json_test[col] = df_json_test[col].astype(str).map(mapa)\n",
    "\n",
    "df_json_test.fillna(0, inplace=True)  # Fill NaN values with 0\n",
    "\n",
    "df_json_test.head()"
   ]
  },
  {
   "cell_type": "markdown",
   "id": "437842d5",
   "metadata": {},
   "source": [
    "*df_cancelations don't have all the values that has df_tcv; this \"label encoding\" may fail*"
   ]
  },
  {
   "cell_type": "markdown",
   "id": "5ffb451d",
   "metadata": {},
   "source": [
    "### Model"
   ]
  },
  {
   "cell_type": "code",
   "execution_count": 58,
   "id": "f9b30ef5",
   "metadata": {},
   "outputs": [
    {
     "data": {
      "text/html": [
       "<pre style=\"white-space:pre;overflow-x:auto;line-height:normal;font-family:Menlo,'DejaVu Sans Mono',consolas,'Courier New',monospace\"></pre>\n"
      ],
      "text/plain": []
     },
     "metadata": {},
     "output_type": "display_data"
    },
    {
     "data": {
      "text/plain": [
       "\u001b[1;35mnp.int64\u001b[0m\u001b[1m(\u001b[0m\u001b[1;36m0\u001b[0m\u001b[1m)\u001b[0m"
      ]
     },
     "execution_count": 58,
     "metadata": {},
     "output_type": "execute_result"
    }
   ],
   "source": [
    "df_model = df_tcv.copy()\n",
    "\n",
    "df_model.dropna(axis=0, inplace=True)\n",
    "df_model.isna().sum().sum()"
   ]
  },
  {
   "cell_type": "markdown",
   "id": "928b0b50",
   "metadata": {},
   "source": [
    "**Split variables**"
   ]
  },
  {
   "cell_type": "code",
   "execution_count": 59,
   "id": "e08402df",
   "metadata": {},
   "outputs": [
    {
     "name": "stdout",
     "output_type": "stream",
     "text": [
      "(159850, 5)\n",
      "(159850,)\n",
      "(39963, 5)\n",
      "(39963,)\n"
     ]
    }
   ],
   "source": [
    "X = df_model[model_variables]\n",
    "y = df_model[\"cancelacion\"]\n",
    "\n",
    "X_train, X_test, y_train, y_test = train_test_split(X, y, test_size=0.2, random_state=42)\n",
    "\n",
    "print(X_train.shape)\n",
    "print(y_train.shape)\n",
    "print(X_test.shape)\n",
    "print(y_test.shape)"
   ]
  },
  {
   "cell_type": "code",
   "execution_count": 60,
   "id": "4bda1427",
   "metadata": {},
   "outputs": [
    {
     "data": {
      "text/html": [
       "<pre style=\"white-space:pre;overflow-x:auto;line-height:normal;font-family:Menlo,'DejaVu Sans Mono',consolas,'Courier New',monospace\"></pre>\n"
      ],
      "text/plain": []
     },
     "metadata": {},
     "output_type": "display_data"
    },
    {
     "data": {
      "image/png": "[encoded data removed]",
      "text/plain": [
       "\u001b[1m<\u001b[0m\u001b[1;95mFigure\u001b[0m\u001b[39m size 64\u001b[0m\u001b[1;36m0x480\u001b[0m\u001b[39m with \u001b[0m\u001b[1;36m1\u001b[0m\u001b[39m Axes\u001b[0m\u001b[1m>\u001b[0m"
      ]
     },
     "metadata": {},
     "output_type": "display_data"
    }
   ],
   "source": [
    "y_train.value_counts().plot.bar()\n",
    "plt.title(\"Distribution of target variable in training set\")\n",
    "plt.xticks([0, 1], ['No Cancellation', 'Cancellation'], rotation=0)\n",
    "# add the number in percentage on top of the bars\n",
    "for i, v in enumerate(y_train.value_counts()):\n",
    "    plt.text(i, v + 10, f\"{v / len(y_train) * 100:.2f}%\", ha='center')\n",
    "plt.show()"
   ]
  },
  {
   "cell_type": "markdown",
   "id": "3d2de15f",
   "metadata": {},
   "source": [
    "**Train and evaluate**"
   ]
  },
  {
   "cell_type": "code",
   "execution_count": 61,
   "id": "59ae4176",
   "metadata": {},
   "outputs": [],
   "source": [
    "# Entrenar el modelo\n",
    "xgb_model = XGBClassifier(\n",
    "    n_estimators=100,\n",
    "    max_depth=6,\n",
    "    learning_rate=0.1,\n",
    "    scale_pos_weight=(len(y_train[y_train == 0]) / len(y_train[y_train == 1])),\n",
    "    #use_label_encoder=False,\n",
    "    eval_metric='logloss',\n",
    "    random_state=42\n",
    ")\n",
    "\n",
    "xgb_model.fit(X_train, y_train);"
   ]
  },
  {
   "cell_type": "markdown",
   "id": "96e172cf",
   "metadata": {},
   "source": [
    "**scale_pos_weight**\n",
    "\n",
    "* Multiplies the gradients (errors) of the positive class by the scale_pos_weight value.\n",
    "* This gives errors in the positive class greater weight during optimization, incentivizing the model to correct them more aggressively."
   ]
  },
  {
   "cell_type": "markdown",
   "id": "14e02366",
   "metadata": {},
   "source": [
    "### Evaluation"
   ]
  },
  {
   "cell_type": "code",
   "execution_count": 62,
   "id": "d87eea3c",
   "metadata": {},
   "outputs": [
    {
     "name": "stdout",
     "output_type": "stream",
     "text": [
      "                 precision    recall  f1-score   support\n",
      "\n",
      "No Cancellation       0.97      0.89      0.93     33219\n",
      "   Cancellation       0.63      0.88      0.73      6744\n",
      "\n",
      "       accuracy                           0.89     39963\n",
      "      macro avg       0.80      0.89      0.83     39963\n",
      "   weighted avg       0.91      0.89      0.90     39963\n",
      "\n"
     ]
    }
   ],
   "source": [
    "y_pred = xgb_model.predict(X_test)\n",
    "\n",
    "print(classification_report(y_test, y_pred, target_names=['No Cancellation', 'Cancellation']))"
   ]
  },
  {
   "cell_type": "markdown",
   "id": "e63857ed",
   "metadata": {},
   "source": [
    "**Classification Report**\n",
    "* **Precision:** Proportion of correct positive predictions over all positive predictions. -> Of all the customers the model predicted would cancel, how many actually canceled. High precision means few false alarms.\n",
    "* **Recall:** Proportion of correctly detected positive cases. -> Of all the customers who actually canceled, how many did the model detect. High recall means few false negatives (not missing real cancellations).\n",
    "* **F1-Score:** Harmonic mean of precision and recall, balancing the two.\n",
    "-> Useful metric when you want a balance between precision and recall.\n",
    "* **Support:** Number of real examples of each class in the test set.\n",
    "* **accuracy:** Total percentage of correct predictions.\n",
    "* **macro avg:** Unweighted average of the per-class metrics (0 and 1).\n",
    "* **weighted avg:** Weighted average by the support (number of examples) of each class.\n",
    "\n",
    "---\n",
    "\n",
    "Interpretation of our ressults\n",
    "\n",
    "Class 0 (No Cancellations):\n",
    "\n",
    "* Precision (0.97): Of all \"Did Not Cancel\" predictions, 97% were correct. Very few false alarms.\n",
    "* Recall (0.89): Detected 89% of actual \"Did Not Cancel\" cases. 11% were missed (false negatives).\n",
    "* F1-Score (0.93): Excellent balance between precision and recall.\n",
    "\n",
    "Class 1 (Cancellations):\n",
    "* Precision (0.63): Of the \"Canceled\" predictions, only 63% were correct. Many false alarms (FP).\n",
    "* Recall (0.88): **Detected 88% of actual cancellations.** Good performance in identifying positive cases.\n",
    "* F1-Score (0.73): Acceptable balance, but limited by low precision."
   ]
  },
  {
   "cell_type": "code",
   "execution_count": 63,
   "id": "ca35aa7e",
   "metadata": {},
   "outputs": [
    {
     "data": {
      "text/html": [
       "<pre style=\"white-space:pre;overflow-x:auto;line-height:normal;font-family:Menlo,'DejaVu Sans Mono',consolas,'Courier New',monospace\"></pre>\n"
      ],
      "text/plain": []
     },
     "metadata": {},
     "output_type": "display_data"
    },
    {
     "data": {
      "image/png": "[encoded data removed]",
      "text/plain": [
       "\u001b[1m<\u001b[0m\u001b[1;95mFigure\u001b[0m\u001b[39m size 64\u001b[0m\u001b[1;36m0x480\u001b[0m\u001b[39m with \u001b[0m\u001b[1;36m2\u001b[0m\u001b[39m Axes\u001b[0m\u001b[1m>\u001b[0m"
      ]
     },
     "metadata": {},
     "output_type": "display_data"
    }
   ],
   "source": [
    "ConfusionMatrixDisplay.from_estimator(xgb_model, X_test, y_test, normalize='all');"
   ]
  },
  {
   "cell_type": "markdown",
   "id": "0f50e6f9",
   "metadata": {},
   "source": [
    "**Confussion Matrix**\n",
    "* You want to minimize FN so you don't lose customers who actually cancel.\n",
    "* You also want to monitor FP so you don't generate unnecessary alerts."
   ]
  },
  {
   "cell_type": "code",
   "execution_count": 64,
   "id": "68646827",
   "metadata": {},
   "outputs": [
    {
     "data": {
      "text/html": [
       "<pre style=\"white-space:pre;overflow-x:auto;line-height:normal;font-family:Menlo,'DejaVu Sans Mono',consolas,'Courier New',monospace\"></pre>\n"
      ],
      "text/plain": []
     },
     "metadata": {},
     "output_type": "display_data"
    },
    {
     "data": {
      "image/png": "[encoded data removed]",
      "text/plain": [
       "\u001b[1m<\u001b[0m\u001b[1;95mFigure\u001b[0m\u001b[39m size 64\u001b[0m\u001b[1;36m0x480\u001b[0m\u001b[39m with \u001b[0m\u001b[1;36m1\u001b[0m\u001b[39m Axes\u001b[0m\u001b[1m>\u001b[0m"
      ]
     },
     "metadata": {},
     "output_type": "display_data"
    }
   ],
   "source": [
    "PrecisionRecallDisplay.from_estimator(xgb_model, X_test, y_test)\n",
    "plt.title(\"Precision-Recall Curve\")\n",
    "plt.show()"
   ]
  },
  {
   "cell_type": "markdown",
   "id": "e28f17c6",
   "metadata": {},
   "source": [
    "**AUC-PR Curve (Area Under the Precision-Recall Curve)**\n",
    "\n",
    "[AUC PR Curve](https://medium.com/bluekiri/curvas-pr-y-roc-1489fbd9a527)\n",
    "\n",
    "Shows the relationship between precision and recall for different model decision thresholds.\n",
    "It is more informative than the ROC curve when the classes are unbalanced (as in your case with 80% non-cancellations).\n",
    "* A curve that remains high in precision for high recall values ​​indicates a good model.\n",
    "\n",
    "The PR curve is the result of plotting the graph between precision and recall. This graph allows us to see where the precision declines from the recall level and vice versa. Ideally, the curve should be as close as possible to the upper right corner (high precision and high recall).\n",
    "\n",
    "---\n",
    "\n",
    "Interpretation of our results\n",
    "\n",
    "* A gradual drop in precision as recall increases.\n",
    "* AUC-PR between 0.7 and 0.8 (good for unbalanced classes, but could be improved)."
   ]
  },
  {
   "cell_type": "markdown",
   "id": "cb9f1f1d",
   "metadata": {},
   "source": [
    "* The classification report tells you how well the model predicts each class using key metrics.\n",
    "* The confusion matrix shows you the specific successes and errors for each class.\n",
    "* The AUC-PR curve helps you evaluate overall performance in unbalanced scenarios and choose the best decision threshold."
   ]
  },
  {
   "cell_type": "markdown",
   "id": "e01d7e72",
   "metadata": {},
   "source": [
    "**Save model**\n",
    "\n",
    "Picke format."
   ]
  },
  {
   "cell_type": "code",
   "execution_count": 65,
   "id": "aca7bc9b",
   "metadata": {},
   "outputs": [],
   "source": [
    "with open('xgboost_model.pkl', 'wb') as f:\n",
    "    pickle.dump(xgb_model, f)"
   ]
  },
  {
   "cell_type": "markdown",
   "id": "4075bdcf",
   "metadata": {},
   "source": [
    "---\n"
   ]
  }
 ],
 "metadata": {
  "kernelspec": {
   "display_name": ".venv",
   "language": "python",
   "name": "python3"
  },
  "language_info": {
   "codemirror_mode": {
    "name": "ipython",
    "version": 3
   },
   "file_extension": ".py",
   "mimetype": "text/x-python",
   "name": "python",
   "nbconvert_exporter": "python",
   "pygments_lexer": "ipython3",
   "version": "3.11.5"
  }
 },
 "nbformat": 4,
 "nbformat_minor": 5
}
