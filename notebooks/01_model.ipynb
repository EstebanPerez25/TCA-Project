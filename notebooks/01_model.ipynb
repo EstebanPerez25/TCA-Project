{
 "cells": [
  {
   "cell_type": "markdown",
   "id": "459aefe0",
   "metadata": {},
   "source": [
    "# Model Creation\n",
    "\n",
    "In this notebook, we will process the data and train our final model to classify cancellations.\n",
    "\n",
    "\n",
    "---"
   ]
  },
  {
   "cell_type": "markdown",
   "id": "eecec8e0",
   "metadata": {},
   "source": [
    "**Dependencies**\n",
    "\n",
    "Check `requirements.txt`\n",
    "\n",
    "Main:\n",
    "* ipykernel\n",
    "* pandas\n",
    "* sckit-learn\n",
    "* azureml-sdk\n",
    "* xgboost"
   ]
  },
  {
   "cell_type": "markdown",
   "id": "6c705a4d",
   "metadata": {},
   "source": [
    "### Libraries"
   ]
  },
  {
   "cell_type": "code",
   "execution_count": 13,
   "id": "6d54bd73",
   "metadata": {},
   "outputs": [],
   "source": [
    "import json\n",
    "import pickle\n",
    "\n",
    "import matplotlib.pyplot as plt\n",
    "import pandas as pd\n",
    "import seaborn as sns\n",
    "from sklearn.metrics import (\n",
    "    ConfusionMatrixDisplay,\n",
    "    classification_report,\n",
    "    confusion_matrix,\n",
    "    f1_score,\n",
    "    precision_score,\n",
    "    recall_score,\n",
    ")\n",
    "from sklearn.model_selection import train_test_split\n",
    "from xgboost import XGBClassifier"
   ]
  },
  {
   "cell_type": "markdown",
   "id": "bc9095aa",
   "metadata": {},
   "source": [
    "### Load data"
   ]
  },
  {
   "cell_type": "code",
   "execution_count": 4,
   "id": "c07ce69c",
   "metadata": {},
   "outputs": [
    {
     "data": {
      "text/html": [
       "<pre style=\"white-space:pre;overflow-x:auto;line-height:normal;font-family:Menlo,'DejaVu Sans Mono',consolas,'Courier New',monospace\"><span style=\"color: #7fbfbf; text-decoration-color: #7fbfbf\">[05/31/25 21:17:49] </span><span style=\"color: #000080; text-decoration-color: #000080\">INFO    </span> Using <span style=\"color: #008000; text-decoration-color: #008000\">'c:\\Users\\Esteban\\Documents\\. Clases_Tec\\8. Octavo </span>              <span style=\"color: #7f7f7f; text-decoration-color: #7f7f7f\">__init__.py:272</span>\n",
       "<span style=\"color: #7fbfbf; text-decoration-color: #7fbfbf\">                    </span>         <span style=\"color: #008000; text-decoration-color: #008000\">semestre\\_Proyecto\\kProject\\tcaproject\\.venv\\Lib\\site-packages\\kedro\\f</span> <span style=\"color: #7f7f7f; text-decoration-color: #7f7f7f\">               </span>\n",
       "<span style=\"color: #7fbfbf; text-decoration-color: #7fbfbf\">                    </span>         <span style=\"color: #008000; text-decoration-color: #008000\">ramework\\project\\rich_logging.yml'</span> as logging configuration.           <span style=\"color: #7f7f7f; text-decoration-color: #7f7f7f\">               </span>\n",
       "</pre>\n"
      ],
      "text/plain": [
       "\u001b[2;36m[05/31/25 21:17:49]\u001b[0m\u001b[2;36m \u001b[0m\u001b[34mINFO    \u001b[0m Using \u001b[32m'c:\\Users\\Esteban\\Documents\\. Clases_Tec\\8. Octavo \u001b[0m              \u001b[2m__init__.py\u001b[0m\u001b[2m:\u001b[0m\u001b[2m272\u001b[0m\n",
       "\u001b[2;36m                    \u001b[0m         \u001b[32msemestre\\_Proyecto\\kProject\\tcaproject\\.venv\\Lib\\site-packages\\kedro\\f\u001b[0m \u001b[2m               \u001b[0m\n",
       "\u001b[2;36m                    \u001b[0m         \u001b[32mramework\\project\\rich_logging.yml'\u001b[0m as logging configuration.           \u001b[2m               \u001b[0m\n"
      ]
     },
     "metadata": {},
     "output_type": "display_data"
    },
    {
     "data": {
      "text/html": [
       "<pre style=\"white-space:pre;overflow-x:auto;line-height:normal;font-family:Menlo,'DejaVu Sans Mono',consolas,'Courier New',monospace\"><span style=\"color: #7fbfbf; text-decoration-color: #7fbfbf\">                    </span><span style=\"color: #000080; text-decoration-color: #000080\">INFO    </span> Registered line magic <span style=\"color: #008000; text-decoration-color: #008000\">'%reload_kedro'</span>                                   <span style=\"color: #7f7f7f; text-decoration-color: #7f7f7f\">__init__.py:63</span>\n",
       "</pre>\n"
      ],
      "text/plain": [
       "\u001b[2;36m                   \u001b[0m\u001b[2;36m \u001b[0m\u001b[34mINFO    \u001b[0m Registered line magic \u001b[32m'%reload_kedro'\u001b[0m                                   \u001b[2m__init__.py\u001b[0m\u001b[2m:\u001b[0m\u001b[2m63\u001b[0m\n"
      ]
     },
     "metadata": {},
     "output_type": "display_data"
    },
    {
     "data": {
      "text/html": [
       "<pre style=\"white-space:pre;overflow-x:auto;line-height:normal;font-family:Menlo,'DejaVu Sans Mono',consolas,'Courier New',monospace\"><span style=\"color: #7fbfbf; text-decoration-color: #7fbfbf\">                    </span><span style=\"color: #000080; text-decoration-color: #000080\">INFO    </span> Registered line magic <span style=\"color: #008000; text-decoration-color: #008000\">'%load_node'</span>                                      <span style=\"color: #7f7f7f; text-decoration-color: #7f7f7f\">__init__.py:65</span>\n",
       "</pre>\n"
      ],
      "text/plain": [
       "\u001b[2;36m                   \u001b[0m\u001b[2;36m \u001b[0m\u001b[34mINFO    \u001b[0m Registered line magic \u001b[32m'%load_node'\u001b[0m                                      \u001b[2m__init__.py\u001b[0m\u001b[2m:\u001b[0m\u001b[2m65\u001b[0m\n"
      ]
     },
     "metadata": {},
     "output_type": "display_data"
    },
    {
     "data": {
      "text/html": [
       "<pre style=\"white-space:pre;overflow-x:auto;line-height:normal;font-family:Menlo,'DejaVu Sans Mono',consolas,'Courier New',monospace\"><span style=\"color: #7fbfbf; text-decoration-color: #7fbfbf\">                    </span><span style=\"color: #000080; text-decoration-color: #000080\">INFO    </span> Resolved project path as: c:\\Users\\Esteban\\Documents\\. Clases_Tec\\<span style=\"color: #008080; text-decoration-color: #008080; font-weight: bold\">8</span>.   <span style=\"color: #7f7f7f; text-decoration-color: #7f7f7f\">__init__.py:180</span>\n",
       "<span style=\"color: #7fbfbf; text-decoration-color: #7fbfbf\">                    </span>         Octavo semestre\\_Proyecto\\kProject\\tcaproject.                         <span style=\"color: #7f7f7f; text-decoration-color: #7f7f7f\">               </span>\n",
       "<span style=\"color: #7fbfbf; text-decoration-color: #7fbfbf\">                    </span>         To set a different path, run <span style=\"color: #008000; text-decoration-color: #008000\">'%reload_kedro &lt;project_root&gt;'</span>            <span style=\"color: #7f7f7f; text-decoration-color: #7f7f7f\">               </span>\n",
       "</pre>\n"
      ],
      "text/plain": [
       "\u001b[2;36m                   \u001b[0m\u001b[2;36m \u001b[0m\u001b[34mINFO    \u001b[0m Resolved project path as: c:\\Users\\Esteban\\Documents\\. Clases_Tec\\\u001b[1;36m8\u001b[0m.   \u001b[2m__init__.py\u001b[0m\u001b[2m:\u001b[0m\u001b[2m180\u001b[0m\n",
       "\u001b[2;36m                    \u001b[0m         Octavo semestre\\_Proyecto\\kProject\\tcaproject.                         \u001b[2m               \u001b[0m\n",
       "\u001b[2;36m                    \u001b[0m         To set a different path, run \u001b[32m'%reload_kedro \u001b[0m\u001b[32m<\u001b[0m\u001b[32mproject_root\u001b[0m\u001b[32m>\u001b[0m\u001b[32m'\u001b[0m            \u001b[2m               \u001b[0m\n"
      ]
     },
     "metadata": {},
     "output_type": "display_data"
    },
    {
     "data": {
      "text/html": [
       "<pre style=\"white-space:pre;overflow-x:auto;line-height:normal;font-family:Menlo,'DejaVu Sans Mono',consolas,'Courier New',monospace\"><span style=\"color: #7fbfbf; text-decoration-color: #7fbfbf\">[05/31/25 21:17:55] </span><span style=\"color: #808000; text-decoration-color: #808000\">WARNING </span> c:\\Users\\Esteban\\Documents\\. Clases_Tec\\<span style=\"color: #008080; text-decoration-color: #008080; font-weight: bold\">8</span>. Octavo                      <a href=\"file://C:\\Users\\Esteban\\AppData\\Local\\Programs\\Python\\Python311\\Lib\\warnings.py\" target=\"_blank\"><span style=\"color: #7f7f7f; text-decoration-color: #7f7f7f\">warnings.py</span></a><span style=\"color: #7f7f7f; text-decoration-color: #7f7f7f\">:</span><a href=\"file://C:\\Users\\Esteban\\AppData\\Local\\Programs\\Python\\Python311\\Lib\\warnings.py#109\" target=\"_blank\"><span style=\"color: #7f7f7f; text-decoration-color: #7f7f7f\">109</span></a>\n",
       "<span style=\"color: #7fbfbf; text-decoration-color: #7fbfbf\">                    </span>         semestre\\_Proyecto\\kProject\\tcaproject\\.venv\\Lib\\site-packages\\mlflow\\ <span style=\"color: #7f7f7f; text-decoration-color: #7f7f7f\">               </span>\n",
       "<span style=\"color: #7fbfbf; text-decoration-color: #7fbfbf\">                    </span>         pyfunc\\utils\\data_validation.py:<span style=\"color: #008080; text-decoration-color: #008080; font-weight: bold\">186</span>: UserWarning: \u001b<span style=\"font-weight: bold\">[</span>33mAdd type hints   <span style=\"color: #7f7f7f; text-decoration-color: #7f7f7f\">               </span>\n",
       "<span style=\"color: #7fbfbf; text-decoration-color: #7fbfbf\">                    </span>         to the `predict` method to enable data validation and automatic        <span style=\"color: #7f7f7f; text-decoration-color: #7f7f7f\">               </span>\n",
       "<span style=\"color: #7fbfbf; text-decoration-color: #7fbfbf\">                    </span>         signature inference during model logging. Check                        <span style=\"color: #7f7f7f; text-decoration-color: #7f7f7f\">               </span>\n",
       "<span style=\"color: #7fbfbf; text-decoration-color: #7fbfbf\">                    </span>         <span style=\"color: #0000ff; text-decoration-color: #0000ff; text-decoration: underline\">https://mlflow.org/docs/latest/model/python_model.html#type-hint-usage</span> <span style=\"color: #7f7f7f; text-decoration-color: #7f7f7f\">               </span>\n",
       "<span style=\"color: #7fbfbf; text-decoration-color: #7fbfbf\">                    </span>         <span style=\"color: #0000ff; text-decoration-color: #0000ff; text-decoration: underline\">-in-pythonmodel</span> for more details.\u001b<span style=\"font-weight: bold\">[</span>0m                                   <span style=\"color: #7f7f7f; text-decoration-color: #7f7f7f\">               </span>\n",
       "<span style=\"color: #7fbfbf; text-decoration-color: #7fbfbf\">                    </span>           <span style=\"color: #800080; text-decoration-color: #800080; font-weight: bold\">color_warning</span><span style=\"font-weight: bold\">(</span>                                                       <span style=\"color: #7f7f7f; text-decoration-color: #7f7f7f\">               </span>\n",
       "<span style=\"color: #7fbfbf; text-decoration-color: #7fbfbf\">                    </span>                                                                                <span style=\"color: #7f7f7f; text-decoration-color: #7f7f7f\">               </span>\n",
       "</pre>\n"
      ],
      "text/plain": [
       "\u001b[2;36m[05/31/25 21:17:55]\u001b[0m\u001b[2;36m \u001b[0m\u001b[33mWARNING \u001b[0m c:\\Users\\Esteban\\Documents\\. Clases_Tec\\\u001b[1;36m8\u001b[0m. Octavo                      \u001b]8;id=720227;file://C:\\Users\\Esteban\\AppData\\Local\\Programs\\Python\\Python311\\Lib\\warnings.py\u001b\\\u001b[2mwarnings.py\u001b[0m\u001b]8;;\u001b\\\u001b[2m:\u001b[0m\u001b]8;id=696063;file://C:\\Users\\Esteban\\AppData\\Local\\Programs\\Python\\Python311\\Lib\\warnings.py#109\u001b\\\u001b[2m109\u001b[0m\u001b]8;;\u001b\\\n",
       "\u001b[2;36m                    \u001b[0m         semestre\\_Proyecto\\kProject\\tcaproject\\.venv\\Lib\\site-packages\\mlflow\\ \u001b[2m               \u001b[0m\n",
       "\u001b[2;36m                    \u001b[0m         pyfunc\\utils\\data_validation.py:\u001b[1;36m186\u001b[0m: UserWarning: \u001b\u001b[1m[\u001b[0m33mAdd type hints   \u001b[2m               \u001b[0m\n",
       "\u001b[2;36m                    \u001b[0m         to the `predict` method to enable data validation and automatic        \u001b[2m               \u001b[0m\n",
       "\u001b[2;36m                    \u001b[0m         signature inference during model logging. Check                        \u001b[2m               \u001b[0m\n",
       "\u001b[2;36m                    \u001b[0m         \u001b[4;94mhttps://mlflow.org/docs/latest/model/python_model.html#type-hint-usage\u001b[0m \u001b[2m               \u001b[0m\n",
       "\u001b[2;36m                    \u001b[0m         \u001b[4;94m-in-pythonmodel\u001b[0m for more details.\u001b\u001b[1m[\u001b[0m0m                                   \u001b[2m               \u001b[0m\n",
       "\u001b[2;36m                    \u001b[0m           \u001b[1;35mcolor_warning\u001b[0m\u001b[1m(\u001b[0m                                                       \u001b[2m               \u001b[0m\n",
       "\u001b[2;36m                    \u001b[0m                                                                                \u001b[2m               \u001b[0m\n"
      ]
     },
     "metadata": {},
     "output_type": "display_data"
    },
    {
     "data": {
      "text/html": [
       "<pre style=\"white-space:pre;overflow-x:auto;line-height:normal;font-family:Menlo,'DejaVu Sans Mono',consolas,'Courier New',monospace\"><span style=\"color: #7fbfbf; text-decoration-color: #7fbfbf\">                    </span><span style=\"color: #000080; text-decoration-color: #000080\">INFO    </span> Registering new custom resolver: <span style=\"color: #008000; text-decoration-color: #008000\">'km.random_name'</span>                    <span style=\"color: #7f7f7f; text-decoration-color: #7f7f7f\">mlflow_hook.py:65</span>\n",
       "</pre>\n"
      ],
      "text/plain": [
       "\u001b[2;36m                   \u001b[0m\u001b[2;36m \u001b[0m\u001b[34mINFO    \u001b[0m Registering new custom resolver: \u001b[32m'km.random_name'\u001b[0m                    \u001b[2mmlflow_hook.py\u001b[0m\u001b[2m:\u001b[0m\u001b[2m65\u001b[0m\n"
      ]
     },
     "metadata": {},
     "output_type": "display_data"
    },
    {
     "data": {
      "text/html": [
       "<pre style=\"white-space:pre;overflow-x:auto;line-height:normal;font-family:Menlo,'DejaVu Sans Mono',consolas,'Courier New',monospace\"><span style=\"color: #7fbfbf; text-decoration-color: #7fbfbf\">                    </span><span style=\"color: #808000; text-decoration-color: #808000\">WARNING </span> No <span style=\"color: #008000; text-decoration-color: #008000\">'mlflow.yml'</span> config file found in environment. Default            <span style=\"color: #7f7f7f; text-decoration-color: #7f7f7f\">mlflow_hook.py:78</span>\n",
       "<span style=\"color: #7fbfbf; text-decoration-color: #7fbfbf\">                    </span>         configuration will be used. Use ``kedro mlflow init`` command in CLI <span style=\"color: #7f7f7f; text-decoration-color: #7f7f7f\">                 </span>\n",
       "<span style=\"color: #7fbfbf; text-decoration-color: #7fbfbf\">                    </span>         to customize the configuration.                                      <span style=\"color: #7f7f7f; text-decoration-color: #7f7f7f\">                 </span>\n",
       "</pre>\n"
      ],
      "text/plain": [
       "\u001b[2;36m                   \u001b[0m\u001b[2;36m \u001b[0m\u001b[33mWARNING \u001b[0m No \u001b[32m'mlflow.yml'\u001b[0m config file found in environment. Default            \u001b[2mmlflow_hook.py\u001b[0m\u001b[2m:\u001b[0m\u001b[2m78\u001b[0m\n",
       "\u001b[2;36m                    \u001b[0m         configuration will be used. Use ``kedro mlflow init`` command in CLI \u001b[2m                 \u001b[0m\n",
       "\u001b[2;36m                    \u001b[0m         to customize the configuration.                                      \u001b[2m                 \u001b[0m\n"
      ]
     },
     "metadata": {},
     "output_type": "display_data"
    },
    {
     "data": {
      "text/html": [
       "<pre style=\"white-space:pre;overflow-x:auto;line-height:normal;font-family:Menlo,'DejaVu Sans Mono',consolas,'Courier New',monospace\"><span style=\"color: #7fbfbf; text-decoration-color: #7fbfbf\">                    </span><span style=\"color: #000080; text-decoration-color: #000080\">INFO    </span> The <span style=\"color: #008000; text-decoration-color: #008000\">'tracking_uri'</span> key in mlflow.yml is relative            <span style=\"color: #7f7f7f; text-decoration-color: #7f7f7f\">kedro_mlflow_config.py:293</span>\n",
       "<span style=\"color: #7fbfbf; text-decoration-color: #7fbfbf\">                    </span>         <span style=\"font-weight: bold\">(</span><span style=\"color: #008000; text-decoration-color: #008000\">'server.mlflow_(tracking|registry)_uri = mlruns'</span><span style=\"font-weight: bold\">)</span>. It is   <span style=\"color: #7f7f7f; text-decoration-color: #7f7f7f\">                          </span>\n",
       "<span style=\"color: #7fbfbf; text-decoration-color: #7fbfbf\">                    </span>         converted to a valid uri:                                   <span style=\"color: #7f7f7f; text-decoration-color: #7f7f7f\">                          </span>\n",
       "<span style=\"color: #7fbfbf; text-decoration-color: #7fbfbf\">                    </span>         <span style=\"color: #008000; text-decoration-color: #008000\">'file:///C:/Users/Esteban/Documents/.%20Clases_Tec/8.%20Oct</span> <span style=\"color: #7f7f7f; text-decoration-color: #7f7f7f\">                          </span>\n",
       "<span style=\"color: #7fbfbf; text-decoration-color: #7fbfbf\">                    </span>         <span style=\"color: #008000; text-decoration-color: #008000\">avo%20semestre/_Proyecto/kProject/tcaproject/mlruns'</span>        <span style=\"color: #7f7f7f; text-decoration-color: #7f7f7f\">                          </span>\n",
       "</pre>\n"
      ],
      "text/plain": [
       "\u001b[2;36m                   \u001b[0m\u001b[2;36m \u001b[0m\u001b[34mINFO    \u001b[0m The \u001b[32m'tracking_uri'\u001b[0m key in mlflow.yml is relative            \u001b[2mkedro_mlflow_config.py\u001b[0m\u001b[2m:\u001b[0m\u001b[2m293\u001b[0m\n",
       "\u001b[2;36m                    \u001b[0m         \u001b[1m(\u001b[0m\u001b[32m'server.mlflow_\u001b[0m\u001b[32m(\u001b[0m\u001b[32mtracking|registry\u001b[0m\u001b[32m)\u001b[0m\u001b[32m_uri = mlruns'\u001b[0m\u001b[1m)\u001b[0m. It is   \u001b[2m                          \u001b[0m\n",
       "\u001b[2;36m                    \u001b[0m         converted to a valid uri:                                   \u001b[2m                          \u001b[0m\n",
       "\u001b[2;36m                    \u001b[0m         \u001b[32m'file:///C:/Users/Esteban/Documents/.%20Clases_Tec/8.%20Oct\u001b[0m \u001b[2m                          \u001b[0m\n",
       "\u001b[2;36m                    \u001b[0m         \u001b[32mavo%20semestre/_Proyecto/kProject/tcaproject/mlruns'\u001b[0m        \u001b[2m                          \u001b[0m\n"
      ]
     },
     "metadata": {},
     "output_type": "display_data"
    },
    {
     "data": {
      "text/html": [
       "<pre style=\"white-space:pre;overflow-x:auto;line-height:normal;font-family:Menlo,'DejaVu Sans Mono',consolas,'Courier New',monospace\"><span style=\"color: #7fbfbf; text-decoration-color: #7fbfbf\">[05/31/25 21:17:56] </span><span style=\"color: #000080; text-decoration-color: #000080\">INFO    </span> Kedro is sending anonymous usage data with the sole purpose of improving <span style=\"color: #7f7f7f; text-decoration-color: #7f7f7f\">plugin.py:233</span>\n",
       "<span style=\"color: #7fbfbf; text-decoration-color: #7fbfbf\">                    </span>         the product. No personal data or IP addresses are stored on our side. If <span style=\"color: #7f7f7f; text-decoration-color: #7f7f7f\">             </span>\n",
       "<span style=\"color: #7fbfbf; text-decoration-color: #7fbfbf\">                    </span>         you want to opt out, set the `KEDRO_DISABLE_TELEMETRY` or `DO_NOT_TRACK` <span style=\"color: #7f7f7f; text-decoration-color: #7f7f7f\">             </span>\n",
       "<span style=\"color: #7fbfbf; text-decoration-color: #7fbfbf\">                    </span>         environment variables, or create a `.telemetry` file in the current      <span style=\"color: #7f7f7f; text-decoration-color: #7f7f7f\">             </span>\n",
       "<span style=\"color: #7fbfbf; text-decoration-color: #7fbfbf\">                    </span>         working directory with the contents `consent: false`. Read more at       <span style=\"color: #7f7f7f; text-decoration-color: #7f7f7f\">             </span>\n",
       "<span style=\"color: #7fbfbf; text-decoration-color: #7fbfbf\">                    </span>         <span style=\"color: #0000ff; text-decoration-color: #0000ff; text-decoration: underline\">https://docs.kedro.org/en/stable/configuration/telemetry.html</span>            <span style=\"color: #7f7f7f; text-decoration-color: #7f7f7f\">             </span>\n",
       "</pre>\n"
      ],
      "text/plain": [
       "\u001b[2;36m[05/31/25 21:17:56]\u001b[0m\u001b[2;36m \u001b[0m\u001b[34mINFO    \u001b[0m Kedro is sending anonymous usage data with the sole purpose of improving \u001b[2mplugin.py\u001b[0m\u001b[2m:\u001b[0m\u001b[2m233\u001b[0m\n",
       "\u001b[2;36m                    \u001b[0m         the product. No personal data or IP addresses are stored on our side. If \u001b[2m             \u001b[0m\n",
       "\u001b[2;36m                    \u001b[0m         you want to opt out, set the `KEDRO_DISABLE_TELEMETRY` or `DO_NOT_TRACK` \u001b[2m             \u001b[0m\n",
       "\u001b[2;36m                    \u001b[0m         environment variables, or create a `.telemetry` file in the current      \u001b[2m             \u001b[0m\n",
       "\u001b[2;36m                    \u001b[0m         working directory with the contents `consent: false`. Read more at       \u001b[2m             \u001b[0m\n",
       "\u001b[2;36m                    \u001b[0m         \u001b[4;94mhttps://docs.kedro.org/en/stable/configuration/telemetry.html\u001b[0m            \u001b[2m             \u001b[0m\n"
      ]
     },
     "metadata": {},
     "output_type": "display_data"
    },
    {
     "data": {
      "text/html": [
       "<pre style=\"white-space:pre;overflow-x:auto;line-height:normal;font-family:Menlo,'DejaVu Sans Mono',consolas,'Courier New',monospace\"><span style=\"color: #7fbfbf; text-decoration-color: #7fbfbf\">                    </span><span style=\"color: #000080; text-decoration-color: #000080\">INFO    </span> Kedro project tcaProject                                               <span style=\"color: #7f7f7f; text-decoration-color: #7f7f7f\">__init__.py:146</span>\n",
       "</pre>\n"
      ],
      "text/plain": [
       "\u001b[2;36m                   \u001b[0m\u001b[2;36m \u001b[0m\u001b[34mINFO    \u001b[0m Kedro project tcaProject                                               \u001b[2m__init__.py\u001b[0m\u001b[2m:\u001b[0m\u001b[2m146\u001b[0m\n"
      ]
     },
     "metadata": {},
     "output_type": "display_data"
    },
    {
     "data": {
      "text/html": [
       "<pre style=\"white-space:pre;overflow-x:auto;line-height:normal;font-family:Menlo,'DejaVu Sans Mono',consolas,'Courier New',monospace\"><span style=\"color: #7fbfbf; text-decoration-color: #7fbfbf\">                    </span><span style=\"color: #000080; text-decoration-color: #000080\">INFO    </span> Defined global variable <span style=\"color: #008000; text-decoration-color: #008000\">'context'</span>, <span style=\"color: #008000; text-decoration-color: #008000\">'session'</span>, <span style=\"color: #008000; text-decoration-color: #008000\">'catalog'</span> and            <span style=\"color: #7f7f7f; text-decoration-color: #7f7f7f\">__init__.py:147</span>\n",
       "<span style=\"color: #7fbfbf; text-decoration-color: #7fbfbf\">                    </span>         <span style=\"color: #008000; text-decoration-color: #008000\">'pipelines'</span>                                                            <span style=\"color: #7f7f7f; text-decoration-color: #7f7f7f\">               </span>\n",
       "</pre>\n"
      ],
      "text/plain": [
       "\u001b[2;36m                   \u001b[0m\u001b[2;36m \u001b[0m\u001b[34mINFO    \u001b[0m Defined global variable \u001b[32m'context'\u001b[0m, \u001b[32m'session'\u001b[0m, \u001b[32m'catalog'\u001b[0m and            \u001b[2m__init__.py\u001b[0m\u001b[2m:\u001b[0m\u001b[2m147\u001b[0m\n",
       "\u001b[2;36m                    \u001b[0m         \u001b[32m'pipelines'\u001b[0m                                                            \u001b[2m               \u001b[0m\n"
      ]
     },
     "metadata": {},
     "output_type": "display_data"
    },
    {
     "data": {
      "text/html": [
       "<pre style=\"white-space:pre;overflow-x:auto;line-height:normal;font-family:Menlo,'DejaVu Sans Mono',consolas,'Courier New',monospace\"><span style=\"color: #7fbfbf; text-decoration-color: #7fbfbf\">[05/31/25 21:17:57] </span><span style=\"color: #000080; text-decoration-color: #000080\">INFO    </span> Registered line magic <span style=\"color: #008000; text-decoration-color: #008000\">'run_viz'</span>                                        <span style=\"color: #7f7f7f; text-decoration-color: #7f7f7f\">__init__.py:153</span>\n",
       "</pre>\n"
      ],
      "text/plain": [
       "\u001b[2;36m[05/31/25 21:17:57]\u001b[0m\u001b[2;36m \u001b[0m\u001b[34mINFO    \u001b[0m Registered line magic \u001b[32m'run_viz'\u001b[0m                                        \u001b[2m__init__.py\u001b[0m\u001b[2m:\u001b[0m\u001b[2m153\u001b[0m\n"
      ]
     },
     "metadata": {},
     "output_type": "display_data"
    }
   ],
   "source": [
    "%load_ext kedro.ipython"
   ]
  },
  {
   "cell_type": "code",
   "execution_count": 23,
   "id": "dd0f0da9",
   "metadata": {},
   "outputs": [
    {
     "data": {
      "text/html": [
       "<pre style=\"white-space:pre;overflow-x:auto;line-height:normal;font-family:Menlo,'DejaVu Sans Mono',consolas,'Courier New',monospace\"><span style=\"color: #7fbfbf; text-decoration-color: #7fbfbf\">[31/05/2025 09:43:37 p. m.] </span><span style=\"color: #000080; text-decoration-color: #000080\">INFO    </span> Resolved project path as: C:\\Users\\Esteban\\Documents\\.         <span style=\"color: #7f7f7f; text-decoration-color: #7f7f7f\">__init__.py:180</span>\n",
       "<span style=\"color: #7fbfbf; text-decoration-color: #7fbfbf\">                            </span>         Clases_Tec\\<span style=\"color: #008080; text-decoration-color: #008080; font-weight: bold\">8</span>. Octavo semestre\\_Proyecto\\kProject\\tcaproject.   <span style=\"color: #7f7f7f; text-decoration-color: #7f7f7f\">               </span>\n",
       "<span style=\"color: #7fbfbf; text-decoration-color: #7fbfbf\">                            </span>         To set a different path, run <span style=\"color: #008000; text-decoration-color: #008000\">'%reload_kedro &lt;project_root&gt;'</span>    <span style=\"color: #7f7f7f; text-decoration-color: #7f7f7f\">               </span>\n",
       "</pre>\n"
      ],
      "text/plain": [
       "\u001b[2;36m[31/05/2025 09:43:37 p. m.]\u001b[0m\u001b[2;36m \u001b[0m\u001b[34mINFO    \u001b[0m Resolved project path as: C:\\Users\\Esteban\\Documents\\.         \u001b[2m__init__.py\u001b[0m\u001b[2m:\u001b[0m\u001b[2m180\u001b[0m\n",
       "\u001b[2;36m                            \u001b[0m         Clases_Tec\\\u001b[1;36m8\u001b[0m. Octavo semestre\\_Proyecto\\kProject\\tcaproject.   \u001b[2m               \u001b[0m\n",
       "\u001b[2;36m                            \u001b[0m         To set a different path, run \u001b[32m'%reload_kedro \u001b[0m\u001b[32m<\u001b[0m\u001b[32mproject_root\u001b[0m\u001b[32m>\u001b[0m\u001b[32m'\u001b[0m    \u001b[2m               \u001b[0m\n"
      ]
     },
     "metadata": {},
     "output_type": "display_data"
    },
    {
     "data": {
      "text/html": [
       "<pre style=\"white-space:pre;overflow-x:auto;line-height:normal;font-family:Menlo,'DejaVu Sans Mono',consolas,'Courier New',monospace\"><span style=\"color: #7fbfbf; text-decoration-color: #7fbfbf\">[31/05/2025 09:43:38 p. m.] </span><span style=\"color: #000080; text-decoration-color: #000080\">INFO    </span> Registering new custom resolver: <span style=\"color: #008000; text-decoration-color: #008000\">'km.random_name'</span>            <span style=\"color: #7f7f7f; text-decoration-color: #7f7f7f\">mlflow_hook.py:65</span>\n",
       "</pre>\n"
      ],
      "text/plain": [
       "\u001b[2;36m[31/05/2025 09:43:38 p. m.]\u001b[0m\u001b[2;36m \u001b[0m\u001b[34mINFO    \u001b[0m Registering new custom resolver: \u001b[32m'km.random_name'\u001b[0m            \u001b[2mmlflow_hook.py\u001b[0m\u001b[2m:\u001b[0m\u001b[2m65\u001b[0m\n"
      ]
     },
     "metadata": {},
     "output_type": "display_data"
    },
    {
     "data": {
      "text/html": [
       "<pre style=\"white-space:pre;overflow-x:auto;line-height:normal;font-family:Menlo,'DejaVu Sans Mono',consolas,'Courier New',monospace\"><span style=\"color: #7fbfbf; text-decoration-color: #7fbfbf\">                            </span><span style=\"color: #808000; text-decoration-color: #808000\">WARNING </span> No <span style=\"color: #008000; text-decoration-color: #008000\">'mlflow.yml'</span> config file found in environment. Default    <span style=\"color: #7f7f7f; text-decoration-color: #7f7f7f\">mlflow_hook.py:78</span>\n",
       "<span style=\"color: #7fbfbf; text-decoration-color: #7fbfbf\">                            </span>         configuration will be used. Use ``kedro mlflow init``        <span style=\"color: #7f7f7f; text-decoration-color: #7f7f7f\">                 </span>\n",
       "<span style=\"color: #7fbfbf; text-decoration-color: #7fbfbf\">                            </span>         command in CLI to customize the configuration.               <span style=\"color: #7f7f7f; text-decoration-color: #7f7f7f\">                 </span>\n",
       "</pre>\n"
      ],
      "text/plain": [
       "\u001b[2;36m                           \u001b[0m\u001b[2;36m \u001b[0m\u001b[33mWARNING \u001b[0m No \u001b[32m'mlflow.yml'\u001b[0m config file found in environment. Default    \u001b[2mmlflow_hook.py\u001b[0m\u001b[2m:\u001b[0m\u001b[2m78\u001b[0m\n",
       "\u001b[2;36m                            \u001b[0m         configuration will be used. Use ``kedro mlflow init``        \u001b[2m                 \u001b[0m\n",
       "\u001b[2;36m                            \u001b[0m         command in CLI to customize the configuration.               \u001b[2m                 \u001b[0m\n"
      ]
     },
     "metadata": {},
     "output_type": "display_data"
    },
    {
     "data": {
      "text/html": [
       "<pre style=\"white-space:pre;overflow-x:auto;line-height:normal;font-family:Menlo,'DejaVu Sans Mono',consolas,'Courier New',monospace\"><span style=\"color: #7fbfbf; text-decoration-color: #7fbfbf\">                            </span><span style=\"color: #000080; text-decoration-color: #000080\">INFO    </span> Kedro is sending anonymous usage data with the sole purpose of   <span style=\"color: #7f7f7f; text-decoration-color: #7f7f7f\">plugin.py:233</span>\n",
       "<span style=\"color: #7fbfbf; text-decoration-color: #7fbfbf\">                            </span>         improving the product. No personal data or IP addresses are      <span style=\"color: #7f7f7f; text-decoration-color: #7f7f7f\">             </span>\n",
       "<span style=\"color: #7fbfbf; text-decoration-color: #7fbfbf\">                            </span>         stored on our side. If you want to opt out, set the              <span style=\"color: #7f7f7f; text-decoration-color: #7f7f7f\">             </span>\n",
       "<span style=\"color: #7fbfbf; text-decoration-color: #7fbfbf\">                            </span>         `KEDRO_DISABLE_TELEMETRY` or `DO_NOT_TRACK` environment          <span style=\"color: #7f7f7f; text-decoration-color: #7f7f7f\">             </span>\n",
       "<span style=\"color: #7fbfbf; text-decoration-color: #7fbfbf\">                            </span>         variables, or create a `.telemetry` file in the current working  <span style=\"color: #7f7f7f; text-decoration-color: #7f7f7f\">             </span>\n",
       "<span style=\"color: #7fbfbf; text-decoration-color: #7fbfbf\">                            </span>         directory with the contents `consent: false`. Read more at       <span style=\"color: #7f7f7f; text-decoration-color: #7f7f7f\">             </span>\n",
       "<span style=\"color: #7fbfbf; text-decoration-color: #7fbfbf\">                            </span>         <span style=\"color: #0000ff; text-decoration-color: #0000ff; text-decoration: underline\">https://docs.kedro.org/en/stable/configuration/telemetry.html</span>    <span style=\"color: #7f7f7f; text-decoration-color: #7f7f7f\">             </span>\n",
       "</pre>\n"
      ],
      "text/plain": [
       "\u001b[2;36m                           \u001b[0m\u001b[2;36m \u001b[0m\u001b[34mINFO    \u001b[0m Kedro is sending anonymous usage data with the sole purpose of   \u001b[2mplugin.py\u001b[0m\u001b[2m:\u001b[0m\u001b[2m233\u001b[0m\n",
       "\u001b[2;36m                            \u001b[0m         improving the product. No personal data or IP addresses are      \u001b[2m             \u001b[0m\n",
       "\u001b[2;36m                            \u001b[0m         stored on our side. If you want to opt out, set the              \u001b[2m             \u001b[0m\n",
       "\u001b[2;36m                            \u001b[0m         `KEDRO_DISABLE_TELEMETRY` or `DO_NOT_TRACK` environment          \u001b[2m             \u001b[0m\n",
       "\u001b[2;36m                            \u001b[0m         variables, or create a `.telemetry` file in the current working  \u001b[2m             \u001b[0m\n",
       "\u001b[2;36m                            \u001b[0m         directory with the contents `consent: false`. Read more at       \u001b[2m             \u001b[0m\n",
       "\u001b[2;36m                            \u001b[0m         \u001b[4;94mhttps://docs.kedro.org/en/stable/configuration/telemetry.html\u001b[0m    \u001b[2m             \u001b[0m\n"
      ]
     },
     "metadata": {},
     "output_type": "display_data"
    },
    {
     "data": {
      "text/html": [
       "<pre style=\"white-space:pre;overflow-x:auto;line-height:normal;font-family:Menlo,'DejaVu Sans Mono',consolas,'Courier New',monospace\"><span style=\"color: #7fbfbf; text-decoration-color: #7fbfbf\">[31/05/2025 09:43:39 p. m.] </span><span style=\"color: #000080; text-decoration-color: #000080\">INFO    </span> Kedro project tcaProject                                       <span style=\"color: #7f7f7f; text-decoration-color: #7f7f7f\">__init__.py:146</span>\n",
       "</pre>\n"
      ],
      "text/plain": [
       "\u001b[2;36m[31/05/2025 09:43:39 p. m.]\u001b[0m\u001b[2;36m \u001b[0m\u001b[34mINFO    \u001b[0m Kedro project tcaProject                                       \u001b[2m__init__.py\u001b[0m\u001b[2m:\u001b[0m\u001b[2m146\u001b[0m\n"
      ]
     },
     "metadata": {},
     "output_type": "display_data"
    },
    {
     "data": {
      "text/html": [
       "<pre style=\"white-space:pre;overflow-x:auto;line-height:normal;font-family:Menlo,'DejaVu Sans Mono',consolas,'Courier New',monospace\"><span style=\"color: #7fbfbf; text-decoration-color: #7fbfbf\">                            </span><span style=\"color: #000080; text-decoration-color: #000080\">INFO    </span> Defined global variable <span style=\"color: #008000; text-decoration-color: #008000\">'context'</span>, <span style=\"color: #008000; text-decoration-color: #008000\">'session'</span>, <span style=\"color: #008000; text-decoration-color: #008000\">'catalog'</span> and    <span style=\"color: #7f7f7f; text-decoration-color: #7f7f7f\">__init__.py:147</span>\n",
       "<span style=\"color: #7fbfbf; text-decoration-color: #7fbfbf\">                            </span>         <span style=\"color: #008000; text-decoration-color: #008000\">'pipelines'</span>                                                    <span style=\"color: #7f7f7f; text-decoration-color: #7f7f7f\">               </span>\n",
       "</pre>\n"
      ],
      "text/plain": [
       "\u001b[2;36m                           \u001b[0m\u001b[2;36m \u001b[0m\u001b[34mINFO    \u001b[0m Defined global variable \u001b[32m'context'\u001b[0m, \u001b[32m'session'\u001b[0m, \u001b[32m'catalog'\u001b[0m and    \u001b[2m__init__.py\u001b[0m\u001b[2m:\u001b[0m\u001b[2m147\u001b[0m\n",
       "\u001b[2;36m                            \u001b[0m         \u001b[32m'pipelines'\u001b[0m                                                    \u001b[2m               \u001b[0m\n"
      ]
     },
     "metadata": {},
     "output_type": "display_data"
    },
    {
     "data": {
      "text/html": [
       "<pre style=\"white-space:pre;overflow-x:auto;line-height:normal;font-family:Menlo,'DejaVu Sans Mono',consolas,'Courier New',monospace\"><span style=\"color: #7fbfbf; text-decoration-color: #7fbfbf\">                            </span><span style=\"color: #000080; text-decoration-color: #000080\">INFO    </span> Registered line magic <span style=\"color: #008000; text-decoration-color: #008000\">'run_viz'</span>                                <span style=\"color: #7f7f7f; text-decoration-color: #7f7f7f\">__init__.py:153</span>\n",
       "</pre>\n"
      ],
      "text/plain": [
       "\u001b[2;36m                           \u001b[0m\u001b[2;36m \u001b[0m\u001b[34mINFO    \u001b[0m Registered line magic \u001b[32m'run_viz'\u001b[0m                                \u001b[2m__init__.py\u001b[0m\u001b[2m:\u001b[0m\u001b[2m153\u001b[0m\n"
      ]
     },
     "metadata": {},
     "output_type": "display_data"
    }
   ],
   "source": [
    "%reload_kedro"
   ]
  },
  {
   "cell_type": "code",
   "execution_count": 24,
   "id": "6bd2f579",
   "metadata": {},
   "outputs": [
    {
     "data": {
      "text/html": [
       "<pre style=\"white-space:pre;overflow-x:auto;line-height:normal;font-family:Menlo,'DejaVu Sans Mono',consolas,'Courier New',monospace\"><span style=\"color: #7fbfbf; text-decoration-color: #7fbfbf\">[31/05/2025 09:43:40 p. m.] </span><span style=\"color: #000080; text-decoration-color: #000080\">INFO    </span> Loading data from <span style=\"color: #ff8700; text-decoration-color: #ff8700\">reservaciones_cleaned</span>                    <span style=\"color: #7f7f7f; text-decoration-color: #7f7f7f\">data_catalog.py:403</span>\n",
       "<span style=\"color: #7fbfbf; text-decoration-color: #7fbfbf\">                            </span>         <span style=\"font-weight: bold\">(</span>ParquetDataset<span style=\"font-weight: bold\">)</span><span style=\"color: #808000; text-decoration-color: #808000\">...</span>                                        <span style=\"color: #7f7f7f; text-decoration-color: #7f7f7f\">                   </span>\n",
       "</pre>\n"
      ],
      "text/plain": [
       "\u001b[2;36m[31/05/2025 09:43:40 p. m.]\u001b[0m\u001b[2;36m \u001b[0m\u001b[34mINFO    \u001b[0m Loading data from \u001b[38;5;208mreservaciones_cleaned\u001b[0m                    \u001b[2mdata_catalog.py\u001b[0m\u001b[2m:\u001b[0m\u001b[2m403\u001b[0m\n",
       "\u001b[2;36m                            \u001b[0m         \u001b[1m(\u001b[0mParquetDataset\u001b[1m)\u001b[0m\u001b[33m...\u001b[0m                                        \u001b[2m                   \u001b[0m\n"
      ]
     },
     "metadata": {},
     "output_type": "display_data"
    },
    {
     "data": {
      "text/html": [
       "<pre style=\"white-space:pre;overflow-x:auto;line-height:normal;font-family:Menlo,'DejaVu Sans Mono',consolas,'Courier New',monospace\"></pre>\n"
      ],
      "text/plain": []
     },
     "metadata": {},
     "output_type": "display_data"
    },
    {
     "data": {
      "text/plain": [
       "\u001b[1m(\u001b[0m\u001b[1;36m202491\u001b[0m, \u001b[1;36m49\u001b[0m\u001b[1m)\u001b[0m"
      ]
     },
     "execution_count": 24,
     "metadata": {},
     "output_type": "execute_result"
    }
   ],
   "source": [
    "df = catalog.load(\"reservaciones_cleaned\")  # type: ignore # noqa: F821\n",
    "df.shape"
   ]
  },
  {
   "cell_type": "code",
   "execution_count": 25,
   "id": "ef41679f",
   "metadata": {},
   "outputs": [
    {
     "name": "stdout",
     "output_type": "stream",
     "text": [
      "<class 'pandas.core.frame.DataFrame'>\n",
      "Index: 202491 entries, 0 to 203001\n",
      "Columns: 49 entries, id_reservaciones to cliente_disp_anio_anterior\n",
      "dtypes: bool(3), datetime64[ns](5), float64(2), int64(24), object(15)\n",
      "memory usage: 73.2+ MB\n"
     ]
    }
   ],
   "source": [
    "df.info(verbose=False)"
   ]
  },
  {
   "cell_type": "code",
   "execution_count": 26,
   "id": "30105c04",
   "metadata": {},
   "outputs": [
    {
     "data": {
      "text/html": [
       "<pre style=\"white-space:pre;overflow-x:auto;line-height:normal;font-family:Menlo,'DejaVu Sans Mono',consolas,'Courier New',monospace\"></pre>\n"
      ],
      "text/plain": []
     },
     "metadata": {},
     "output_type": "display_data"
    },
    {
     "data": {
      "application/vnd.microsoft.datawrangler.viewer.v0+json": {
       "columns": [
        {
         "name": "index",
         "rawType": "int64",
         "type": "integer"
        },
        {
         "name": "id_reservaciones",
         "rawType": "int64",
         "type": "integer"
        },
        {
         "name": "fecha_hoy",
         "rawType": "datetime64[ns]",
         "type": "datetime"
        },
        {
         "name": "fecha_reservacion",
         "rawType": "datetime64[ns]",
         "type": "datetime"
        },
        {
         "name": "fecha_llegada",
         "rawType": "datetime64[ns]",
         "type": "datetime"
        },
        {
         "name": "fecha_salida",
         "rawType": "datetime64[ns]",
         "type": "datetime"
        },
        {
         "name": "numero_personas",
         "rawType": "int64",
         "type": "integer"
        },
        {
         "name": "numero_personas_anio_anterior",
         "rawType": "int64",
         "type": "integer"
        },
        {
         "name": "numero_adultos",
         "rawType": "int64",
         "type": "integer"
        },
        {
         "name": "numero_adultos_anio_anterior",
         "rawType": "int64",
         "type": "integer"
        },
        {
         "name": "numero_menores",
         "rawType": "int64",
         "type": "integer"
        },
        {
         "name": "numero_menores_anio_anterior",
         "rawType": "int64",
         "type": "integer"
        },
        {
         "name": "numero_noches",
         "rawType": "int64",
         "type": "integer"
        },
        {
         "name": "numero_noches_anio_anterior",
         "rawType": "int64",
         "type": "integer"
        },
        {
         "name": "total_habitaciones",
         "rawType": "int64",
         "type": "integer"
        },
        {
         "name": "total_habitaciones_anio_anterior",
         "rawType": "int64",
         "type": "integer"
        },
        {
         "name": "id_programa",
         "rawType": "int64",
         "type": "integer"
        },
        {
         "name": "nombre_programa",
         "rawType": "object",
         "type": "string"
        },
        {
         "name": "id_paquete",
         "rawType": "int64",
         "type": "integer"
        },
        {
         "name": "nombre_paquete",
         "rawType": "object",
         "type": "string"
        },
        {
         "name": "id_segmento",
         "rawType": "int64",
         "type": "integer"
        },
        {
         "name": "nombre_segmento",
         "rawType": "object",
         "type": "string"
        },
        {
         "name": "id_agencia",
         "rawType": "int64",
         "type": "integer"
        },
        {
         "name": "nombre_agencia",
         "rawType": "object",
         "type": "string"
        },
        {
         "name": "ciudad_agencia",
         "rawType": "object",
         "type": "string"
        },
        {
         "name": "entidad_federativa_agencia",
         "rawType": "object",
         "type": "string"
        },
        {
         "name": "pais_agencia",
         "rawType": "object",
         "type": "string"
        },
        {
         "name": "id_empresa",
         "rawType": "int64",
         "type": "integer"
        },
        {
         "name": "nombre_empresa",
         "rawType": "object",
         "type": "string"
        },
        {
         "name": "total_habitaciones_empresa",
         "rawType": "int64",
         "type": "integer"
        },
        {
         "name": "id_tipo_habitacion",
         "rawType": "int64",
         "type": "integer"
        },
        {
         "name": "nombre_tipo_habitacion",
         "rawType": "object",
         "type": "string"
        },
        {
         "name": "cupo_tipo_habitacion",
         "rawType": "float64",
         "type": "float"
        },
        {
         "name": "clasificacion_tipo_habitacion",
         "rawType": "object",
         "type": "string"
        },
        {
         "name": "id_canal",
         "rawType": "int64",
         "type": "integer"
        },
        {
         "name": "nombre_canal",
         "rawType": "object",
         "type": "string"
        },
        {
         "name": "id_pais_origen",
         "rawType": "int64",
         "type": "integer"
        },
        {
         "name": "nombre_pais_origen",
         "rawType": "object",
         "type": "string"
        },
        {
         "name": "reservacion_pendiente",
         "rawType": "bool",
         "type": "boolean"
        },
        {
         "name": "id_estatus_reservacion",
         "rawType": "int64",
         "type": "integer"
        },
        {
         "name": "nombre_estatus_reservacion",
         "rawType": "object",
         "type": "string"
        },
        {
         "name": "clave_estado",
         "rawType": "object",
         "type": "string"
        },
        {
         "name": "nombre_estado",
         "rawType": "object",
         "type": "string"
        },
        {
         "name": "total_tarifa",
         "rawType": "float64",
         "type": "float"
        },
        {
         "name": "id_moneda",
         "rawType": "int64",
         "type": "integer"
        },
        {
         "name": "fecha_ultimo_cambio",
         "rawType": "datetime64[ns]",
         "type": "datetime"
        },
        {
         "name": "reservacion",
         "rawType": "bool",
         "type": "boolean"
        },
        {
         "name": "reservacion_anio_anterior",
         "rawType": "bool",
         "type": "boolean"
        },
        {
         "name": "id_cliente_disp",
         "rawType": "int64",
         "type": "integer"
        },
        {
         "name": "cliente_disp_anio_anterior",
         "rawType": "int64",
         "type": "integer"
        }
       ],
       "ref": "3276877f-e9b6-4f18-8797-ab02da7c077b",
       "rows": [
        [
         "0",
         "0",
         "2019-08-16 00:00:00",
         "2019-08-16 00:00:00",
         "2019-07-11 00:00:00",
         "2019-10-11 00:00:00",
         "2",
         "0",
         "2",
         "0",
         "0",
         "0",
         "3",
         "0",
         "1",
         "0",
         "1",
         "Ninguno                                           ",
         "1",
         "Walk In                                           ",
         "14",
         "Individual  Ep/Vac. Club      ",
         "112",
         "Hoteles S.A.",
         "Mexico City                                                 ",
         "México                        ",
         "México",
         "1",
         "Hotel 1",
         "735",
         "25",
         "Estd 2Q        Sn12Mst        ",
         "2.0",
         "Mst",
         "10",
         "Multivacaciones 2",
         "157",
         "Mexico                        ",
         "True",
         "9",
         "Salida",
         "Emx   ",
         "México                        ",
         "2659.98",
         "1",
         "2019-10-11 00:00:00",
         "True",
         "False",
         "2",
         "0"
        ],
        [
         "1",
         "1",
         "2019-10-22 00:00:00",
         "2019-10-22 00:00:00",
         "2019-01-12 00:00:00",
         "2019-05-12 00:00:00",
         "4",
         "0",
         "4",
         "0",
         "0",
         "0",
         "4",
         "0",
         "1",
         "0",
         "1",
         "Ninguno                                           ",
         "2",
         "Ninguno                                           ",
         "14",
         "Individual  Ep/Vac. Club      ",
         "112",
         "Hoteles S.A.",
         "Mexico City                                                 ",
         "México                        ",
         "México",
         "1",
         "Hotel 1",
         "735",
         "25",
         "Estd 2Q        Sn12Mst        ",
         "2.0",
         "Mst",
         "10",
         "Multivacaciones 2",
         "157",
         "Mexico                        ",
         "True",
         "9",
         "Salida",
         "Egt   ",
         "Guanajuato                    ",
         "1764.0",
         "1",
         "2019-05-12 00:00:00",
         "True",
         "False",
         "4",
         "0"
        ],
        [
         "2",
         "2",
         "2019-10-28 00:00:00",
         "2019-10-28 00:00:00",
         "2019-01-12 00:00:00",
         "2019-05-12 00:00:00",
         "2",
         "0",
         "2",
         "0",
         "0",
         "0",
         "4",
         "0",
         "1",
         "0",
         "1",
         "Ninguno                                           ",
         "1",
         "Walk In                                           ",
         "14",
         "Individual  Ep/Vac. Club      ",
         "112",
         "Hoteles S.A.",
         "Mexico City                                                 ",
         "México                        ",
         "México",
         "1",
         "Hotel 1",
         "735",
         "23",
         "Jr Suite 1K    Sn12Mjs        ",
         "2.0",
         "Mjs",
         "10",
         "Multivacaciones 2",
         "157",
         "Mexico                        ",
         "True",
         "9",
         "Salida",
         "Emc   ",
         "Michoacán                     ",
         "2660.04",
         "1",
         "2019-05-12 00:00:00",
         "True",
         "False",
         "2",
         "0"
        ],
        [
         "3",
         "3",
         "2019-10-28 00:00:00",
         "2019-10-28 00:00:00",
         "2019-08-12 00:00:00",
         "2019-11-12 00:00:00",
         "4",
         "0",
         "3",
         "0",
         "0",
         "0",
         "3",
         "0",
         "1",
         "0",
         "1",
         "Ninguno                                           ",
         "2",
         "Ninguno                                           ",
         "14",
         "Individual  Ep/Vac. Club      ",
         "112",
         "Hoteles S.A.",
         "Mexico City                                                 ",
         "México                        ",
         "México",
         "1",
         "Hotel 1",
         "735",
         "24",
         "Jr Suite 2Q    Sn12Mjs        ",
         "2.0",
         "Mjs",
         "10",
         "Multivacaciones 2",
         "157",
         "Mexico                        ",
         "True",
         "9",
         "Salida",
         "Egt   ",
         "Guanajuato                    ",
         "1995.03",
         "1",
         "2019-11-12 00:00:00",
         "True",
         "False",
         "3",
         "0"
        ],
        [
         "4",
         "4",
         "2019-10-28 00:00:00",
         "2019-10-28 00:00:00",
         "2019-08-12 00:00:00",
         "2019-12-12 00:00:00",
         "2",
         "0",
         "2",
         "0",
         "0",
         "0",
         "4",
         "0",
         "1",
         "0",
         "1",
         "Ninguno                                           ",
         "1",
         "Walk In                                           ",
         "5",
         "Ecommerce Ota Domestic        ",
         "14",
         "Bestday Travel Group                                                                                ",
         "Cancún                                                      ",
         "Quintana Roo                  ",
         "México",
         "1",
         "Hotel 1",
         "735",
         "4",
         "Luxury 2Q      Sn12Gsu        ",
         "2.0",
         "Gsu",
         "13",
         "Vertical Booking                                  ",
         "157",
         "Mexico                        ",
         "True",
         "9",
         "Salida",
         "Emx   ",
         "México                        ",
         "13369.92",
         "1",
         "2019-12-12 00:00:00",
         "True",
         "False",
         "2",
         "0"
        ]
       ],
       "shape": {
        "columns": 49,
        "rows": 5
       }
      },
      "text/html": [
       "<div>\n",
       "<style scoped>\n",
       "    .dataframe tbody tr th:only-of-type {\n",
       "        vertical-align: middle;\n",
       "    }\n",
       "\n",
       "    .dataframe tbody tr th {\n",
       "        vertical-align: top;\n",
       "    }\n",
       "\n",
       "    .dataframe thead th {\n",
       "        text-align: right;\n",
       "    }\n",
       "</style>\n",
       "<table border=\"1\" class=\"dataframe\">\n",
       "  <thead>\n",
       "    <tr style=\"text-align: right;\">\n",
       "      <th></th>\n",
       "      <th>id_reservaciones</th>\n",
       "      <th>fecha_hoy</th>\n",
       "      <th>fecha_reservacion</th>\n",
       "      <th>fecha_llegada</th>\n",
       "      <th>fecha_salida</th>\n",
       "      <th>numero_personas</th>\n",
       "      <th>numero_personas_anio_anterior</th>\n",
       "      <th>numero_adultos</th>\n",
       "      <th>numero_adultos_anio_anterior</th>\n",
       "      <th>numero_menores</th>\n",
       "      <th>...</th>\n",
       "      <th>nombre_estatus_reservacion</th>\n",
       "      <th>clave_estado</th>\n",
       "      <th>nombre_estado</th>\n",
       "      <th>total_tarifa</th>\n",
       "      <th>id_moneda</th>\n",
       "      <th>fecha_ultimo_cambio</th>\n",
       "      <th>reservacion</th>\n",
       "      <th>reservacion_anio_anterior</th>\n",
       "      <th>id_cliente_disp</th>\n",
       "      <th>cliente_disp_anio_anterior</th>\n",
       "    </tr>\n",
       "  </thead>\n",
       "  <tbody>\n",
       "    <tr>\n",
       "      <th>0</th>\n",
       "      <td>0</td>\n",
       "      <td>2019-08-16</td>\n",
       "      <td>2019-08-16</td>\n",
       "      <td>2019-07-11</td>\n",
       "      <td>2019-10-11</td>\n",
       "      <td>2</td>\n",
       "      <td>0</td>\n",
       "      <td>2</td>\n",
       "      <td>0</td>\n",
       "      <td>0</td>\n",
       "      <td>...</td>\n",
       "      <td>Salida</td>\n",
       "      <td>Emx</td>\n",
       "      <td>México</td>\n",
       "      <td>2659.98</td>\n",
       "      <td>1</td>\n",
       "      <td>2019-10-11</td>\n",
       "      <td>True</td>\n",
       "      <td>False</td>\n",
       "      <td>2</td>\n",
       "      <td>0</td>\n",
       "    </tr>\n",
       "    <tr>\n",
       "      <th>1</th>\n",
       "      <td>1</td>\n",
       "      <td>2019-10-22</td>\n",
       "      <td>2019-10-22</td>\n",
       "      <td>2019-01-12</td>\n",
       "      <td>2019-05-12</td>\n",
       "      <td>4</td>\n",
       "      <td>0</td>\n",
       "      <td>4</td>\n",
       "      <td>0</td>\n",
       "      <td>0</td>\n",
       "      <td>...</td>\n",
       "      <td>Salida</td>\n",
       "      <td>Egt</td>\n",
       "      <td>Guanajuato</td>\n",
       "      <td>1764.00</td>\n",
       "      <td>1</td>\n",
       "      <td>2019-05-12</td>\n",
       "      <td>True</td>\n",
       "      <td>False</td>\n",
       "      <td>4</td>\n",
       "      <td>0</td>\n",
       "    </tr>\n",
       "    <tr>\n",
       "      <th>2</th>\n",
       "      <td>2</td>\n",
       "      <td>2019-10-28</td>\n",
       "      <td>2019-10-28</td>\n",
       "      <td>2019-01-12</td>\n",
       "      <td>2019-05-12</td>\n",
       "      <td>2</td>\n",
       "      <td>0</td>\n",
       "      <td>2</td>\n",
       "      <td>0</td>\n",
       "      <td>0</td>\n",
       "      <td>...</td>\n",
       "      <td>Salida</td>\n",
       "      <td>Emc</td>\n",
       "      <td>Michoacán</td>\n",
       "      <td>2660.04</td>\n",
       "      <td>1</td>\n",
       "      <td>2019-05-12</td>\n",
       "      <td>True</td>\n",
       "      <td>False</td>\n",
       "      <td>2</td>\n",
       "      <td>0</td>\n",
       "    </tr>\n",
       "    <tr>\n",
       "      <th>3</th>\n",
       "      <td>3</td>\n",
       "      <td>2019-10-28</td>\n",
       "      <td>2019-10-28</td>\n",
       "      <td>2019-08-12</td>\n",
       "      <td>2019-11-12</td>\n",
       "      <td>4</td>\n",
       "      <td>0</td>\n",
       "      <td>3</td>\n",
       "      <td>0</td>\n",
       "      <td>0</td>\n",
       "      <td>...</td>\n",
       "      <td>Salida</td>\n",
       "      <td>Egt</td>\n",
       "      <td>Guanajuato</td>\n",
       "      <td>1995.03</td>\n",
       "      <td>1</td>\n",
       "      <td>2019-11-12</td>\n",
       "      <td>True</td>\n",
       "      <td>False</td>\n",
       "      <td>3</td>\n",
       "      <td>0</td>\n",
       "    </tr>\n",
       "    <tr>\n",
       "      <th>4</th>\n",
       "      <td>4</td>\n",
       "      <td>2019-10-28</td>\n",
       "      <td>2019-10-28</td>\n",
       "      <td>2019-08-12</td>\n",
       "      <td>2019-12-12</td>\n",
       "      <td>2</td>\n",
       "      <td>0</td>\n",
       "      <td>2</td>\n",
       "      <td>0</td>\n",
       "      <td>0</td>\n",
       "      <td>...</td>\n",
       "      <td>Salida</td>\n",
       "      <td>Emx</td>\n",
       "      <td>México</td>\n",
       "      <td>13369.92</td>\n",
       "      <td>1</td>\n",
       "      <td>2019-12-12</td>\n",
       "      <td>True</td>\n",
       "      <td>False</td>\n",
       "      <td>2</td>\n",
       "      <td>0</td>\n",
       "    </tr>\n",
       "  </tbody>\n",
       "</table>\n",
       "<p>5 rows × 49 columns</p>\n",
       "</div>"
      ],
      "text/plain": [
       "\n",
       "   id_reservaciones  fecha_hoy fecha_reservacion fecha_llegada fecha_salida  \\\n",
       "\u001b[1;36m0\u001b[0m                 \u001b[1;36m0\u001b[0m \u001b[1;36m2019\u001b[0m-\u001b[1;36m08\u001b[0m-\u001b[1;36m16\u001b[0m        \u001b[1;36m2019\u001b[0m-\u001b[1;36m08\u001b[0m-\u001b[1;36m16\u001b[0m    \u001b[1;36m2019\u001b[0m-\u001b[1;36m07\u001b[0m-\u001b[1;36m11\u001b[0m   \u001b[1;36m2019\u001b[0m-\u001b[1;36m10\u001b[0m-\u001b[1;36m11\u001b[0m   \n",
       "\u001b[1;36m1\u001b[0m                 \u001b[1;36m1\u001b[0m \u001b[1;36m2019\u001b[0m-\u001b[1;36m10\u001b[0m-\u001b[1;36m22\u001b[0m        \u001b[1;36m2019\u001b[0m-\u001b[1;36m10\u001b[0m-\u001b[1;36m22\u001b[0m    \u001b[1;36m2019\u001b[0m-\u001b[1;36m01\u001b[0m-\u001b[1;36m12\u001b[0m   \u001b[1;36m2019\u001b[0m-\u001b[1;36m05\u001b[0m-\u001b[1;36m12\u001b[0m   \n",
       "\u001b[1;36m2\u001b[0m                 \u001b[1;36m2\u001b[0m \u001b[1;36m2019\u001b[0m-\u001b[1;36m10\u001b[0m-\u001b[1;36m28\u001b[0m        \u001b[1;36m2019\u001b[0m-\u001b[1;36m10\u001b[0m-\u001b[1;36m28\u001b[0m    \u001b[1;36m2019\u001b[0m-\u001b[1;36m01\u001b[0m-\u001b[1;36m12\u001b[0m   \u001b[1;36m2019\u001b[0m-\u001b[1;36m05\u001b[0m-\u001b[1;36m12\u001b[0m   \n",
       "\u001b[1;36m3\u001b[0m                 \u001b[1;36m3\u001b[0m \u001b[1;36m2019\u001b[0m-\u001b[1;36m10\u001b[0m-\u001b[1;36m28\u001b[0m        \u001b[1;36m2019\u001b[0m-\u001b[1;36m10\u001b[0m-\u001b[1;36m28\u001b[0m    \u001b[1;36m2019\u001b[0m-\u001b[1;36m08\u001b[0m-\u001b[1;36m12\u001b[0m   \u001b[1;36m2019\u001b[0m-\u001b[1;36m11\u001b[0m-\u001b[1;36m12\u001b[0m   \n",
       "\u001b[1;36m4\u001b[0m                 \u001b[1;36m4\u001b[0m \u001b[1;36m2019\u001b[0m-\u001b[1;36m10\u001b[0m-\u001b[1;36m28\u001b[0m        \u001b[1;36m2019\u001b[0m-\u001b[1;36m10\u001b[0m-\u001b[1;36m28\u001b[0m    \u001b[1;36m2019\u001b[0m-\u001b[1;36m08\u001b[0m-\u001b[1;36m12\u001b[0m   \u001b[1;36m2019\u001b[0m-\u001b[1;36m12\u001b[0m-\u001b[1;36m12\u001b[0m   \n",
       "\n",
       "   numero_personas  numero_personas_anio_anterior  numero_adultos  \\\n",
       "\u001b[1;36m0\u001b[0m                \u001b[1;36m2\u001b[0m                              \u001b[1;36m0\u001b[0m               \u001b[1;36m2\u001b[0m   \n",
       "\u001b[1;36m1\u001b[0m                \u001b[1;36m4\u001b[0m                              \u001b[1;36m0\u001b[0m               \u001b[1;36m4\u001b[0m   \n",
       "\u001b[1;36m2\u001b[0m                \u001b[1;36m2\u001b[0m                              \u001b[1;36m0\u001b[0m               \u001b[1;36m2\u001b[0m   \n",
       "\u001b[1;36m3\u001b[0m                \u001b[1;36m4\u001b[0m                              \u001b[1;36m0\u001b[0m               \u001b[1;36m3\u001b[0m   \n",
       "\u001b[1;36m4\u001b[0m                \u001b[1;36m2\u001b[0m                              \u001b[1;36m0\u001b[0m               \u001b[1;36m2\u001b[0m   \n",
       "\n",
       "   numero_adultos_anio_anterior  numero_menores  \u001b[33m...\u001b[0m  \\\n",
       "\u001b[1;36m0\u001b[0m                             \u001b[1;36m0\u001b[0m               \u001b[1;36m0\u001b[0m  \u001b[33m...\u001b[0m   \n",
       "\u001b[1;36m1\u001b[0m                             \u001b[1;36m0\u001b[0m               \u001b[1;36m0\u001b[0m  \u001b[33m...\u001b[0m   \n",
       "\u001b[1;36m2\u001b[0m                             \u001b[1;36m0\u001b[0m               \u001b[1;36m0\u001b[0m  \u001b[33m...\u001b[0m   \n",
       "\u001b[1;36m3\u001b[0m                             \u001b[1;36m0\u001b[0m               \u001b[1;36m0\u001b[0m  \u001b[33m...\u001b[0m   \n",
       "\u001b[1;36m4\u001b[0m                             \u001b[1;36m0\u001b[0m               \u001b[1;36m0\u001b[0m  \u001b[33m...\u001b[0m   \n",
       "\n",
       "   nombre_estatus_reservacion  clave_estado                   nombre_estado  \\\n",
       "\u001b[1;36m0\u001b[0m                      Salida        Emx     México                           \n",
       "\u001b[1;36m1\u001b[0m                      Salida        Egt     Guanajuato                       \n",
       "\u001b[1;36m2\u001b[0m                      Salida        Emc     Michoacán                        \n",
       "\u001b[1;36m3\u001b[0m                      Salida        Egt     Guanajuato                       \n",
       "\u001b[1;36m4\u001b[0m                      Salida        Emx     México                           \n",
       "\n",
       "   total_tarifa  id_moneda  fecha_ultimo_cambio reservacion  \\\n",
       "\u001b[1;36m0\u001b[0m       \u001b[1;36m2659.98\u001b[0m          \u001b[1;36m1\u001b[0m           \u001b[1;36m2019\u001b[0m-\u001b[1;36m10\u001b[0m-\u001b[1;36m11\u001b[0m        \u001b[3;92mTrue\u001b[0m   \n",
       "\u001b[1;36m1\u001b[0m       \u001b[1;36m1764.00\u001b[0m          \u001b[1;36m1\u001b[0m           \u001b[1;36m2019\u001b[0m-\u001b[1;36m05\u001b[0m-\u001b[1;36m12\u001b[0m        \u001b[3;92mTrue\u001b[0m   \n",
       "\u001b[1;36m2\u001b[0m       \u001b[1;36m2660.04\u001b[0m          \u001b[1;36m1\u001b[0m           \u001b[1;36m2019\u001b[0m-\u001b[1;36m05\u001b[0m-\u001b[1;36m12\u001b[0m        \u001b[3;92mTrue\u001b[0m   \n",
       "\u001b[1;36m3\u001b[0m       \u001b[1;36m1995.03\u001b[0m          \u001b[1;36m1\u001b[0m           \u001b[1;36m2019\u001b[0m-\u001b[1;36m11\u001b[0m-\u001b[1;36m12\u001b[0m        \u001b[3;92mTrue\u001b[0m   \n",
       "\u001b[1;36m4\u001b[0m      \u001b[1;36m13369.92\u001b[0m          \u001b[1;36m1\u001b[0m           \u001b[1;36m2019\u001b[0m-\u001b[1;36m12\u001b[0m-\u001b[1;36m12\u001b[0m        \u001b[3;92mTrue\u001b[0m   \n",
       "\n",
       "   reservacion_anio_anterior id_cliente_disp  cliente_disp_anio_anterior  \n",
       "\u001b[1;36m0\u001b[0m                      \u001b[3;91mFalse\u001b[0m               \u001b[1;36m2\u001b[0m                           \u001b[1;36m0\u001b[0m  \n",
       "\u001b[1;36m1\u001b[0m                      \u001b[3;91mFalse\u001b[0m               \u001b[1;36m4\u001b[0m                           \u001b[1;36m0\u001b[0m  \n",
       "\u001b[1;36m2\u001b[0m                      \u001b[3;91mFalse\u001b[0m               \u001b[1;36m2\u001b[0m                           \u001b[1;36m0\u001b[0m  \n",
       "\u001b[1;36m3\u001b[0m                      \u001b[3;91mFalse\u001b[0m               \u001b[1;36m3\u001b[0m                           \u001b[1;36m0\u001b[0m  \n",
       "\u001b[1;36m4\u001b[0m                      \u001b[3;91mFalse\u001b[0m               \u001b[1;36m2\u001b[0m                           \u001b[1;36m0\u001b[0m  \n",
       "\n",
       "\u001b[1m[\u001b[0m\u001b[1;36m5\u001b[0m rows x \u001b[1;36m49\u001b[0m columns\u001b[1m]\u001b[0m"
      ]
     },
     "execution_count": 26,
     "metadata": {},
     "output_type": "execute_result"
    }
   ],
   "source": [
    "df.head()"
   ]
  },
  {
   "cell_type": "markdown",
   "id": "b1469f76",
   "metadata": {},
   "source": [
    "### Data Processing"
   ]
  },
  {
   "cell_type": "markdown",
   "id": "951552ad",
   "metadata": {},
   "source": [
    "#### 0. Target Variable\n",
    "\n",
    "Definition of target varable (cancelacion)"
   ]
  },
  {
   "cell_type": "code",
   "execution_count": 28,
   "id": "c269ee51",
   "metadata": {},
   "outputs": [
    {
     "data": {
      "text/html": [
       "<pre style=\"white-space:pre;overflow-x:auto;line-height:normal;font-family:Menlo,'DejaVu Sans Mono',consolas,'Courier New',monospace\"></pre>\n"
      ],
      "text/plain": []
     },
     "metadata": {},
     "output_type": "display_data"
    },
    {
     "data": {
      "application/vnd.microsoft.datawrangler.viewer.v0+json": {
       "columns": [
        {
         "name": "cancelacion",
         "rawType": "int64",
         "type": "integer"
        },
        {
         "name": "count",
         "rawType": "int64",
         "type": "integer"
        }
       ],
       "ref": "86a361f5-6a5e-4918-b69e-ed969dc58c20",
       "rows": [
        [
         "0",
         "169194"
        ],
        [
         "1",
         "33297"
        ]
       ],
       "shape": {
        "columns": 1,
        "rows": 2
       }
      },
      "text/plain": [
       "\n",
       "cancelacion\n",
       "\u001b[1;36m0\u001b[0m    \u001b[1;36m169194\u001b[0m\n",
       "\u001b[1;36m1\u001b[0m     \u001b[1;36m33297\u001b[0m\n",
       "Name: count, dtype: int64"
      ]
     },
     "execution_count": 28,
     "metadata": {},
     "output_type": "execute_result"
    }
   ],
   "source": [
    "df_tv = df.copy() # Copy of last dataset\n",
    "\n",
    "df_tv['cancelacion'] = df_tv[\"nombre_estatus_reservacion\"].apply(lambda x: 1 if x == 'Reservacion Cancelada' else 0)\n",
    "\n",
    "# Value counts of target variable\n",
    "df_tv['cancelacion'].value_counts()"
   ]
  },
  {
   "cell_type": "markdown",
   "id": "52d0670f",
   "metadata": {},
   "source": [
    "#### 1. Filter variables\n",
    "\n",
    "Filter the variables that will be used by the model."
   ]
  },
  {
   "cell_type": "code",
   "execution_count": 29,
   "id": "498bc64b",
   "metadata": {},
   "outputs": [
    {
     "data": {
      "text/html": [
       "<pre style=\"white-space:pre;overflow-x:auto;line-height:normal;font-family:Menlo,'DejaVu Sans Mono',consolas,'Courier New',monospace\"></pre>\n"
      ],
      "text/plain": []
     },
     "metadata": {},
     "output_type": "display_data"
    },
    {
     "data": {
      "application/vnd.microsoft.datawrangler.viewer.v0+json": {
       "columns": [
        {
         "name": "index",
         "rawType": "int64",
         "type": "integer"
        },
        {
         "name": "nombre_paquete",
         "rawType": "object",
         "type": "string"
        },
        {
         "name": "ciudad_agencia",
         "rawType": "object",
         "type": "string"
        },
        {
         "name": "nombre_tipo_habitacion",
         "rawType": "object",
         "type": "string"
        },
        {
         "name": "nombre_canal",
         "rawType": "object",
         "type": "string"
        },
        {
         "name": "nombre_estado",
         "rawType": "object",
         "type": "string"
        },
        {
         "name": "cancelacion",
         "rawType": "int64",
         "type": "integer"
        }
       ],
       "ref": "8f82eeb3-dfad-4943-bc21-657ba72fb861",
       "rows": [
        [
         "0",
         "Walk In                                           ",
         "Mexico City                                                 ",
         "Estd 2Q        Sn12Mst        ",
         "Multivacaciones 2",
         "México                        ",
         "0"
        ],
        [
         "1",
         "Ninguno                                           ",
         "Mexico City                                                 ",
         "Estd 2Q        Sn12Mst        ",
         "Multivacaciones 2",
         "Guanajuato                    ",
         "0"
        ],
        [
         "2",
         "Walk In                                           ",
         "Mexico City                                                 ",
         "Jr Suite 1K    Sn12Mjs        ",
         "Multivacaciones 2",
         "Michoacán                     ",
         "0"
        ],
        [
         "3",
         "Ninguno                                           ",
         "Mexico City                                                 ",
         "Jr Suite 2Q    Sn12Mjs        ",
         "Multivacaciones 2",
         "Guanajuato                    ",
         "0"
        ],
        [
         "4",
         "Walk In                                           ",
         "Cancún                                                      ",
         "Luxury 2Q      Sn12Gsu        ",
         "Vertical Booking                                  ",
         "México                        ",
         "0"
        ]
       ],
       "shape": {
        "columns": 6,
        "rows": 5
       }
      },
      "text/html": [
       "<div>\n",
       "<style scoped>\n",
       "    .dataframe tbody tr th:only-of-type {\n",
       "        vertical-align: middle;\n",
       "    }\n",
       "\n",
       "    .dataframe tbody tr th {\n",
       "        vertical-align: top;\n",
       "    }\n",
       "\n",
       "    .dataframe thead th {\n",
       "        text-align: right;\n",
       "    }\n",
       "</style>\n",
       "<table border=\"1\" class=\"dataframe\">\n",
       "  <thead>\n",
       "    <tr style=\"text-align: right;\">\n",
       "      <th></th>\n",
       "      <th>nombre_paquete</th>\n",
       "      <th>ciudad_agencia</th>\n",
       "      <th>nombre_tipo_habitacion</th>\n",
       "      <th>nombre_canal</th>\n",
       "      <th>nombre_estado</th>\n",
       "      <th>cancelacion</th>\n",
       "    </tr>\n",
       "  </thead>\n",
       "  <tbody>\n",
       "    <tr>\n",
       "      <th>0</th>\n",
       "      <td>Walk In                                       ...</td>\n",
       "      <td>Mexico City                                   ...</td>\n",
       "      <td>Estd 2Q        Sn12Mst</td>\n",
       "      <td>Multivacaciones 2</td>\n",
       "      <td>México</td>\n",
       "      <td>0</td>\n",
       "    </tr>\n",
       "    <tr>\n",
       "      <th>1</th>\n",
       "      <td>Ninguno                                       ...</td>\n",
       "      <td>Mexico City                                   ...</td>\n",
       "      <td>Estd 2Q        Sn12Mst</td>\n",
       "      <td>Multivacaciones 2</td>\n",
       "      <td>Guanajuato</td>\n",
       "      <td>0</td>\n",
       "    </tr>\n",
       "    <tr>\n",
       "      <th>2</th>\n",
       "      <td>Walk In                                       ...</td>\n",
       "      <td>Mexico City                                   ...</td>\n",
       "      <td>Jr Suite 1K    Sn12Mjs</td>\n",
       "      <td>Multivacaciones 2</td>\n",
       "      <td>Michoacán</td>\n",
       "      <td>0</td>\n",
       "    </tr>\n",
       "    <tr>\n",
       "      <th>3</th>\n",
       "      <td>Ninguno                                       ...</td>\n",
       "      <td>Mexico City                                   ...</td>\n",
       "      <td>Jr Suite 2Q    Sn12Mjs</td>\n",
       "      <td>Multivacaciones 2</td>\n",
       "      <td>Guanajuato</td>\n",
       "      <td>0</td>\n",
       "    </tr>\n",
       "    <tr>\n",
       "      <th>4</th>\n",
       "      <td>Walk In                                       ...</td>\n",
       "      <td>Cancún                                        ...</td>\n",
       "      <td>Luxury 2Q      Sn12Gsu</td>\n",
       "      <td>Vertical Booking                              ...</td>\n",
       "      <td>México</td>\n",
       "      <td>0</td>\n",
       "    </tr>\n",
       "  </tbody>\n",
       "</table>\n",
       "</div>"
      ],
      "text/plain": [
       "\n",
       "                                      nombre_paquete  \\\n",
       "\u001b[1;36m0\u001b[0m  Walk In                                       \u001b[33m...\u001b[0m   \n",
       "\u001b[1;36m1\u001b[0m  Ninguno                                       \u001b[33m...\u001b[0m   \n",
       "\u001b[1;36m2\u001b[0m  Walk In                                       \u001b[33m...\u001b[0m   \n",
       "\u001b[1;36m3\u001b[0m  Ninguno                                       \u001b[33m...\u001b[0m   \n",
       "\u001b[1;36m4\u001b[0m  Walk In                                       \u001b[33m...\u001b[0m   \n",
       "\n",
       "                                      ciudad_agencia  \\\n",
       "\u001b[1;36m0\u001b[0m  Mexico City                                   \u001b[33m...\u001b[0m   \n",
       "\u001b[1;36m1\u001b[0m  Mexico City                                   \u001b[33m...\u001b[0m   \n",
       "\u001b[1;36m2\u001b[0m  Mexico City                                   \u001b[33m...\u001b[0m   \n",
       "\u001b[1;36m3\u001b[0m  Mexico City                                   \u001b[33m...\u001b[0m   \n",
       "\u001b[1;36m4\u001b[0m  Cancún                                        \u001b[33m...\u001b[0m   \n",
       "\n",
       "           nombre_tipo_habitacion  \\\n",
       "\u001b[1;36m0\u001b[0m  Estd 2Q        Sn12Mst           \n",
       "\u001b[1;36m1\u001b[0m  Estd 2Q        Sn12Mst           \n",
       "\u001b[1;36m2\u001b[0m  Jr Suite 1K    Sn12Mjs           \n",
       "\u001b[1;36m3\u001b[0m  Jr Suite 2Q    Sn12Mjs           \n",
       "\u001b[1;36m4\u001b[0m  Luxury 2Q      Sn12Gsu           \n",
       "\n",
       "                                        nombre_canal  \\\n",
       "\u001b[1;36m0\u001b[0m                                  Multivacaciones \u001b[1;36m2\u001b[0m   \n",
       "\u001b[1;36m1\u001b[0m                                  Multivacaciones \u001b[1;36m2\u001b[0m   \n",
       "\u001b[1;36m2\u001b[0m                                  Multivacaciones \u001b[1;36m2\u001b[0m   \n",
       "\u001b[1;36m3\u001b[0m                                  Multivacaciones \u001b[1;36m2\u001b[0m   \n",
       "\u001b[1;36m4\u001b[0m  Vertical Booking                              \u001b[33m...\u001b[0m   \n",
       "\n",
       "                    nombre_estado  cancelacion  \n",
       "\u001b[1;36m0\u001b[0m  México                                    \u001b[1;36m0\u001b[0m  \n",
       "\u001b[1;36m1\u001b[0m  Guanajuato                                \u001b[1;36m0\u001b[0m  \n",
       "\u001b[1;36m2\u001b[0m  Michoacán                                 \u001b[1;36m0\u001b[0m  \n",
       "\u001b[1;36m3\u001b[0m  Guanajuato                                \u001b[1;36m0\u001b[0m  \n",
       "\u001b[1;36m4\u001b[0m  México                                    \u001b[1;36m0\u001b[0m  "
      ]
     },
     "execution_count": 29,
     "metadata": {},
     "output_type": "execute_result"
    }
   ],
   "source": [
    "model_variables =['nombre_paquete',\n",
    "                  'ciudad_agencia',\n",
    "                  'nombre_tipo_habitacion',\n",
    "                  'nombre_canal',\n",
    "                  'nombre_estado',\n",
    "                  #'hist_menores',\n",
    "                  #'hist_total_habitaciones'\n",
    "                  ]\n",
    "\n",
    "# Model variables and target variable\n",
    "df_fv = df_tv.copy()[model_variables+['cancelacion']]\n",
    "\n",
    "df_fv.head()"
   ]
  },
  {
   "cell_type": "markdown",
   "id": "d881de7e",
   "metadata": {},
   "source": [
    "#### 3. Transform categorical variables"
   ]
  },
  {
   "cell_type": "code",
   "execution_count": 30,
   "id": "8ead18f0",
   "metadata": {},
   "outputs": [
    {
     "data": {
      "text/html": [
       "<pre style=\"white-space:pre;overflow-x:auto;line-height:normal;font-family:Menlo,'DejaVu Sans Mono',consolas,'Courier New',monospace\"></pre>\n"
      ],
      "text/plain": []
     },
     "metadata": {},
     "output_type": "display_data"
    },
    {
     "data": {
      "application/vnd.microsoft.datawrangler.viewer.v0+json": {
       "columns": [
        {
         "name": "index",
         "rawType": "int64",
         "type": "integer"
        },
        {
         "name": "nombre_paquete",
         "rawType": "float64",
         "type": "float"
        },
        {
         "name": "ciudad_agencia",
         "rawType": "float64",
         "type": "float"
        },
        {
         "name": "nombre_tipo_habitacion",
         "rawType": "float64",
         "type": "float"
        },
        {
         "name": "nombre_canal",
         "rawType": "float64",
         "type": "float"
        },
        {
         "name": "nombre_estado",
         "rawType": "float64",
         "type": "float"
        },
        {
         "name": "cancelacion",
         "rawType": "int64",
         "type": "integer"
        }
       ],
       "ref": "8809b038-f683-49ae-98ac-013a8bddd8fb",
       "rows": [
        [
         "0",
         "0.8825",
         "0.3008",
         "0.0899",
         "0.163",
         "0.0689",
         "0"
        ],
        [
         "1",
         "0.1174",
         "0.3008",
         "0.0899",
         "0.163",
         "0.0331",
         "0"
        ],
        [
         "2",
         "0.8825",
         "0.3008",
         "0.0489",
         "0.163",
         "0.0812",
         "0"
        ],
        [
         "3",
         "0.1174",
         "0.3008",
         "0.024",
         "0.163",
         "0.0331",
         "0"
        ],
        [
         "4",
         "0.8825",
         "0.1286",
         "0.2974",
         "0.0184",
         "0.0689",
         "0"
        ]
       ],
       "shape": {
        "columns": 6,
        "rows": 5
       }
      },
      "text/html": [
       "<div>\n",
       "<style scoped>\n",
       "    .dataframe tbody tr th:only-of-type {\n",
       "        vertical-align: middle;\n",
       "    }\n",
       "\n",
       "    .dataframe tbody tr th {\n",
       "        vertical-align: top;\n",
       "    }\n",
       "\n",
       "    .dataframe thead th {\n",
       "        text-align: right;\n",
       "    }\n",
       "</style>\n",
       "<table border=\"1\" class=\"dataframe\">\n",
       "  <thead>\n",
       "    <tr style=\"text-align: right;\">\n",
       "      <th></th>\n",
       "      <th>nombre_paquete</th>\n",
       "      <th>ciudad_agencia</th>\n",
       "      <th>nombre_tipo_habitacion</th>\n",
       "      <th>nombre_canal</th>\n",
       "      <th>nombre_estado</th>\n",
       "      <th>cancelacion</th>\n",
       "    </tr>\n",
       "  </thead>\n",
       "  <tbody>\n",
       "    <tr>\n",
       "      <th>0</th>\n",
       "      <td>0.8825</td>\n",
       "      <td>0.3008</td>\n",
       "      <td>0.0899</td>\n",
       "      <td>0.1630</td>\n",
       "      <td>0.0689</td>\n",
       "      <td>0</td>\n",
       "    </tr>\n",
       "    <tr>\n",
       "      <th>1</th>\n",
       "      <td>0.1174</td>\n",
       "      <td>0.3008</td>\n",
       "      <td>0.0899</td>\n",
       "      <td>0.1630</td>\n",
       "      <td>0.0331</td>\n",
       "      <td>0</td>\n",
       "    </tr>\n",
       "    <tr>\n",
       "      <th>2</th>\n",
       "      <td>0.8825</td>\n",
       "      <td>0.3008</td>\n",
       "      <td>0.0489</td>\n",
       "      <td>0.1630</td>\n",
       "      <td>0.0812</td>\n",
       "      <td>0</td>\n",
       "    </tr>\n",
       "    <tr>\n",
       "      <th>3</th>\n",
       "      <td>0.1174</td>\n",
       "      <td>0.3008</td>\n",
       "      <td>0.0240</td>\n",
       "      <td>0.1630</td>\n",
       "      <td>0.0331</td>\n",
       "      <td>0</td>\n",
       "    </tr>\n",
       "    <tr>\n",
       "      <th>4</th>\n",
       "      <td>0.8825</td>\n",
       "      <td>0.1286</td>\n",
       "      <td>0.2974</td>\n",
       "      <td>0.0184</td>\n",
       "      <td>0.0689</td>\n",
       "      <td>0</td>\n",
       "    </tr>\n",
       "  </tbody>\n",
       "</table>\n",
       "</div>"
      ],
      "text/plain": [
       "\n",
       "   nombre_paquete  ciudad_agencia  nombre_tipo_habitacion  nombre_canal  \\\n",
       "\u001b[1;36m0\u001b[0m          \u001b[1;36m0.8825\u001b[0m          \u001b[1;36m0.3008\u001b[0m                  \u001b[1;36m0.0899\u001b[0m        \u001b[1;36m0.1630\u001b[0m   \n",
       "\u001b[1;36m1\u001b[0m          \u001b[1;36m0.1174\u001b[0m          \u001b[1;36m0.3008\u001b[0m                  \u001b[1;36m0.0899\u001b[0m        \u001b[1;36m0.1630\u001b[0m   \n",
       "\u001b[1;36m2\u001b[0m          \u001b[1;36m0.8825\u001b[0m          \u001b[1;36m0.3008\u001b[0m                  \u001b[1;36m0.0489\u001b[0m        \u001b[1;36m0.1630\u001b[0m   \n",
       "\u001b[1;36m3\u001b[0m          \u001b[1;36m0.1174\u001b[0m          \u001b[1;36m0.3008\u001b[0m                  \u001b[1;36m0.0240\u001b[0m        \u001b[1;36m0.1630\u001b[0m   \n",
       "\u001b[1;36m4\u001b[0m          \u001b[1;36m0.8825\u001b[0m          \u001b[1;36m0.1286\u001b[0m                  \u001b[1;36m0.2974\u001b[0m        \u001b[1;36m0.0184\u001b[0m   \n",
       "\n",
       "   nombre_estado  cancelacion  \n",
       "\u001b[1;36m0\u001b[0m         \u001b[1;36m0.0689\u001b[0m            \u001b[1;36m0\u001b[0m  \n",
       "\u001b[1;36m1\u001b[0m         \u001b[1;36m0.0331\u001b[0m            \u001b[1;36m0\u001b[0m  \n",
       "\u001b[1;36m2\u001b[0m         \u001b[1;36m0.0812\u001b[0m            \u001b[1;36m0\u001b[0m  \n",
       "\u001b[1;36m3\u001b[0m         \u001b[1;36m0.0331\u001b[0m            \u001b[1;36m0\u001b[0m  \n",
       "\u001b[1;36m4\u001b[0m         \u001b[1;36m0.0689\u001b[0m            \u001b[1;36m0\u001b[0m  "
      ]
     },
     "execution_count": 30,
     "metadata": {},
     "output_type": "execute_result"
    }
   ],
   "source": [
    "df_tcv = df_fv.copy()\n",
    "\n",
    "# Subset of dataset containing only records with canceled reservations\n",
    "df_cancelations = df_tcv[df_tcv.cancelacion == 1]\n",
    "\n",
    "\n",
    "# Function\n",
    "def calcular_peso_columna(dfx, columna, nombre_columna_resultado=None):\n",
    "    # Usar nombre_columna_resultado o columna si no se especifica\n",
    "    nombre_columna_resultado = nombre_columna_resultado or columna\n",
    "\n",
    "    # Calcular conteos de valores únicos (convertidos a string para evitar problemas con tipos mixtos)\n",
    "    conteos = dfx[columna].astype(str).value_counts()\n",
    "\n",
    "    # Crear DataFrame resultado directamente desde la Serie conteos\n",
    "    peso = conteos.rename_axis(nombre_columna_resultado).reset_index(name='conteo')\n",
    "\n",
    "    # Calcular proporción en porcentaje con 3 decimales\n",
    "    peso['proporcion'] = (peso['conteo'] / peso['conteo'].sum()).round(4)\n",
    "\n",
    "    return peso\n",
    "\n",
    "\n",
    "# Diccionario con pesos para cada columna, limpiando '#_' del nombre para la clave\n",
    "pesos = {\n",
    "    f\"peso_{col}\": calcular_peso_columna(dfx=df_cancelations, columna=col)\n",
    "    for col in model_variables\n",
    "}\n",
    "\n",
    "# Convertir pesos a diccionario json\n",
    "dict_pesos = {k: v.to_dict(orient='records') for k, v in pesos.items()}\n",
    "\n",
    "\n",
    "# Reemplaza los valores en el df con los pesos asignados a cada variable del diccionario\n",
    "for col in model_variables:\n",
    "    nombre_peso = f\"peso_{col}\"\n",
    "\n",
    "    if nombre_peso in pesos:\n",
    "        # Mapear valores directamente usando Series para mejor rendimiento\n",
    "        #mapa = pesos[nombre_peso].set_index(col)['proporcion']\n",
    "        mapa = pd.Series({item[col]: item['proporcion'] for item in dict_pesos[nombre_peso]})\n",
    "        df_tcv[col] = df_tcv[col].astype(str).map(mapa)\n",
    "\n",
    "\n",
    "df_tcv.head()"
   ]
  },
  {
   "cell_type": "markdown",
   "id": "74c1a42b",
   "metadata": {},
   "source": [
    "**Save dict_pesos as json**"
   ]
  },
  {
   "cell_type": "code",
   "execution_count": 31,
   "id": "4c8a89d0",
   "metadata": {},
   "outputs": [],
   "source": [
    "# Clean extra spaces in the dictionary\n",
    "def limpiar_espacios(obj):\n",
    "    if isinstance(obj, dict):\n",
    "        return {k: limpiar_espacios(v) for k, v in obj.items()}\n",
    "    elif isinstance(obj, list):\n",
    "        return [limpiar_espacios(elem) for elem in obj]\n",
    "    elif isinstance(obj, str):\n",
    "        # Elimina espacios extra entre palabras y al inicio/final\n",
    "        return ' '.join(obj.split())\n",
    "    else:\n",
    "        return obj\n",
    "\n",
    "dict_pesos_clean = limpiar_espacios(dict_pesos)"
   ]
  },
  {
   "cell_type": "code",
   "execution_count": 32,
   "id": "fa9c6efd",
   "metadata": {},
   "outputs": [],
   "source": [
    "# save dict_json as json file with asci encoding\n",
    "with open(\"pesos_variables.json\", \"w\", encoding=\"utf-8\") as f:\n",
    "    import json\n",
    "    json.dump(dict_pesos_clean, f, ensure_ascii=False, indent=4)"
   ]
  },
  {
   "cell_type": "markdown",
   "id": "2f721e44",
   "metadata": {},
   "source": [
    "**Test read dict_pesos json file and update categorical columns for testing**"
   ]
  },
  {
   "cell_type": "code",
   "execution_count": 10,
   "id": "c296cde5",
   "metadata": {},
   "outputs": [
    {
     "data": {
      "application/vnd.microsoft.datawrangler.viewer.v0+json": {
       "columns": [
        {
         "name": "index",
         "rawType": "int64",
         "type": "integer"
        },
        {
         "name": "nombre_paquete",
         "rawType": "float64",
         "type": "float"
        },
        {
         "name": "ciudad_agencia",
         "rawType": "float64",
         "type": "float"
        },
        {
         "name": "nombre_tipo_habitacion",
         "rawType": "float64",
         "type": "float"
        },
        {
         "name": "nombre_canal",
         "rawType": "float64",
         "type": "float"
        },
        {
         "name": "nombre_estado",
         "rawType": "float64",
         "type": "float"
        },
        {
         "name": "cancelacion",
         "rawType": "int64",
         "type": "integer"
        }
       ],
       "ref": "fe88bbf4-6ac8-4a87-90f8-1b369a51be45",
       "rows": [
        [
         "0",
         "0.8824",
         "0.3009",
         "0.0899",
         "0.163",
         "0.0689",
         "0"
        ],
        [
         "1",
         "0.1174",
         "0.3009",
         "0.0899",
         "0.163",
         "0.0331",
         "0"
        ],
        [
         "2",
         "0.8824",
         "0.3009",
         "0.0489",
         "0.163",
         "0.0812",
         "0"
        ],
        [
         "3",
         "0.1174",
         "0.3009",
         "0.024",
         "0.163",
         "0.0331",
         "0"
        ],
        [
         "4",
         "0.8824",
         "0.1286",
         "0.2973",
         "0.0184",
         "0.0689",
         "0"
        ]
       ],
       "shape": {
        "columns": 6,
        "rows": 5
       }
      },
      "text/html": [
       "<div>\n",
       "<style scoped>\n",
       "    .dataframe tbody tr th:only-of-type {\n",
       "        vertical-align: middle;\n",
       "    }\n",
       "\n",
       "    .dataframe tbody tr th {\n",
       "        vertical-align: top;\n",
       "    }\n",
       "\n",
       "    .dataframe thead th {\n",
       "        text-align: right;\n",
       "    }\n",
       "</style>\n",
       "<table border=\"1\" class=\"dataframe\">\n",
       "  <thead>\n",
       "    <tr style=\"text-align: right;\">\n",
       "      <th></th>\n",
       "      <th>nombre_paquete</th>\n",
       "      <th>ciudad_agencia</th>\n",
       "      <th>nombre_tipo_habitacion</th>\n",
       "      <th>nombre_canal</th>\n",
       "      <th>nombre_estado</th>\n",
       "      <th>cancelacion</th>\n",
       "    </tr>\n",
       "  </thead>\n",
       "  <tbody>\n",
       "    <tr>\n",
       "      <th>0</th>\n",
       "      <td>0.8824</td>\n",
       "      <td>0.3009</td>\n",
       "      <td>0.0899</td>\n",
       "      <td>0.1630</td>\n",
       "      <td>0.0689</td>\n",
       "      <td>0</td>\n",
       "    </tr>\n",
       "    <tr>\n",
       "      <th>1</th>\n",
       "      <td>0.1174</td>\n",
       "      <td>0.3009</td>\n",
       "      <td>0.0899</td>\n",
       "      <td>0.1630</td>\n",
       "      <td>0.0331</td>\n",
       "      <td>0</td>\n",
       "    </tr>\n",
       "    <tr>\n",
       "      <th>2</th>\n",
       "      <td>0.8824</td>\n",
       "      <td>0.3009</td>\n",
       "      <td>0.0489</td>\n",
       "      <td>0.1630</td>\n",
       "      <td>0.0812</td>\n",
       "      <td>0</td>\n",
       "    </tr>\n",
       "    <tr>\n",
       "      <th>3</th>\n",
       "      <td>0.1174</td>\n",
       "      <td>0.3009</td>\n",
       "      <td>0.0240</td>\n",
       "      <td>0.1630</td>\n",
       "      <td>0.0331</td>\n",
       "      <td>0</td>\n",
       "    </tr>\n",
       "    <tr>\n",
       "      <th>4</th>\n",
       "      <td>0.8824</td>\n",
       "      <td>0.1286</td>\n",
       "      <td>0.2973</td>\n",
       "      <td>0.0184</td>\n",
       "      <td>0.0689</td>\n",
       "      <td>0</td>\n",
       "    </tr>\n",
       "  </tbody>\n",
       "</table>\n",
       "</div>"
      ],
      "text/plain": [
       "   nombre_paquete  ciudad_agencia  nombre_tipo_habitacion  nombre_canal  \\\n",
       "0          0.8824          0.3009                  0.0899        0.1630   \n",
       "1          0.1174          0.3009                  0.0899        0.1630   \n",
       "2          0.8824          0.3009                  0.0489        0.1630   \n",
       "3          0.1174          0.3009                  0.0240        0.1630   \n",
       "4          0.8824          0.1286                  0.2973        0.0184   \n",
       "\n",
       "   nombre_estado  cancelacion  \n",
       "0         0.0689            0  \n",
       "1         0.0331            0  \n",
       "2         0.0812            0  \n",
       "3         0.0331            0  \n",
       "4         0.0689            0  "
      ]
     },
     "execution_count": 10,
     "metadata": {},
     "output_type": "execute_result"
    }
   ],
   "source": [
    "# Test read dict_pesos json file and update categorical columns for testing\n",
    "with open('pesos_variables.json', 'r') as f:\n",
    "    dict_pesos = json.load(f)\n",
    "\n",
    "# Test dataset    \n",
    "df_json_test = df_fv.copy()\n",
    "\n",
    "\n",
    "# Update categorical columns in df_tcv with the weights from dict_pesos\n",
    "for col in model_variables:\n",
    "    col_name = \"peso_\"+col\n",
    "    if col_name in dict_pesos:\n",
    "        # Mapear valores directamente usando Series para mejor rendimiento\n",
    "        mapa = pd.Series({item[col]: item['proporcion'] for item in dict_pesos[col_name]})\n",
    "        df_json_test[col] = df_json_test[col].astype(str).map(mapa)\n",
    "        \n",
    "df_json_test.fillna(0, inplace=True)  # Fill NaN values with 0\n",
    "        \n",
    "df_json_test.head()"
   ]
  },
  {
   "cell_type": "code",
   "execution_count": 11,
   "id": "d1283a44",
   "metadata": {},
   "outputs": [
    {
     "data": {
      "application/vnd.microsoft.datawrangler.viewer.v0+json": {
       "columns": [
        {
         "name": "index",
         "rawType": "int64",
         "type": "integer"
        },
        {
         "name": "nombre_paquete",
         "rawType": "object",
         "type": "string"
        },
        {
         "name": "conteo",
         "rawType": "int64",
         "type": "integer"
        },
        {
         "name": "proporcion",
         "rawType": "float64",
         "type": "float"
        }
       ],
       "ref": "61e402a7-550e-4d56-8f02-09739f748507",
       "rows": [
        [
         "0",
         "Walk In",
         "29385",
         "0.8824"
        ],
        [
         "1",
         "Ninguno",
         "3910",
         "0.1174"
        ],
        [
         "2",
         "Entre Semana",
         "4",
         "0.0001"
        ],
        [
         "3",
         "Fin De Semana",
         "2",
         "0.0001"
        ]
       ],
       "shape": {
        "columns": 3,
        "rows": 4
       }
      },
      "text/html": [
       "<div>\n",
       "<style scoped>\n",
       "    .dataframe tbody tr th:only-of-type {\n",
       "        vertical-align: middle;\n",
       "    }\n",
       "\n",
       "    .dataframe tbody tr th {\n",
       "        vertical-align: top;\n",
       "    }\n",
       "\n",
       "    .dataframe thead th {\n",
       "        text-align: right;\n",
       "    }\n",
       "</style>\n",
       "<table border=\"1\" class=\"dataframe\">\n",
       "  <thead>\n",
       "    <tr style=\"text-align: right;\">\n",
       "      <th></th>\n",
       "      <th>nombre_paquete</th>\n",
       "      <th>conteo</th>\n",
       "      <th>proporcion</th>\n",
       "    </tr>\n",
       "  </thead>\n",
       "  <tbody>\n",
       "    <tr>\n",
       "      <th>0</th>\n",
       "      <td>Walk In</td>\n",
       "      <td>29385</td>\n",
       "      <td>0.8824</td>\n",
       "    </tr>\n",
       "    <tr>\n",
       "      <th>1</th>\n",
       "      <td>Ninguno</td>\n",
       "      <td>3910</td>\n",
       "      <td>0.1174</td>\n",
       "    </tr>\n",
       "    <tr>\n",
       "      <th>2</th>\n",
       "      <td>Entre Semana</td>\n",
       "      <td>4</td>\n",
       "      <td>0.0001</td>\n",
       "    </tr>\n",
       "    <tr>\n",
       "      <th>3</th>\n",
       "      <td>Fin De Semana</td>\n",
       "      <td>2</td>\n",
       "      <td>0.0001</td>\n",
       "    </tr>\n",
       "  </tbody>\n",
       "</table>\n",
       "</div>"
      ],
      "text/plain": [
       "  nombre_paquete  conteo  proporcion\n",
       "0        Walk In   29385      0.8824\n",
       "1        Ninguno    3910      0.1174\n",
       "2   Entre Semana       4      0.0001\n",
       "3  Fin De Semana       2      0.0001"
      ]
     },
     "execution_count": 11,
     "metadata": {},
     "output_type": "execute_result"
    }
   ],
   "source": [
    "pd.DataFrame(dict_pesos[\"peso_nombre_paquete\"])"
   ]
  },
  {
   "cell_type": "code",
   "execution_count": 12,
   "id": "348add16",
   "metadata": {},
   "outputs": [
    {
     "data": {
      "text/plain": [
       "{'nombre_paquete': 'Walk In', 'conteo': 29385, 'proporcion': 0.8824}"
      ]
     },
     "execution_count": 12,
     "metadata": {},
     "output_type": "execute_result"
    }
   ],
   "source": [
    "dict_pesos[\"peso_nombre_paquete\"][0]"
   ]
  },
  {
   "cell_type": "markdown",
   "id": "437842d5",
   "metadata": {},
   "source": [
    "*df_cancelations don't have all the values that has df_tcv; this \"label encoding\" may fail*"
   ]
  },
  {
   "cell_type": "markdown",
   "id": "5ffb451d",
   "metadata": {},
   "source": [
    "### Model"
   ]
  },
  {
   "cell_type": "code",
   "execution_count": 13,
   "id": "f9b30ef5",
   "metadata": {},
   "outputs": [
    {
     "data": {
      "text/plain": [
       "0"
      ]
     },
     "execution_count": 13,
     "metadata": {},
     "output_type": "execute_result"
    }
   ],
   "source": [
    "df_model = df_tcv.copy()\n",
    "\n",
    "df_model.dropna(axis=0, inplace=True)\n",
    "df_model.isna().sum().sum()"
   ]
  },
  {
   "cell_type": "markdown",
   "id": "928b0b50",
   "metadata": {},
   "source": [
    "**Split variables**"
   ]
  },
  {
   "cell_type": "code",
   "execution_count": 14,
   "id": "e08402df",
   "metadata": {},
   "outputs": [
    {
     "name": "stdout",
     "output_type": "stream",
     "text": [
      "(159857, 5)\n",
      "(159857,)\n",
      "(39965, 5)\n",
      "(39965,)\n"
     ]
    }
   ],
   "source": [
    "X = df_model[model_variables]\n",
    "y = df_model[\"cancelacion\"]\n",
    "\n",
    "X_train, X_test, y_train, y_test = train_test_split(X, y, test_size=0.2, random_state=42)\n",
    "\n",
    "print(X_train.shape)\n",
    "print(y_train.shape)\n",
    "print(X_test.shape)\n",
    "print(y_test.shape)"
   ]
  },
  {
   "cell_type": "code",
   "execution_count": 15,
   "id": "4bda1427",
   "metadata": {},
   "outputs": [
    {
     "data": {
      "image/png": "[encoded data removed]",
      "text/plain": [
       "<Figure size 640x480 with 1 Axes>"
      ]
     },
     "metadata": {},
     "output_type": "display_data"
    }
   ],
   "source": [
    "y_train.value_counts().plot.bar();"
   ]
  },
  {
   "cell_type": "markdown",
   "id": "3d2de15f",
   "metadata": {},
   "source": [
    "**Train and evaluate**"
   ]
  },
  {
   "cell_type": "code",
   "execution_count": 16,
   "id": "59ae4176",
   "metadata": {},
   "outputs": [
    {
     "name": "stderr",
     "output_type": "stream",
     "text": [
      "c:\\Users\\Esteban\\Documents\\. Clases_Tec\\8. Octavo semestre\\_Proyecto\\Modelo - Javier\\.venv\\Lib\\site-packages\\xgboost\\training.py:183: UserWarning: [19:42:22] WARNING: C:\\actions-runner\\_work\\xgboost\\xgboost\\src\\learner.cc:738: \n",
      "Parameters: { \"use_label_encoder\" } are not used.\n",
      "\n",
      "  bst.update(dtrain, iteration=i, fobj=obj)\n"
     ]
    },
    {
     "name": "stdout",
     "output_type": "stream",
     "text": [
      "              precision    recall  f1-score   support\n",
      "\n",
      "           0       0.97      0.90      0.93     33365\n",
      "           1       0.62      0.88      0.73      6600\n",
      "\n",
      "    accuracy                           0.89     39965\n",
      "   macro avg       0.80      0.89      0.83     39965\n",
      "weighted avg       0.92      0.89      0.90     39965\n",
      "\n"
     ]
    }
   ],
   "source": [
    "# Entrenar el modelo\n",
    "xgb_model = XGBClassifier(\n",
    "    n_estimators=100,\n",
    "    max_depth=6,\n",
    "    learning_rate=0.1,\n",
    "    scale_pos_weight=(len(y_train[y_train == 0]) / len(y_train[y_train == 1])),\n",
    "    use_label_encoder=False,\n",
    "    eval_metric='logloss',\n",
    "    random_state=42\n",
    ")\n",
    "\n",
    "xgb_model.fit(X_train, y_train)\n",
    "\n",
    "y_pred = xgb_model.predict(X_test)\n",
    "\n",
    "print(classification_report(y_test, y_pred))\n",
    "\n"
   ]
  },
  {
   "cell_type": "code",
   "execution_count": 17,
   "id": "b05ebb5d",
   "metadata": {},
   "outputs": [
    {
     "name": "stdout",
     "output_type": "stream",
     "text": [
      "precision: 0.6233\n",
      "recall: 0.8755\n",
      "F1-score 0.7282\n"
     ]
    }
   ],
   "source": [
    "precision = precision_score(y_test, y_pred)\n",
    "recall = recall_score(y_test, y_pred)\n",
    "f1 = f1_score(y_test, y_pred)\n",
    "#accuracy = xgb_model.score(X_test, y_pred)\n",
    "\n",
    "print(f\"precision: {precision:.4f}\")\n",
    "print(f\"recall: {recall:.4f}\")\n",
    "print(f\"F1-score {f1:.4f}\")\n",
    "#print(f\"Accuracy {accuracy:.4f}\")\n"
   ]
  },
  {
   "cell_type": "code",
   "execution_count": 18,
   "id": "ca35aa7e",
   "metadata": {},
   "outputs": [
    {
     "data": {
      "text/plain": [
       "<sklearn.metrics._plot.confusion_matrix.ConfusionMatrixDisplay at 0x1daa717eb90>"
      ]
     },
     "execution_count": 18,
     "metadata": {},
     "output_type": "execute_result"
    },
    {
     "data": {
      "image/png": "[encoded data removed]",
      "text/plain": [
       "<Figure size 640x480 with 2 Axes>"
      ]
     },
     "metadata": {},
     "output_type": "display_data"
    }
   ],
   "source": [
    "ConfusionMatrixDisplay.from_estimator(xgb_model, X_test, y_test, normalize='all')"
   ]
  },
  {
   "cell_type": "markdown",
   "id": "e01d7e72",
   "metadata": {},
   "source": [
    "**Save model**\n",
    "\n",
    "Picke format."
   ]
  },
  {
   "cell_type": "code",
   "execution_count": 19,
   "id": "aca7bc9b",
   "metadata": {},
   "outputs": [],
   "source": [
    "with open('xgboost_model.pkl', 'wb') as f:\n",
    "    pickle.dump(xgb_model, f)"
   ]
  },
  {
   "cell_type": "markdown",
   "id": "4075bdcf",
   "metadata": {},
   "source": [
    "---\n",
    "### Test model"
   ]
  },
  {
   "cell_type": "code",
   "execution_count": 22,
   "id": "1255645d",
   "metadata": {},
   "outputs": [
    {
     "data": {
      "application/vnd.microsoft.datawrangler.viewer.v0+json": {
       "columns": [
        {
         "name": "index",
         "rawType": "int64",
         "type": "integer"
        },
        {
         "name": "nombre_paquete",
         "rawType": "float64",
         "type": "float"
        },
        {
         "name": "ciudad_agencia",
         "rawType": "float64",
         "type": "float"
        },
        {
         "name": "nombre_tipo_habitacion",
         "rawType": "float64",
         "type": "float"
        },
        {
         "name": "nombre_canal",
         "rawType": "float64",
         "type": "float"
        },
        {
         "name": "nombre_estado",
         "rawType": "float64",
         "type": "float"
        }
       ],
       "ref": "9a226992-2d80-41c5-9106-4b566aa7dd49",
       "rows": [
        [
         "128166",
         "0.8824",
         "0.0464",
         "0.2973",
         "0.0548",
         "0.0689"
        ],
        [
         "48627",
         "0.1174",
         "0.1699",
         "0.2973",
         "0.1359",
         "0.6716"
        ],
        [
         "168278",
         "0.8824",
         "0.1699",
         "0.2973",
         "0.0633",
         "0.0812"
        ],
        [
         "109583",
         "0.1174",
         "0.3009",
         "0.0899",
         "0.163",
         "0.6716"
        ],
        [
         "140574",
         "0.8824",
         "0.3009",
         "0.0489",
         "0.163",
         "0.0689"
        ]
       ],
       "shape": {
        "columns": 5,
        "rows": 5
       }
      },
      "text/html": [
       "<div>\n",
       "<style scoped>\n",
       "    .dataframe tbody tr th:only-of-type {\n",
       "        vertical-align: middle;\n",
       "    }\n",
       "\n",
       "    .dataframe tbody tr th {\n",
       "        vertical-align: top;\n",
       "    }\n",
       "\n",
       "    .dataframe thead th {\n",
       "        text-align: right;\n",
       "    }\n",
       "</style>\n",
       "<table border=\"1\" class=\"dataframe\">\n",
       "  <thead>\n",
       "    <tr style=\"text-align: right;\">\n",
       "      <th></th>\n",
       "      <th>nombre_paquete</th>\n",
       "      <th>ciudad_agencia</th>\n",
       "      <th>nombre_tipo_habitacion</th>\n",
       "      <th>nombre_canal</th>\n",
       "      <th>nombre_estado</th>\n",
       "    </tr>\n",
       "  </thead>\n",
       "  <tbody>\n",
       "    <tr>\n",
       "      <th>128166</th>\n",
       "      <td>0.8824</td>\n",
       "      <td>0.0464</td>\n",
       "      <td>0.2973</td>\n",
       "      <td>0.0548</td>\n",
       "      <td>0.0689</td>\n",
       "    </tr>\n",
       "    <tr>\n",
       "      <th>48627</th>\n",
       "      <td>0.1174</td>\n",
       "      <td>0.1699</td>\n",
       "      <td>0.2973</td>\n",
       "      <td>0.1359</td>\n",
       "      <td>0.6716</td>\n",
       "    </tr>\n",
       "    <tr>\n",
       "      <th>168278</th>\n",
       "      <td>0.8824</td>\n",
       "      <td>0.1699</td>\n",
       "      <td>0.2973</td>\n",
       "      <td>0.0633</td>\n",
       "      <td>0.0812</td>\n",
       "    </tr>\n",
       "    <tr>\n",
       "      <th>109583</th>\n",
       "      <td>0.1174</td>\n",
       "      <td>0.3009</td>\n",
       "      <td>0.0899</td>\n",
       "      <td>0.1630</td>\n",
       "      <td>0.6716</td>\n",
       "    </tr>\n",
       "    <tr>\n",
       "      <th>140574</th>\n",
       "      <td>0.8824</td>\n",
       "      <td>0.3009</td>\n",
       "      <td>0.0489</td>\n",
       "      <td>0.1630</td>\n",
       "      <td>0.0689</td>\n",
       "    </tr>\n",
       "  </tbody>\n",
       "</table>\n",
       "</div>"
      ],
      "text/plain": [
       "        nombre_paquete  ciudad_agencia  nombre_tipo_habitacion  nombre_canal  \\\n",
       "128166          0.8824          0.0464                  0.2973        0.0548   \n",
       "48627           0.1174          0.1699                  0.2973        0.1359   \n",
       "168278          0.8824          0.1699                  0.2973        0.0633   \n",
       "109583          0.1174          0.3009                  0.0899        0.1630   \n",
       "140574          0.8824          0.3009                  0.0489        0.1630   \n",
       "\n",
       "        nombre_estado  \n",
       "128166         0.0689  \n",
       "48627          0.6716  \n",
       "168278         0.0812  \n",
       "109583         0.6716  \n",
       "140574         0.0689  "
      ]
     },
     "execution_count": 22,
     "metadata": {},
     "output_type": "execute_result"
    }
   ],
   "source": [
    "# Create test data for prediction\n",
    "rand_rows = [83, 923, 543, 398, 729]\n",
    "testAPI_data = X_test.iloc[rand_rows, :]\n",
    "testAPI_data"
   ]
  },
  {
   "cell_type": "code",
   "execution_count": 23,
   "id": "9879d99a",
   "metadata": {},
   "outputs": [],
   "source": [
    "# Create csv file for testAPI_data\n",
    "testAPI_data.to_csv('testAPI_data.csv', index=False)"
   ]
  },
  {
   "cell_type": "code",
   "execution_count": 25,
   "id": "b387cf3e",
   "metadata": {},
   "outputs": [
    {
     "data": {
      "text/plain": [
       "array([1, 0, 1, 0, 1])"
      ]
     },
     "execution_count": 25,
     "metadata": {},
     "output_type": "execute_result"
    }
   ],
   "source": [
    "# Load model\n",
    "model = pickle.load(open('xgboost_model.pkl','rb'))\n",
    "\n",
    "# Cargar datos de prueba\n",
    "df_testAPI = pd.read_csv('testAPI_data.csv')\n",
    "\n",
    "# Predecir bankrupt\n",
    "pred = model.predict(df_testAPI)\n",
    "pred"
   ]
  }
 ],
 "metadata": {
  "kernelspec": {
   "display_name": ".venv",
   "language": "python",
   "name": "python3"
  },
  "language_info": {
   "codemirror_mode": {
    "name": "ipython",
    "version": 3
   },
   "file_extension": ".py",
   "mimetype": "text/x-python",
   "name": "python",
   "nbconvert_exporter": "python",
   "pygments_lexer": "ipython3",
   "version": "3.11.5"
  }
 },
 "nbformat": 4,
 "nbformat_minor": 5
}
